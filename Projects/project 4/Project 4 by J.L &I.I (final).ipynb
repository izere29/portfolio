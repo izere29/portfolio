{
 "cells": [
  {
   "cell_type": "markdown",
   "id": "43a6f9e4",
   "metadata": {},
   "source": [
    "# Restaurant Revenue Prediction"
   ]
  },
  {
   "cell_type": "markdown",
   "id": "ff857928",
   "metadata": {},
   "source": [
    "## Problem Statement\n",
    "\n",
    "With over 1,200 quick service restaurants across the globe, TFI is the company behind some of the world's most well-known brands: Burger King, Sbarro, Popeyes, Usta Donerci, and Arby’s. They employ over 20,000 people in Europe and Asia and make significant daily investments in developing new restaurant sites.\n",
    "\n",
    "We are building a  regression model that will predict the Revenue of new restaurents and what should the TFI company take into consideration when investing on a new restaurant to achieve  highly profitability.R2 and RMSE will be used to choose the model to used."
   ]
  },
  {
   "cell_type": "markdown",
   "id": "163f67c8-d781-4a69-a403-fd1a541b2828",
   "metadata": {},
   "source": [
    "###  _Data Collection and Data dictionnary_ \n",
    "\n",
    "\n",
    "The dataset used is from a Kaggle competion https://www.kaggle.com/c/restaurant-revenue-prediction/data.\n",
    "\n",
    "\n",
    "1. `Id` : Restaurant id.\n",
    "2. `Open Date` : opening date for a restaurant\n",
    "3. `City` : City that the restaurant is in. Note that there are unicode in the names.\n",
    "4. `City Group` : Type of the city. Big cities, or Other.\n",
    "5. `Type` : Type of the restaurant. FC: Food Court, IL: Inline, DT: Drive Thru, MB: Mobile\n",
    "6. `P1`, `P2` - `P37` : There are three categories of these obfuscated data. Demographic data are gathered from third party providers with GIS systems. These include population in any given area, age and gender distribution, development scales. Real estate data mainly relate to the m2 of the location, front facade of the location, car park availability. Commercial data mainly include the existence of points of interest including schools, banks, other QSR operators.\n",
    "7. `Revenue` : The revenue column indicates a (transformed) revenue of the restaurant in a given year and is the target of predictive analysis. Please note that the values are transformed so they don't mean real dollar values."
   ]
  },
  {
   "cell_type": "markdown",
   "id": "415da071-981b-49c2-98e1-906478617d5d",
   "metadata": {},
   "source": [
    "### _Imports_"
   ]
  },
  {
   "cell_type": "code",
   "execution_count": 3,
   "id": "5160bafb-736e-40c0-a2a8-79542988353d",
   "metadata": {},
   "outputs": [
    {
     "ename": "ModuleNotFoundError",
     "evalue": "No module named 'xgboost'",
     "output_type": "error",
     "traceback": [
      "\u001b[1;31m---------------------------------------------------------------------------\u001b[0m",
      "\u001b[1;31mModuleNotFoundError\u001b[0m                       Traceback (most recent call last)",
      "\u001b[1;32m<ipython-input-3-63239e54ed8a>\u001b[0m in \u001b[0;36m<module>\u001b[1;34m\u001b[0m\n\u001b[0;32m      3\u001b[0m \u001b[1;32mimport\u001b[0m \u001b[0mseaborn\u001b[0m \u001b[1;32mas\u001b[0m \u001b[0msns\u001b[0m\u001b[1;33m\u001b[0m\u001b[1;33m\u001b[0m\u001b[0m\n\u001b[0;32m      4\u001b[0m \u001b[1;32mimport\u001b[0m \u001b[0mnumpy\u001b[0m \u001b[1;32mas\u001b[0m \u001b[0mnp\u001b[0m\u001b[1;33m\u001b[0m\u001b[1;33m\u001b[0m\u001b[0m\n\u001b[1;32m----> 5\u001b[1;33m \u001b[1;32mimport\u001b[0m \u001b[0mxgboost\u001b[0m \u001b[1;32mas\u001b[0m \u001b[0mxgb\u001b[0m\u001b[1;33m\u001b[0m\u001b[1;33m\u001b[0m\u001b[0m\n\u001b[0m\u001b[0;32m      6\u001b[0m \u001b[1;32mfrom\u001b[0m \u001b[0msklearn\u001b[0m\u001b[1;33m.\u001b[0m\u001b[0mmodel_selection\u001b[0m \u001b[1;32mimport\u001b[0m \u001b[0mtrain_test_split\u001b[0m\u001b[1;33m,\u001b[0m \u001b[0mGridSearchCV\u001b[0m\u001b[1;33m\u001b[0m\u001b[1;33m\u001b[0m\u001b[0m\n\u001b[0;32m      7\u001b[0m \u001b[1;32mfrom\u001b[0m \u001b[0msklearn\u001b[0m\u001b[1;33m.\u001b[0m\u001b[0mlinear_model\u001b[0m \u001b[1;32mimport\u001b[0m \u001b[0mLinearRegression\u001b[0m\u001b[1;33m,\u001b[0m \u001b[0mLasso\u001b[0m\u001b[1;33m,\u001b[0m \u001b[0mRidge\u001b[0m\u001b[1;33m,\u001b[0m\u001b[0mElasticNetCV\u001b[0m\u001b[1;33m,\u001b[0m \u001b[0mElasticNet\u001b[0m\u001b[1;33m\u001b[0m\u001b[1;33m\u001b[0m\u001b[0m\n",
      "\u001b[1;31mModuleNotFoundError\u001b[0m: No module named 'xgboost'"
     ]
    }
   ],
   "source": [
    "import pandas as pd\n",
    "import matplotlib.pyplot as plt\n",
    "import seaborn as sns\n",
    "import numpy as np \n",
    "import xgboost as xgb\n",
    "from sklearn.model_selection import train_test_split, GridSearchCV\n",
    "from sklearn.linear_model import LinearRegression, Lasso, Ridge,ElasticNetCV, ElasticNet\n",
    "#from xgboost import XGBRegressor\n",
    "from sklearn.neighbors import KNeighborsRegressor\n",
    "from sklearn.ensemble import RandomForestRegressor\n",
    "from sklearn import preprocessing\n",
    "from sklearn.metrics import r2_score,explained_variance_score,max_error,mean_absolute_error,mean_squared_error,confusion_matrix,mean_absolute_percentage_error,mean_squared_log_error\n",
    "from sklearn.pipeline import Pipeline\n"
   ]
  },
  {
   "cell_type": "code",
   "execution_count": null,
   "id": "dec4ef5e-2aca-425a-b6de-9a487ec419f2",
   "metadata": {},
   "outputs": [],
   "source": [
    "train = pd.read_csv('./data/train.csv') # train data/"
   ]
  },
  {
   "cell_type": "code",
   "execution_count": null,
   "id": "5ef9887d-11d9-46e0-8312-ecd94c54356d",
   "metadata": {},
   "outputs": [],
   "source": [
    "test = pd.read_csv('./data/test.csv') # Test data"
   ]
  },
  {
   "cell_type": "markdown",
   "id": "9ed819a5-7a79-42f0-80a6-77c645d87b57",
   "metadata": {},
   "source": [
    "### _Reading the Data_"
   ]
  },
  {
   "cell_type": "code",
   "execution_count": null,
   "id": "8c5e614a-a51d-4682-abc2-a9527a47ab8c",
   "metadata": {},
   "outputs": [],
   "source": [
    "train.head()"
   ]
  },
  {
   "cell_type": "code",
   "execution_count": null,
   "id": "a259418b-929b-44a4-80af-8cf9d148970c",
   "metadata": {},
   "outputs": [],
   "source": [
    "test.head()"
   ]
  },
  {
   "cell_type": "code",
   "execution_count": null,
   "id": "707e8d19-e078-41bd-8930-5682142acb02",
   "metadata": {},
   "outputs": [],
   "source": [
    "train.dtypes"
   ]
  },
  {
   "cell_type": "code",
   "execution_count": null,
   "id": "544ee9b9",
   "metadata": {},
   "outputs": [],
   "source": [
    "train.describe(include='all')"
   ]
  },
  {
   "cell_type": "code",
   "execution_count": null,
   "id": "34bd0bfe-469e-4699-b30c-4d27ea3386e6",
   "metadata": {},
   "outputs": [],
   "source": [
    "train['revenue'].describe()"
   ]
  },
  {
   "cell_type": "code",
   "execution_count": null,
   "id": "ffc9446d-4213-4583-9368-45e178847a3a",
   "metadata": {},
   "outputs": [],
   "source": [
    "test.shape"
   ]
  },
  {
   "cell_type": "code",
   "execution_count": null,
   "id": "1f42d8a3-f029-4434-9e3f-75a55fb2662c",
   "metadata": {},
   "outputs": [],
   "source": [
    "test.head()"
   ]
  },
  {
   "cell_type": "markdown",
   "id": "454bbce1-458e-4529-8ce6-0744ae6c9eaf",
   "metadata": {},
   "source": [
    "### _Data Cleaning_"
   ]
  },
  {
   "cell_type": "code",
   "execution_count": null,
   "id": "3e170a11-45a2-42d2-9a70-0d08cc7eab50",
   "metadata": {},
   "outputs": [],
   "source": [
    "def missing_values(data): # function to check missing value \n",
    "        mis_total = data.isnull().sum()\n",
    "        mis_pct = 100 * data.isnull().sum() / len(data)\n",
    "        mis_value_table = pd.concat([mis_total, mis_pct], axis = 1)\n",
    "        mis_value_table_columns = mis_value_table.rename(columns = {0 : 'No. of Missing Value', 1 : '% of Total Missing Value'})\n",
    "        \n",
    "        mis_value_table_columns = mis_value_table_columns[mis_value_table_columns.iloc[:,1] != 0].sort_values('% of Total Missing Value', ascending = False).round(2)\n",
    "        return mis_value_table_columns"
   ]
  },
  {
   "cell_type": "code",
   "execution_count": null,
   "id": "b56a3cf7-d48b-4431-8f1e-bace202ae81d",
   "metadata": {},
   "outputs": [],
   "source": [
    "missing_values(train) # find missing value in train "
   ]
  },
  {
   "cell_type": "code",
   "execution_count": null,
   "id": "67f1e29a-2337-45bc-8721-b98f001ab4ad",
   "metadata": {},
   "outputs": [],
   "source": [
    "missing_values(test) # No missing values on testing data. "
   ]
  },
  {
   "cell_type": "code",
   "execution_count": null,
   "id": "1749371e-b99d-4466-af72-6f49cec53b89",
   "metadata": {},
   "outputs": [],
   "source": [
    "train['Open Date'] = pd.to_datetime(train['Open Date']) # change `Open Date` datatype"
   ]
  },
  {
   "cell_type": "code",
   "execution_count": null,
   "id": "d22e7c2e-8932-4f99-8cd8-b87411a7a370",
   "metadata": {},
   "outputs": [],
   "source": [
    "test['Open Date'] = pd.to_datetime(test['Open Date'])"
   ]
  },
  {
   "cell_type": "code",
   "execution_count": null,
   "id": "e2f0287c-f812-4cad-82b0-999603cc0a28",
   "metadata": {},
   "outputs": [],
   "source": [
    "train['year'] = train['Open Date'].dt.year # extract the year from the dataset "
   ]
  },
  {
   "cell_type": "code",
   "execution_count": null,
   "id": "4177b8f3-efca-4e9a-aa62-8bde5b6d4ce3",
   "metadata": {},
   "outputs": [],
   "source": [
    "test['year'] = test['Open Date'].dt.year"
   ]
  },
  {
   "cell_type": "code",
   "execution_count": null,
   "id": "966c816f-fa2f-42b3-b235-6eeb11379960",
   "metadata": {},
   "outputs": [],
   "source": [
    "train['month'] = train['Open Date'].dt.month # extract month from the dataset "
   ]
  },
  {
   "cell_type": "code",
   "execution_count": null,
   "id": "2bf1749a-f887-45de-9f30-7820c233dee2",
   "metadata": {},
   "outputs": [],
   "source": [
    "test['month'] = test['Open Date'].dt.month"
   ]
  },
  {
   "cell_type": "code",
   "execution_count": null,
   "id": "44177a69-bb00-4ff2-a87d-13ad770903a4",
   "metadata": {},
   "outputs": [],
   "source": [
    "lookup = {\n",
    "    11: 'Winter',\n",
    "    12: 'Winter',\n",
    "    1: 'Winter',\n",
    "    2: 'Spring',\n",
    "    3: 'Spring',\n",
    "    4: 'Spring',\n",
    "    5: 'Summer',\n",
    "    6: 'Summer',\n",
    "    7: 'Summer',\n",
    "    8: 'Fall',\n",
    "    9: 'Fall',\n",
    "    10: 'Fall'\n",
    "}"
   ]
  },
  {
   "cell_type": "code",
   "execution_count": null,
   "id": "cd69ee6a-c9de-468d-8787-6b3ad17a8b61",
   "metadata": {},
   "outputs": [],
   "source": [
    "train['season'] = train['Open Date'].apply(lambda x : lookup[x.month]) # convert month to seasons. "
   ]
  },
  {
   "cell_type": "code",
   "execution_count": null,
   "id": "96ccb7c3-f527-4e44-b093-4d65301f55f8",
   "metadata": {},
   "outputs": [],
   "source": [
    "test['season'] = test['Open Date'].apply(lambda x : lookup[x.month])"
   ]
  },
  {
   "cell_type": "code",
   "execution_count": null,
   "id": "0ca27476-c029-4617-ba84-ad5a782772a8",
   "metadata": {},
   "outputs": [],
   "source": [
    " train['City Group'].unique() # find the unique values "
   ]
  },
  {
   "cell_type": "code",
   "execution_count": null,
   "id": "1df1c57e-6c48-4c19-ab1c-f1af3c884618",
   "metadata": {},
   "outputs": [],
   "source": [
    "train['City'].nunique() "
   ]
  },
  {
   "cell_type": "code",
   "execution_count": null,
   "id": "7f2910db-f81d-4069-8a49-8d0774753b6b",
   "metadata": {},
   "outputs": [],
   "source": [
    "test['City'].nunique() # the unique value in city from the train the test data are significantly different. thus, this column is being dropped. "
   ]
  },
  {
   "cell_type": "code",
   "execution_count": null,
   "id": "bb4c5025-fe61-4d33-8322-1c8866f0d07b",
   "metadata": {},
   "outputs": [],
   "source": [
    "train.drop('City', axis = 1, inplace = True)\n",
    "test.drop('City', axis = 1, inplace = True)"
   ]
  },
  {
   "cell_type": "markdown",
   "id": "72ccd992-b312-49c7-b7d8-b4e3d10bd93a",
   "metadata": {},
   "source": [
    "##### _The `test` data has way more unique values than train data. Thus, the `City` feature will be less useful for any model_"
   ]
  },
  {
   "cell_type": "code",
   "execution_count": null,
   "id": "ed9f2562-609f-4cca-a105-335a50249790",
   "metadata": {},
   "outputs": [],
   "source": [
    "train['Type'].unique()"
   ]
  },
  {
   "cell_type": "code",
   "execution_count": null,
   "id": "490ca214-fb92-43df-b3bb-3d3dbb311dec",
   "metadata": {},
   "outputs": [],
   "source": [
    "test['Type'].unique() # the test data has one extract type as MB (mobile), we will tranlate that into DT . "
   ]
  },
  {
   "cell_type": "code",
   "execution_count": null,
   "id": "e9b6be78-54c9-4cb5-8954-360f2d912eb9",
   "metadata": {},
   "outputs": [],
   "source": [
    "test.loc[test['Type'] == 'MB', 'Type'] = 'DT'"
   ]
  },
  {
   "cell_type": "markdown",
   "id": "ebb03e3e-355e-4e25-927c-d53a2dcafb98",
   "metadata": {},
   "source": [
    "##### _In the `train` dataset, there is no such `Type` as `MB` as in the `test` data. The `MB` stands as mobile which similar to the `DT` in nature. we will change `MB` to `DT` for better predictions._"
   ]
  },
  {
   "cell_type": "code",
   "execution_count": null,
   "id": "79d9b119-b104-425b-81fe-75dd7185ba68",
   "metadata": {},
   "outputs": [],
   "source": [
    "train['revenue'].describe()"
   ]
  },
  {
   "cell_type": "code",
   "execution_count": null,
   "id": "f8e1d9eb-4ade-47e0-a2b3-7478b46545e5",
   "metadata": {},
   "outputs": [],
   "source": [
    "test['Type'].unique()"
   ]
  },
  {
   "cell_type": "code",
   "execution_count": null,
   "id": "5a1dbbb5-53f5-4c93-852c-f4ecbab5713d",
   "metadata": {},
   "outputs": [],
   "source": [
    "train.drop(columns = ['Id', 'Open Date','month'], inplace = True) # dropping ID and open date in the training data as it will not be necessary. "
   ]
  },
  {
   "cell_type": "code",
   "execution_count": null,
   "id": "d38a09ac-c584-49ac-afa9-6bf3f02eb621",
   "metadata": {},
   "outputs": [],
   "source": [
    "test.drop(columns = ['Open Date','month'], inplace = True) # dropping ID and open date in the testing data"
   ]
  },
  {
   "cell_type": "code",
   "execution_count": null,
   "id": "9d72efd1-cf72-40ac-8dba-500d6065de04",
   "metadata": {},
   "outputs": [],
   "source": [
    "train.head()"
   ]
  },
  {
   "cell_type": "markdown",
   "id": "f35f5c2e-a844-4ded-8446-2815d9d6e887",
   "metadata": {},
   "source": [
    "### _EDA_"
   ]
  },
  {
   "cell_type": "code",
   "execution_count": null,
   "id": "9dda8991-08f3-4946-acc2-fab15bc3dad8",
   "metadata": {},
   "outputs": [],
   "source": [
    "con_var = []\n",
    "dis_var = []\n",
    "var_unique = train.nunique()\n",
    "for var,var_num in enumerate(var_unique):\n",
    "    if var_num>50:\n",
    "        con_var.append(var)\n",
    "    else:\n",
    "        dis_var.append(var)\n",
    "\n",
    "con_columns=[train.columns[i] for i in con_var ]\n",
    "dis_columns=[train.columns[i] for i in dis_var ]"
   ]
  },
  {
   "cell_type": "code",
   "execution_count": null,
   "id": "eaaa5e1a-0c2e-48b1-8b3d-3a6716685330",
   "metadata": {},
   "outputs": [],
   "source": [
    "dis_columns # looking at discrete vs continous variable"
   ]
  },
  {
   "cell_type": "code",
   "execution_count": null,
   "id": "c6af7bdf-30e3-4bb0-955c-85695ab2f03c",
   "metadata": {},
   "outputs": [],
   "source": [
    "sns.heatmap(train.corr()[['revenue']].sort_values(by = 'revenue', key = abs, ascending = False)) #correlation"
   ]
  },
  {
   "cell_type": "code",
   "execution_count": null,
   "id": "82adf393-35d2-4f59-9ba8-3cafe9173141",
   "metadata": {},
   "outputs": [],
   "source": [
    "revenue_corr = train.drop(['City Group','Type'],axis=1).corr()['revenue'].sort_values(ascending=False)\n",
    "plt.figure(figsize=(10,7))\n",
    "revenue_corr.drop('revenue').plot.bar(color = '#33415C')\n",
    "plt.show(); # looking at correlations "
   ]
  },
  {
   "cell_type": "code",
   "execution_count": null,
   "id": "c75a546c-8d97-4df3-ab3d-f259c4560fe1",
   "metadata": {},
   "outputs": [],
   "source": []
  },
  {
   "cell_type": "code",
   "execution_count": null,
   "id": "b06b5420-c6c6-4cc2-9594-f671e97dbb5a",
   "metadata": {},
   "outputs": [],
   "source": [
    "dis_columns.append('revenue') "
   ]
  },
  {
   "cell_type": "code",
   "execution_count": null,
   "id": "7eb7d180-8aca-4170-a218-0948d8e8df42",
   "metadata": {},
   "outputs": [],
   "source": [
    "spearman = train[dis_columns].corr(method ='spearman') # Spearman Correlations. No Strong corrlations have been identified \n",
    "spearman_corr = spearman['revenue'].sort_values(ascending = False)\n",
    "spearman_corr"
   ]
  },
  {
   "cell_type": "code",
   "execution_count": null,
   "id": "a00207ea",
   "metadata": {},
   "outputs": [],
   "source": [
    "plt.figure(figsize=(10,7))\n",
    "spearman_corr.plot.bar()\n",
    "plt.show() # this for the spearman correlation."
   ]
  },
  {
   "cell_type": "code",
   "execution_count": null,
   "id": "e1831a93-6273-4eac-b20e-2143c1b53c75",
   "metadata": {},
   "outputs": [],
   "source": [
    "train[dis_columns].apply(pd.Series.nunique, axis = 0) # defining number of unique values in each discrete column "
   ]
  },
  {
   "cell_type": "code",
   "execution_count": null,
   "id": "cf1c0414-3384-4bc5-a038-66949e40e119",
   "metadata": {},
   "outputs": [],
   "source": [
    "test.hist(figsize = (36,20));# looking at the distribution of the features"
   ]
  },
  {
   "cell_type": "code",
   "execution_count": null,
   "id": "9cf73f3f-6702-4c46-9544-a07f867656e9",
   "metadata": {},
   "outputs": [],
   "source": [
    "#plt.figure(figsize = (20, 12))\n",
    "#sns.scatterplot(x=\"revenue\", y=\"City\",s=35, alpha = 0.6,data=train)"
   ]
  },
  {
   "cell_type": "code",
   "execution_count": null,
   "id": "1e70751c-a2b9-4adf-8e53-797eca9e51fd",
   "metadata": {},
   "outputs": [],
   "source": [
    "train['revenue'].max() # define the max which helps to find the outliers shows above "
   ]
  },
  {
   "cell_type": "code",
   "execution_count": null,
   "id": "748554f0-0d12-4587-b831-15a7f4d8368e",
   "metadata": {},
   "outputs": [],
   "source": [
    "index_drop1 = train[train['revenue'] == 19696939.0].index # dropping outliers \n",
    "train.drop(index_drop1, inplace = True)"
   ]
  },
  {
   "cell_type": "code",
   "execution_count": null,
   "id": "0f94f205-9232-47c3-ba07-d5ef46aa5daa",
   "metadata": {},
   "outputs": [],
   "source": [
    "index_drop2 = train[train['revenue'] == 16549064.0].index # dropping outliers \n",
    "train.drop(index_drop2, inplace = True)"
   ]
  },
  {
   "cell_type": "code",
   "execution_count": null,
   "id": "71b8c820-ea5d-4d60-b44f-73508271f077",
   "metadata": {},
   "outputs": [],
   "source": [
    "index_drop3 = train[train['revenue'] == 13575224.0].index # dropping outliers\n",
    "train.drop(index_drop3, inplace = True)"
   ]
  },
  {
   "cell_type": "code",
   "execution_count": null,
   "id": "aeae1347-ae75-456c-b479-00b914ad3bf7",
   "metadata": {},
   "outputs": [],
   "source": [
    "plt.figure (figsize = (16, 9))\n",
    "sns.distplot(train['revenue'] )\n",
    "plt.title('Revenue Distribution (Train Data)', fontdict={'fontsize':20})"
   ]
  },
  {
   "cell_type": "code",
   "execution_count": null,
   "id": "c45d7aec-2d1f-4a93-8a70-f96f8aacc63f",
   "metadata": {},
   "outputs": [],
   "source": [
    "train['log_revenue'] = np.log1p(train['revenue']) # log transformation. "
   ]
  },
  {
   "cell_type": "code",
   "execution_count": null,
   "id": "c13a8716-9621-4ebb-8737-fd1f9c4a664a",
   "metadata": {},
   "outputs": [],
   "source": [
    "plt.figure (figsize = (16, 9))\n",
    "sns.distplot(train['log_revenue'])\n",
    "plt.title('Log Transformation Revenue Distribution (Train Data)', fontdict={'fontsize':20})"
   ]
  },
  {
   "cell_type": "code",
   "execution_count": null,
   "id": "78b350f0-38ad-4bac-8ea1-6677fb01175f",
   "metadata": {},
   "outputs": [],
   "source": [
    "plt.figure (figsize = (16, 9))\n",
    "fig = sns.scatterplot(x=\"Type\", y=\"log_revenue\",s=50, alpha = 0.6,data=train);"
   ]
  },
  {
   "cell_type": "code",
   "execution_count": null,
   "id": "6b0c37e0-f490-4dbf-a3ea-519509e2dec4",
   "metadata": {},
   "outputs": [],
   "source": [
    "plt.figure (figsize = (16, 9))\n",
    "fig = sns.scatterplot(x=\"season\", y=\"revenue\",s=50, alpha = 0.6,data=train);"
   ]
  },
  {
   "cell_type": "code",
   "execution_count": null,
   "id": "f74ad239-338f-4880-84a3-3a890f1875a9",
   "metadata": {},
   "outputs": [],
   "source": [
    "plt.figure (figsize = (16, 9))\n",
    "fig = sns.scatterplot(x=\"P28\", y=\"log_revenue\",s=50,hue=\"Type\", size = 'Type', alpha = 0.6,data=train);"
   ]
  },
  {
   "cell_type": "code",
   "execution_count": null,
   "id": "4e7b6dea-f13d-42d8-bdf3-5e39c0c5fc1f",
   "metadata": {},
   "outputs": [],
   "source": [
    "plt.figure (figsize = (16, 9))\n",
    "fig = sns.scatterplot(x=\"year\", y=\"log_revenue\",s=50,hue=\"Type\", size = 'revenue', alpha = 0.6,data=train);"
   ]
  },
  {
   "cell_type": "code",
   "execution_count": null,
   "id": "9f4f08ab-7e9d-499d-b97d-dd5be006a0f4",
   "metadata": {},
   "outputs": [],
   "source": [
    "plt.figure (figsize = (16, 9))\n",
    "sns.countplot(x = 'Type',hue ='City Group', data = train, palette='Set3')\n",
    "plt.title('Train Number of Restaurant in each Restaurant Type (by City Group)', fontdict={'fontsize':20})"
   ]
  },
  {
   "cell_type": "code",
   "execution_count": null,
   "id": "0b4010ac-c5ff-44b9-a11f-0fe08ede734f",
   "metadata": {},
   "outputs": [],
   "source": [
    "plt.figure (figsize = (16, 9))\n",
    "sns.countplot(x = 'Type',hue ='City Group', data = test, palette='Set3')\n",
    "plt.title('Test Data Number of Restaurant in each Restaurant Type (by City Group)', fontdict={'fontsize':20})"
   ]
  },
  {
   "cell_type": "code",
   "execution_count": null,
   "id": "a0580499-bbdf-420a-b396-a1f8924ccdc8",
   "metadata": {},
   "outputs": [],
   "source": [
    "plt.figure (figsize = (16, 9))\n",
    "sns.countplot(x = 'season',hue ='City Group', data = train, palette='Set1')\n",
    "plt.title('Number of Restaurants Opened in each Season (by City Group / Train Data)', fontdict={'fontsize':20})"
   ]
  },
  {
   "cell_type": "code",
   "execution_count": null,
   "id": "5ee4f655-fc20-4ae3-9c5c-d2eebdc54016",
   "metadata": {},
   "outputs": [],
   "source": [
    "plt.figure (figsize = (16, 9))\n",
    "sns.countplot(x = 'season',hue ='City Group', data = test, palette='Set1')\n",
    "plt.title('Number of Restaurants Opened in each Season (by City Group / Test Data)', fontdict={'fontsize':20})"
   ]
  },
  {
   "cell_type": "markdown",
   "id": "80b9c332-bc22-4a96-9285-17a447df14a9",
   "metadata": {},
   "source": [
    "### _Modeling_ "
   ]
  },
  {
   "cell_type": "markdown",
   "id": "5ae200a1-4600-4c9c-b439-13b20b3a01fd",
   "metadata": {},
   "source": [
    "##### _Pre-Processing_"
   ]
  },
  {
   "cell_type": "code",
   "execution_count": null,
   "id": "c8594c0b-cd43-4855-8e86-9e762b799885",
   "metadata": {},
   "outputs": [],
   "source": [
    "columns_to_dummy = train.select_dtypes(include = ['object']).columns # changing the cate\n",
    "train = pd.get_dummies(train, columns = columns_to_dummy, drop_first = False)\n",
    "test = pd.get_dummies(test, columns = columns_to_dummy, drop_first = False)"
   ]
  },
  {
   "cell_type": "code",
   "execution_count": null,
   "id": "6f802783-34a1-4a0f-b688-0b1b87b25bb6",
   "metadata": {},
   "outputs": [],
   "source": [
    "train.head()"
   ]
  },
  {
   "cell_type": "code",
   "execution_count": null,
   "id": "eececccd-977a-41ab-8169-d0840f3d2e94",
   "metadata": {},
   "outputs": [],
   "source": [
    "train.shape"
   ]
  },
  {
   "cell_type": "code",
   "execution_count": null,
   "id": "91bd3526-a3df-48a7-a16f-48765f766f25",
   "metadata": {},
   "outputs": [],
   "source": [
    "test.shape"
   ]
  },
  {
   "cell_type": "code",
   "execution_count": null,
   "id": "474324fb-831d-4663-87b4-9fad54d96ac9",
   "metadata": {},
   "outputs": [],
   "source": [
    "X, y = train.drop(columns=['revenue','log_revenue'], axis=1), train['log_revenue']\n",
    "X_train, X_test, y_train, y_test = train_test_split(X, y, test_size=0.30, random_state=42)"
   ]
  },
  {
   "cell_type": "markdown",
   "id": "ba29f89d-0f78-42ff-8f59-f1cda9ba7e0b",
   "metadata": {},
   "source": [
    "#### _Baseline Model - Linear Regression_"
   ]
  },
  {
   "cell_type": "code",
   "execution_count": null,
   "id": "c066c559-cf40-40e9-b728-3ea5265dbbbd",
   "metadata": {},
   "outputs": [],
   "source": [
    "lr = LinearRegression ()"
   ]
  },
  {
   "cell_type": "code",
   "execution_count": null,
   "id": "414f1de8-3b62-4d4c-b8a2-71c16bd72266",
   "metadata": {},
   "outputs": [],
   "source": [
    "lr.fit(X_train, y_train)"
   ]
  },
  {
   "cell_type": "code",
   "execution_count": null,
   "id": "592da6e8-1a03-4815-a514-f3ef8b0dee93",
   "metadata": {},
   "outputs": [],
   "source": [
    "lr.score(X_train, y_train)"
   ]
  },
  {
   "cell_type": "code",
   "execution_count": null,
   "id": "880bcca3-e125-4d97-902e-b4872097cef6",
   "metadata": {},
   "outputs": [],
   "source": [
    "lr.score(X_test, y_test) # "
   ]
  },
  {
   "cell_type": "code",
   "execution_count": null,
   "id": "d40ecb4a-c261-4b36-bb92-2694682139c4",
   "metadata": {},
   "outputs": [],
   "source": [
    "mean_squared_error(y_train, lr.predict(X_train))"
   ]
  },
  {
   "cell_type": "code",
   "execution_count": null,
   "id": "efe973a0-19b1-42bc-922a-100ff24db956",
   "metadata": {},
   "outputs": [],
   "source": [
    "mean_squared_error(y_test, lr.predict(X_test))"
   ]
  },
  {
   "cell_type": "code",
   "execution_count": null,
   "id": "a4634122-a021-4ebc-a89a-ca65085af40f",
   "metadata": {},
   "outputs": [],
   "source": [
    "y_pred = lr.predict(X_test)"
   ]
  },
  {
   "cell_type": "code",
   "execution_count": null,
   "id": "579889d7-a376-498b-945c-c50cae9585de",
   "metadata": {},
   "outputs": [],
   "source": [
    "print('Explained variance score',explained_variance_score(y_test, y_pred),'\\n',\n",
    "   'Mean absolute error      :',mean_absolute_error(y_test, y_pred),'\\n',\n",
    "   'Mean squared error       :',mean_squared_error(y_test, y_pred),'\\n',\n",
    "   'R² score            :',r2_score(y_test, y_pred))"
   ]
  },
  {
   "cell_type": "code",
   "execution_count": null,
   "id": "5cde38f1-5930-4b94-86e2-03e1c1f36fdd",
   "metadata": {},
   "outputs": [],
   "source": [
    "score_df_lr = pd.DataFrame(columns=['Method','Linear Regression'])\n",
    "score_df_lr['Method']=[\n",
    "                    'Mean Absolute Error',\n",
    "                    'Mean Squared Error',\n",
    "                    'RMSE',\n",
    "                    'R²']\n",
    "score_df_lr['Linear Regression']=[\n",
    "                   mean_absolute_error(y_test, y_pred),\n",
    "                   mean_squared_error(y_test, y_pred),\n",
    "                   mean_squared_error(y_test, y_pred, squared = False),\n",
    "                   r2_score(y_test, y_pred)]"
   ]
  },
  {
   "cell_type": "code",
   "execution_count": null,
   "id": "75ab7052-9aaa-4fb2-bba2-0b9ef6af10c5",
   "metadata": {},
   "outputs": [],
   "source": [
    "score_df_lr"
   ]
  },
  {
   "cell_type": "markdown",
   "id": "f0356ee5-a8fa-441c-86ae-20374d65a7ce",
   "metadata": {},
   "source": [
    "#### _Lasso Regression_"
   ]
  },
  {
   "cell_type": "code",
   "execution_count": null,
   "id": "d279047f-6945-4826-979b-65db98a0cdd7",
   "metadata": {},
   "outputs": [],
   "source": [
    "params_lasso = {\n",
    "    'alpha' : [.01, .1, .5, .7, .9, .95, .99, 1, 5, 10, 20],}"
   ]
  },
  {
   "cell_type": "code",
   "execution_count": null,
   "id": "fb5fd020-4abd-4837-97e7-becc62e303f7",
   "metadata": {},
   "outputs": [],
   "source": [
    "lasso = Lasso()"
   ]
  },
  {
   "cell_type": "code",
   "execution_count": null,
   "id": "2f7d3335-c5f6-445d-a279-9eb4ecf99c70",
   "metadata": {},
   "outputs": [],
   "source": [
    "lasso_regressor = GridSearchCV(lasso, params_lasso, cv=5, n_jobs=8)"
   ]
  },
  {
   "cell_type": "code",
   "execution_count": null,
   "id": "dc735b70-fb6b-4fc2-bbc2-9223d943bb0d",
   "metadata": {},
   "outputs": [],
   "source": [
    "lasso_regressor.fit(X_train, y_train)"
   ]
  },
  {
   "cell_type": "code",
   "execution_count": null,
   "id": "2fab1f45-d613-473b-9cf7-235abed1df3f",
   "metadata": {},
   "outputs": [],
   "source": [
    "lasso_regressor.best_params_"
   ]
  },
  {
   "cell_type": "code",
   "execution_count": null,
   "id": "ebc4eaed-8118-4da1-8a6a-ed9e5a16e4f8",
   "metadata": {},
   "outputs": [],
   "source": [
    "lasso_model = Lasso(alpha = 0.5)"
   ]
  },
  {
   "cell_type": "code",
   "execution_count": null,
   "id": "bb7b3ea2-2609-48b6-814a-9d40de7cf191",
   "metadata": {},
   "outputs": [],
   "source": [
    "lasso_model.fit(X_train, y_train)"
   ]
  },
  {
   "cell_type": "code",
   "execution_count": null,
   "id": "37be6657-fbe6-4036-af81-d3cf5bf85bba",
   "metadata": {},
   "outputs": [],
   "source": [
    "lasso_model.score(X_train, y_train)"
   ]
  },
  {
   "cell_type": "code",
   "execution_count": null,
   "id": "4164d43a-ba01-472c-9e61-a5aaa7c51d9a",
   "metadata": {},
   "outputs": [],
   "source": [
    "lasso_model.score(X_test, y_test)"
   ]
  },
  {
   "cell_type": "code",
   "execution_count": null,
   "id": "7986acba-dd81-416c-aa61-5b570bdca356",
   "metadata": {},
   "outputs": [],
   "source": [
    "y_pred = lasso_model.predict(X_test)"
   ]
  },
  {
   "cell_type": "code",
   "execution_count": null,
   "id": "369575b5-f754-4e33-b1f4-07e0c8ca257b",
   "metadata": {},
   "outputs": [],
   "source": [
    "print('Explained variance score',explained_variance_score(y_test, y_pred),'\\n',\n",
    "   'Mean absolute error      :',mean_absolute_error(y_test, y_pred),'\\n',\n",
    "   'Mean squared error       :',mean_squared_error(y_test, y_pred),'\\n',\n",
    "   'R² score            :',r2_score(y_test, y_pred))"
   ]
  },
  {
   "cell_type": "code",
   "execution_count": null,
   "id": "0c655237-bf6d-4597-b3d6-2ffc5acdf3de",
   "metadata": {},
   "outputs": [],
   "source": [
    "score_df_lasso = pd.DataFrame(columns=['Method','Lasso Regression'])\n",
    "score_df_lasso['Method']=[\n",
    "                    'Mean Absolute Error',\n",
    "                    'Mean Squared Error',\n",
    "                    'RMSE',\n",
    "                    'R²']\n",
    "score_df_lasso['Lasso Regression']=[\n",
    "                   mean_absolute_error(y_test, y_pred),\n",
    "                   mean_squared_error(y_test, y_pred),\n",
    "                   mean_squared_error(y_test, y_pred, squared = False),\n",
    "                   r2_score(y_test, y_pred)]"
   ]
  },
  {
   "cell_type": "code",
   "execution_count": null,
   "id": "11597e04-eaac-4190-b5e0-63caa24f3ee7",
   "metadata": {},
   "outputs": [],
   "source": [
    "score_df_lasso"
   ]
  },
  {
   "cell_type": "markdown",
   "id": "683cba50-e581-4544-82ea-7cee4a779771",
   "metadata": {},
   "source": [
    "#### _Ridge Regression_"
   ]
  },
  {
   "cell_type": "code",
   "execution_count": null,
   "id": "7a2488f7-64ab-4ecc-ad92-0bdeeab108f0",
   "metadata": {},
   "outputs": [],
   "source": [
    "ridge = Ridge()"
   ]
  },
  {
   "cell_type": "code",
   "execution_count": null,
   "id": "227923d8-1f04-45b7-9672-9ffadc8b118f",
   "metadata": {},
   "outputs": [],
   "source": [
    "params_ridge = {\n",
    "    'alpha' : [.01, .1, .5, .7, .9, .95, .99, 1, 5, 10, 20],\n",
    "    'solver' : ['svd', 'cholesky', 'lsqr', 'sparse_cg', 'sag', 'saga']\n",
    "}"
   ]
  },
  {
   "cell_type": "code",
   "execution_count": null,
   "id": "2d74021d-85e3-4f21-b142-a6bbd602a2a6",
   "metadata": {},
   "outputs": [],
   "source": [
    "ridge_regressor = GridSearchCV(ridge, params_ridge,cv=5, n_jobs=-1)"
   ]
  },
  {
   "cell_type": "code",
   "execution_count": null,
   "id": "1426a489-4e6f-435d-86a0-161cca59833e",
   "metadata": {},
   "outputs": [],
   "source": [
    "ridge_regressor.fit(X_train, y_train)"
   ]
  },
  {
   "cell_type": "code",
   "execution_count": null,
   "id": "0807a0fb-99b5-4ae8-9712-ee1ffcf2e1b7",
   "metadata": {},
   "outputs": [],
   "source": [
    "ridge_regressor.best_params_"
   ]
  },
  {
   "cell_type": "code",
   "execution_count": null,
   "id": "608ad4c5-61ab-4df0-9ebf-09f510b0e834",
   "metadata": {},
   "outputs": [],
   "source": [
    "ridge_model = Ridge(alpha = 20,\n",
    "                    solver = 'saga')"
   ]
  },
  {
   "cell_type": "code",
   "execution_count": null,
   "id": "91f43108-4caa-4b76-9842-b2bf8405d007",
   "metadata": {},
   "outputs": [],
   "source": [
    "ridge_model.fit(X_train, y_train)"
   ]
  },
  {
   "cell_type": "code",
   "execution_count": null,
   "id": "4865aad8-3126-4384-bf91-11ebd60ccc0f",
   "metadata": {},
   "outputs": [],
   "source": [
    "ridge_model.score(X_train, y_train)"
   ]
  },
  {
   "cell_type": "code",
   "execution_count": null,
   "id": "58a471d8-e0df-429d-92cd-545d167c5057",
   "metadata": {},
   "outputs": [],
   "source": [
    "ridge_model.score(X_test, y_test)"
   ]
  },
  {
   "cell_type": "code",
   "execution_count": null,
   "id": "8b1d5059-caf4-42bd-aa6a-5c15bd828175",
   "metadata": {},
   "outputs": [],
   "source": [
    "y_pred = ridge_model.predict(X_test)"
   ]
  },
  {
   "cell_type": "code",
   "execution_count": null,
   "id": "59bb666e-7e41-4d97-bdb0-07b35979349e",
   "metadata": {},
   "outputs": [],
   "source": [
    "print('Explained variance score',explained_variance_score(y_test, y_pred),'\\n',\n",
    "   'Mean absolute error      :',mean_absolute_error(y_test, y_pred),'\\n',\n",
    "   'Mean squared error       :',mean_squared_error(y_test, y_pred),'\\n',\n",
    "   'R² score            :',r2_score(y_test, y_pred))"
   ]
  },
  {
   "cell_type": "code",
   "execution_count": null,
   "id": "34fced1b-70e6-4001-88b0-a441925a0d97",
   "metadata": {},
   "outputs": [],
   "source": [
    "score_df_ridge = pd.DataFrame(columns=['Method','Ridge Regression'])\n",
    "score_df_ridge['Method']=[\n",
    "                    'Mean Absolute Error',\n",
    "                    'Mean Squared Error',\n",
    "                    'RMSE',\n",
    "                    'R²']\n",
    "score_df_ridge['Ridge Regression']=[\n",
    "                   mean_absolute_error(y_test, y_pred),\n",
    "                   mean_squared_error(y_test, y_pred),\n",
    "                   mean_squared_error(y_test, y_pred, squared = False),\n",
    "                   r2_score(y_test, y_pred)]"
   ]
  },
  {
   "cell_type": "code",
   "execution_count": null,
   "id": "3606bc1b-9eb8-4fc2-b550-c88fa50eae08",
   "metadata": {},
   "outputs": [],
   "source": [
    "score_df_ridge"
   ]
  },
  {
   "cell_type": "markdown",
   "id": "70e6f7da-d455-4130-a9bd-99b56b5bd53b",
   "metadata": {},
   "source": [
    "#### _Random Forest Regressor_"
   ]
  },
  {
   "cell_type": "code",
   "execution_count": null,
   "id": "752bf009-15fa-4b24-ad02-ce3ecb6fb2a3",
   "metadata": {},
   "outputs": [],
   "source": [
    "params_rf = {\n",
    "    'max_depth': [None, 1, 5, 10, 30, 35],\n",
    "    'max_features': [.1, .2, .3],\n",
    "    'n_estimators': [200, 300, 400,500]\n",
    "}"
   ]
  },
  {
   "cell_type": "code",
   "execution_count": null,
   "id": "e34a88a9-9841-4fd6-9da6-99c5304217cb",
   "metadata": {},
   "outputs": [],
   "source": [
    "rf = RandomForestRegressor()"
   ]
  },
  {
   "cell_type": "code",
   "execution_count": null,
   "id": "a4ffe00f-14be-43c0-81c3-0f8492834d68",
   "metadata": {},
   "outputs": [],
   "source": [
    "rf_regressor = GridSearchCV(rf, params_rf,cv = 10, n_jobs = -1)"
   ]
  },
  {
   "cell_type": "code",
   "execution_count": null,
   "id": "7ebd25cc-6aee-498a-899b-a886aea228c5",
   "metadata": {},
   "outputs": [],
   "source": [
    "rf_regressor.fit(X_train, y_train)"
   ]
  },
  {
   "cell_type": "code",
   "execution_count": null,
   "id": "9b4e6da3-2928-4ff4-b5a5-fd0489ecaba7",
   "metadata": {},
   "outputs": [],
   "source": [
    "rf_regressor.best_params_"
   ]
  },
  {
   "cell_type": "code",
   "execution_count": null,
   "id": "d4109ede-34b5-4d76-9df5-454ae624f0ee",
   "metadata": {},
   "outputs": [],
   "source": [
    "rf_model = RandomForestRegressor(max_depth = 65,\n",
    "                                 max_features = 0.3,\n",
    "                                 n_estimators = 30)"
   ]
  },
  {
   "cell_type": "code",
   "execution_count": null,
   "id": "9dac95a2-a56f-4c3d-94c3-116c506df1bb",
   "metadata": {},
   "outputs": [],
   "source": [
    "rf_model.fit(X_train, y_train)"
   ]
  },
  {
   "cell_type": "code",
   "execution_count": null,
   "id": "b291c80c-56f9-4c90-b90c-eae443e35de6",
   "metadata": {},
   "outputs": [],
   "source": [
    "rf_model.score(X_train, y_train)# the score is 85% which indicate that random forest  have a coefficient of determination of 85% on trainned data."
   ]
  },
  {
   "cell_type": "code",
   "execution_count": null,
   "id": "e46c205e-1d32-4589-a183-2d6036ab7167",
   "metadata": {},
   "outputs": [],
   "source": [
    "rf_model.score(X_test, y_test)#random forest  have a coefficient of determination of 24% on unseen  data. this indicate a high variance of the model because of the difference with the score on the trainned data."
   ]
  },
  {
   "cell_type": "code",
   "execution_count": null,
   "id": "f458cd99-e9d5-4dc2-9b2e-bac4acd72362",
   "metadata": {},
   "outputs": [],
   "source": [
    "y_pred = rf_model.predict(X_test)"
   ]
  },
  {
   "cell_type": "code",
   "execution_count": null,
   "id": "d2f8ca6b-bf61-4f43-a78a-a1d4da980a82",
   "metadata": {},
   "outputs": [],
   "source": [
    "print('Explained variance score',explained_variance_score(y_test, y_pred),'\\n',\n",
    "   'Mean absolute error      :',mean_absolute_error(y_test, y_pred),'\\n',\n",
    "   'Mean squared error       :',mean_squared_error(y_test, y_pred),'\\n',\n",
    "   'RMSE                    :', mean_squared_error(y_test, y_pred), '\\n',\n",
    "   'R² score            :',r2_score(y_test, y_pred))"
   ]
  },
  {
   "cell_type": "code",
   "execution_count": null,
   "id": "77d0a961-78b8-4b7e-b9d5-e87efff283ab",
   "metadata": {},
   "outputs": [],
   "source": [
    "score_df_rf = pd.DataFrame(columns=['Method','Random Forest'])\n",
    "score_df_rf['Method']=[\n",
    "                    'Mean Absolute Error',\n",
    "                    'Mean Squared Error',\n",
    "                    'RMSE',\n",
    "                    'R²']\n",
    "score_df_rf['Random Forest']=[\n",
    "                   mean_absolute_error(y_test, y_pred),\n",
    "                   mean_squared_error(y_test, y_pred),\n",
    "                   mean_squared_error(y_test, y_pred, squared = False),\n",
    "                   r2_score(y_test, y_pred)]"
   ]
  },
  {
   "cell_type": "code",
   "execution_count": null,
   "id": "c220b794-8da6-48d3-b226-646f5177f537",
   "metadata": {},
   "outputs": [],
   "source": [
    "score_df_rf"
   ]
  },
  {
   "cell_type": "code",
   "execution_count": null,
   "id": "b34e45b3-5f1f-437a-ad81-c4a924b7acd0",
   "metadata": {},
   "outputs": [],
   "source": [
    "pred_sub_rf = rf_model.predict(test.drop(columns = 'Id'))"
   ]
  },
  {
   "cell_type": "code",
   "execution_count": null,
   "id": "51b4c72a-4d97-4214-92d2-3a6faa7d0827",
   "metadata": {},
   "outputs": [],
   "source": [
    "pred_sub_rf = np.exp(pred_sub_rf)"
   ]
  },
  {
   "cell_type": "code",
   "execution_count": null,
   "id": "bbd7c3a8-09d9-4a87-ab5a-bbd6ac6d8888",
   "metadata": {},
   "outputs": [],
   "source": [
    "residual_rf = np.exp(y_test) - np.exp(y_pred)"
   ]
  },
  {
   "cell_type": "code",
   "execution_count": null,
   "id": "663dc7b6-b681-4353-b503-072b3fdfc4b1",
   "metadata": {},
   "outputs": [],
   "source": [
    "plt.scatter(residual_rf, np.exp(y_pred))"
   ]
  },
  {
   "cell_type": "code",
   "execution_count": null,
   "id": "5458a3c6-2d9c-4c3c-aea3-db4923c46d10",
   "metadata": {},
   "outputs": [],
   "source": [
    "submission_rf= pd.DataFrame(columns = ['Id', 'Prediction'])\n",
    "submission_rf['Id'] = test['Id']\n",
    "submission_rf['Prediction'] = pred_sub_rf\n",
    "submission_rf.to_csv('submission_rf.csv', index = False)"
   ]
  },
  {
   "cell_type": "code",
   "execution_count": null,
   "id": "feae4047-d270-4cbc-99d0-a87928929182",
   "metadata": {},
   "outputs": [],
   "source": [
    "rf_feature = pd.Series(index = X_train.columns, data = np.abs(rf_model.feature_importances_))"
   ]
  },
  {
   "cell_type": "code",
   "execution_count": null,
   "id": "ebd2bfbc-16ba-4315-8e88-d1ec69598cb7",
   "metadata": {},
   "outputs": [],
   "source": [
    "rf_feature.sort_values().plot(kind = 'bar', figsize = (16, 8))"
   ]
  },
  {
   "cell_type": "markdown",
   "id": "4478d2db-5385-4619-875b-ccbbaafa5a7f",
   "metadata": {},
   "source": [
    "#### _KNeighborRegressor_"
   ]
  },
  {
   "cell_type": "code",
   "execution_count": null,
   "id": "0427b236-4219-4118-9af7-dd3b7a52e766",
   "metadata": {},
   "outputs": [],
   "source": [
    "knn = KNeighborsRegressor()"
   ]
  },
  {
   "cell_type": "code",
   "execution_count": null,
   "id": "e28b4868-fd2d-42ce-858b-4c39f7168ddb",
   "metadata": {},
   "outputs": [],
   "source": [
    "params_knn = {\n",
    "    'n_neighbors' : [3, 5, 7, 9, 11],\n",
    "}"
   ]
  },
  {
   "cell_type": "code",
   "execution_count": null,
   "id": "affafcf9-529e-4da4-a5ad-9992cf940ba6",
   "metadata": {},
   "outputs": [],
   "source": [
    "knn_regressor = GridSearchCV(knn, params_knn,cv=10, n_jobs=-1)"
   ]
  },
  {
   "cell_type": "code",
   "execution_count": null,
   "id": "42486ab9-d9dc-4f93-8a63-ad3af51771c6",
   "metadata": {},
   "outputs": [],
   "source": [
    "knn_regressor.fit(X_train, y_train)"
   ]
  },
  {
   "cell_type": "code",
   "execution_count": null,
   "id": "67266805-db04-4a4e-b0c5-8557b2da8823",
   "metadata": {},
   "outputs": [],
   "source": [
    "knn_regressor.best_params_"
   ]
  },
  {
   "cell_type": "code",
   "execution_count": null,
   "id": "88c4ba19-1769-40ca-b377-8260b62a1b47",
   "metadata": {},
   "outputs": [],
   "source": [
    "knn_model = KNeighborsRegressor(n_neighbors = 9)"
   ]
  },
  {
   "cell_type": "code",
   "execution_count": null,
   "id": "a5ef0bac-bc40-4f40-b5de-1110a9d795f9",
   "metadata": {},
   "outputs": [],
   "source": [
    "knn_model.fit(X_train, y_train)"
   ]
  },
  {
   "cell_type": "code",
   "execution_count": null,
   "id": "861266d3-6d30-4e8a-89c8-1ea1250a991e",
   "metadata": {},
   "outputs": [],
   "source": [
    "knn_model.score(X_train, y_train)#KNN have a coefficient of determination of 27% on trained  data"
   ]
  },
  {
   "cell_type": "code",
   "execution_count": null,
   "id": "21f194e0-7875-4172-b59c-1fbb3ed01bb3",
   "metadata": {},
   "outputs": [],
   "source": [
    "knn_model.score(X_test, y_test)#KNN have a coefficient of determination of 19% on unseen  data. this indicate a high variance of the model because of the difference with the score on the trainned data."
   ]
  },
  {
   "cell_type": "code",
   "execution_count": null,
   "id": "be44cb5e-656f-4682-829b-3e6e37f36004",
   "metadata": {},
   "outputs": [],
   "source": [
    "y_pred = knn_model.predict(X_test)"
   ]
  },
  {
   "cell_type": "code",
   "execution_count": null,
   "id": "1a8c495d-ac4e-433b-bdca-45cc8108e89e",
   "metadata": {},
   "outputs": [],
   "source": [
    "print('Explained variance score',explained_variance_score(y_test, y_pred),'\\n',\n",
    "   'Mean absolute error      :',mean_absolute_error(y_test, y_pred),'\\n',\n",
    "   'Mean squared error       :',mean_squared_error(y_test, y_pred),'\\n',\n",
    "   'R² score            :',r2_score(y_test, y_pred))"
   ]
  },
  {
   "cell_type": "code",
   "execution_count": null,
   "id": "f7d05619-61dc-4e2f-bee9-4336f62ca5ea",
   "metadata": {},
   "outputs": [],
   "source": [
    "score_df_knn = pd.DataFrame(columns=['Method','KNN'])\n",
    "score_df_knn['Method']=[\n",
    "                    'Mean Absolute Error',\n",
    "                    'Mean Squared Error',\n",
    "                    'RMSE',\n",
    "                    'R²']\n",
    "score_df_knn['KNN']=[\n",
    "                   mean_absolute_error(y_test, y_pred),\n",
    "                   mean_squared_error(y_test, y_pred),\n",
    "                   mean_squared_error(y_test, y_pred, squared = False),\n",
    "                   r2_score(y_test, y_pred)]"
   ]
  },
  {
   "cell_type": "code",
   "execution_count": null,
   "id": "600ae952-35a6-4d40-af9e-e52908d2395d",
   "metadata": {},
   "outputs": [],
   "source": [
    "score_df_knn"
   ]
  },
  {
   "cell_type": "code",
   "execution_count": null,
   "id": "5c16a705-3ae0-49f7-bff5-053181a49222",
   "metadata": {},
   "outputs": [],
   "source": [
    "pred_sub_knn = knn_model.predict(test.drop(columns = 'Id'))"
   ]
  },
  {
   "cell_type": "code",
   "execution_count": null,
   "id": "a5b3024b-820c-4f82-8ec4-910902dcf871",
   "metadata": {},
   "outputs": [],
   "source": [
    "pred_sub_knn = np.exp(pred_sub_knn)"
   ]
  },
  {
   "cell_type": "code",
   "execution_count": null,
   "id": "38cb8680-3999-4d23-9113-0d46eebc937f",
   "metadata": {},
   "outputs": [],
   "source": [
    "residual_rf = np.exp(y_test) - np.exp(y_pred)"
   ]
  },
  {
   "cell_type": "code",
   "execution_count": null,
   "id": "585a0fa9-c42f-472a-bcd3-f706fa4e38dd",
   "metadata": {},
   "outputs": [],
   "source": [
    "plt.scatter(residual_rf, np.exp(y_pred))"
   ]
  },
  {
   "cell_type": "code",
   "execution_count": null,
   "id": "e2585c91-475a-4ad8-beda-b2ad7cc58a68",
   "metadata": {},
   "outputs": [],
   "source": [
    "submission_knn= pd.DataFrame(columns = ['Id', 'Prediction'])\n",
    "submission_knn['Id'] = test['Id']\n",
    "submission_knn['Prediction'] = pred_sub_knn\n",
    "submission_knn.to_csv('submission_knn.csv', index = False)"
   ]
  },
  {
   "cell_type": "markdown",
   "id": "45c7366a-ef8f-4c1a-b375-973b1ab846ab",
   "metadata": {},
   "source": [
    "#### _XGBoost Regressor_"
   ]
  },
  {
   "cell_type": "code",
   "execution_count": null,
   "id": "9a2d3b7f-8a0e-4f41-b6a5-f0665bb4756f",
   "metadata": {},
   "outputs": [],
   "source": [
    "xgb = XGBRegressor()"
   ]
  },
  {
   "cell_type": "code",
   "execution_count": null,
   "id": "9e0dc3bd-8a61-47b6-b0df-5acb5561b458",
   "metadata": {},
   "outputs": [],
   "source": [
    "params_xgb = {\n",
    "    'learning_rate': [.05,.1],\n",
    "    'max_depth': [4, 9],\n",
    "    'subsample': [.5, .7],\n",
    "    'n_estimators': [100,200]\n",
    "}"
   ]
  },
  {
   "cell_type": "code",
   "execution_count": null,
   "id": "1c7f48f6-7423-456c-87cc-694a015af414",
   "metadata": {},
   "outputs": [],
   "source": [
    "xgb_regressor = GridSearchCV(xgb, params_xgb, cv = 10, n_jobs=-1)"
   ]
  },
  {
   "cell_type": "code",
   "execution_count": null,
   "id": "d65b27bd-b13d-49d1-9964-ed614d78141f",
   "metadata": {},
   "outputs": [],
   "source": [
    "xgb_regressor.fit(X_train, y_train)"
   ]
  },
  {
   "cell_type": "code",
   "execution_count": null,
   "id": "d79e5476-e0d2-4310-9ad8-4b29376156cc",
   "metadata": {},
   "outputs": [],
   "source": [
    "xgb_regressor.best_params_"
   ]
  },
  {
   "cell_type": "code",
   "execution_count": null,
   "id": "637b68ce-ccab-4c6a-aba2-c8e2bac1b82c",
   "metadata": {},
   "outputs": [],
   "source": [
    "xgb_model = XGBRegressor(learning_rate = 0.1, max_depth = 9, n_estimators = 200, subsample = 0.5)"
   ]
  },
  {
   "cell_type": "code",
   "execution_count": null,
   "id": "00bf9019-3c94-4a69-a997-e5df30ec9d3c",
   "metadata": {},
   "outputs": [],
   "source": [
    "xgb_model.fit(X_train, y_train)"
   ]
  },
  {
   "cell_type": "code",
   "execution_count": null,
   "id": "2f58ffe9-4b37-46b9-989e-20e1848f8894",
   "metadata": {},
   "outputs": [],
   "source": [
    "xgb_model.score(X_train, y_train)"
   ]
  },
  {
   "cell_type": "code",
   "execution_count": null,
   "id": "b77188f8-63e2-4ed2-a7bb-5a5e70151a65",
   "metadata": {},
   "outputs": [],
   "source": [
    "xgb_model.score(X_test, y_test)"
   ]
  },
  {
   "cell_type": "code",
   "execution_count": null,
   "id": "6e3df54e-2ae5-461f-9f7e-665fc20be386",
   "metadata": {},
   "outputs": [],
   "source": [
    "y_pred = xgb_model.predict(X_test)"
   ]
  },
  {
   "cell_type": "code",
   "execution_count": null,
   "id": "3d476e5a-31f3-468a-bfff-1d38e4cae8bd",
   "metadata": {},
   "outputs": [],
   "source": [
    "print('Explained variance score',explained_variance_score(y_test, y_pred),'\\n',\n",
    "   'Mean absolute error      :',mean_absolute_error(y_test, y_pred),'\\n',\n",
    "   'Mean squared error       :',mean_squared_error(y_test, y_pred),'\\n',\n",
    "   'R² score            :',r2_score(y_test, y_pred))"
   ]
  },
  {
   "cell_type": "code",
   "execution_count": null,
   "id": "1c0e74f0-5b01-46a0-a6e2-e155ae848d1c",
   "metadata": {},
   "outputs": [],
   "source": [
    "score_df_xgb = pd.DataFrame(columns=['Method','XGBoost'])\n",
    "score_df_xgb['Method']=[\n",
    "                    'Mean Absolute Error',\n",
    "                    'Mean Squared Error',\n",
    "                    'RMSE',\n",
    "                    'R²']\n",
    "score_df_xgb['XGBoost']=[\n",
    "                   mean_absolute_error(y_test, y_pred),\n",
    "                   mean_squared_error(y_test, y_pred),\n",
    "                   mean_squared_error(y_test, y_pred, squared = False),\n",
    "                   r2_score(y_test, y_pred)]"
   ]
  },
  {
   "cell_type": "code",
   "execution_count": null,
   "id": "87d9906f-6630-40ad-a814-d07aeabd9569",
   "metadata": {},
   "outputs": [],
   "source": [
    "score_df_xgb"
   ]
  },
  {
   "cell_type": "code",
   "execution_count": null,
   "id": "dfb45475-4223-4dfb-a509-6f28467f54b9",
   "metadata": {},
   "outputs": [],
   "source": [
    "residual_rf = np.exp(y_test) - np.exp(y_pred)"
   ]
  },
  {
   "cell_type": "code",
   "execution_count": null,
   "id": "da58f7c7-aaa9-4b31-88c3-e8b1d960f4c5",
   "metadata": {},
   "outputs": [],
   "source": [
    "plt.scatter(residual_rf, np.exp(y_pred))"
   ]
  },
  {
   "cell_type": "code",
   "execution_count": null,
   "id": "3d241eda-6c6a-4157-b97d-1792ca005c06",
   "metadata": {},
   "outputs": [],
   "source": [
    "pred_sub_xgb = xgb_model.predict(test.drop(columns = 'Id'))"
   ]
  },
  {
   "cell_type": "code",
   "execution_count": null,
   "id": "31d70851-cc55-4860-afd0-f2a56c60df9b",
   "metadata": {},
   "outputs": [],
   "source": [
    "pred_sub_xgb = np.exp(pred_sub_xgb)"
   ]
  },
  {
   "cell_type": "code",
   "execution_count": null,
   "id": "f7d94e0a-4523-4b84-8371-db8d4df81a26",
   "metadata": {},
   "outputs": [],
   "source": [
    "submission_xgb= pd.DataFrame(columns = ['Id', 'Prediction'])\n",
    "submission_xgb['Id'] = test['Id']\n",
    "submission_xgb['Prediction'] = pred_sub_xgb\n",
    "submission_xgb.to_csv('submission_xgb.csv', index = False)"
   ]
  },
  {
   "cell_type": "code",
   "execution_count": null,
   "id": "5908ea62-4327-485e-9e6b-b47a3a6fb458",
   "metadata": {},
   "outputs": [],
   "source": [
    "score_df_lr.merge(score_df_ridge,on='Method').merge(score_df_lasso,on='Method').merge(score_df_rf, on = 'Method').merge(score_df_knn, on = 'Method').merge(score_df_xgb, on = 'Method')"
   ]
  },
  {
   "cell_type": "markdown",
   "id": "843d0278-7032-4a6e-b92b-e7541fa7b523",
   "metadata": {},
   "source": [
    "### _Conclusion_"
   ]
  },
  {
   "cell_type": "code",
   "execution_count": null,
   "id": "6b7cffc5",
   "metadata": {},
   "outputs": [],
   "source": []
  },
  {
   "cell_type": "raw",
   "id": "e01a579d",
   "metadata": {},
   "source": [
    "We built and evaluated 6 different models. With the simple Linear Regression model as the baseline model, We are comparing all other models to the baseline for evaluations.\n",
    "\n",
    "1. In the model training and testing part, all three linear model (Linear, Ridge and Lasso), we have seen negative scores which a good indication of model super overfitting. In addition, in the EDA part, we have not observe any strong linear relationships which also explains the circumstances. \n",
    "\n",
    "2. Among other models, Random Forest and XGBoost tend to be extremely overfitting. (based on the train and test score). The KNN has a relative small score variances between training and testing. \n",
    "\n",
    "3. In addition, we also evaluated the metrics on RMSE. In statistical model and specifically for regression analysis in this case, the RMSE (root mean squared error) measures the quality of the fit of our model. if the predicted value are close to the true value, the RMSE will be small and RMSE will be large if the predicted value and true value are substantially different. Based on this measure, the Random Forest  model has the best outcome among all other models. \n",
    "\n",
    "4. R² is also another way to evaluate our model. The R², also called coefficient of determination, measures variance explained by the model over total variances. higher R² values represent smaller differences between the observed data and the fitted values. In this case, the  Random forest model has the highest R² value which translate to the smallest differences between the observed data and the fitted values in our case.Thus Random forest  model performed better than other models. \n",
    "\n",
    "5. Lastly, we have submitted all our predicted value to kaggle and the KNN provided the best scores. "
   ]
  },
  {
   "cell_type": "markdown",
   "id": "afad453e",
   "metadata": {},
   "source": [
    "### Reflection\n",
    "\n",
    "Looking back on this project , we didn't get a good score on the  models because the dataset we have needed more cleaning and feature engineering.Looking at the values of P1-p37 features , there are some  values that are equal to zero that may represent missing values rather than 0 as a value. One way to work on that is to use **knn imputer** to resolve some of those issues, we could also find a way to keep the city column because location is an important feature in predicting the profitability of a restaurant. "
   ]
  },
  {
   "cell_type": "code",
   "execution_count": null,
   "id": "f72c6114-b595-4761-a45e-92fb29d4740b",
   "metadata": {},
   "outputs": [],
   "source": []
  }
 ],
 "metadata": {
  "kernelspec": {
   "display_name": "Python 3",
   "language": "python",
   "name": "python3"
  },
  "language_info": {
   "codemirror_mode": {
    "name": "ipython",
    "version": 3
   },
   "file_extension": ".py",
   "mimetype": "text/x-python",
   "name": "python",
   "nbconvert_exporter": "python",
   "pygments_lexer": "ipython3",
   "version": "3.8.8"
  },
  "widgets": {
   "application/vnd.jupyter.widget-state+json": {
    "state": {},
    "version_major": 2,
    "version_minor": 0
   }
  }
 },
 "nbformat": 4,
 "nbformat_minor": 5
}
