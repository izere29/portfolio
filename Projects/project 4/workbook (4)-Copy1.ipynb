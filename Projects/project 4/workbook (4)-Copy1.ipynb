{
 "cells": [
  {
   "cell_type": "markdown",
   "id": "e5311658",
   "metadata": {},
   "source": [
    "# Restaurant Revenue Prediction"
   ]
  },
  {
   "cell_type": "markdown",
   "id": "7bb8293d",
   "metadata": {},
   "source": [
    "## Problem Statement\n",
    "\n",
    "With over 1,200 quick service restaurants across the globe, TFI is the company behind some of the world's most well-known brands: Burger King, Sbarro, Popeyes, Usta Donerci, and Arby’s. They employ over 20,000 people in Europe and Asia and make significant daily investments in developing new restaurant sites.\n",
    "\n",
    "We are building a  regression model that will predict the Revenue of new restaurents and what should the TFI company take into consideration when investing on a new restaurant to achieve  highly profitability.R2 and RMSE will be used to choose the model to used."
   ]
  },
  {
   "cell_type": "markdown",
   "id": "163f67c8-d781-4a69-a403-fd1a541b2828",
   "metadata": {},
   "source": [
    "###  _Data Collection and Data dictionnary_ \n",
    "\n",
    "\n",
    "The dataset used is from a Kaggle competion https://www.kaggle.com/c/restaurant-revenue-prediction/data.\n",
    "\n",
    "\n",
    "1. `Id` : Restaurant id.\n",
    "2. `Open Date` : opening date for a restaurant\n",
    "3. `City` : City that the restaurant is in. Note that there are unicode in the names.\n",
    "4. `City Group` : Type of the city. Big cities, or Other.\n",
    "5. `Type` : Type of the restaurant. FC: Food Court, IL: Inline, DT: Drive Thru, MB: Mobile\n",
    "6. `P1`, `P2` - `P37` : There are three categories of these obfuscated data. Demographic data are gathered from third party providers with GIS systems. These include population in any given area, age and gender distribution, development scales. Real estate data mainly relate to the m2 of the location, front facade of the location, car park availability. Commercial data mainly include the existence of points of interest including schools, banks, other QSR operators.\n",
    "7. `Revenue` : The revenue column indicates a (transformed) revenue of the restaurant in a given year and is the target of predictive analysis. Please note that the values are transformed so they don't mean real dollar values."
   ]
  },
  {
   "cell_type": "markdown",
   "id": "415da071-981b-49c2-98e1-906478617d5d",
   "metadata": {},
   "source": [
    "### _Imports_"
   ]
  },
  {
   "cell_type": "code",
   "execution_count": 1,
   "id": "5160bafb-736e-40c0-a2a8-79542988353d",
   "metadata": {},
   "outputs": [],
   "source": [
    "import pandas as pd\n",
    "import matplotlib.pyplot as plt\n",
    "import seaborn as sns\n",
    "import numpy as np \n",
    "\n",
    "from sklearn.model_selection import train_test_split, GridSearchCV\n",
    "from sklearn.linear_model import LinearRegression, Lasso, Ridge,ElasticNetCV, ElasticNet\n",
    "from xgboost import XGBRegressor\n",
    "from sklearn.neighbors import KNeighborsRegressor\n",
    "from sklearn.ensemble import RandomForestRegressor\n",
    "from sklearn import preprocessing\n",
    "from sklearn.metrics import r2_score,explained_variance_score,max_error,mean_absolute_error,mean_squared_error,confusion_matrix,mean_absolute_percentage_error,mean_squared_log_error\n",
    "from sklearn.pipeline import Pipeline\n"
   ]
  },
  {
   "cell_type": "code",
   "execution_count": 2,
   "id": "dec4ef5e-2aca-425a-b6de-9a487ec419f2",
   "metadata": {},
   "outputs": [],
   "source": [
    "train = pd.read_csv('./data/train.csv') # train data/"
   ]
  },
  {
   "cell_type": "code",
   "execution_count": 3,
   "id": "5ef9887d-11d9-46e0-8312-ecd94c54356d",
   "metadata": {},
   "outputs": [],
   "source": [
    "test = pd.read_csv('./data/test.csv') # Test data"
   ]
  },
  {
   "cell_type": "markdown",
   "id": "9ed819a5-7a79-42f0-80a6-77c645d87b57",
   "metadata": {},
   "source": [
    "### _Reading the Data_"
   ]
  },
  {
   "cell_type": "code",
   "execution_count": 4,
   "id": "8c5e614a-a51d-4682-abc2-a9527a47ab8c",
   "metadata": {},
   "outputs": [
    {
     "data": {
      "text/html": [
       "<div>\n",
       "<style scoped>\n",
       "    .dataframe tbody tr th:only-of-type {\n",
       "        vertical-align: middle;\n",
       "    }\n",
       "\n",
       "    .dataframe tbody tr th {\n",
       "        vertical-align: top;\n",
       "    }\n",
       "\n",
       "    .dataframe thead th {\n",
       "        text-align: right;\n",
       "    }\n",
       "</style>\n",
       "<table border=\"1\" class=\"dataframe\">\n",
       "  <thead>\n",
       "    <tr style=\"text-align: right;\">\n",
       "      <th></th>\n",
       "      <th>Id</th>\n",
       "      <th>Open Date</th>\n",
       "      <th>City</th>\n",
       "      <th>City Group</th>\n",
       "      <th>Type</th>\n",
       "      <th>P1</th>\n",
       "      <th>P2</th>\n",
       "      <th>P3</th>\n",
       "      <th>P4</th>\n",
       "      <th>P5</th>\n",
       "      <th>...</th>\n",
       "      <th>P29</th>\n",
       "      <th>P30</th>\n",
       "      <th>P31</th>\n",
       "      <th>P32</th>\n",
       "      <th>P33</th>\n",
       "      <th>P34</th>\n",
       "      <th>P35</th>\n",
       "      <th>P36</th>\n",
       "      <th>P37</th>\n",
       "      <th>revenue</th>\n",
       "    </tr>\n",
       "  </thead>\n",
       "  <tbody>\n",
       "    <tr>\n",
       "      <th>0</th>\n",
       "      <td>0</td>\n",
       "      <td>07/17/1999</td>\n",
       "      <td>İstanbul</td>\n",
       "      <td>Big Cities</td>\n",
       "      <td>IL</td>\n",
       "      <td>4</td>\n",
       "      <td>5.0</td>\n",
       "      <td>4.0</td>\n",
       "      <td>4.0</td>\n",
       "      <td>2</td>\n",
       "      <td>...</td>\n",
       "      <td>3.0</td>\n",
       "      <td>5</td>\n",
       "      <td>3</td>\n",
       "      <td>4</td>\n",
       "      <td>5</td>\n",
       "      <td>5</td>\n",
       "      <td>4</td>\n",
       "      <td>3</td>\n",
       "      <td>4</td>\n",
       "      <td>5653753.0</td>\n",
       "    </tr>\n",
       "    <tr>\n",
       "      <th>1</th>\n",
       "      <td>1</td>\n",
       "      <td>02/14/2008</td>\n",
       "      <td>Ankara</td>\n",
       "      <td>Big Cities</td>\n",
       "      <td>FC</td>\n",
       "      <td>4</td>\n",
       "      <td>5.0</td>\n",
       "      <td>4.0</td>\n",
       "      <td>4.0</td>\n",
       "      <td>1</td>\n",
       "      <td>...</td>\n",
       "      <td>3.0</td>\n",
       "      <td>0</td>\n",
       "      <td>0</td>\n",
       "      <td>0</td>\n",
       "      <td>0</td>\n",
       "      <td>0</td>\n",
       "      <td>0</td>\n",
       "      <td>0</td>\n",
       "      <td>0</td>\n",
       "      <td>6923131.0</td>\n",
       "    </tr>\n",
       "    <tr>\n",
       "      <th>2</th>\n",
       "      <td>2</td>\n",
       "      <td>03/09/2013</td>\n",
       "      <td>Diyarbakır</td>\n",
       "      <td>Other</td>\n",
       "      <td>IL</td>\n",
       "      <td>2</td>\n",
       "      <td>4.0</td>\n",
       "      <td>2.0</td>\n",
       "      <td>5.0</td>\n",
       "      <td>2</td>\n",
       "      <td>...</td>\n",
       "      <td>3.0</td>\n",
       "      <td>0</td>\n",
       "      <td>0</td>\n",
       "      <td>0</td>\n",
       "      <td>0</td>\n",
       "      <td>0</td>\n",
       "      <td>0</td>\n",
       "      <td>0</td>\n",
       "      <td>0</td>\n",
       "      <td>2055379.0</td>\n",
       "    </tr>\n",
       "    <tr>\n",
       "      <th>3</th>\n",
       "      <td>3</td>\n",
       "      <td>02/02/2012</td>\n",
       "      <td>Tokat</td>\n",
       "      <td>Other</td>\n",
       "      <td>IL</td>\n",
       "      <td>6</td>\n",
       "      <td>4.5</td>\n",
       "      <td>6.0</td>\n",
       "      <td>6.0</td>\n",
       "      <td>4</td>\n",
       "      <td>...</td>\n",
       "      <td>7.5</td>\n",
       "      <td>25</td>\n",
       "      <td>12</td>\n",
       "      <td>10</td>\n",
       "      <td>6</td>\n",
       "      <td>18</td>\n",
       "      <td>12</td>\n",
       "      <td>12</td>\n",
       "      <td>6</td>\n",
       "      <td>2675511.0</td>\n",
       "    </tr>\n",
       "    <tr>\n",
       "      <th>4</th>\n",
       "      <td>4</td>\n",
       "      <td>05/09/2009</td>\n",
       "      <td>Gaziantep</td>\n",
       "      <td>Other</td>\n",
       "      <td>IL</td>\n",
       "      <td>3</td>\n",
       "      <td>4.0</td>\n",
       "      <td>3.0</td>\n",
       "      <td>4.0</td>\n",
       "      <td>2</td>\n",
       "      <td>...</td>\n",
       "      <td>3.0</td>\n",
       "      <td>5</td>\n",
       "      <td>1</td>\n",
       "      <td>3</td>\n",
       "      <td>2</td>\n",
       "      <td>3</td>\n",
       "      <td>4</td>\n",
       "      <td>3</td>\n",
       "      <td>3</td>\n",
       "      <td>4316715.0</td>\n",
       "    </tr>\n",
       "  </tbody>\n",
       "</table>\n",
       "<p>5 rows × 43 columns</p>\n",
       "</div>"
      ],
      "text/plain": [
       "   Id   Open Date        City  City Group Type  P1   P2   P3   P4  P5  ...  \\\n",
       "0   0  07/17/1999    İstanbul  Big Cities   IL   4  5.0  4.0  4.0   2  ...   \n",
       "1   1  02/14/2008      Ankara  Big Cities   FC   4  5.0  4.0  4.0   1  ...   \n",
       "2   2  03/09/2013  Diyarbakır       Other   IL   2  4.0  2.0  5.0   2  ...   \n",
       "3   3  02/02/2012       Tokat       Other   IL   6  4.5  6.0  6.0   4  ...   \n",
       "4   4  05/09/2009   Gaziantep       Other   IL   3  4.0  3.0  4.0   2  ...   \n",
       "\n",
       "   P29  P30  P31  P32  P33  P34  P35  P36  P37    revenue  \n",
       "0  3.0    5    3    4    5    5    4    3    4  5653753.0  \n",
       "1  3.0    0    0    0    0    0    0    0    0  6923131.0  \n",
       "2  3.0    0    0    0    0    0    0    0    0  2055379.0  \n",
       "3  7.5   25   12   10    6   18   12   12    6  2675511.0  \n",
       "4  3.0    5    1    3    2    3    4    3    3  4316715.0  \n",
       "\n",
       "[5 rows x 43 columns]"
      ]
     },
     "execution_count": 4,
     "metadata": {},
     "output_type": "execute_result"
    }
   ],
   "source": [
    "train.head()"
   ]
  },
  {
   "cell_type": "code",
   "execution_count": 5,
   "id": "a259418b-929b-44a4-80af-8cf9d148970c",
   "metadata": {},
   "outputs": [
    {
     "data": {
      "text/html": [
       "<div>\n",
       "<style scoped>\n",
       "    .dataframe tbody tr th:only-of-type {\n",
       "        vertical-align: middle;\n",
       "    }\n",
       "\n",
       "    .dataframe tbody tr th {\n",
       "        vertical-align: top;\n",
       "    }\n",
       "\n",
       "    .dataframe thead th {\n",
       "        text-align: right;\n",
       "    }\n",
       "</style>\n",
       "<table border=\"1\" class=\"dataframe\">\n",
       "  <thead>\n",
       "    <tr style=\"text-align: right;\">\n",
       "      <th></th>\n",
       "      <th>Id</th>\n",
       "      <th>Open Date</th>\n",
       "      <th>City</th>\n",
       "      <th>City Group</th>\n",
       "      <th>Type</th>\n",
       "      <th>P1</th>\n",
       "      <th>P2</th>\n",
       "      <th>P3</th>\n",
       "      <th>P4</th>\n",
       "      <th>P5</th>\n",
       "      <th>...</th>\n",
       "      <th>P28</th>\n",
       "      <th>P29</th>\n",
       "      <th>P30</th>\n",
       "      <th>P31</th>\n",
       "      <th>P32</th>\n",
       "      <th>P33</th>\n",
       "      <th>P34</th>\n",
       "      <th>P35</th>\n",
       "      <th>P36</th>\n",
       "      <th>P37</th>\n",
       "    </tr>\n",
       "  </thead>\n",
       "  <tbody>\n",
       "    <tr>\n",
       "      <th>0</th>\n",
       "      <td>0</td>\n",
       "      <td>01/22/2011</td>\n",
       "      <td>Niğde</td>\n",
       "      <td>Other</td>\n",
       "      <td>FC</td>\n",
       "      <td>1</td>\n",
       "      <td>4.0</td>\n",
       "      <td>4.0</td>\n",
       "      <td>4.0</td>\n",
       "      <td>1</td>\n",
       "      <td>...</td>\n",
       "      <td>2.0</td>\n",
       "      <td>3.0</td>\n",
       "      <td>0</td>\n",
       "      <td>0</td>\n",
       "      <td>0</td>\n",
       "      <td>0</td>\n",
       "      <td>0</td>\n",
       "      <td>0</td>\n",
       "      <td>0</td>\n",
       "      <td>0</td>\n",
       "    </tr>\n",
       "    <tr>\n",
       "      <th>1</th>\n",
       "      <td>1</td>\n",
       "      <td>03/18/2011</td>\n",
       "      <td>Konya</td>\n",
       "      <td>Other</td>\n",
       "      <td>IL</td>\n",
       "      <td>3</td>\n",
       "      <td>4.0</td>\n",
       "      <td>4.0</td>\n",
       "      <td>4.0</td>\n",
       "      <td>2</td>\n",
       "      <td>...</td>\n",
       "      <td>1.0</td>\n",
       "      <td>3.0</td>\n",
       "      <td>0</td>\n",
       "      <td>0</td>\n",
       "      <td>0</td>\n",
       "      <td>0</td>\n",
       "      <td>0</td>\n",
       "      <td>0</td>\n",
       "      <td>0</td>\n",
       "      <td>0</td>\n",
       "    </tr>\n",
       "    <tr>\n",
       "      <th>2</th>\n",
       "      <td>2</td>\n",
       "      <td>10/30/2013</td>\n",
       "      <td>Ankara</td>\n",
       "      <td>Big Cities</td>\n",
       "      <td>FC</td>\n",
       "      <td>3</td>\n",
       "      <td>4.0</td>\n",
       "      <td>4.0</td>\n",
       "      <td>4.0</td>\n",
       "      <td>2</td>\n",
       "      <td>...</td>\n",
       "      <td>2.0</td>\n",
       "      <td>3.0</td>\n",
       "      <td>0</td>\n",
       "      <td>0</td>\n",
       "      <td>0</td>\n",
       "      <td>0</td>\n",
       "      <td>0</td>\n",
       "      <td>0</td>\n",
       "      <td>0</td>\n",
       "      <td>0</td>\n",
       "    </tr>\n",
       "    <tr>\n",
       "      <th>3</th>\n",
       "      <td>3</td>\n",
       "      <td>05/06/2013</td>\n",
       "      <td>Kocaeli</td>\n",
       "      <td>Other</td>\n",
       "      <td>IL</td>\n",
       "      <td>2</td>\n",
       "      <td>4.0</td>\n",
       "      <td>4.0</td>\n",
       "      <td>4.0</td>\n",
       "      <td>2</td>\n",
       "      <td>...</td>\n",
       "      <td>2.0</td>\n",
       "      <td>3.0</td>\n",
       "      <td>0</td>\n",
       "      <td>4</td>\n",
       "      <td>0</td>\n",
       "      <td>0</td>\n",
       "      <td>0</td>\n",
       "      <td>0</td>\n",
       "      <td>0</td>\n",
       "      <td>0</td>\n",
       "    </tr>\n",
       "    <tr>\n",
       "      <th>4</th>\n",
       "      <td>4</td>\n",
       "      <td>07/31/2013</td>\n",
       "      <td>Afyonkarahisar</td>\n",
       "      <td>Other</td>\n",
       "      <td>FC</td>\n",
       "      <td>2</td>\n",
       "      <td>4.0</td>\n",
       "      <td>4.0</td>\n",
       "      <td>4.0</td>\n",
       "      <td>1</td>\n",
       "      <td>...</td>\n",
       "      <td>5.0</td>\n",
       "      <td>3.0</td>\n",
       "      <td>0</td>\n",
       "      <td>0</td>\n",
       "      <td>0</td>\n",
       "      <td>0</td>\n",
       "      <td>0</td>\n",
       "      <td>0</td>\n",
       "      <td>0</td>\n",
       "      <td>0</td>\n",
       "    </tr>\n",
       "  </tbody>\n",
       "</table>\n",
       "<p>5 rows × 42 columns</p>\n",
       "</div>"
      ],
      "text/plain": [
       "   Id   Open Date            City  City Group Type  P1   P2   P3   P4  P5  \\\n",
       "0   0  01/22/2011           Niğde       Other   FC   1  4.0  4.0  4.0   1   \n",
       "1   1  03/18/2011           Konya       Other   IL   3  4.0  4.0  4.0   2   \n",
       "2   2  10/30/2013          Ankara  Big Cities   FC   3  4.0  4.0  4.0   2   \n",
       "3   3  05/06/2013         Kocaeli       Other   IL   2  4.0  4.0  4.0   2   \n",
       "4   4  07/31/2013  Afyonkarahisar       Other   FC   2  4.0  4.0  4.0   1   \n",
       "\n",
       "   ...  P28  P29  P30  P31  P32  P33  P34  P35  P36  P37  \n",
       "0  ...  2.0  3.0    0    0    0    0    0    0    0    0  \n",
       "1  ...  1.0  3.0    0    0    0    0    0    0    0    0  \n",
       "2  ...  2.0  3.0    0    0    0    0    0    0    0    0  \n",
       "3  ...  2.0  3.0    0    4    0    0    0    0    0    0  \n",
       "4  ...  5.0  3.0    0    0    0    0    0    0    0    0  \n",
       "\n",
       "[5 rows x 42 columns]"
      ]
     },
     "execution_count": 5,
     "metadata": {},
     "output_type": "execute_result"
    }
   ],
   "source": [
    "test.head()"
   ]
  },
  {
   "cell_type": "code",
   "execution_count": 6,
   "id": "707e8d19-e078-41bd-8930-5682142acb02",
   "metadata": {},
   "outputs": [
    {
     "data": {
      "text/plain": [
       "Id              int64\n",
       "Open Date      object\n",
       "City           object\n",
       "City Group     object\n",
       "Type           object\n",
       "P1              int64\n",
       "P2            float64\n",
       "P3            float64\n",
       "P4            float64\n",
       "P5              int64\n",
       "P6              int64\n",
       "P7              int64\n",
       "P8              int64\n",
       "P9              int64\n",
       "P10             int64\n",
       "P11             int64\n",
       "P12             int64\n",
       "P13           float64\n",
       "P14             int64\n",
       "P15             int64\n",
       "P16             int64\n",
       "P17             int64\n",
       "P18             int64\n",
       "P19             int64\n",
       "P20             int64\n",
       "P21             int64\n",
       "P22             int64\n",
       "P23             int64\n",
       "P24             int64\n",
       "P25             int64\n",
       "P26           float64\n",
       "P27           float64\n",
       "P28           float64\n",
       "P29           float64\n",
       "P30             int64\n",
       "P31             int64\n",
       "P32             int64\n",
       "P33             int64\n",
       "P34             int64\n",
       "P35             int64\n",
       "P36             int64\n",
       "P37             int64\n",
       "revenue       float64\n",
       "dtype: object"
      ]
     },
     "execution_count": 6,
     "metadata": {},
     "output_type": "execute_result"
    }
   ],
   "source": [
    "train.dtypes"
   ]
  },
  {
   "cell_type": "code",
   "execution_count": 7,
   "id": "5ca813b6",
   "metadata": {},
   "outputs": [
    {
     "data": {
      "text/html": [
       "<div>\n",
       "<style scoped>\n",
       "    .dataframe tbody tr th:only-of-type {\n",
       "        vertical-align: middle;\n",
       "    }\n",
       "\n",
       "    .dataframe tbody tr th {\n",
       "        vertical-align: top;\n",
       "    }\n",
       "\n",
       "    .dataframe thead th {\n",
       "        text-align: right;\n",
       "    }\n",
       "</style>\n",
       "<table border=\"1\" class=\"dataframe\">\n",
       "  <thead>\n",
       "    <tr style=\"text-align: right;\">\n",
       "      <th></th>\n",
       "      <th>Id</th>\n",
       "      <th>Open Date</th>\n",
       "      <th>City</th>\n",
       "      <th>City Group</th>\n",
       "      <th>Type</th>\n",
       "      <th>P1</th>\n",
       "      <th>P2</th>\n",
       "      <th>P3</th>\n",
       "      <th>P4</th>\n",
       "      <th>P5</th>\n",
       "      <th>...</th>\n",
       "      <th>P29</th>\n",
       "      <th>P30</th>\n",
       "      <th>P31</th>\n",
       "      <th>P32</th>\n",
       "      <th>P33</th>\n",
       "      <th>P34</th>\n",
       "      <th>P35</th>\n",
       "      <th>P36</th>\n",
       "      <th>P37</th>\n",
       "      <th>revenue</th>\n",
       "    </tr>\n",
       "  </thead>\n",
       "  <tbody>\n",
       "    <tr>\n",
       "      <th>count</th>\n",
       "      <td>137.000000</td>\n",
       "      <td>137</td>\n",
       "      <td>137</td>\n",
       "      <td>137</td>\n",
       "      <td>137</td>\n",
       "      <td>137.000000</td>\n",
       "      <td>137.000000</td>\n",
       "      <td>137.000000</td>\n",
       "      <td>137.000000</td>\n",
       "      <td>137.000000</td>\n",
       "      <td>...</td>\n",
       "      <td>137.000000</td>\n",
       "      <td>137.000000</td>\n",
       "      <td>137.000000</td>\n",
       "      <td>137.000000</td>\n",
       "      <td>137.000000</td>\n",
       "      <td>137.000000</td>\n",
       "      <td>137.000000</td>\n",
       "      <td>137.000000</td>\n",
       "      <td>137.000000</td>\n",
       "      <td>1.370000e+02</td>\n",
       "    </tr>\n",
       "    <tr>\n",
       "      <th>unique</th>\n",
       "      <td>NaN</td>\n",
       "      <td>134</td>\n",
       "      <td>34</td>\n",
       "      <td>2</td>\n",
       "      <td>3</td>\n",
       "      <td>NaN</td>\n",
       "      <td>NaN</td>\n",
       "      <td>NaN</td>\n",
       "      <td>NaN</td>\n",
       "      <td>NaN</td>\n",
       "      <td>...</td>\n",
       "      <td>NaN</td>\n",
       "      <td>NaN</td>\n",
       "      <td>NaN</td>\n",
       "      <td>NaN</td>\n",
       "      <td>NaN</td>\n",
       "      <td>NaN</td>\n",
       "      <td>NaN</td>\n",
       "      <td>NaN</td>\n",
       "      <td>NaN</td>\n",
       "      <td>NaN</td>\n",
       "    </tr>\n",
       "    <tr>\n",
       "      <th>top</th>\n",
       "      <td>NaN</td>\n",
       "      <td>01/07/2000</td>\n",
       "      <td>İstanbul</td>\n",
       "      <td>Big Cities</td>\n",
       "      <td>FC</td>\n",
       "      <td>NaN</td>\n",
       "      <td>NaN</td>\n",
       "      <td>NaN</td>\n",
       "      <td>NaN</td>\n",
       "      <td>NaN</td>\n",
       "      <td>...</td>\n",
       "      <td>NaN</td>\n",
       "      <td>NaN</td>\n",
       "      <td>NaN</td>\n",
       "      <td>NaN</td>\n",
       "      <td>NaN</td>\n",
       "      <td>NaN</td>\n",
       "      <td>NaN</td>\n",
       "      <td>NaN</td>\n",
       "      <td>NaN</td>\n",
       "      <td>NaN</td>\n",
       "    </tr>\n",
       "    <tr>\n",
       "      <th>freq</th>\n",
       "      <td>NaN</td>\n",
       "      <td>2</td>\n",
       "      <td>50</td>\n",
       "      <td>78</td>\n",
       "      <td>76</td>\n",
       "      <td>NaN</td>\n",
       "      <td>NaN</td>\n",
       "      <td>NaN</td>\n",
       "      <td>NaN</td>\n",
       "      <td>NaN</td>\n",
       "      <td>...</td>\n",
       "      <td>NaN</td>\n",
       "      <td>NaN</td>\n",
       "      <td>NaN</td>\n",
       "      <td>NaN</td>\n",
       "      <td>NaN</td>\n",
       "      <td>NaN</td>\n",
       "      <td>NaN</td>\n",
       "      <td>NaN</td>\n",
       "      <td>NaN</td>\n",
       "      <td>NaN</td>\n",
       "    </tr>\n",
       "    <tr>\n",
       "      <th>mean</th>\n",
       "      <td>68.000000</td>\n",
       "      <td>NaN</td>\n",
       "      <td>NaN</td>\n",
       "      <td>NaN</td>\n",
       "      <td>NaN</td>\n",
       "      <td>4.014599</td>\n",
       "      <td>4.408759</td>\n",
       "      <td>4.317518</td>\n",
       "      <td>4.372263</td>\n",
       "      <td>2.007299</td>\n",
       "      <td>...</td>\n",
       "      <td>3.135036</td>\n",
       "      <td>2.729927</td>\n",
       "      <td>1.941606</td>\n",
       "      <td>2.525547</td>\n",
       "      <td>1.138686</td>\n",
       "      <td>2.489051</td>\n",
       "      <td>2.029197</td>\n",
       "      <td>2.211679</td>\n",
       "      <td>1.116788</td>\n",
       "      <td>4.453533e+06</td>\n",
       "    </tr>\n",
       "    <tr>\n",
       "      <th>std</th>\n",
       "      <td>39.692569</td>\n",
       "      <td>NaN</td>\n",
       "      <td>NaN</td>\n",
       "      <td>NaN</td>\n",
       "      <td>NaN</td>\n",
       "      <td>2.910391</td>\n",
       "      <td>1.514900</td>\n",
       "      <td>1.032337</td>\n",
       "      <td>1.016462</td>\n",
       "      <td>1.209620</td>\n",
       "      <td>...</td>\n",
       "      <td>1.680887</td>\n",
       "      <td>5.536647</td>\n",
       "      <td>3.512093</td>\n",
       "      <td>5.230117</td>\n",
       "      <td>1.698540</td>\n",
       "      <td>5.165093</td>\n",
       "      <td>3.436272</td>\n",
       "      <td>4.168211</td>\n",
       "      <td>1.790768</td>\n",
       "      <td>2.576072e+06</td>\n",
       "    </tr>\n",
       "    <tr>\n",
       "      <th>min</th>\n",
       "      <td>0.000000</td>\n",
       "      <td>NaN</td>\n",
       "      <td>NaN</td>\n",
       "      <td>NaN</td>\n",
       "      <td>NaN</td>\n",
       "      <td>1.000000</td>\n",
       "      <td>1.000000</td>\n",
       "      <td>0.000000</td>\n",
       "      <td>3.000000</td>\n",
       "      <td>1.000000</td>\n",
       "      <td>...</td>\n",
       "      <td>0.000000</td>\n",
       "      <td>0.000000</td>\n",
       "      <td>0.000000</td>\n",
       "      <td>0.000000</td>\n",
       "      <td>0.000000</td>\n",
       "      <td>0.000000</td>\n",
       "      <td>0.000000</td>\n",
       "      <td>0.000000</td>\n",
       "      <td>0.000000</td>\n",
       "      <td>1.149870e+06</td>\n",
       "    </tr>\n",
       "    <tr>\n",
       "      <th>25%</th>\n",
       "      <td>34.000000</td>\n",
       "      <td>NaN</td>\n",
       "      <td>NaN</td>\n",
       "      <td>NaN</td>\n",
       "      <td>NaN</td>\n",
       "      <td>2.000000</td>\n",
       "      <td>4.000000</td>\n",
       "      <td>4.000000</td>\n",
       "      <td>4.000000</td>\n",
       "      <td>1.000000</td>\n",
       "      <td>...</td>\n",
       "      <td>2.500000</td>\n",
       "      <td>0.000000</td>\n",
       "      <td>0.000000</td>\n",
       "      <td>0.000000</td>\n",
       "      <td>0.000000</td>\n",
       "      <td>0.000000</td>\n",
       "      <td>0.000000</td>\n",
       "      <td>0.000000</td>\n",
       "      <td>0.000000</td>\n",
       "      <td>2.999068e+06</td>\n",
       "    </tr>\n",
       "    <tr>\n",
       "      <th>50%</th>\n",
       "      <td>68.000000</td>\n",
       "      <td>NaN</td>\n",
       "      <td>NaN</td>\n",
       "      <td>NaN</td>\n",
       "      <td>NaN</td>\n",
       "      <td>3.000000</td>\n",
       "      <td>5.000000</td>\n",
       "      <td>4.000000</td>\n",
       "      <td>4.000000</td>\n",
       "      <td>2.000000</td>\n",
       "      <td>...</td>\n",
       "      <td>3.000000</td>\n",
       "      <td>0.000000</td>\n",
       "      <td>0.000000</td>\n",
       "      <td>0.000000</td>\n",
       "      <td>0.000000</td>\n",
       "      <td>0.000000</td>\n",
       "      <td>0.000000</td>\n",
       "      <td>0.000000</td>\n",
       "      <td>0.000000</td>\n",
       "      <td>3.939804e+06</td>\n",
       "    </tr>\n",
       "    <tr>\n",
       "      <th>75%</th>\n",
       "      <td>102.000000</td>\n",
       "      <td>NaN</td>\n",
       "      <td>NaN</td>\n",
       "      <td>NaN</td>\n",
       "      <td>NaN</td>\n",
       "      <td>4.000000</td>\n",
       "      <td>5.000000</td>\n",
       "      <td>5.000000</td>\n",
       "      <td>5.000000</td>\n",
       "      <td>2.000000</td>\n",
       "      <td>...</td>\n",
       "      <td>3.000000</td>\n",
       "      <td>4.000000</td>\n",
       "      <td>3.000000</td>\n",
       "      <td>3.000000</td>\n",
       "      <td>2.000000</td>\n",
       "      <td>3.000000</td>\n",
       "      <td>4.000000</td>\n",
       "      <td>3.000000</td>\n",
       "      <td>2.000000</td>\n",
       "      <td>5.166635e+06</td>\n",
       "    </tr>\n",
       "    <tr>\n",
       "      <th>max</th>\n",
       "      <td>136.000000</td>\n",
       "      <td>NaN</td>\n",
       "      <td>NaN</td>\n",
       "      <td>NaN</td>\n",
       "      <td>NaN</td>\n",
       "      <td>12.000000</td>\n",
       "      <td>7.500000</td>\n",
       "      <td>7.500000</td>\n",
       "      <td>7.500000</td>\n",
       "      <td>8.000000</td>\n",
       "      <td>...</td>\n",
       "      <td>7.500000</td>\n",
       "      <td>25.000000</td>\n",
       "      <td>15.000000</td>\n",
       "      <td>25.000000</td>\n",
       "      <td>6.000000</td>\n",
       "      <td>24.000000</td>\n",
       "      <td>15.000000</td>\n",
       "      <td>20.000000</td>\n",
       "      <td>8.000000</td>\n",
       "      <td>1.969694e+07</td>\n",
       "    </tr>\n",
       "  </tbody>\n",
       "</table>\n",
       "<p>11 rows × 43 columns</p>\n",
       "</div>"
      ],
      "text/plain": [
       "                Id   Open Date      City  City Group Type          P1  \\\n",
       "count   137.000000         137       137         137  137  137.000000   \n",
       "unique         NaN         134        34           2    3         NaN   \n",
       "top            NaN  01/07/2000  İstanbul  Big Cities   FC         NaN   \n",
       "freq           NaN           2        50          78   76         NaN   \n",
       "mean     68.000000         NaN       NaN         NaN  NaN    4.014599   \n",
       "std      39.692569         NaN       NaN         NaN  NaN    2.910391   \n",
       "min       0.000000         NaN       NaN         NaN  NaN    1.000000   \n",
       "25%      34.000000         NaN       NaN         NaN  NaN    2.000000   \n",
       "50%      68.000000         NaN       NaN         NaN  NaN    3.000000   \n",
       "75%     102.000000         NaN       NaN         NaN  NaN    4.000000   \n",
       "max     136.000000         NaN       NaN         NaN  NaN   12.000000   \n",
       "\n",
       "                P2          P3          P4          P5  ...         P29  \\\n",
       "count   137.000000  137.000000  137.000000  137.000000  ...  137.000000   \n",
       "unique         NaN         NaN         NaN         NaN  ...         NaN   \n",
       "top            NaN         NaN         NaN         NaN  ...         NaN   \n",
       "freq           NaN         NaN         NaN         NaN  ...         NaN   \n",
       "mean      4.408759    4.317518    4.372263    2.007299  ...    3.135036   \n",
       "std       1.514900    1.032337    1.016462    1.209620  ...    1.680887   \n",
       "min       1.000000    0.000000    3.000000    1.000000  ...    0.000000   \n",
       "25%       4.000000    4.000000    4.000000    1.000000  ...    2.500000   \n",
       "50%       5.000000    4.000000    4.000000    2.000000  ...    3.000000   \n",
       "75%       5.000000    5.000000    5.000000    2.000000  ...    3.000000   \n",
       "max       7.500000    7.500000    7.500000    8.000000  ...    7.500000   \n",
       "\n",
       "               P30         P31         P32         P33         P34  \\\n",
       "count   137.000000  137.000000  137.000000  137.000000  137.000000   \n",
       "unique         NaN         NaN         NaN         NaN         NaN   \n",
       "top            NaN         NaN         NaN         NaN         NaN   \n",
       "freq           NaN         NaN         NaN         NaN         NaN   \n",
       "mean      2.729927    1.941606    2.525547    1.138686    2.489051   \n",
       "std       5.536647    3.512093    5.230117    1.698540    5.165093   \n",
       "min       0.000000    0.000000    0.000000    0.000000    0.000000   \n",
       "25%       0.000000    0.000000    0.000000    0.000000    0.000000   \n",
       "50%       0.000000    0.000000    0.000000    0.000000    0.000000   \n",
       "75%       4.000000    3.000000    3.000000    2.000000    3.000000   \n",
       "max      25.000000   15.000000   25.000000    6.000000   24.000000   \n",
       "\n",
       "               P35         P36         P37       revenue  \n",
       "count   137.000000  137.000000  137.000000  1.370000e+02  \n",
       "unique         NaN         NaN         NaN           NaN  \n",
       "top            NaN         NaN         NaN           NaN  \n",
       "freq           NaN         NaN         NaN           NaN  \n",
       "mean      2.029197    2.211679    1.116788  4.453533e+06  \n",
       "std       3.436272    4.168211    1.790768  2.576072e+06  \n",
       "min       0.000000    0.000000    0.000000  1.149870e+06  \n",
       "25%       0.000000    0.000000    0.000000  2.999068e+06  \n",
       "50%       0.000000    0.000000    0.000000  3.939804e+06  \n",
       "75%       4.000000    3.000000    2.000000  5.166635e+06  \n",
       "max      15.000000   20.000000    8.000000  1.969694e+07  \n",
       "\n",
       "[11 rows x 43 columns]"
      ]
     },
     "execution_count": 7,
     "metadata": {},
     "output_type": "execute_result"
    }
   ],
   "source": [
    "train.describe(include='all')"
   ]
  },
  {
   "cell_type": "code",
   "execution_count": 8,
   "id": "34bd0bfe-469e-4699-b30c-4d27ea3386e6",
   "metadata": {},
   "outputs": [
    {
     "data": {
      "text/plain": [
       "count    1.370000e+02\n",
       "mean     4.453533e+06\n",
       "std      2.576072e+06\n",
       "min      1.149870e+06\n",
       "25%      2.999068e+06\n",
       "50%      3.939804e+06\n",
       "75%      5.166635e+06\n",
       "max      1.969694e+07\n",
       "Name: revenue, dtype: float64"
      ]
     },
     "execution_count": 8,
     "metadata": {},
     "output_type": "execute_result"
    }
   ],
   "source": [
    "train['revenue'].describe()"
   ]
  },
  {
   "cell_type": "code",
   "execution_count": 9,
   "id": "ffc9446d-4213-4583-9368-45e178847a3a",
   "metadata": {},
   "outputs": [
    {
     "data": {
      "text/plain": [
       "(100000, 42)"
      ]
     },
     "execution_count": 9,
     "metadata": {},
     "output_type": "execute_result"
    }
   ],
   "source": [
    "test.shape"
   ]
  },
  {
   "cell_type": "code",
   "execution_count": 10,
   "id": "1f42d8a3-f029-4434-9e3f-75a55fb2662c",
   "metadata": {},
   "outputs": [
    {
     "data": {
      "text/html": [
       "<div>\n",
       "<style scoped>\n",
       "    .dataframe tbody tr th:only-of-type {\n",
       "        vertical-align: middle;\n",
       "    }\n",
       "\n",
       "    .dataframe tbody tr th {\n",
       "        vertical-align: top;\n",
       "    }\n",
       "\n",
       "    .dataframe thead th {\n",
       "        text-align: right;\n",
       "    }\n",
       "</style>\n",
       "<table border=\"1\" class=\"dataframe\">\n",
       "  <thead>\n",
       "    <tr style=\"text-align: right;\">\n",
       "      <th></th>\n",
       "      <th>Id</th>\n",
       "      <th>Open Date</th>\n",
       "      <th>City</th>\n",
       "      <th>City Group</th>\n",
       "      <th>Type</th>\n",
       "      <th>P1</th>\n",
       "      <th>P2</th>\n",
       "      <th>P3</th>\n",
       "      <th>P4</th>\n",
       "      <th>P5</th>\n",
       "      <th>...</th>\n",
       "      <th>P28</th>\n",
       "      <th>P29</th>\n",
       "      <th>P30</th>\n",
       "      <th>P31</th>\n",
       "      <th>P32</th>\n",
       "      <th>P33</th>\n",
       "      <th>P34</th>\n",
       "      <th>P35</th>\n",
       "      <th>P36</th>\n",
       "      <th>P37</th>\n",
       "    </tr>\n",
       "  </thead>\n",
       "  <tbody>\n",
       "    <tr>\n",
       "      <th>0</th>\n",
       "      <td>0</td>\n",
       "      <td>01/22/2011</td>\n",
       "      <td>Niğde</td>\n",
       "      <td>Other</td>\n",
       "      <td>FC</td>\n",
       "      <td>1</td>\n",
       "      <td>4.0</td>\n",
       "      <td>4.0</td>\n",
       "      <td>4.0</td>\n",
       "      <td>1</td>\n",
       "      <td>...</td>\n",
       "      <td>2.0</td>\n",
       "      <td>3.0</td>\n",
       "      <td>0</td>\n",
       "      <td>0</td>\n",
       "      <td>0</td>\n",
       "      <td>0</td>\n",
       "      <td>0</td>\n",
       "      <td>0</td>\n",
       "      <td>0</td>\n",
       "      <td>0</td>\n",
       "    </tr>\n",
       "    <tr>\n",
       "      <th>1</th>\n",
       "      <td>1</td>\n",
       "      <td>03/18/2011</td>\n",
       "      <td>Konya</td>\n",
       "      <td>Other</td>\n",
       "      <td>IL</td>\n",
       "      <td>3</td>\n",
       "      <td>4.0</td>\n",
       "      <td>4.0</td>\n",
       "      <td>4.0</td>\n",
       "      <td>2</td>\n",
       "      <td>...</td>\n",
       "      <td>1.0</td>\n",
       "      <td>3.0</td>\n",
       "      <td>0</td>\n",
       "      <td>0</td>\n",
       "      <td>0</td>\n",
       "      <td>0</td>\n",
       "      <td>0</td>\n",
       "      <td>0</td>\n",
       "      <td>0</td>\n",
       "      <td>0</td>\n",
       "    </tr>\n",
       "    <tr>\n",
       "      <th>2</th>\n",
       "      <td>2</td>\n",
       "      <td>10/30/2013</td>\n",
       "      <td>Ankara</td>\n",
       "      <td>Big Cities</td>\n",
       "      <td>FC</td>\n",
       "      <td>3</td>\n",
       "      <td>4.0</td>\n",
       "      <td>4.0</td>\n",
       "      <td>4.0</td>\n",
       "      <td>2</td>\n",
       "      <td>...</td>\n",
       "      <td>2.0</td>\n",
       "      <td>3.0</td>\n",
       "      <td>0</td>\n",
       "      <td>0</td>\n",
       "      <td>0</td>\n",
       "      <td>0</td>\n",
       "      <td>0</td>\n",
       "      <td>0</td>\n",
       "      <td>0</td>\n",
       "      <td>0</td>\n",
       "    </tr>\n",
       "    <tr>\n",
       "      <th>3</th>\n",
       "      <td>3</td>\n",
       "      <td>05/06/2013</td>\n",
       "      <td>Kocaeli</td>\n",
       "      <td>Other</td>\n",
       "      <td>IL</td>\n",
       "      <td>2</td>\n",
       "      <td>4.0</td>\n",
       "      <td>4.0</td>\n",
       "      <td>4.0</td>\n",
       "      <td>2</td>\n",
       "      <td>...</td>\n",
       "      <td>2.0</td>\n",
       "      <td>3.0</td>\n",
       "      <td>0</td>\n",
       "      <td>4</td>\n",
       "      <td>0</td>\n",
       "      <td>0</td>\n",
       "      <td>0</td>\n",
       "      <td>0</td>\n",
       "      <td>0</td>\n",
       "      <td>0</td>\n",
       "    </tr>\n",
       "    <tr>\n",
       "      <th>4</th>\n",
       "      <td>4</td>\n",
       "      <td>07/31/2013</td>\n",
       "      <td>Afyonkarahisar</td>\n",
       "      <td>Other</td>\n",
       "      <td>FC</td>\n",
       "      <td>2</td>\n",
       "      <td>4.0</td>\n",
       "      <td>4.0</td>\n",
       "      <td>4.0</td>\n",
       "      <td>1</td>\n",
       "      <td>...</td>\n",
       "      <td>5.0</td>\n",
       "      <td>3.0</td>\n",
       "      <td>0</td>\n",
       "      <td>0</td>\n",
       "      <td>0</td>\n",
       "      <td>0</td>\n",
       "      <td>0</td>\n",
       "      <td>0</td>\n",
       "      <td>0</td>\n",
       "      <td>0</td>\n",
       "    </tr>\n",
       "  </tbody>\n",
       "</table>\n",
       "<p>5 rows × 42 columns</p>\n",
       "</div>"
      ],
      "text/plain": [
       "   Id   Open Date            City  City Group Type  P1   P2   P3   P4  P5  \\\n",
       "0   0  01/22/2011           Niğde       Other   FC   1  4.0  4.0  4.0   1   \n",
       "1   1  03/18/2011           Konya       Other   IL   3  4.0  4.0  4.0   2   \n",
       "2   2  10/30/2013          Ankara  Big Cities   FC   3  4.0  4.0  4.0   2   \n",
       "3   3  05/06/2013         Kocaeli       Other   IL   2  4.0  4.0  4.0   2   \n",
       "4   4  07/31/2013  Afyonkarahisar       Other   FC   2  4.0  4.0  4.0   1   \n",
       "\n",
       "   ...  P28  P29  P30  P31  P32  P33  P34  P35  P36  P37  \n",
       "0  ...  2.0  3.0    0    0    0    0    0    0    0    0  \n",
       "1  ...  1.0  3.0    0    0    0    0    0    0    0    0  \n",
       "2  ...  2.0  3.0    0    0    0    0    0    0    0    0  \n",
       "3  ...  2.0  3.0    0    4    0    0    0    0    0    0  \n",
       "4  ...  5.0  3.0    0    0    0    0    0    0    0    0  \n",
       "\n",
       "[5 rows x 42 columns]"
      ]
     },
     "execution_count": 10,
     "metadata": {},
     "output_type": "execute_result"
    }
   ],
   "source": [
    "test.head()"
   ]
  },
  {
   "cell_type": "markdown",
   "id": "454bbce1-458e-4529-8ce6-0744ae6c9eaf",
   "metadata": {},
   "source": [
    "### _Data Cleaning_"
   ]
  },
  {
   "cell_type": "code",
   "execution_count": 11,
   "id": "3e170a11-45a2-42d2-9a70-0d08cc7eab50",
   "metadata": {},
   "outputs": [],
   "source": [
    "def missing_values(data): # function to check missing value \n",
    "        mis_total = data.isnull().sum()\n",
    "        mis_pct = 100 * data.isnull().sum() / len(data)\n",
    "        mis_value_table = pd.concat([mis_total, mis_pct], axis = 1)\n",
    "        mis_value_table_columns = mis_value_table.rename(columns = {0 : 'No. of Missing Value', 1 : '% of Total Missing Value'})\n",
    "        \n",
    "        mis_value_table_columns = mis_value_table_columns[mis_value_table_columns.iloc[:,1] != 0].sort_values('% of Total Missing Value', ascending = False).round(2)\n",
    "        return mis_value_table_columns"
   ]
  },
  {
   "cell_type": "code",
   "execution_count": 12,
   "id": "b56a3cf7-d48b-4431-8f1e-bace202ae81d",
   "metadata": {},
   "outputs": [
    {
     "data": {
      "text/html": [
       "<div>\n",
       "<style scoped>\n",
       "    .dataframe tbody tr th:only-of-type {\n",
       "        vertical-align: middle;\n",
       "    }\n",
       "\n",
       "    .dataframe tbody tr th {\n",
       "        vertical-align: top;\n",
       "    }\n",
       "\n",
       "    .dataframe thead th {\n",
       "        text-align: right;\n",
       "    }\n",
       "</style>\n",
       "<table border=\"1\" class=\"dataframe\">\n",
       "  <thead>\n",
       "    <tr style=\"text-align: right;\">\n",
       "      <th></th>\n",
       "      <th>No. of Missing Value</th>\n",
       "      <th>% of Total Missing Value</th>\n",
       "    </tr>\n",
       "  </thead>\n",
       "  <tbody>\n",
       "  </tbody>\n",
       "</table>\n",
       "</div>"
      ],
      "text/plain": [
       "Empty DataFrame\n",
       "Columns: [No. of Missing Value, % of Total Missing Value]\n",
       "Index: []"
      ]
     },
     "execution_count": 12,
     "metadata": {},
     "output_type": "execute_result"
    }
   ],
   "source": [
    "missing_values(train) # find missing value in train "
   ]
  },
  {
   "cell_type": "code",
   "execution_count": 13,
   "id": "67f1e29a-2337-45bc-8721-b98f001ab4ad",
   "metadata": {},
   "outputs": [
    {
     "data": {
      "text/html": [
       "<div>\n",
       "<style scoped>\n",
       "    .dataframe tbody tr th:only-of-type {\n",
       "        vertical-align: middle;\n",
       "    }\n",
       "\n",
       "    .dataframe tbody tr th {\n",
       "        vertical-align: top;\n",
       "    }\n",
       "\n",
       "    .dataframe thead th {\n",
       "        text-align: right;\n",
       "    }\n",
       "</style>\n",
       "<table border=\"1\" class=\"dataframe\">\n",
       "  <thead>\n",
       "    <tr style=\"text-align: right;\">\n",
       "      <th></th>\n",
       "      <th>No. of Missing Value</th>\n",
       "      <th>% of Total Missing Value</th>\n",
       "    </tr>\n",
       "  </thead>\n",
       "  <tbody>\n",
       "  </tbody>\n",
       "</table>\n",
       "</div>"
      ],
      "text/plain": [
       "Empty DataFrame\n",
       "Columns: [No. of Missing Value, % of Total Missing Value]\n",
       "Index: []"
      ]
     },
     "execution_count": 13,
     "metadata": {},
     "output_type": "execute_result"
    }
   ],
   "source": [
    "missing_values(test) # No missing values on testing data. "
   ]
  },
  {
   "cell_type": "code",
   "execution_count": 14,
   "id": "1749371e-b99d-4466-af72-6f49cec53b89",
   "metadata": {},
   "outputs": [],
   "source": [
    "train['Open Date'] = pd.to_datetime(train['Open Date']) # change `Open Date` datatype"
   ]
  },
  {
   "cell_type": "code",
   "execution_count": 15,
   "id": "d22e7c2e-8932-4f99-8cd8-b87411a7a370",
   "metadata": {},
   "outputs": [],
   "source": [
    "test['Open Date'] = pd.to_datetime(test['Open Date'])"
   ]
  },
  {
   "cell_type": "code",
   "execution_count": 16,
   "id": "e2f0287c-f812-4cad-82b0-999603cc0a28",
   "metadata": {},
   "outputs": [],
   "source": [
    "train['year'] = train['Open Date'].dt.year # extract the year from the dataset "
   ]
  },
  {
   "cell_type": "code",
   "execution_count": 17,
   "id": "4177b8f3-efca-4e9a-aa62-8bde5b6d4ce3",
   "metadata": {},
   "outputs": [],
   "source": [
    "test['year'] = test['Open Date'].dt.year"
   ]
  },
  {
   "cell_type": "code",
   "execution_count": 18,
   "id": "966c816f-fa2f-42b3-b235-6eeb11379960",
   "metadata": {},
   "outputs": [],
   "source": [
    "train['month'] = train['Open Date'].dt.month # extract month from the dataset "
   ]
  },
  {
   "cell_type": "code",
   "execution_count": 19,
   "id": "2bf1749a-f887-45de-9f30-7820c233dee2",
   "metadata": {},
   "outputs": [],
   "source": [
    "test['month'] = test['Open Date'].dt.month"
   ]
  },
  {
   "cell_type": "code",
   "execution_count": 20,
   "id": "44177a69-bb00-4ff2-a87d-13ad770903a4",
   "metadata": {},
   "outputs": [],
   "source": [
    "lookup = {\n",
    "    11: 'Winter',\n",
    "    12: 'Winter',\n",
    "    1: 'Winter',\n",
    "    2: 'Spring',\n",
    "    3: 'Spring',\n",
    "    4: 'Spring',\n",
    "    5: 'Summer',\n",
    "    6: 'Summer',\n",
    "    7: 'Summer',\n",
    "    8: 'Fall',\n",
    "    9: 'Fall',\n",
    "    10: 'Fall'\n",
    "}"
   ]
  },
  {
   "cell_type": "code",
   "execution_count": 21,
   "id": "cd69ee6a-c9de-468d-8787-6b3ad17a8b61",
   "metadata": {},
   "outputs": [],
   "source": [
    "train['season'] = train['Open Date'].apply(lambda x : lookup[x.month]) # convert month to seasons. "
   ]
  },
  {
   "cell_type": "code",
   "execution_count": 22,
   "id": "96ccb7c3-f527-4e44-b093-4d65301f55f8",
   "metadata": {},
   "outputs": [],
   "source": [
    "test['season'] = test['Open Date'].apply(lambda x : lookup[x.month])"
   ]
  },
  {
   "cell_type": "code",
   "execution_count": 23,
   "id": "0ca27476-c029-4617-ba84-ad5a782772a8",
   "metadata": {},
   "outputs": [
    {
     "data": {
      "text/plain": [
       "array(['Big Cities', 'Other'], dtype=object)"
      ]
     },
     "execution_count": 23,
     "metadata": {},
     "output_type": "execute_result"
    }
   ],
   "source": [
    " train['City Group'].unique() # find the unique values "
   ]
  },
  {
   "cell_type": "code",
   "execution_count": 24,
   "id": "1df1c57e-6c48-4c19-ab1c-f1af3c884618",
   "metadata": {},
   "outputs": [
    {
     "data": {
      "text/plain": [
       "34"
      ]
     },
     "execution_count": 24,
     "metadata": {},
     "output_type": "execute_result"
    }
   ],
   "source": [
    "train['City'].nunique() "
   ]
  },
  {
   "cell_type": "code",
   "execution_count": 25,
   "id": "7f2910db-f81d-4069-8a49-8d0774753b6b",
   "metadata": {},
   "outputs": [
    {
     "data": {
      "text/plain": [
       "57"
      ]
     },
     "execution_count": 25,
     "metadata": {},
     "output_type": "execute_result"
    }
   ],
   "source": [
    "test['City'].nunique() # the unique value in city from the train the test data are significantly different. thus, this column is being dropped. "
   ]
  },
  {
   "cell_type": "code",
   "execution_count": 26,
   "id": "bb4c5025-fe61-4d33-8322-1c8866f0d07b",
   "metadata": {},
   "outputs": [],
   "source": [
    "train.drop('City', axis = 1, inplace = True)\n",
    "test.drop('City', axis = 1, inplace = True)"
   ]
  },
  {
   "cell_type": "markdown",
   "id": "72ccd992-b312-49c7-b7d8-b4e3d10bd93a",
   "metadata": {},
   "source": [
    "##### _The `test` data has way more unique values than train data. Thus, the `City` feature will be less useful for any model_"
   ]
  },
  {
   "cell_type": "code",
   "execution_count": 27,
   "id": "ed9f2562-609f-4cca-a105-335a50249790",
   "metadata": {},
   "outputs": [
    {
     "data": {
      "text/plain": [
       "array(['IL', 'FC', 'DT'], dtype=object)"
      ]
     },
     "execution_count": 27,
     "metadata": {},
     "output_type": "execute_result"
    }
   ],
   "source": [
    "train['Type'].unique()"
   ]
  },
  {
   "cell_type": "code",
   "execution_count": 28,
   "id": "490ca214-fb92-43df-b3bb-3d3dbb311dec",
   "metadata": {},
   "outputs": [
    {
     "data": {
      "text/plain": [
       "array(['FC', 'IL', 'DT', 'MB'], dtype=object)"
      ]
     },
     "execution_count": 28,
     "metadata": {},
     "output_type": "execute_result"
    }
   ],
   "source": [
    "test['Type'].unique() # the test data has one extract type as MB (mobile), we will tranlate that into DT . "
   ]
  },
  {
   "cell_type": "code",
   "execution_count": 29,
   "id": "e9b6be78-54c9-4cb5-8954-360f2d912eb9",
   "metadata": {},
   "outputs": [],
   "source": [
    "test.loc[test['Type'] == 'MB', 'Type'] = 'DT'"
   ]
  },
  {
   "cell_type": "markdown",
   "id": "ebb03e3e-355e-4e25-927c-d53a2dcafb98",
   "metadata": {},
   "source": [
    "##### _In the `train` dataset, there is no such `Type` as `MB` as in the `test` data. The `MB` stands as mobile which similar to the `DT` in nature. we will change `MB` to `DT` for better predictions._"
   ]
  },
  {
   "cell_type": "code",
   "execution_count": 30,
   "id": "79d9b119-b104-425b-81fe-75dd7185ba68",
   "metadata": {},
   "outputs": [
    {
     "data": {
      "text/plain": [
       "count    1.370000e+02\n",
       "mean     4.453533e+06\n",
       "std      2.576072e+06\n",
       "min      1.149870e+06\n",
       "25%      2.999068e+06\n",
       "50%      3.939804e+06\n",
       "75%      5.166635e+06\n",
       "max      1.969694e+07\n",
       "Name: revenue, dtype: float64"
      ]
     },
     "execution_count": 30,
     "metadata": {},
     "output_type": "execute_result"
    }
   ],
   "source": [
    "train['revenue'].describe()"
   ]
  },
  {
   "cell_type": "code",
   "execution_count": 31,
   "id": "f8e1d9eb-4ade-47e0-a2b3-7478b46545e5",
   "metadata": {},
   "outputs": [
    {
     "data": {
      "text/plain": [
       "array(['FC', 'IL', 'DT'], dtype=object)"
      ]
     },
     "execution_count": 31,
     "metadata": {},
     "output_type": "execute_result"
    }
   ],
   "source": [
    "test['Type'].unique()"
   ]
  },
  {
   "cell_type": "code",
   "execution_count": 32,
   "id": "5a1dbbb5-53f5-4c93-852c-f4ecbab5713d",
   "metadata": {},
   "outputs": [],
   "source": [
    "train.drop(columns = ['Id', 'Open Date','month'], inplace = True) # dropping ID and open date in the training data as it will not be necessary. "
   ]
  },
  {
   "cell_type": "code",
   "execution_count": 33,
   "id": "d38a09ac-c584-49ac-afa9-6bf3f02eb621",
   "metadata": {},
   "outputs": [],
   "source": [
    "test.drop(columns = ['Open Date','month'], inplace = True) # dropping ID and open date in the testing data"
   ]
  },
  {
   "cell_type": "code",
   "execution_count": 34,
   "id": "9d72efd1-cf72-40ac-8dba-500d6065de04",
   "metadata": {},
   "outputs": [
    {
     "data": {
      "text/html": [
       "<div>\n",
       "<style scoped>\n",
       "    .dataframe tbody tr th:only-of-type {\n",
       "        vertical-align: middle;\n",
       "    }\n",
       "\n",
       "    .dataframe tbody tr th {\n",
       "        vertical-align: top;\n",
       "    }\n",
       "\n",
       "    .dataframe thead th {\n",
       "        text-align: right;\n",
       "    }\n",
       "</style>\n",
       "<table border=\"1\" class=\"dataframe\">\n",
       "  <thead>\n",
       "    <tr style=\"text-align: right;\">\n",
       "      <th></th>\n",
       "      <th>City Group</th>\n",
       "      <th>Type</th>\n",
       "      <th>P1</th>\n",
       "      <th>P2</th>\n",
       "      <th>P3</th>\n",
       "      <th>P4</th>\n",
       "      <th>P5</th>\n",
       "      <th>P6</th>\n",
       "      <th>P7</th>\n",
       "      <th>P8</th>\n",
       "      <th>...</th>\n",
       "      <th>P31</th>\n",
       "      <th>P32</th>\n",
       "      <th>P33</th>\n",
       "      <th>P34</th>\n",
       "      <th>P35</th>\n",
       "      <th>P36</th>\n",
       "      <th>P37</th>\n",
       "      <th>revenue</th>\n",
       "      <th>year</th>\n",
       "      <th>season</th>\n",
       "    </tr>\n",
       "  </thead>\n",
       "  <tbody>\n",
       "    <tr>\n",
       "      <th>0</th>\n",
       "      <td>Big Cities</td>\n",
       "      <td>IL</td>\n",
       "      <td>4</td>\n",
       "      <td>5.0</td>\n",
       "      <td>4.0</td>\n",
       "      <td>4.0</td>\n",
       "      <td>2</td>\n",
       "      <td>2</td>\n",
       "      <td>5</td>\n",
       "      <td>4</td>\n",
       "      <td>...</td>\n",
       "      <td>3</td>\n",
       "      <td>4</td>\n",
       "      <td>5</td>\n",
       "      <td>5</td>\n",
       "      <td>4</td>\n",
       "      <td>3</td>\n",
       "      <td>4</td>\n",
       "      <td>5653753.0</td>\n",
       "      <td>1999</td>\n",
       "      <td>Summer</td>\n",
       "    </tr>\n",
       "    <tr>\n",
       "      <th>1</th>\n",
       "      <td>Big Cities</td>\n",
       "      <td>FC</td>\n",
       "      <td>4</td>\n",
       "      <td>5.0</td>\n",
       "      <td>4.0</td>\n",
       "      <td>4.0</td>\n",
       "      <td>1</td>\n",
       "      <td>2</td>\n",
       "      <td>5</td>\n",
       "      <td>5</td>\n",
       "      <td>...</td>\n",
       "      <td>0</td>\n",
       "      <td>0</td>\n",
       "      <td>0</td>\n",
       "      <td>0</td>\n",
       "      <td>0</td>\n",
       "      <td>0</td>\n",
       "      <td>0</td>\n",
       "      <td>6923131.0</td>\n",
       "      <td>2008</td>\n",
       "      <td>Spring</td>\n",
       "    </tr>\n",
       "    <tr>\n",
       "      <th>2</th>\n",
       "      <td>Other</td>\n",
       "      <td>IL</td>\n",
       "      <td>2</td>\n",
       "      <td>4.0</td>\n",
       "      <td>2.0</td>\n",
       "      <td>5.0</td>\n",
       "      <td>2</td>\n",
       "      <td>3</td>\n",
       "      <td>5</td>\n",
       "      <td>5</td>\n",
       "      <td>...</td>\n",
       "      <td>0</td>\n",
       "      <td>0</td>\n",
       "      <td>0</td>\n",
       "      <td>0</td>\n",
       "      <td>0</td>\n",
       "      <td>0</td>\n",
       "      <td>0</td>\n",
       "      <td>2055379.0</td>\n",
       "      <td>2013</td>\n",
       "      <td>Spring</td>\n",
       "    </tr>\n",
       "    <tr>\n",
       "      <th>3</th>\n",
       "      <td>Other</td>\n",
       "      <td>IL</td>\n",
       "      <td>6</td>\n",
       "      <td>4.5</td>\n",
       "      <td>6.0</td>\n",
       "      <td>6.0</td>\n",
       "      <td>4</td>\n",
       "      <td>4</td>\n",
       "      <td>10</td>\n",
       "      <td>8</td>\n",
       "      <td>...</td>\n",
       "      <td>12</td>\n",
       "      <td>10</td>\n",
       "      <td>6</td>\n",
       "      <td>18</td>\n",
       "      <td>12</td>\n",
       "      <td>12</td>\n",
       "      <td>6</td>\n",
       "      <td>2675511.0</td>\n",
       "      <td>2012</td>\n",
       "      <td>Spring</td>\n",
       "    </tr>\n",
       "    <tr>\n",
       "      <th>4</th>\n",
       "      <td>Other</td>\n",
       "      <td>IL</td>\n",
       "      <td>3</td>\n",
       "      <td>4.0</td>\n",
       "      <td>3.0</td>\n",
       "      <td>4.0</td>\n",
       "      <td>2</td>\n",
       "      <td>2</td>\n",
       "      <td>5</td>\n",
       "      <td>5</td>\n",
       "      <td>...</td>\n",
       "      <td>1</td>\n",
       "      <td>3</td>\n",
       "      <td>2</td>\n",
       "      <td>3</td>\n",
       "      <td>4</td>\n",
       "      <td>3</td>\n",
       "      <td>3</td>\n",
       "      <td>4316715.0</td>\n",
       "      <td>2009</td>\n",
       "      <td>Summer</td>\n",
       "    </tr>\n",
       "  </tbody>\n",
       "</table>\n",
       "<p>5 rows × 42 columns</p>\n",
       "</div>"
      ],
      "text/plain": [
       "   City Group Type  P1   P2   P3   P4  P5  P6  P7  P8  ...  P31  P32  P33  \\\n",
       "0  Big Cities   IL   4  5.0  4.0  4.0   2   2   5   4  ...    3    4    5   \n",
       "1  Big Cities   FC   4  5.0  4.0  4.0   1   2   5   5  ...    0    0    0   \n",
       "2       Other   IL   2  4.0  2.0  5.0   2   3   5   5  ...    0    0    0   \n",
       "3       Other   IL   6  4.5  6.0  6.0   4   4  10   8  ...   12   10    6   \n",
       "4       Other   IL   3  4.0  3.0  4.0   2   2   5   5  ...    1    3    2   \n",
       "\n",
       "   P34  P35  P36  P37    revenue  year  season  \n",
       "0    5    4    3    4  5653753.0  1999  Summer  \n",
       "1    0    0    0    0  6923131.0  2008  Spring  \n",
       "2    0    0    0    0  2055379.0  2013  Spring  \n",
       "3   18   12   12    6  2675511.0  2012  Spring  \n",
       "4    3    4    3    3  4316715.0  2009  Summer  \n",
       "\n",
       "[5 rows x 42 columns]"
      ]
     },
     "execution_count": 34,
     "metadata": {},
     "output_type": "execute_result"
    }
   ],
   "source": [
    "train.head()"
   ]
  },
  {
   "cell_type": "markdown",
   "id": "f35f5c2e-a844-4ded-8446-2815d9d6e887",
   "metadata": {},
   "source": [
    "### _EDA_"
   ]
  },
  {
   "cell_type": "code",
   "execution_count": 35,
   "id": "9dda8991-08f3-4946-acc2-fab15bc3dad8",
   "metadata": {},
   "outputs": [],
   "source": [
    "con_var = []\n",
    "dis_var = []\n",
    "var_unique = train.nunique()\n",
    "for var,var_num in enumerate(var_unique):\n",
    "    if var_num>50:\n",
    "        con_var.append(var)\n",
    "    else:\n",
    "        dis_var.append(var)\n",
    "\n",
    "con_columns=[train.columns[i] for i in con_var ]\n",
    "dis_columns=[train.columns[i] for i in dis_var ]"
   ]
  },
  {
   "cell_type": "code",
   "execution_count": 36,
   "id": "eaaa5e1a-0c2e-48b1-8b3d-3a6716685330",
   "metadata": {},
   "outputs": [
    {
     "data": {
      "text/plain": [
       "['City Group',\n",
       " 'Type',\n",
       " 'P1',\n",
       " 'P2',\n",
       " 'P3',\n",
       " 'P4',\n",
       " 'P5',\n",
       " 'P6',\n",
       " 'P7',\n",
       " 'P8',\n",
       " 'P9',\n",
       " 'P10',\n",
       " 'P11',\n",
       " 'P12',\n",
       " 'P13',\n",
       " 'P14',\n",
       " 'P15',\n",
       " 'P16',\n",
       " 'P17',\n",
       " 'P18',\n",
       " 'P19',\n",
       " 'P20',\n",
       " 'P21',\n",
       " 'P22',\n",
       " 'P23',\n",
       " 'P24',\n",
       " 'P25',\n",
       " 'P26',\n",
       " 'P27',\n",
       " 'P28',\n",
       " 'P29',\n",
       " 'P30',\n",
       " 'P31',\n",
       " 'P32',\n",
       " 'P33',\n",
       " 'P34',\n",
       " 'P35',\n",
       " 'P36',\n",
       " 'P37',\n",
       " 'year',\n",
       " 'season']"
      ]
     },
     "execution_count": 36,
     "metadata": {},
     "output_type": "execute_result"
    }
   ],
   "source": [
    "dis_columns # looking at discrete vs continous variable"
   ]
  },
  {
   "cell_type": "code",
   "execution_count": 37,
   "id": "c6af7bdf-30e3-4bb0-955c-85695ab2f03c",
   "metadata": {},
   "outputs": [
    {
     "data": {
      "text/plain": [
       "<AxesSubplot:>"
      ]
     },
     "execution_count": 37,
     "metadata": {},
     "output_type": "execute_result"
    },
    {
     "data": {
      "image/png": "[encoded data removed]",
      "text/plain": [
       "<Figure size 432x288 with 2 Axes>"
      ]
     },
     "metadata": {
      "needs_background": "light"
     },
     "output_type": "display_data"
    }
   ],
   "source": [
    "sns.heatmap(train.corr()[['revenue']].sort_values(by = 'revenue', key = abs, ascending = False)) #correlation"
   ]
  },
  {
   "cell_type": "code",
   "execution_count": 38,
   "id": "82adf393-35d2-4f59-9ba8-3cafe9173141",
   "metadata": {},
   "outputs": [
    {
     "data": {
      "image/png": "[encoded data removed]",
      "text/plain": [
       "<Figure size 720x504 with 1 Axes>"
      ]
     },
     "metadata": {
      "needs_background": "light"
     },
     "output_type": "display_data"
    }
   ],
   "source": [
    "revenue_corr = train.drop(['City Group','Type'],axis=1).corr()['revenue'].sort_values(ascending=False)\n",
    "plt.figure(figsize=(10,7))\n",
    "revenue_corr.drop('revenue').plot.bar(color = '#33415C')\n",
    "plt.show(); # looking at correlations "
   ]
  },
  {
   "cell_type": "code",
   "execution_count": null,
   "id": "c75a546c-8d97-4df3-ab3d-f259c4560fe1",
   "metadata": {},
   "outputs": [],
   "source": []
  },
  {
   "cell_type": "code",
   "execution_count": 39,
   "id": "b06b5420-c6c6-4cc2-9594-f671e97dbb5a",
   "metadata": {},
   "outputs": [],
   "source": [
    "dis_columns.append('revenue') "
   ]
  },
  {
   "cell_type": "code",
   "execution_count": 40,
   "id": "7eb7d180-8aca-4170-a218-0948d8e8df42",
   "metadata": {},
   "outputs": [
    {
     "data": {
      "text/plain": [
       "revenue    1.000000\n",
       "P28        0.312546\n",
       "P2         0.256816\n",
       "P1         0.231995\n",
       "P6         0.225137\n",
       "P21        0.205224\n",
       "P20        0.139311\n",
       "P17        0.124630\n",
       "P7         0.123679\n",
       "P23        0.120974\n",
       "P25        0.115898\n",
       "P19        0.106200\n",
       "P14        0.096887\n",
       "P24        0.094468\n",
       "P11        0.091662\n",
       "P36        0.089499\n",
       "P26        0.089063\n",
       "P18        0.086527\n",
       "P37        0.084253\n",
       "P15        0.081093\n",
       "P16        0.079581\n",
       "P35        0.077735\n",
       "P22        0.075532\n",
       "P31        0.075095\n",
       "P27        0.075008\n",
       "P34        0.072422\n",
       "P33        0.070216\n",
       "P30        0.060424\n",
       "P32        0.059489\n",
       "P4         0.043871\n",
       "P3         0.027661\n",
       "P9         0.019553\n",
       "P12        0.018897\n",
       "P5        -0.017929\n",
       "P8        -0.034094\n",
       "P13       -0.048885\n",
       "P29       -0.048981\n",
       "P10       -0.049512\n",
       "year      -0.330274\n",
       "Name: revenue, dtype: float64"
      ]
     },
     "execution_count": 40,
     "metadata": {},
     "output_type": "execute_result"
    }
   ],
   "source": [
    "spearman = train[dis_columns].corr(method ='spearman') # Spearman Correlations. No Strong corrlations have been identified \n",
    "spearman_corr = spearman['revenue'].sort_values(ascending = False)\n",
    "spearman_corr"
   ]
  },
  {
   "cell_type": "code",
   "execution_count": 41,
   "id": "3d807385",
   "metadata": {},
   "outputs": [
    {
     "data": {
      "image/png": "[encoded data removed]",
      "text/plain": [
       "<Figure size 720x504 with 1 Axes>"
      ]
     },
     "metadata": {
      "needs_background": "light"
     },
     "output_type": "display_data"
    }
   ],
   "source": [
    "plt.figure(figsize=(10,7))\n",
    "spearman_corr.plot.bar()\n",
    "plt.show() # this for the spearman correlation."
   ]
  },
  {
   "cell_type": "code",
   "execution_count": 42,
   "id": "e1831a93-6273-4eac-b20e-2143c1b53c75",
   "metadata": {},
   "outputs": [
    {
     "data": {
      "text/plain": [
       "City Group      2\n",
       "Type            3\n",
       "P1              8\n",
       "P2              8\n",
       "P3              8\n",
       "P4              6\n",
       "P5              7\n",
       "P6              8\n",
       "P7              6\n",
       "P8              8\n",
       "P9              4\n",
       "P10             4\n",
       "P11             8\n",
       "P12             7\n",
       "P13             5\n",
       "P14            10\n",
       "P15             8\n",
       "P16             9\n",
       "P17             9\n",
       "P18             7\n",
       "P19             9\n",
       "P20             9\n",
       "P21             8\n",
       "P22             5\n",
       "P23             9\n",
       "P24             9\n",
       "P25             8\n",
       "P26            10\n",
       "P27             9\n",
       "P28             9\n",
       "P29             7\n",
       "P30             9\n",
       "P31            10\n",
       "P32            10\n",
       "P33             6\n",
       "P34             8\n",
       "P35             8\n",
       "P36             8\n",
       "P37             8\n",
       "year           17\n",
       "season          4\n",
       "revenue       137\n",
       "dtype: int64"
      ]
     },
     "execution_count": 42,
     "metadata": {},
     "output_type": "execute_result"
    }
   ],
   "source": [
    "train[dis_columns].apply(pd.Series.nunique, axis = 0) # defining number of unique values in each discrete column "
   ]
  },
  {
   "cell_type": "code",
   "execution_count": 43,
   "id": "cf1c0414-3384-4bc5-a038-66949e40e119",
   "metadata": {},
   "outputs": [
    {
     "data": {
      "image/png": "[encoded data removed]",
      "text/plain": [
       "<Figure size 2592x1440 with 42 Axes>"
      ]
     },
     "metadata": {
      "needs_background": "light"
     },
     "output_type": "display_data"
    }
   ],
   "source": [
    "test.hist(figsize = (36,20));# looking at the distribution of the features"
   ]
  },
  {
   "cell_type": "code",
   "execution_count": 44,
   "id": "9cf73f3f-6702-4c46-9544-a07f867656e9",
   "metadata": {},
   "outputs": [],
   "source": [
    "#plt.figure(figsize = (20, 12))\n",
    "#sns.scatterplot(x=\"revenue\", y=\"City\",s=35, alpha = 0.6,data=train)"
   ]
  },
  {
   "cell_type": "code",
   "execution_count": 45,
   "id": "1e70751c-a2b9-4adf-8e53-797eca9e51fd",
   "metadata": {},
   "outputs": [
    {
     "data": {
      "text/plain": [
       "19696939.0"
      ]
     },
     "execution_count": 45,
     "metadata": {},
     "output_type": "execute_result"
    }
   ],
   "source": [
    "train['revenue'].max() # define the max which helps to find the outliers shows above "
   ]
  },
  {
   "cell_type": "code",
   "execution_count": 46,
   "id": "748554f0-0d12-4587-b831-15a7f4d8368e",
   "metadata": {},
   "outputs": [],
   "source": [
    "index_drop1 = train[train['revenue'] == 19696939.0].index # dropping outliers \n",
    "train.drop(index_drop1, inplace = True)"
   ]
  },
  {
   "cell_type": "code",
   "execution_count": 47,
   "id": "0f94f205-9232-47c3-ba07-d5ef46aa5daa",
   "metadata": {},
   "outputs": [],
   "source": [
    "index_drop2 = train[train['revenue'] == 16549064.0].index # dropping outliers \n",
    "train.drop(index_drop2, inplace = True)"
   ]
  },
  {
   "cell_type": "code",
   "execution_count": 48,
   "id": "71b8c820-ea5d-4d60-b44f-73508271f077",
   "metadata": {},
   "outputs": [],
   "source": [
    "index_drop3 = train[train['revenue'] == 13575224.0].index # dropping outliers\n",
    "train.drop(index_drop3, inplace = True)"
   ]
  },
  {
   "cell_type": "code",
   "execution_count": 49,
   "id": "aeae1347-ae75-456c-b479-00b914ad3bf7",
   "metadata": {},
   "outputs": [
    {
     "name": "stderr",
     "output_type": "stream",
     "text": [
      "C:\\Users\\irene\\anaconda3\\envs\\dsirfx_py38\\lib\\site-packages\\seaborn\\distributions.py:2557: FutureWarning: `distplot` is a deprecated function and will be removed in a future version. Please adapt your code to use either `displot` (a figure-level function with similar flexibility) or `histplot` (an axes-level function for histograms).\n",
      "  warnings.warn(msg, FutureWarning)\n"
     ]
    },
    {
     "data": {
      "text/plain": [
       "Text(0.5, 1.0, 'Revenue Distribution (Train Data)')"
      ]
     },
     "execution_count": 49,
     "metadata": {},
     "output_type": "execute_result"
    },
    {
     "data": {
      "image/png": "[encoded data removed]",
      "text/plain": [
       "<Figure size 1152x648 with 1 Axes>"
      ]
     },
     "metadata": {
      "needs_background": "light"
     },
     "output_type": "display_data"
    }
   ],
   "source": [
    "plt.figure (figsize = (16, 9))\n",
    "sns.distplot(train['revenue'] )\n",
    "plt.title('Revenue Distribution (Train Data)', fontdict={'fontsize':20})"
   ]
  },
  {
   "cell_type": "code",
   "execution_count": 50,
   "id": "c45d7aec-2d1f-4a93-8a70-f96f8aacc63f",
   "metadata": {},
   "outputs": [],
   "source": [
    "train['log_revenue'] = np.log1p(train['revenue']) # log transformation. "
   ]
  },
  {
   "cell_type": "code",
   "execution_count": 51,
   "id": "c13a8716-9621-4ebb-8737-fd1f9c4a664a",
   "metadata": {},
   "outputs": [
    {
     "name": "stderr",
     "output_type": "stream",
     "text": [
      "C:\\Users\\irene\\anaconda3\\envs\\dsirfx_py38\\lib\\site-packages\\seaborn\\distributions.py:2557: FutureWarning: `distplot` is a deprecated function and will be removed in a future version. Please adapt your code to use either `displot` (a figure-level function with similar flexibility) or `histplot` (an axes-level function for histograms).\n",
      "  warnings.warn(msg, FutureWarning)\n"
     ]
    },
    {
     "data": {
      "text/plain": [
       "Text(0.5, 1.0, 'Log Transformation Revenue Distribution (Train Data)')"
      ]
     },
     "execution_count": 51,
     "metadata": {},
     "output_type": "execute_result"
    },
    {
     "data": {
      "image/png": "[encoded data removed]",
      "text/plain": [
       "<Figure size 1152x648 with 1 Axes>"
      ]
     },
     "metadata": {
      "needs_background": "light"
     },
     "output_type": "display_data"
    }
   ],
   "source": [
    "plt.figure (figsize = (16, 9))\n",
    "sns.distplot(train['log_revenue'])\n",
    "plt.title('Log Transformation Revenue Distribution (Train Data)', fontdict={'fontsize':20})"
   ]
  },
  {
   "cell_type": "code",
   "execution_count": 52,
   "id": "78b350f0-38ad-4bac-8ea1-6677fb01175f",
   "metadata": {},
   "outputs": [
    {
     "data": {
      "image/png": "[encoded data removed]",
      "text/plain": [
       "<Figure size 1152x648 with 1 Axes>"
      ]
     },
     "metadata": {
      "needs_background": "light"
     },
     "output_type": "display_data"
    }
   ],
   "source": [
    "plt.figure (figsize = (16, 9))\n",
    "fig = sns.scatterplot(x=\"Type\", y=\"log_revenue\",s=50, alpha = 0.6,data=train);"
   ]
  },
  {
   "cell_type": "code",
   "execution_count": 53,
   "id": "6b0c37e0-f490-4dbf-a3ea-519509e2dec4",
   "metadata": {},
   "outputs": [
    {
     "data": {
      "image/png": "[encoded data removed]",
      "text/plain": [
       "<Figure size 1152x648 with 1 Axes>"
      ]
     },
     "metadata": {
      "needs_background": "light"
     },
     "output_type": "display_data"
    }
   ],
   "source": [
    "plt.figure (figsize = (16, 9))\n",
    "fig = sns.scatterplot(x=\"season\", y=\"revenue\",s=50, alpha = 0.6,data=train);"
   ]
  },
  {
   "cell_type": "code",
   "execution_count": 54,
   "id": "f74ad239-338f-4880-84a3-3a890f1875a9",
   "metadata": {},
   "outputs": [
    {
     "data": {
      "image/png": "[encoded data removed]",
      "text/plain": [
       "<Figure size 1152x648 with 1 Axes>"
      ]
     },
     "metadata": {
      "needs_background": "light"
     },
     "output_type": "display_data"
    }
   ],
   "source": [
    "plt.figure (figsize = (16, 9))\n",
    "fig = sns.scatterplot(x=\"P28\", y=\"log_revenue\",s=50,hue=\"Type\", size = 'Type', alpha = 0.6,data=train);"
   ]
  },
  {
   "cell_type": "code",
   "execution_count": 55,
   "id": "4e7b6dea-f13d-42d8-bdf3-5e39c0c5fc1f",
   "metadata": {},
   "outputs": [
    {
     "data": {
      "image/png": "[encoded data removed]",
      "text/plain": [
       "<Figure size 1152x648 with 1 Axes>"
      ]
     },
     "metadata": {
      "needs_background": "light"
     },
     "output_type": "display_data"
    }
   ],
   "source": [
    "plt.figure (figsize = (16, 9))\n",
    "fig = sns.scatterplot(x=\"year\", y=\"log_revenue\",s=50,hue=\"Type\", size = 'revenue', alpha = 0.6,data=train);"
   ]
  },
  {
   "cell_type": "code",
   "execution_count": 56,
   "id": "9f4f08ab-7e9d-499d-b97d-dd5be006a0f4",
   "metadata": {},
   "outputs": [
    {
     "data": {
      "text/plain": [
       "Text(0.5, 1.0, 'Train Number of Restaurant in each Restaurant Type (by City Group)')"
      ]
     },
     "execution_count": 56,
     "metadata": {},
     "output_type": "execute_result"
    },
    {
     "data": {
      "image/png": "[encoded data removed]",
      "text/plain": [
       "<Figure size 1152x648 with 1 Axes>"
      ]
     },
     "metadata": {
      "needs_background": "light"
     },
     "output_type": "display_data"
    }
   ],
   "source": [
    "plt.figure (figsize = (16, 9))\n",
    "sns.countplot(x = 'Type',hue ='City Group', data = train, palette='Set3')\n",
    "plt.title('Train Number of Restaurant in each Restaurant Type (by City Group)', fontdict={'fontsize':20})"
   ]
  },
  {
   "cell_type": "code",
   "execution_count": 57,
   "id": "0b4010ac-c5ff-44b9-a11f-0fe08ede734f",
   "metadata": {},
   "outputs": [
    {
     "data": {
      "text/plain": [
       "Text(0.5, 1.0, 'Test Data Number of Restaurant in each Restaurant Type (by City Group)')"
      ]
     },
     "execution_count": 57,
     "metadata": {},
     "output_type": "execute_result"
    },
    {
     "data": {
      "image/png": "[encoded data removed]",
      "text/plain": [
       "<Figure size 1152x648 with 1 Axes>"
      ]
     },
     "metadata": {
      "needs_background": "light"
     },
     "output_type": "display_data"
    }
   ],
   "source": [
    "plt.figure (figsize = (16, 9))\n",
    "sns.countplot(x = 'Type',hue ='City Group', data = test, palette='Set3')\n",
    "plt.title('Test Data Number of Restaurant in each Restaurant Type (by City Group)', fontdict={'fontsize':20})"
   ]
  },
  {
   "cell_type": "code",
   "execution_count": 58,
   "id": "a0580499-bbdf-420a-b396-a1f8924ccdc8",
   "metadata": {},
   "outputs": [
    {
     "data": {
      "text/plain": [
       "Text(0.5, 1.0, 'Number of Restaurants Opened in each Season (by City Group / Train Data)')"
      ]
     },
     "execution_count": 58,
     "metadata": {},
     "output_type": "execute_result"
    },
    {
     "data": {
      "image/png": "[encoded data removed]",
      "text/plain": [
       "<Figure size 1152x648 with 1 Axes>"
      ]
     },
     "metadata": {
      "needs_background": "light"
     },
     "output_type": "display_data"
    }
   ],
   "source": [
    "plt.figure (figsize = (16, 9))\n",
    "sns.countplot(x = 'season',hue ='City Group', data = train, palette='Set1')\n",
    "plt.title('Number of Restaurants Opened in each Season (by City Group / Train Data)', fontdict={'fontsize':20})"
   ]
  },
  {
   "cell_type": "code",
   "execution_count": 59,
   "id": "5ee4f655-fc20-4ae3-9c5c-d2eebdc54016",
   "metadata": {},
   "outputs": [
    {
     "data": {
      "text/plain": [
       "Text(0.5, 1.0, 'Number of Restaurants Opened in each Season (by City Group / Test Data)')"
      ]
     },
     "execution_count": 59,
     "metadata": {},
     "output_type": "execute_result"
    },
    {
     "data": {
      "image/png": "[encoded data removed]",
      "text/plain": [
       "<Figure size 1152x648 with 1 Axes>"
      ]
     },
     "metadata": {
      "needs_background": "light"
     },
     "output_type": "display_data"
    }
   ],
   "source": [
    "plt.figure (figsize = (16, 9))\n",
    "sns.countplot(x = 'season',hue ='City Group', data = test, palette='Set1')\n",
    "plt.title('Number of Restaurants Opened in each Season (by City Group / Test Data)', fontdict={'fontsize':20})"
   ]
  },
  {
   "cell_type": "markdown",
   "id": "80b9c332-bc22-4a96-9285-17a447df14a9",
   "metadata": {},
   "source": [
    "### _Modeling_ "
   ]
  },
  {
   "cell_type": "markdown",
   "id": "5ae200a1-4600-4c9c-b439-13b20b3a01fd",
   "metadata": {},
   "source": [
    "##### _Pre-Processing_"
   ]
  },
  {
   "cell_type": "code",
   "execution_count": 60,
   "id": "c8594c0b-cd43-4855-8e86-9e762b799885",
   "metadata": {},
   "outputs": [],
   "source": [
    "columns_to_dummy = train.select_dtypes(include = ['object']).columns # changing the cate\n",
    "train = pd.get_dummies(train, columns = columns_to_dummy, drop_first = False)\n",
    "test = pd.get_dummies(test, columns = columns_to_dummy, drop_first = False)"
   ]
  },
  {
   "cell_type": "code",
   "execution_count": 61,
   "id": "6f802783-34a1-4a0f-b688-0b1b87b25bb6",
   "metadata": {},
   "outputs": [
    {
     "data": {
      "text/html": [
       "<div>\n",
       "<style scoped>\n",
       "    .dataframe tbody tr th:only-of-type {\n",
       "        vertical-align: middle;\n",
       "    }\n",
       "\n",
       "    .dataframe tbody tr th {\n",
       "        vertical-align: top;\n",
       "    }\n",
       "\n",
       "    .dataframe thead th {\n",
       "        text-align: right;\n",
       "    }\n",
       "</style>\n",
       "<table border=\"1\" class=\"dataframe\">\n",
       "  <thead>\n",
       "    <tr style=\"text-align: right;\">\n",
       "      <th></th>\n",
       "      <th>P1</th>\n",
       "      <th>P2</th>\n",
       "      <th>P3</th>\n",
       "      <th>P4</th>\n",
       "      <th>P5</th>\n",
       "      <th>P6</th>\n",
       "      <th>P7</th>\n",
       "      <th>P8</th>\n",
       "      <th>P9</th>\n",
       "      <th>P10</th>\n",
       "      <th>...</th>\n",
       "      <th>log_revenue</th>\n",
       "      <th>City Group_Big Cities</th>\n",
       "      <th>City Group_Other</th>\n",
       "      <th>Type_DT</th>\n",
       "      <th>Type_FC</th>\n",
       "      <th>Type_IL</th>\n",
       "      <th>season_Fall</th>\n",
       "      <th>season_Spring</th>\n",
       "      <th>season_Summer</th>\n",
       "      <th>season_Winter</th>\n",
       "    </tr>\n",
       "  </thead>\n",
       "  <tbody>\n",
       "    <tr>\n",
       "      <th>0</th>\n",
       "      <td>4</td>\n",
       "      <td>5.0</td>\n",
       "      <td>4.0</td>\n",
       "      <td>4.0</td>\n",
       "      <td>2</td>\n",
       "      <td>2</td>\n",
       "      <td>5</td>\n",
       "      <td>4</td>\n",
       "      <td>5</td>\n",
       "      <td>5</td>\n",
       "      <td>...</td>\n",
       "      <td>15.547830</td>\n",
       "      <td>1</td>\n",
       "      <td>0</td>\n",
       "      <td>0</td>\n",
       "      <td>0</td>\n",
       "      <td>1</td>\n",
       "      <td>0</td>\n",
       "      <td>0</td>\n",
       "      <td>1</td>\n",
       "      <td>0</td>\n",
       "    </tr>\n",
       "    <tr>\n",
       "      <th>1</th>\n",
       "      <td>4</td>\n",
       "      <td>5.0</td>\n",
       "      <td>4.0</td>\n",
       "      <td>4.0</td>\n",
       "      <td>1</td>\n",
       "      <td>2</td>\n",
       "      <td>5</td>\n",
       "      <td>5</td>\n",
       "      <td>5</td>\n",
       "      <td>5</td>\n",
       "      <td>...</td>\n",
       "      <td>15.750379</td>\n",
       "      <td>1</td>\n",
       "      <td>0</td>\n",
       "      <td>0</td>\n",
       "      <td>1</td>\n",
       "      <td>0</td>\n",
       "      <td>0</td>\n",
       "      <td>1</td>\n",
       "      <td>0</td>\n",
       "      <td>0</td>\n",
       "    </tr>\n",
       "    <tr>\n",
       "      <th>2</th>\n",
       "      <td>2</td>\n",
       "      <td>4.0</td>\n",
       "      <td>2.0</td>\n",
       "      <td>5.0</td>\n",
       "      <td>2</td>\n",
       "      <td>3</td>\n",
       "      <td>5</td>\n",
       "      <td>5</td>\n",
       "      <td>5</td>\n",
       "      <td>5</td>\n",
       "      <td>...</td>\n",
       "      <td>14.535971</td>\n",
       "      <td>0</td>\n",
       "      <td>1</td>\n",
       "      <td>0</td>\n",
       "      <td>0</td>\n",
       "      <td>1</td>\n",
       "      <td>0</td>\n",
       "      <td>1</td>\n",
       "      <td>0</td>\n",
       "      <td>0</td>\n",
       "    </tr>\n",
       "    <tr>\n",
       "      <th>3</th>\n",
       "      <td>6</td>\n",
       "      <td>4.5</td>\n",
       "      <td>6.0</td>\n",
       "      <td>6.0</td>\n",
       "      <td>4</td>\n",
       "      <td>4</td>\n",
       "      <td>10</td>\n",
       "      <td>8</td>\n",
       "      <td>10</td>\n",
       "      <td>10</td>\n",
       "      <td>...</td>\n",
       "      <td>14.799651</td>\n",
       "      <td>0</td>\n",
       "      <td>1</td>\n",
       "      <td>0</td>\n",
       "      <td>0</td>\n",
       "      <td>1</td>\n",
       "      <td>0</td>\n",
       "      <td>1</td>\n",
       "      <td>0</td>\n",
       "      <td>0</td>\n",
       "    </tr>\n",
       "    <tr>\n",
       "      <th>4</th>\n",
       "      <td>3</td>\n",
       "      <td>4.0</td>\n",
       "      <td>3.0</td>\n",
       "      <td>4.0</td>\n",
       "      <td>2</td>\n",
       "      <td>2</td>\n",
       "      <td>5</td>\n",
       "      <td>5</td>\n",
       "      <td>5</td>\n",
       "      <td>5</td>\n",
       "      <td>...</td>\n",
       "      <td>15.278005</td>\n",
       "      <td>0</td>\n",
       "      <td>1</td>\n",
       "      <td>0</td>\n",
       "      <td>0</td>\n",
       "      <td>1</td>\n",
       "      <td>0</td>\n",
       "      <td>0</td>\n",
       "      <td>1</td>\n",
       "      <td>0</td>\n",
       "    </tr>\n",
       "  </tbody>\n",
       "</table>\n",
       "<p>5 rows × 49 columns</p>\n",
       "</div>"
      ],
      "text/plain": [
       "   P1   P2   P3   P4  P5  P6  P7  P8  P9  P10  ...  log_revenue  \\\n",
       "0   4  5.0  4.0  4.0   2   2   5   4   5    5  ...    15.547830   \n",
       "1   4  5.0  4.0  4.0   1   2   5   5   5    5  ...    15.750379   \n",
       "2   2  4.0  2.0  5.0   2   3   5   5   5    5  ...    14.535971   \n",
       "3   6  4.5  6.0  6.0   4   4  10   8  10   10  ...    14.799651   \n",
       "4   3  4.0  3.0  4.0   2   2   5   5   5    5  ...    15.278005   \n",
       "\n",
       "   City Group_Big Cities  City Group_Other  Type_DT  Type_FC  Type_IL  \\\n",
       "0                      1                 0        0        0        1   \n",
       "1                      1                 0        0        1        0   \n",
       "2                      0                 1        0        0        1   \n",
       "3                      0                 1        0        0        1   \n",
       "4                      0                 1        0        0        1   \n",
       "\n",
       "   season_Fall  season_Spring  season_Summer  season_Winter  \n",
       "0            0              0              1              0  \n",
       "1            0              1              0              0  \n",
       "2            0              1              0              0  \n",
       "3            0              1              0              0  \n",
       "4            0              0              1              0  \n",
       "\n",
       "[5 rows x 49 columns]"
      ]
     },
     "execution_count": 61,
     "metadata": {},
     "output_type": "execute_result"
    }
   ],
   "source": [
    "train.head()"
   ]
  },
  {
   "cell_type": "code",
   "execution_count": 62,
   "id": "eececccd-977a-41ab-8169-d0840f3d2e94",
   "metadata": {},
   "outputs": [
    {
     "data": {
      "text/plain": [
       "(134, 49)"
      ]
     },
     "execution_count": 62,
     "metadata": {},
     "output_type": "execute_result"
    }
   ],
   "source": [
    "train.shape"
   ]
  },
  {
   "cell_type": "code",
   "execution_count": 63,
   "id": "91bd3526-a3df-48a7-a16f-48765f766f25",
   "metadata": {},
   "outputs": [
    {
     "data": {
      "text/plain": [
       "(100000, 48)"
      ]
     },
     "execution_count": 63,
     "metadata": {},
     "output_type": "execute_result"
    }
   ],
   "source": [
    "test.shape"
   ]
  },
  {
   "cell_type": "code",
   "execution_count": 64,
   "id": "474324fb-831d-4663-87b4-9fad54d96ac9",
   "metadata": {},
   "outputs": [],
   "source": [
    "X, y = train.drop(columns=['revenue','log_revenue'], axis=1), train['log_revenue']\n",
    "X_train, X_test, y_train, y_test = train_test_split(X, y, test_size=0.30, random_state=42)"
   ]
  },
  {
   "cell_type": "markdown",
   "id": "ba29f89d-0f78-42ff-8f59-f1cda9ba7e0b",
   "metadata": {},
   "source": [
    "#### _Baseline Model - Linear Regression_"
   ]
  },
  {
   "cell_type": "code",
   "execution_count": 65,
   "id": "c066c559-cf40-40e9-b728-3ea5265dbbbd",
   "metadata": {},
   "outputs": [],
   "source": [
    "lr = LinearRegression ()"
   ]
  },
  {
   "cell_type": "code",
   "execution_count": 66,
   "id": "414f1de8-3b62-4d4c-b8a2-71c16bd72266",
   "metadata": {},
   "outputs": [
    {
     "data": {
      "text/plain": [
       "LinearRegression()"
      ]
     },
     "execution_count": 66,
     "metadata": {},
     "output_type": "execute_result"
    }
   ],
   "source": [
    "lr.fit(X_train, y_train)"
   ]
  },
  {
   "cell_type": "code",
   "execution_count": 67,
   "id": "592da6e8-1a03-4815-a514-f3ef8b0dee93",
   "metadata": {},
   "outputs": [
    {
     "data": {
      "text/plain": [
       "0.5741578207986675"
      ]
     },
     "execution_count": 67,
     "metadata": {},
     "output_type": "execute_result"
    }
   ],
   "source": [
    "lr.score(X_train, y_train)"
   ]
  },
  {
   "cell_type": "code",
   "execution_count": 68,
   "id": "880bcca3-e125-4d97-902e-b4872097cef6",
   "metadata": {},
   "outputs": [
    {
     "data": {
      "text/plain": [
       "-0.9253147916721598"
      ]
     },
     "execution_count": 68,
     "metadata": {},
     "output_type": "execute_result"
    }
   ],
   "source": [
    "lr.score(X_test, y_test) # "
   ]
  },
  {
   "cell_type": "code",
   "execution_count": 69,
   "id": "d40ecb4a-c261-4b36-bb92-2694682139c4",
   "metadata": {},
   "outputs": [
    {
     "data": {
      "text/plain": [
       "0.07727318342558295"
      ]
     },
     "execution_count": 69,
     "metadata": {},
     "output_type": "execute_result"
    }
   ],
   "source": [
    "mean_squared_error(y_train, lr.predict(X_train))"
   ]
  },
  {
   "cell_type": "code",
   "execution_count": 70,
   "id": "efe973a0-19b1-42bc-922a-100ff24db956",
   "metadata": {},
   "outputs": [
    {
     "data": {
      "text/plain": [
       "0.38668126007640324"
      ]
     },
     "execution_count": 70,
     "metadata": {},
     "output_type": "execute_result"
    }
   ],
   "source": [
    "mean_squared_error(y_test, lr.predict(X_test))"
   ]
  },
  {
   "cell_type": "code",
   "execution_count": 71,
   "id": "a4634122-a021-4ebc-a89a-ca65085af40f",
   "metadata": {},
   "outputs": [],
   "source": [
    "y_pred = lr.predict(X_test)"
   ]
  },
  {
   "cell_type": "code",
   "execution_count": 72,
   "id": "579889d7-a376-498b-945c-c50cae9585de",
   "metadata": {},
   "outputs": [
    {
     "name": "stdout",
     "output_type": "stream",
     "text": [
      "Explained variance score -0.9218765327162419 \n",
      " Mean absolute error      : 0.488084351581609 \n",
      " Mean squared error       : 0.38668126007640324 \n",
      " R² score            : -0.9253147916721598\n"
     ]
    }
   ],
   "source": [
    "print('Explained variance score',explained_variance_score(y_test, y_pred),'\\n',\n",
    "   'Mean absolute error      :',mean_absolute_error(y_test, y_pred),'\\n',\n",
    "   'Mean squared error       :',mean_squared_error(y_test, y_pred),'\\n',\n",
    "   'R² score            :',r2_score(y_test, y_pred))"
   ]
  },
  {
   "cell_type": "code",
   "execution_count": 73,
   "id": "5cde38f1-5930-4b94-86e2-03e1c1f36fdd",
   "metadata": {},
   "outputs": [],
   "source": [
    "score_df_lr = pd.DataFrame(columns=['Method','Linear Regression'])\n",
    "score_df_lr['Method']=[\n",
    "                    'Mean Absolute Error',\n",
    "                    'Mean Squared Error',\n",
    "                    'RMSE',\n",
    "                    'R²']\n",
    "score_df_lr['Linear Regression']=[\n",
    "                   mean_absolute_error(y_test, y_pred),\n",
    "                   mean_squared_error(y_test, y_pred),\n",
    "                   mean_squared_error(y_test, y_pred, squared = False),\n",
    "                   r2_score(y_test, y_pred)]"
   ]
  },
  {
   "cell_type": "code",
   "execution_count": 74,
   "id": "75ab7052-9aaa-4fb2-bba2-0b9ef6af10c5",
   "metadata": {},
   "outputs": [
    {
     "data": {
      "text/html": [
       "<div>\n",
       "<style scoped>\n",
       "    .dataframe tbody tr th:only-of-type {\n",
       "        vertical-align: middle;\n",
       "    }\n",
       "\n",
       "    .dataframe tbody tr th {\n",
       "        vertical-align: top;\n",
       "    }\n",
       "\n",
       "    .dataframe thead th {\n",
       "        text-align: right;\n",
       "    }\n",
       "</style>\n",
       "<table border=\"1\" class=\"dataframe\">\n",
       "  <thead>\n",
       "    <tr style=\"text-align: right;\">\n",
       "      <th></th>\n",
       "      <th>Method</th>\n",
       "      <th>Linear Regression</th>\n",
       "    </tr>\n",
       "  </thead>\n",
       "  <tbody>\n",
       "    <tr>\n",
       "      <th>0</th>\n",
       "      <td>Mean Absolute Error</td>\n",
       "      <td>0.488084</td>\n",
       "    </tr>\n",
       "    <tr>\n",
       "      <th>1</th>\n",
       "      <td>Mean Squared Error</td>\n",
       "      <td>0.386681</td>\n",
       "    </tr>\n",
       "    <tr>\n",
       "      <th>2</th>\n",
       "      <td>RMSE</td>\n",
       "      <td>0.621837</td>\n",
       "    </tr>\n",
       "    <tr>\n",
       "      <th>3</th>\n",
       "      <td>R²</td>\n",
       "      <td>-0.925315</td>\n",
       "    </tr>\n",
       "  </tbody>\n",
       "</table>\n",
       "</div>"
      ],
      "text/plain": [
       "                Method  Linear Regression\n",
       "0  Mean Absolute Error           0.488084\n",
       "1   Mean Squared Error           0.386681\n",
       "2                 RMSE           0.621837\n",
       "3                   R²          -0.925315"
      ]
     },
     "execution_count": 74,
     "metadata": {},
     "output_type": "execute_result"
    }
   ],
   "source": [
    "score_df_lr"
   ]
  },
  {
   "cell_type": "markdown",
   "id": "f0356ee5-a8fa-441c-86ae-20374d65a7ce",
   "metadata": {},
   "source": [
    "#### _Lasso Regression_"
   ]
  },
  {
   "cell_type": "code",
   "execution_count": 75,
   "id": "d279047f-6945-4826-979b-65db98a0cdd7",
   "metadata": {},
   "outputs": [],
   "source": [
    "params_lasso = {\n",
    "    'alpha' : [.01, .1, .5, .7, .9, .95, .99, 1, 5, 10, 20],}"
   ]
  },
  {
   "cell_type": "code",
   "execution_count": 76,
   "id": "fb5fd020-4abd-4837-97e7-becc62e303f7",
   "metadata": {},
   "outputs": [],
   "source": [
    "lasso = Lasso()"
   ]
  },
  {
   "cell_type": "code",
   "execution_count": 77,
   "id": "2f7d3335-c5f6-445d-a279-9eb4ecf99c70",
   "metadata": {},
   "outputs": [],
   "source": [
    "lasso_regressor = GridSearchCV(lasso, params_lasso, cv=5, n_jobs=8)"
   ]
  },
  {
   "cell_type": "code",
   "execution_count": 78,
   "id": "dc735b70-fb6b-4fc2-bbc2-9223d943bb0d",
   "metadata": {},
   "outputs": [
    {
     "data": {
      "text/plain": [
       "GridSearchCV(cv=5, estimator=Lasso(), n_jobs=8,\n",
       "             param_grid={'alpha': [0.01, 0.1, 0.5, 0.7, 0.9, 0.95, 0.99, 1, 5,\n",
       "                                   10, 20]})"
      ]
     },
     "execution_count": 78,
     "metadata": {},
     "output_type": "execute_result"
    }
   ],
   "source": [
    "lasso_regressor.fit(X_train, y_train)"
   ]
  },
  {
   "cell_type": "code",
   "execution_count": 79,
   "id": "2fab1f45-d613-473b-9cf7-235abed1df3f",
   "metadata": {},
   "outputs": [
    {
     "data": {
      "text/plain": [
       "{'alpha': 0.5}"
      ]
     },
     "execution_count": 79,
     "metadata": {},
     "output_type": "execute_result"
    }
   ],
   "source": [
    "lasso_regressor.best_params_"
   ]
  },
  {
   "cell_type": "code",
   "execution_count": 80,
   "id": "ebc4eaed-8118-4da1-8a6a-ed9e5a16e4f8",
   "metadata": {},
   "outputs": [],
   "source": [
    "lasso_model = Lasso(alpha = 0.5)"
   ]
  },
  {
   "cell_type": "code",
   "execution_count": 81,
   "id": "bb7b3ea2-2609-48b6-814a-9d40de7cf191",
   "metadata": {},
   "outputs": [
    {
     "data": {
      "text/plain": [
       "Lasso(alpha=0.5)"
      ]
     },
     "execution_count": 81,
     "metadata": {},
     "output_type": "execute_result"
    }
   ],
   "source": [
    "lasso_model.fit(X_train, y_train)"
   ]
  },
  {
   "cell_type": "code",
   "execution_count": 82,
   "id": "37be6657-fbe6-4036-af81-d3cf5bf85bba",
   "metadata": {},
   "outputs": [
    {
     "data": {
      "text/plain": [
       "0.0"
      ]
     },
     "execution_count": 82,
     "metadata": {},
     "output_type": "execute_result"
    }
   ],
   "source": [
    "lasso_model.score(X_train, y_train)"
   ]
  },
  {
   "cell_type": "code",
   "execution_count": 83,
   "id": "4164d43a-ba01-472c-9e61-a5aaa7c51d9a",
   "metadata": {},
   "outputs": [
    {
     "data": {
      "text/plain": [
       "-0.0007943878764755663"
      ]
     },
     "execution_count": 83,
     "metadata": {},
     "output_type": "execute_result"
    }
   ],
   "source": [
    "lasso_model.score(X_test, y_test)"
   ]
  },
  {
   "cell_type": "code",
   "execution_count": 84,
   "id": "7986acba-dd81-416c-aa61-5b570bdca356",
   "metadata": {},
   "outputs": [],
   "source": [
    "y_pred = lasso_model.predict(X_test)"
   ]
  },
  {
   "cell_type": "code",
   "execution_count": 85,
   "id": "369575b5-f754-4e33-b1f4-07e0c8ca257b",
   "metadata": {},
   "outputs": [
    {
     "name": "stdout",
     "output_type": "stream",
     "text": [
      "Explained variance score 0.0 \n",
      " Mean absolute error      : 0.34410784208789436 \n",
      " Mean squared error       : 0.2010000840669613 \n",
      " R² score            : -0.0007943878764755663\n"
     ]
    }
   ],
   "source": [
    "print('Explained variance score',explained_variance_score(y_test, y_pred),'\\n',\n",
    "   'Mean absolute error      :',mean_absolute_error(y_test, y_pred),'\\n',\n",
    "   'Mean squared error       :',mean_squared_error(y_test, y_pred),'\\n',\n",
    "   'R² score            :',r2_score(y_test, y_pred))"
   ]
  },
  {
   "cell_type": "code",
   "execution_count": 86,
   "id": "0c655237-bf6d-4597-b3d6-2ffc5acdf3de",
   "metadata": {},
   "outputs": [],
   "source": [
    "score_df_lasso = pd.DataFrame(columns=['Method','Lasso Regression'])\n",
    "score_df_lasso['Method']=[\n",
    "                    'Mean Absolute Error',\n",
    "                    'Mean Squared Error',\n",
    "                    'RMSE',\n",
    "                    'R²']\n",
    "score_df_lasso['Lasso Regression']=[\n",
    "                   mean_absolute_error(y_test, y_pred),\n",
    "                   mean_squared_error(y_test, y_pred),\n",
    "                   mean_squared_error(y_test, y_pred, squared = False),\n",
    "                   r2_score(y_test, y_pred)]"
   ]
  },
  {
   "cell_type": "code",
   "execution_count": 87,
   "id": "11597e04-eaac-4190-b5e0-63caa24f3ee7",
   "metadata": {},
   "outputs": [
    {
     "data": {
      "text/html": [
       "<div>\n",
       "<style scoped>\n",
       "    .dataframe tbody tr th:only-of-type {\n",
       "        vertical-align: middle;\n",
       "    }\n",
       "\n",
       "    .dataframe tbody tr th {\n",
       "        vertical-align: top;\n",
       "    }\n",
       "\n",
       "    .dataframe thead th {\n",
       "        text-align: right;\n",
       "    }\n",
       "</style>\n",
       "<table border=\"1\" class=\"dataframe\">\n",
       "  <thead>\n",
       "    <tr style=\"text-align: right;\">\n",
       "      <th></th>\n",
       "      <th>Method</th>\n",
       "      <th>Lasso Regression</th>\n",
       "    </tr>\n",
       "  </thead>\n",
       "  <tbody>\n",
       "    <tr>\n",
       "      <th>0</th>\n",
       "      <td>Mean Absolute Error</td>\n",
       "      <td>0.344108</td>\n",
       "    </tr>\n",
       "    <tr>\n",
       "      <th>1</th>\n",
       "      <td>Mean Squared Error</td>\n",
       "      <td>0.201000</td>\n",
       "    </tr>\n",
       "    <tr>\n",
       "      <th>2</th>\n",
       "      <td>RMSE</td>\n",
       "      <td>0.448330</td>\n",
       "    </tr>\n",
       "    <tr>\n",
       "      <th>3</th>\n",
       "      <td>R²</td>\n",
       "      <td>-0.000794</td>\n",
       "    </tr>\n",
       "  </tbody>\n",
       "</table>\n",
       "</div>"
      ],
      "text/plain": [
       "                Method  Lasso Regression\n",
       "0  Mean Absolute Error          0.344108\n",
       "1   Mean Squared Error          0.201000\n",
       "2                 RMSE          0.448330\n",
       "3                   R²         -0.000794"
      ]
     },
     "execution_count": 87,
     "metadata": {},
     "output_type": "execute_result"
    }
   ],
   "source": [
    "score_df_lasso"
   ]
  },
  {
   "cell_type": "markdown",
   "id": "683cba50-e581-4544-82ea-7cee4a779771",
   "metadata": {},
   "source": [
    "#### _Ridge Regression_"
   ]
  },
  {
   "cell_type": "code",
   "execution_count": 88,
   "id": "7a2488f7-64ab-4ecc-ad92-0bdeeab108f0",
   "metadata": {},
   "outputs": [],
   "source": [
    "ridge = Ridge()"
   ]
  },
  {
   "cell_type": "code",
   "execution_count": 89,
   "id": "227923d8-1f04-45b7-9672-9ffadc8b118f",
   "metadata": {},
   "outputs": [],
   "source": [
    "params_ridge = {\n",
    "    'alpha' : [.01, .1, .5, .7, .9, .95, .99, 1, 5, 10, 20],\n",
    "    'solver' : ['svd', 'cholesky', 'lsqr', 'sparse_cg', 'sag', 'saga']\n",
    "}"
   ]
  },
  {
   "cell_type": "code",
   "execution_count": 90,
   "id": "2d74021d-85e3-4f21-b142-a6bbd602a2a6",
   "metadata": {},
   "outputs": [],
   "source": [
    "ridge_regressor = GridSearchCV(ridge, params_ridge,cv=5, n_jobs=-1)"
   ]
  },
  {
   "cell_type": "code",
   "execution_count": 91,
   "id": "1426a489-4e6f-435d-86a0-161cca59833e",
   "metadata": {},
   "outputs": [
    {
     "data": {
      "text/plain": [
       "GridSearchCV(cv=5, estimator=Ridge(), n_jobs=-1,\n",
       "             param_grid={'alpha': [0.01, 0.1, 0.5, 0.7, 0.9, 0.95, 0.99, 1, 5,\n",
       "                                   10, 20],\n",
       "                         'solver': ['svd', 'cholesky', 'lsqr', 'sparse_cg',\n",
       "                                    'sag', 'saga']})"
      ]
     },
     "execution_count": 91,
     "metadata": {},
     "output_type": "execute_result"
    }
   ],
   "source": [
    "ridge_regressor.fit(X_train, y_train)"
   ]
  },
  {
   "cell_type": "code",
   "execution_count": 92,
   "id": "0807a0fb-99b5-4ae8-9712-ee1ffcf2e1b7",
   "metadata": {},
   "outputs": [
    {
     "data": {
      "text/plain": [
       "{'alpha': 20, 'solver': 'saga'}"
      ]
     },
     "execution_count": 92,
     "metadata": {},
     "output_type": "execute_result"
    }
   ],
   "source": [
    "ridge_regressor.best_params_"
   ]
  },
  {
   "cell_type": "code",
   "execution_count": 93,
   "id": "608ad4c5-61ab-4df0-9ebf-09f510b0e834",
   "metadata": {},
   "outputs": [],
   "source": [
    "ridge_model = Ridge(alpha = 20,\n",
    "                    solver = 'saga')"
   ]
  },
  {
   "cell_type": "code",
   "execution_count": 94,
   "id": "91f43108-4caa-4b76-9842-b2bf8405d007",
   "metadata": {},
   "outputs": [
    {
     "data": {
      "text/plain": [
       "Ridge(alpha=20, solver='saga')"
      ]
     },
     "execution_count": 94,
     "metadata": {},
     "output_type": "execute_result"
    }
   ],
   "source": [
    "ridge_model.fit(X_train, y_train)"
   ]
  },
  {
   "cell_type": "code",
   "execution_count": 95,
   "id": "4865aad8-3126-4384-bf91-11ebd60ccc0f",
   "metadata": {},
   "outputs": [
    {
     "data": {
      "text/plain": [
       "0.43717916909627075"
      ]
     },
     "execution_count": 95,
     "metadata": {},
     "output_type": "execute_result"
    }
   ],
   "source": [
    "ridge_model.score(X_train, y_train)"
   ]
  },
  {
   "cell_type": "code",
   "execution_count": 96,
   "id": "58a471d8-e0df-429d-92cd-545d167c5057",
   "metadata": {},
   "outputs": [
    {
     "data": {
      "text/plain": [
       "-0.08287570068207262"
      ]
     },
     "execution_count": 96,
     "metadata": {},
     "output_type": "execute_result"
    }
   ],
   "source": [
    "ridge_model.score(X_test, y_test)"
   ]
  },
  {
   "cell_type": "code",
   "execution_count": 97,
   "id": "8b1d5059-caf4-42bd-aa6a-5c15bd828175",
   "metadata": {},
   "outputs": [],
   "source": [
    "y_pred = ridge_model.predict(X_test)"
   ]
  },
  {
   "cell_type": "code",
   "execution_count": 98,
   "id": "59bb666e-7e41-4d97-bdb0-07b35979349e",
   "metadata": {},
   "outputs": [
    {
     "name": "stdout",
     "output_type": "stream",
     "text": [
      "Explained variance score -0.06976521116674173 \n",
      " Mean absolute error      : 0.37712279614396604 \n",
      " Mean squared error       : 0.21748533915443077 \n",
      " R² score            : -0.08287570068207262\n"
     ]
    }
   ],
   "source": [
    "print('Explained variance score',explained_variance_score(y_test, y_pred),'\\n',\n",
    "   'Mean absolute error      :',mean_absolute_error(y_test, y_pred),'\\n',\n",
    "   'Mean squared error       :',mean_squared_error(y_test, y_pred),'\\n',\n",
    "   'R² score            :',r2_score(y_test, y_pred))"
   ]
  },
  {
   "cell_type": "code",
   "execution_count": 99,
   "id": "34fced1b-70e6-4001-88b0-a441925a0d97",
   "metadata": {},
   "outputs": [],
   "source": [
    "score_df_ridge = pd.DataFrame(columns=['Method','Ridge Regression'])\n",
    "score_df_ridge['Method']=[\n",
    "                    'Mean Absolute Error',\n",
    "                    'Mean Squared Error',\n",
    "                    'RMSE',\n",
    "                    'R²']\n",
    "score_df_ridge['Ridge Regression']=[\n",
    "                   mean_absolute_error(y_test, y_pred),\n",
    "                   mean_squared_error(y_test, y_pred),\n",
    "                   mean_squared_error(y_test, y_pred, squared = False),\n",
    "                   r2_score(y_test, y_pred)]"
   ]
  },
  {
   "cell_type": "code",
   "execution_count": 100,
   "id": "3606bc1b-9eb8-4fc2-b550-c88fa50eae08",
   "metadata": {},
   "outputs": [
    {
     "data": {
      "text/html": [
       "<div>\n",
       "<style scoped>\n",
       "    .dataframe tbody tr th:only-of-type {\n",
       "        vertical-align: middle;\n",
       "    }\n",
       "\n",
       "    .dataframe tbody tr th {\n",
       "        vertical-align: top;\n",
       "    }\n",
       "\n",
       "    .dataframe thead th {\n",
       "        text-align: right;\n",
       "    }\n",
       "</style>\n",
       "<table border=\"1\" class=\"dataframe\">\n",
       "  <thead>\n",
       "    <tr style=\"text-align: right;\">\n",
       "      <th></th>\n",
       "      <th>Method</th>\n",
       "      <th>Ridge Regression</th>\n",
       "    </tr>\n",
       "  </thead>\n",
       "  <tbody>\n",
       "    <tr>\n",
       "      <th>0</th>\n",
       "      <td>Mean Absolute Error</td>\n",
       "      <td>0.377123</td>\n",
       "    </tr>\n",
       "    <tr>\n",
       "      <th>1</th>\n",
       "      <td>Mean Squared Error</td>\n",
       "      <td>0.217485</td>\n",
       "    </tr>\n",
       "    <tr>\n",
       "      <th>2</th>\n",
       "      <td>RMSE</td>\n",
       "      <td>0.466353</td>\n",
       "    </tr>\n",
       "    <tr>\n",
       "      <th>3</th>\n",
       "      <td>R²</td>\n",
       "      <td>-0.082876</td>\n",
       "    </tr>\n",
       "  </tbody>\n",
       "</table>\n",
       "</div>"
      ],
      "text/plain": [
       "                Method  Ridge Regression\n",
       "0  Mean Absolute Error          0.377123\n",
       "1   Mean Squared Error          0.217485\n",
       "2                 RMSE          0.466353\n",
       "3                   R²         -0.082876"
      ]
     },
     "execution_count": 100,
     "metadata": {},
     "output_type": "execute_result"
    }
   ],
   "source": [
    "score_df_ridge"
   ]
  },
  {
   "cell_type": "markdown",
   "id": "70e6f7da-d455-4130-a9bd-99b56b5bd53b",
   "metadata": {},
   "source": [
    "#### _Random Forest Regressor_"
   ]
  },
  {
   "cell_type": "code",
   "execution_count": 101,
   "id": "752bf009-15fa-4b24-ad02-ce3ecb6fb2a3",
   "metadata": {},
   "outputs": [],
   "source": [
    "params_rf = {\n",
    "    'max_depth': [None, 1, 5, 10, 30, 35],\n",
    "    'max_features': [.1, .2, .3],\n",
    "    'n_estimators': [200, 300, 400,500]\n",
    "}"
   ]
  },
  {
   "cell_type": "code",
   "execution_count": 102,
   "id": "e34a88a9-9841-4fd6-9da6-99c5304217cb",
   "metadata": {},
   "outputs": [],
   "source": [
    "rf = RandomForestRegressor()"
   ]
  },
  {
   "cell_type": "code",
   "execution_count": 103,
   "id": "a4ffe00f-14be-43c0-81c3-0f8492834d68",
   "metadata": {},
   "outputs": [],
   "source": [
    "rf_regressor = GridSearchCV(rf, params_rf,cv = 10, n_jobs = -1)"
   ]
  },
  {
   "cell_type": "code",
   "execution_count": 104,
   "id": "7ebd25cc-6aee-498a-899b-a886aea228c5",
   "metadata": {},
   "outputs": [
    {
     "data": {
      "text/plain": [
       "GridSearchCV(cv=10, estimator=RandomForestRegressor(), n_jobs=-1,\n",
       "             param_grid={'max_depth': [None, 1, 5, 10, 30, 35],\n",
       "                         'max_features': [0.1, 0.2, 0.3],\n",
       "                         'n_estimators': [200, 300, 400, 500]})"
      ]
     },
     "execution_count": 104,
     "metadata": {},
     "output_type": "execute_result"
    }
   ],
   "source": [
    "rf_regressor.fit(X_train, y_train)"
   ]
  },
  {
   "cell_type": "code",
   "execution_count": 105,
   "id": "9b4e6da3-2928-4ff4-b5a5-fd0489ecaba7",
   "metadata": {},
   "outputs": [
    {
     "data": {
      "text/plain": [
       "{'max_depth': None, 'max_features': 0.1, 'n_estimators': 200}"
      ]
     },
     "execution_count": 105,
     "metadata": {},
     "output_type": "execute_result"
    }
   ],
   "source": [
    "rf_regressor.best_params_"
   ]
  },
  {
   "cell_type": "code",
   "execution_count": 106,
   "id": "d4109ede-34b5-4d76-9df5-454ae624f0ee",
   "metadata": {},
   "outputs": [],
   "source": [
    "rf_model = RandomForestRegressor(max_depth = 65,\n",
    "                                 max_features = 0.3,\n",
    "                                 n_estimators = 30)"
   ]
  },
  {
   "cell_type": "code",
   "execution_count": 107,
   "id": "9dac95a2-a56f-4c3d-94c3-116c506df1bb",
   "metadata": {},
   "outputs": [
    {
     "data": {
      "text/plain": [
       "RandomForestRegressor(max_depth=65, max_features=0.3, n_estimators=30)"
      ]
     },
     "execution_count": 107,
     "metadata": {},
     "output_type": "execute_result"
    }
   ],
   "source": [
    "rf_model.fit(X_train, y_train)"
   ]
  },
  {
   "cell_type": "code",
   "execution_count": 108,
   "id": "b291c80c-56f9-4c90-b90c-eae443e35de6",
   "metadata": {},
   "outputs": [
    {
     "data": {
      "text/plain": [
       "0.8659899709557783"
      ]
     },
     "execution_count": 108,
     "metadata": {},
     "output_type": "execute_result"
    }
   ],
   "source": [
    "rf_model.score(X_train, y_train)"
   ]
  },
  {
   "cell_type": "code",
   "execution_count": 109,
   "id": "e46c205e-1d32-4589-a183-2d6036ab7167",
   "metadata": {},
   "outputs": [
    {
     "data": {
      "text/plain": [
       "0.2325766938568351"
      ]
     },
     "execution_count": 109,
     "metadata": {},
     "output_type": "execute_result"
    }
   ],
   "source": [
    "rf_model.score(X_test, y_test)"
   ]
  },
  {
   "cell_type": "code",
   "execution_count": 110,
   "id": "f458cd99-e9d5-4dc2-9b2e-bac4acd72362",
   "metadata": {},
   "outputs": [],
   "source": [
    "y_pred = rf_model.predict(X_test)"
   ]
  },
  {
   "cell_type": "code",
   "execution_count": 111,
   "id": "d2f8ca6b-bf61-4f43-a78a-a1d4da980a82",
   "metadata": {},
   "outputs": [
    {
     "name": "stdout",
     "output_type": "stream",
     "text": [
      "Explained variance score 0.23593379759248123 \n",
      " Mean absolute error      : 0.3116350103875008 \n",
      " Mean squared error       : 0.1541297102764732 \n",
      " RMSE                    : 0.1541297102764732 \n",
      " R² score            : 0.2325766938568351\n"
     ]
    }
   ],
   "source": [
    "print('Explained variance score',explained_variance_score(y_test, y_pred),'\\n',\n",
    "   'Mean absolute error      :',mean_absolute_error(y_test, y_pred),'\\n',\n",
    "   'Mean squared error       :',mean_squared_error(y_test, y_pred),'\\n',\n",
    "   'RMSE                    :', mean_squared_error(y_test, y_pred), '\\n',\n",
    "   'R² score            :',r2_score(y_test, y_pred))"
   ]
  },
  {
   "cell_type": "code",
   "execution_count": 112,
   "id": "77d0a961-78b8-4b7e-b9d5-e87efff283ab",
   "metadata": {},
   "outputs": [],
   "source": [
    "score_df_rf = pd.DataFrame(columns=['Method','Random Forest'])\n",
    "score_df_rf['Method']=[\n",
    "                    'Mean Absolute Error',\n",
    "                    'Mean Squared Error',\n",
    "                    'RMSE',\n",
    "                    'R²']\n",
    "score_df_rf['Random Forest']=[\n",
    "                   mean_absolute_error(y_test, y_pred),\n",
    "                   mean_squared_error(y_test, y_pred),\n",
    "                   mean_squared_error(y_test, y_pred, squared = False),\n",
    "                   r2_score(y_test, y_pred)]"
   ]
  },
  {
   "cell_type": "code",
   "execution_count": 113,
   "id": "c220b794-8da6-48d3-b226-646f5177f537",
   "metadata": {},
   "outputs": [
    {
     "data": {
      "text/html": [
       "<div>\n",
       "<style scoped>\n",
       "    .dataframe tbody tr th:only-of-type {\n",
       "        vertical-align: middle;\n",
       "    }\n",
       "\n",
       "    .dataframe tbody tr th {\n",
       "        vertical-align: top;\n",
       "    }\n",
       "\n",
       "    .dataframe thead th {\n",
       "        text-align: right;\n",
       "    }\n",
       "</style>\n",
       "<table border=\"1\" class=\"dataframe\">\n",
       "  <thead>\n",
       "    <tr style=\"text-align: right;\">\n",
       "      <th></th>\n",
       "      <th>Method</th>\n",
       "      <th>Random Forest</th>\n",
       "    </tr>\n",
       "  </thead>\n",
       "  <tbody>\n",
       "    <tr>\n",
       "      <th>0</th>\n",
       "      <td>Mean Absolute Error</td>\n",
       "      <td>0.311635</td>\n",
       "    </tr>\n",
       "    <tr>\n",
       "      <th>1</th>\n",
       "      <td>Mean Squared Error</td>\n",
       "      <td>0.154130</td>\n",
       "    </tr>\n",
       "    <tr>\n",
       "      <th>2</th>\n",
       "      <td>RMSE</td>\n",
       "      <td>0.392594</td>\n",
       "    </tr>\n",
       "    <tr>\n",
       "      <th>3</th>\n",
       "      <td>R²</td>\n",
       "      <td>0.232577</td>\n",
       "    </tr>\n",
       "  </tbody>\n",
       "</table>\n",
       "</div>"
      ],
      "text/plain": [
       "                Method  Random Forest\n",
       "0  Mean Absolute Error       0.311635\n",
       "1   Mean Squared Error       0.154130\n",
       "2                 RMSE       0.392594\n",
       "3                   R²       0.232577"
      ]
     },
     "execution_count": 113,
     "metadata": {},
     "output_type": "execute_result"
    }
   ],
   "source": [
    "score_df_rf"
   ]
  },
  {
   "cell_type": "code",
   "execution_count": 114,
   "id": "b34e45b3-5f1f-437a-ad81-c4a924b7acd0",
   "metadata": {},
   "outputs": [],
   "source": [
    "pred_sub_rf = rf_model.predict(test.drop(columns = 'Id'))"
   ]
  },
  {
   "cell_type": "code",
   "execution_count": 115,
   "id": "51b4c72a-4d97-4214-92d2-3a6faa7d0827",
   "metadata": {},
   "outputs": [],
   "source": [
    "pred_sub_rf = np.exp(pred_sub_rf)"
   ]
  },
  {
   "cell_type": "code",
   "execution_count": 116,
   "id": "bbd7c3a8-09d9-4a87-ab5a-bbd6ac6d8888",
   "metadata": {},
   "outputs": [],
   "source": [
    "residual_rf = np.exp(y_test) - np.exp(y_pred)"
   ]
  },
  {
   "cell_type": "code",
   "execution_count": 117,
   "id": "663dc7b6-b681-4353-b503-072b3fdfc4b1",
   "metadata": {},
   "outputs": [
    {
     "data": {
      "text/plain": [
       "<matplotlib.collections.PathCollection at 0x20b000a18e0>"
      ]
     },
     "execution_count": 117,
     "metadata": {},
     "output_type": "execute_result"
    },
    {
     "data": {
      "image/png": "[encoded data removed]",
      "text/plain": [
       "<Figure size 432x288 with 1 Axes>"
      ]
     },
     "metadata": {
      "needs_background": "light"
     },
     "output_type": "display_data"
    }
   ],
   "source": [
    "plt.scatter(residual_rf, np.exp(y_pred))"
   ]
  },
  {
   "cell_type": "code",
   "execution_count": 118,
   "id": "5458a3c6-2d9c-4c3c-aea3-db4923c46d10",
   "metadata": {},
   "outputs": [],
   "source": [
    "submission_rf= pd.DataFrame(columns = ['Id', 'Prediction'])\n",
    "submission_rf['Id'] = test['Id']\n",
    "submission_rf['Prediction'] = pred_sub_rf\n",
    "submission_rf.to_csv('submission_rf.csv', index = False)"
   ]
  },
  {
   "cell_type": "code",
   "execution_count": 119,
   "id": "feae4047-d270-4cbc-99d0-a87928929182",
   "metadata": {},
   "outputs": [],
   "source": [
    "rf_feature = pd.Series(index = X_train.columns, data = np.abs(rf_model.feature_importances_))"
   ]
  },
  {
   "cell_type": "code",
   "execution_count": 120,
   "id": "ebd2bfbc-16ba-4315-8e88-d1ec69598cb7",
   "metadata": {},
   "outputs": [
    {
     "data": {
      "text/plain": [
       "<AxesSubplot:>"
      ]
     },
     "execution_count": 120,
     "metadata": {},
     "output_type": "execute_result"
    },
    {
     "data": {
      "image/png": "[encoded data removed]",
      "text/plain": [
       "<Figure size 1152x576 with 1 Axes>"
      ]
     },
     "metadata": {
      "needs_background": "light"
     },
     "output_type": "display_data"
    }
   ],
   "source": [
    "rf_feature.sort_values().plot(kind = 'bar', figsize = (16, 8))"
   ]
  },
  {
   "cell_type": "markdown",
   "id": "4478d2db-5385-4619-875b-ccbbaafa5a7f",
   "metadata": {},
   "source": [
    "#### _KNeighborRegressor_"
   ]
  },
  {
   "cell_type": "code",
   "execution_count": 121,
   "id": "0427b236-4219-4118-9af7-dd3b7a52e766",
   "metadata": {},
   "outputs": [],
   "source": [
    "knn = KNeighborsRegressor()"
   ]
  },
  {
   "cell_type": "code",
   "execution_count": 122,
   "id": "e28b4868-fd2d-42ce-858b-4c39f7168ddb",
   "metadata": {},
   "outputs": [],
   "source": [
    "params_knn = {\n",
    "    'n_neighbors' : [3, 5, 7, 9, 11],\n",
    "}"
   ]
  },
  {
   "cell_type": "code",
   "execution_count": 123,
   "id": "affafcf9-529e-4da4-a5ad-9992cf940ba6",
   "metadata": {},
   "outputs": [],
   "source": [
    "knn_regressor = GridSearchCV(knn, params_knn,cv=10, n_jobs=-1)"
   ]
  },
  {
   "cell_type": "code",
   "execution_count": 124,
   "id": "42486ab9-d9dc-4f93-8a63-ad3af51771c6",
   "metadata": {},
   "outputs": [
    {
     "data": {
      "text/plain": [
       "GridSearchCV(cv=10, estimator=KNeighborsRegressor(), n_jobs=-1,\n",
       "             param_grid={'n_neighbors': [3, 5, 7, 9, 11]})"
      ]
     },
     "execution_count": 124,
     "metadata": {},
     "output_type": "execute_result"
    }
   ],
   "source": [
    "knn_regressor.fit(X_train, y_train)"
   ]
  },
  {
   "cell_type": "code",
   "execution_count": 125,
   "id": "67266805-db04-4a4e-b0c5-8557b2da8823",
   "metadata": {},
   "outputs": [
    {
     "data": {
      "text/plain": [
       "{'n_neighbors': 9}"
      ]
     },
     "execution_count": 125,
     "metadata": {},
     "output_type": "execute_result"
    }
   ],
   "source": [
    "knn_regressor.best_params_"
   ]
  },
  {
   "cell_type": "code",
   "execution_count": 126,
   "id": "88c4ba19-1769-40ca-b377-8260b62a1b47",
   "metadata": {},
   "outputs": [],
   "source": [
    "knn_model = KNeighborsRegressor(n_neighbors = 9)"
   ]
  },
  {
   "cell_type": "code",
   "execution_count": 127,
   "id": "a5ef0bac-bc40-4f40-b5de-1110a9d795f9",
   "metadata": {},
   "outputs": [
    {
     "data": {
      "text/plain": [
       "KNeighborsRegressor(n_neighbors=9)"
      ]
     },
     "execution_count": 127,
     "metadata": {},
     "output_type": "execute_result"
    }
   ],
   "source": [
    "knn_model.fit(X_train, y_train)"
   ]
  },
  {
   "cell_type": "code",
   "execution_count": 128,
   "id": "861266d3-6d30-4e8a-89c8-1ea1250a991e",
   "metadata": {},
   "outputs": [
    {
     "data": {
      "text/plain": [
       "0.27060217393208885"
      ]
     },
     "execution_count": 128,
     "metadata": {},
     "output_type": "execute_result"
    }
   ],
   "source": [
    "knn_model.score(X_train, y_train)"
   ]
  },
  {
   "cell_type": "code",
   "execution_count": 129,
   "id": "21f194e0-7875-4172-b59c-1fbb3ed01bb3",
   "metadata": {},
   "outputs": [
    {
     "data": {
      "text/plain": [
       "0.19248824743143877"
      ]
     },
     "execution_count": 129,
     "metadata": {},
     "output_type": "execute_result"
    }
   ],
   "source": [
    "knn_model.score(X_test, y_test)"
   ]
  },
  {
   "cell_type": "code",
   "execution_count": 130,
   "id": "be44cb5e-656f-4682-829b-3e6e37f36004",
   "metadata": {},
   "outputs": [],
   "source": [
    "y_pred = knn_model.predict(X_test)"
   ]
  },
  {
   "cell_type": "code",
   "execution_count": 131,
   "id": "1a8c495d-ac4e-433b-bdca-45cc8108e89e",
   "metadata": {},
   "outputs": [
    {
     "name": "stdout",
     "output_type": "stream",
     "text": [
      "Explained variance score 0.20851149641227806 \n",
      " Mean absolute error      : 0.31728720379350556 \n",
      " Mean squared error       : 0.16218109545531684 \n",
      " R² score            : 0.19248824743143877\n"
     ]
    }
   ],
   "source": [
    "print('Explained variance score',explained_variance_score(y_test, y_pred),'\\n',\n",
    "   'Mean absolute error      :',mean_absolute_error(y_test, y_pred),'\\n',\n",
    "   'Mean squared error       :',mean_squared_error(y_test, y_pred),'\\n',\n",
    "   'R² score            :',r2_score(y_test, y_pred))"
   ]
  },
  {
   "cell_type": "code",
   "execution_count": 132,
   "id": "f7d05619-61dc-4e2f-bee9-4336f62ca5ea",
   "metadata": {},
   "outputs": [],
   "source": [
    "score_df_knn = pd.DataFrame(columns=['Method','KNN'])\n",
    "score_df_knn['Method']=[\n",
    "                    'Mean Absolute Error',\n",
    "                    'Mean Squared Error',\n",
    "                    'RMSE',\n",
    "                    'R²']\n",
    "score_df_knn['KNN']=[\n",
    "                   mean_absolute_error(y_test, y_pred),\n",
    "                   mean_squared_error(y_test, y_pred),\n",
    "                   mean_squared_error(y_test, y_pred, squared = False),\n",
    "                   r2_score(y_test, y_pred)]"
   ]
  },
  {
   "cell_type": "code",
   "execution_count": 133,
   "id": "600ae952-35a6-4d40-af9e-e52908d2395d",
   "metadata": {},
   "outputs": [
    {
     "data": {
      "text/html": [
       "<div>\n",
       "<style scoped>\n",
       "    .dataframe tbody tr th:only-of-type {\n",
       "        vertical-align: middle;\n",
       "    }\n",
       "\n",
       "    .dataframe tbody tr th {\n",
       "        vertical-align: top;\n",
       "    }\n",
       "\n",
       "    .dataframe thead th {\n",
       "        text-align: right;\n",
       "    }\n",
       "</style>\n",
       "<table border=\"1\" class=\"dataframe\">\n",
       "  <thead>\n",
       "    <tr style=\"text-align: right;\">\n",
       "      <th></th>\n",
       "      <th>Method</th>\n",
       "      <th>KNN</th>\n",
       "    </tr>\n",
       "  </thead>\n",
       "  <tbody>\n",
       "    <tr>\n",
       "      <th>0</th>\n",
       "      <td>Mean Absolute Error</td>\n",
       "      <td>0.317287</td>\n",
       "    </tr>\n",
       "    <tr>\n",
       "      <th>1</th>\n",
       "      <td>Mean Squared Error</td>\n",
       "      <td>0.162181</td>\n",
       "    </tr>\n",
       "    <tr>\n",
       "      <th>2</th>\n",
       "      <td>RMSE</td>\n",
       "      <td>0.402717</td>\n",
       "    </tr>\n",
       "    <tr>\n",
       "      <th>3</th>\n",
       "      <td>R²</td>\n",
       "      <td>0.192488</td>\n",
       "    </tr>\n",
       "  </tbody>\n",
       "</table>\n",
       "</div>"
      ],
      "text/plain": [
       "                Method       KNN\n",
       "0  Mean Absolute Error  0.317287\n",
       "1   Mean Squared Error  0.162181\n",
       "2                 RMSE  0.402717\n",
       "3                   R²  0.192488"
      ]
     },
     "execution_count": 133,
     "metadata": {},
     "output_type": "execute_result"
    }
   ],
   "source": [
    "score_df_knn"
   ]
  },
  {
   "cell_type": "code",
   "execution_count": 134,
   "id": "5c16a705-3ae0-49f7-bff5-053181a49222",
   "metadata": {},
   "outputs": [],
   "source": [
    "pred_sub_knn = knn_model.predict(test.drop(columns = 'Id'))"
   ]
  },
  {
   "cell_type": "code",
   "execution_count": 135,
   "id": "a5b3024b-820c-4f82-8ec4-910902dcf871",
   "metadata": {},
   "outputs": [],
   "source": [
    "pred_sub_knn = np.exp(pred_sub_knn)"
   ]
  },
  {
   "cell_type": "code",
   "execution_count": 136,
   "id": "38cb8680-3999-4d23-9113-0d46eebc937f",
   "metadata": {},
   "outputs": [],
   "source": [
    "residual_rf = np.exp(y_test) - np.exp(y_pred)"
   ]
  },
  {
   "cell_type": "code",
   "execution_count": 137,
   "id": "585a0fa9-c42f-472a-bcd3-f706fa4e38dd",
   "metadata": {},
   "outputs": [
    {
     "data": {
      "text/plain": [
       "<matplotlib.collections.PathCollection at 0x20b753e5d60>"
      ]
     },
     "execution_count": 137,
     "metadata": {},
     "output_type": "execute_result"
    },
    {
     "data": {
      "image/png": "[encoded data removed]",
      "text/plain": [
       "<Figure size 432x288 with 1 Axes>"
      ]
     },
     "metadata": {
      "needs_background": "light"
     },
     "output_type": "display_data"
    }
   ],
   "source": [
    "plt.scatter(residual_rf, np.exp(y_pred))"
   ]
  },
  {
   "cell_type": "code",
   "execution_count": 138,
   "id": "e2585c91-475a-4ad8-beda-b2ad7cc58a68",
   "metadata": {},
   "outputs": [],
   "source": [
    "submission_knn= pd.DataFrame(columns = ['Id', 'Prediction'])\n",
    "submission_knn['Id'] = test['Id']\n",
    "submission_knn['Prediction'] = pred_sub_knn\n",
    "submission_knn.to_csv('submission_knn.csv', index = False)"
   ]
  },
  {
   "cell_type": "markdown",
   "id": "45c7366a-ef8f-4c1a-b375-973b1ab846ab",
   "metadata": {},
   "source": [
    "#### _XGBoost Regressor_"
   ]
  },
  {
   "cell_type": "code",
   "execution_count": 139,
   "id": "9a2d3b7f-8a0e-4f41-b6a5-f0665bb4756f",
   "metadata": {},
   "outputs": [],
   "source": [
    "xgb = XGBRegressor()"
   ]
  },
  {
   "cell_type": "code",
   "execution_count": 140,
   "id": "9e0dc3bd-8a61-47b6-b0df-5acb5561b458",
   "metadata": {},
   "outputs": [],
   "source": [
    "params_xgb = {\n",
    "    'learning_rate': [.05,.1],\n",
    "    'max_depth': [4, 9],\n",
    "    'subsample': [.5, .7],\n",
    "    'n_estimators': [100,200]\n",
    "}"
   ]
  },
  {
   "cell_type": "code",
   "execution_count": 141,
   "id": "1c7f48f6-7423-456c-87cc-694a015af414",
   "metadata": {},
   "outputs": [],
   "source": [
    "xgb_regressor = GridSearchCV(xgb, params_xgb, cv = 10, n_jobs=-1)"
   ]
  },
  {
   "cell_type": "code",
   "execution_count": 142,
   "id": "d65b27bd-b13d-49d1-9964-ed614d78141f",
   "metadata": {},
   "outputs": [
    {
     "data": {
      "text/plain": [
       "GridSearchCV(cv=10,\n",
       "             estimator=XGBRegressor(base_score=None, booster=None,\n",
       "                                    colsample_bylevel=None,\n",
       "                                    colsample_bynode=None,\n",
       "                                    colsample_bytree=None, gamma=None,\n",
       "                                    gpu_id=None, importance_type='gain',\n",
       "                                    interaction_constraints=None,\n",
       "                                    learning_rate=None, max_delta_step=None,\n",
       "                                    max_depth=None, min_child_weight=None,\n",
       "                                    missing=nan, monotone_constraints=None,\n",
       "                                    n_estimators=100, n_jobs=None,\n",
       "                                    num_parallel_tree=None, random_state=None,\n",
       "                                    reg_alpha=None, reg_lambda=None,\n",
       "                                    scale_pos_weight=None, subsample=None,\n",
       "                                    tree_method=None, validate_parameters=None,\n",
       "                                    verbosity=None),\n",
       "             n_jobs=-1,\n",
       "             param_grid={'learning_rate': [0.05, 0.1], 'max_depth': [4, 9],\n",
       "                         'n_estimators': [100, 200], 'subsample': [0.5, 0.7]})"
      ]
     },
     "execution_count": 142,
     "metadata": {},
     "output_type": "execute_result"
    }
   ],
   "source": [
    "xgb_regressor.fit(X_train, y_train)"
   ]
  },
  {
   "cell_type": "code",
   "execution_count": 143,
   "id": "d79e5476-e0d2-4310-9ad8-4b29376156cc",
   "metadata": {},
   "outputs": [
    {
     "data": {
      "text/plain": [
       "{'learning_rate': 0.05, 'max_depth': 4, 'n_estimators': 200, 'subsample': 0.5}"
      ]
     },
     "execution_count": 143,
     "metadata": {},
     "output_type": "execute_result"
    }
   ],
   "source": [
    "xgb_regressor.best_params_"
   ]
  },
  {
   "cell_type": "code",
   "execution_count": 144,
   "id": "637b68ce-ccab-4c6a-aba2-c8e2bac1b82c",
   "metadata": {},
   "outputs": [],
   "source": [
    "xgb_model = XGBRegressor(learning_rate = 0.1, max_depth = 9, n_estimators = 200, subsample = 0.5)"
   ]
  },
  {
   "cell_type": "code",
   "execution_count": 145,
   "id": "00bf9019-3c94-4a69-a997-e5df30ec9d3c",
   "metadata": {},
   "outputs": [
    {
     "data": {
      "text/plain": [
       "XGBRegressor(base_score=0.5, booster='gbtree', colsample_bylevel=1,\n",
       "             colsample_bynode=1, colsample_bytree=1, gamma=0, gpu_id=-1,\n",
       "             importance_type='gain', interaction_constraints='',\n",
       "             learning_rate=0.1, max_delta_step=0, max_depth=9,\n",
       "             min_child_weight=1, missing=nan, monotone_constraints='()',\n",
       "             n_estimators=200, n_jobs=8, num_parallel_tree=1, random_state=0,\n",
       "             reg_alpha=0, reg_lambda=1, scale_pos_weight=1, subsample=0.5,\n",
       "             tree_method='exact', validate_parameters=1, verbosity=None)"
      ]
     },
     "execution_count": 145,
     "metadata": {},
     "output_type": "execute_result"
    }
   ],
   "source": [
    "xgb_model.fit(X_train, y_train)"
   ]
  },
  {
   "cell_type": "code",
   "execution_count": 146,
   "id": "2f58ffe9-4b37-46b9-989e-20e1848f8894",
   "metadata": {},
   "outputs": [
    {
     "data": {
      "text/plain": [
       "0.9997929370652401"
      ]
     },
     "execution_count": 146,
     "metadata": {},
     "output_type": "execute_result"
    }
   ],
   "source": [
    "xgb_model.score(X_train, y_train)"
   ]
  },
  {
   "cell_type": "code",
   "execution_count": 147,
   "id": "b77188f8-63e2-4ed2-a7bb-5a5e70151a65",
   "metadata": {},
   "outputs": [
    {
     "data": {
      "text/plain": [
       "0.08680457990476842"
      ]
     },
     "execution_count": 147,
     "metadata": {},
     "output_type": "execute_result"
    }
   ],
   "source": [
    "xgb_model.score(X_test, y_test)"
   ]
  },
  {
   "cell_type": "code",
   "execution_count": 148,
   "id": "6e3df54e-2ae5-461f-9f7e-665fc20be386",
   "metadata": {},
   "outputs": [],
   "source": [
    "y_pred = xgb_model.predict(X_test)"
   ]
  },
  {
   "cell_type": "code",
   "execution_count": 149,
   "id": "3d476e5a-31f3-468a-bfff-1d38e4cae8bd",
   "metadata": {},
   "outputs": [
    {
     "name": "stdout",
     "output_type": "stream",
     "text": [
      "Explained variance score 0.08724762307217682 \n",
      " Mean absolute error      : 0.3426338420863468 \n",
      " Mean squared error       : 0.18340666018139262 \n",
      " R² score            : 0.08680457990476842\n"
     ]
    }
   ],
   "source": [
    "print('Explained variance score',explained_variance_score(y_test, y_pred),'\\n',\n",
    "   'Mean absolute error      :',mean_absolute_error(y_test, y_pred),'\\n',\n",
    "   'Mean squared error       :',mean_squared_error(y_test, y_pred),'\\n',\n",
    "   'R² score            :',r2_score(y_test, y_pred))"
   ]
  },
  {
   "cell_type": "code",
   "execution_count": 150,
   "id": "1c0e74f0-5b01-46a0-a6e2-e155ae848d1c",
   "metadata": {},
   "outputs": [],
   "source": [
    "score_df_xgb = pd.DataFrame(columns=['Method','XGBoost'])\n",
    "score_df_xgb['Method']=[\n",
    "                    'Mean Absolute Error',\n",
    "                    'Mean Squared Error',\n",
    "                    'RMSE',\n",
    "                    'R²']\n",
    "score_df_xgb['XGBoost']=[\n",
    "                   mean_absolute_error(y_test, y_pred),\n",
    "                   mean_squared_error(y_test, y_pred),\n",
    "                   mean_squared_error(y_test, y_pred, squared = False),\n",
    "                   r2_score(y_test, y_pred)]"
   ]
  },
  {
   "cell_type": "code",
   "execution_count": 151,
   "id": "87d9906f-6630-40ad-a814-d07aeabd9569",
   "metadata": {},
   "outputs": [
    {
     "data": {
      "text/html": [
       "<div>\n",
       "<style scoped>\n",
       "    .dataframe tbody tr th:only-of-type {\n",
       "        vertical-align: middle;\n",
       "    }\n",
       "\n",
       "    .dataframe tbody tr th {\n",
       "        vertical-align: top;\n",
       "    }\n",
       "\n",
       "    .dataframe thead th {\n",
       "        text-align: right;\n",
       "    }\n",
       "</style>\n",
       "<table border=\"1\" class=\"dataframe\">\n",
       "  <thead>\n",
       "    <tr style=\"text-align: right;\">\n",
       "      <th></th>\n",
       "      <th>Method</th>\n",
       "      <th>XGBoost</th>\n",
       "    </tr>\n",
       "  </thead>\n",
       "  <tbody>\n",
       "    <tr>\n",
       "      <th>0</th>\n",
       "      <td>Mean Absolute Error</td>\n",
       "      <td>0.342634</td>\n",
       "    </tr>\n",
       "    <tr>\n",
       "      <th>1</th>\n",
       "      <td>Mean Squared Error</td>\n",
       "      <td>0.183407</td>\n",
       "    </tr>\n",
       "    <tr>\n",
       "      <th>2</th>\n",
       "      <td>RMSE</td>\n",
       "      <td>0.428260</td>\n",
       "    </tr>\n",
       "    <tr>\n",
       "      <th>3</th>\n",
       "      <td>R²</td>\n",
       "      <td>0.086805</td>\n",
       "    </tr>\n",
       "  </tbody>\n",
       "</table>\n",
       "</div>"
      ],
      "text/plain": [
       "                Method   XGBoost\n",
       "0  Mean Absolute Error  0.342634\n",
       "1   Mean Squared Error  0.183407\n",
       "2                 RMSE  0.428260\n",
       "3                   R²  0.086805"
      ]
     },
     "execution_count": 151,
     "metadata": {},
     "output_type": "execute_result"
    }
   ],
   "source": [
    "score_df_xgb"
   ]
  },
  {
   "cell_type": "code",
   "execution_count": 152,
   "id": "dfb45475-4223-4dfb-a509-6f28467f54b9",
   "metadata": {},
   "outputs": [],
   "source": [
    "residual_rf = np.exp(y_test) - np.exp(y_pred)"
   ]
  },
  {
   "cell_type": "code",
   "execution_count": 153,
   "id": "da58f7c7-aaa9-4b31-88c3-e8b1d960f4c5",
   "metadata": {},
   "outputs": [
    {
     "data": {
      "text/plain": [
       "<matplotlib.collections.PathCollection at 0x20b761cbdf0>"
      ]
     },
     "execution_count": 153,
     "metadata": {},
     "output_type": "execute_result"
    },
    {
     "data": {
      "image/png": "[encoded data removed]",
      "text/plain": [
       "<Figure size 432x288 with 1 Axes>"
      ]
     },
     "metadata": {
      "needs_background": "light"
     },
     "output_type": "display_data"
    }
   ],
   "source": [
    "plt.scatter(residual_rf, np.exp(y_pred))"
   ]
  },
  {
   "cell_type": "code",
   "execution_count": 154,
   "id": "3d241eda-6c6a-4157-b97d-1792ca005c06",
   "metadata": {},
   "outputs": [],
   "source": [
    "pred_sub_xgb = xgb_model.predict(test.drop(columns = 'Id'))"
   ]
  },
  {
   "cell_type": "code",
   "execution_count": 155,
   "id": "31d70851-cc55-4860-afd0-f2a56c60df9b",
   "metadata": {},
   "outputs": [],
   "source": [
    "pred_sub_xgb = np.exp(pred_sub_xgb)"
   ]
  },
  {
   "cell_type": "code",
   "execution_count": 156,
   "id": "f7d94e0a-4523-4b84-8371-db8d4df81a26",
   "metadata": {},
   "outputs": [],
   "source": [
    "submission_xgb= pd.DataFrame(columns = ['Id', 'Prediction'])\n",
    "submission_xgb['Id'] = test['Id']\n",
    "submission_xgb['Prediction'] = pred_sub_xgb\n",
    "submission_xgb.to_csv('submission_xgb.csv', index = False)"
   ]
  },
  {
   "cell_type": "code",
   "execution_count": 157,
   "id": "5908ea62-4327-485e-9e6b-b47a3a6fb458",
   "metadata": {},
   "outputs": [
    {
     "data": {
      "text/html": [
       "<div>\n",
       "<style scoped>\n",
       "    .dataframe tbody tr th:only-of-type {\n",
       "        vertical-align: middle;\n",
       "    }\n",
       "\n",
       "    .dataframe tbody tr th {\n",
       "        vertical-align: top;\n",
       "    }\n",
       "\n",
       "    .dataframe thead th {\n",
       "        text-align: right;\n",
       "    }\n",
       "</style>\n",
       "<table border=\"1\" class=\"dataframe\">\n",
       "  <thead>\n",
       "    <tr style=\"text-align: right;\">\n",
       "      <th></th>\n",
       "      <th>Method</th>\n",
       "      <th>Linear Regression</th>\n",
       "      <th>Ridge Regression</th>\n",
       "      <th>Lasso Regression</th>\n",
       "      <th>Random Forest</th>\n",
       "      <th>KNN</th>\n",
       "      <th>XGBoost</th>\n",
       "    </tr>\n",
       "  </thead>\n",
       "  <tbody>\n",
       "    <tr>\n",
       "      <th>0</th>\n",
       "      <td>Mean Absolute Error</td>\n",
       "      <td>0.488084</td>\n",
       "      <td>0.377123</td>\n",
       "      <td>0.344108</td>\n",
       "      <td>0.311635</td>\n",
       "      <td>0.317287</td>\n",
       "      <td>0.342634</td>\n",
       "    </tr>\n",
       "    <tr>\n",
       "      <th>1</th>\n",
       "      <td>Mean Squared Error</td>\n",
       "      <td>0.386681</td>\n",
       "      <td>0.217485</td>\n",
       "      <td>0.201000</td>\n",
       "      <td>0.154130</td>\n",
       "      <td>0.162181</td>\n",
       "      <td>0.183407</td>\n",
       "    </tr>\n",
       "    <tr>\n",
       "      <th>2</th>\n",
       "      <td>RMSE</td>\n",
       "      <td>0.621837</td>\n",
       "      <td>0.466353</td>\n",
       "      <td>0.448330</td>\n",
       "      <td>0.392594</td>\n",
       "      <td>0.402717</td>\n",
       "      <td>0.428260</td>\n",
       "    </tr>\n",
       "    <tr>\n",
       "      <th>3</th>\n",
       "      <td>R²</td>\n",
       "      <td>-0.925315</td>\n",
       "      <td>-0.082876</td>\n",
       "      <td>-0.000794</td>\n",
       "      <td>0.232577</td>\n",
       "      <td>0.192488</td>\n",
       "      <td>0.086805</td>\n",
       "    </tr>\n",
       "  </tbody>\n",
       "</table>\n",
       "</div>"
      ],
      "text/plain": [
       "                Method  Linear Regression  Ridge Regression  Lasso Regression  \\\n",
       "0  Mean Absolute Error           0.488084          0.377123          0.344108   \n",
       "1   Mean Squared Error           0.386681          0.217485          0.201000   \n",
       "2                 RMSE           0.621837          0.466353          0.448330   \n",
       "3                   R²          -0.925315         -0.082876         -0.000794   \n",
       "\n",
       "   Random Forest       KNN   XGBoost  \n",
       "0       0.311635  0.317287  0.342634  \n",
       "1       0.154130  0.162181  0.183407  \n",
       "2       0.392594  0.402717  0.428260  \n",
       "3       0.232577  0.192488  0.086805  "
      ]
     },
     "execution_count": 157,
     "metadata": {},
     "output_type": "execute_result"
    }
   ],
   "source": [
    "score_df_lr.merge(score_df_ridge,on='Method').merge(score_df_lasso,on='Method').merge(score_df_rf, on = 'Method').merge(score_df_knn, on = 'Method').merge(score_df_xgb, on = 'Method')"
   ]
  },
  {
   "cell_type": "markdown",
   "id": "843d0278-7032-4a6e-b92b-e7541fa7b523",
   "metadata": {},
   "source": [
    "### _Conclusion_"
   ]
  },
  {
   "cell_type": "markdown",
   "id": "e0484fad-17ed-42a2-9036-55ac72edd110",
   "metadata": {},
   "source": [
    "We built and evaluated 6 different models. With the simple Linear Regression model as the baseline model, We are comparing all other models to the baseline for evaluations.\n",
    "\n",
    "1. In the model training and testing part, all three linear model (Linear, Ridge and Lasso), we have seen negative scores which a good indication of model super overfitting. In addition, in the EDA part, we have not observe any strong linear relationships which also explains the circumstances. \n",
    "\n",
    "2. Among other models, Random Forest and XGBoost tend to be extremely overfitting. (based on the train and test score). The KNN has a relative small score variances between training and testing. \n",
    "\n",
    "3. In addition, we also evaluated the metrics on RMSE. In statistical model and specifically for regression analysis in this case, the RMSE (root mean squared error) measures the quality of the fit of our model. if the predicted value are close to the true value, the RMSE will be small and RMSE will be large if the predicted value and true value are substantially different. Based on this measure, the KNN model has the best outcome among all other models. \n",
    "\n",
    "4. R² is also another way to evaluate our model. The R², also called coefficient of determination, measures variance explained by the model over total variances. higher R² values represent smaller differences between the observed data and the fitted values. In this case, the KNN model has the highest R² value which translate to the smallest differences between the observed data and the fitted values in our case.Thus KNN model performed better than other models. \n",
    "\n",
    "5. Lastly, we have submitted all our predicted value to kaggle and the KNN provided the best scores. "
   ]
  },
  {
   "cell_type": "code",
   "execution_count": null,
   "id": "f72c6114-b595-4761-a45e-92fb29d4740b",
   "metadata": {},
   "outputs": [],
   "source": []
  }
 ],
 "metadata": {
  "kernelspec": {
   "display_name": "Python 3",
   "language": "python",
   "name": "python3"
  },
  "language_info": {
   "codemirror_mode": {
    "name": "ipython",
    "version": 3
   },
   "file_extension": ".py",
   "mimetype": "text/x-python",
   "name": "python",
   "nbconvert_exporter": "python",
   "pygments_lexer": "ipython3",
   "version": "3.8.8"
  },
  "widgets": {
   "application/vnd.jupyter.widget-state+json": {
    "state": {},
    "version_major": 2,
    "version_minor": 0
   }
  }
 },
 "nbformat": 4,
 "nbformat_minor": 5
}
