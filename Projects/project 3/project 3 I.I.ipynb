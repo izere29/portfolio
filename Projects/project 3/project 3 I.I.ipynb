{
 "cells": [
  {
   "cell_type": "markdown",
   "id": "e9b2d777",
   "metadata": {},
   "source": [
    "# Urban Planning and Sustainability"
   ]
  },
  {
   "cell_type": "markdown",
   "id": "1b6dd968",
   "metadata": {},
   "source": [
    "The aim of this project is to build a model that will classifiy the posts retreived from two reddits forums  into their respective forums. Those forums are the urban planning forum  and Sustainability forum.\n",
    "\n"
   ]
  },
  {
   "cell_type": "markdown",
   "id": "ac2477d7",
   "metadata": {},
   "source": [
    "As the world is developing  , where the population , the infrastructures are increasing , we are looking on new ways and better ways to improve our quality of life .There is a need to improve it  socially, economically and in regards of the environment.\n",
    "\n",
    "This project is presented to the city officials and urban planners who are looking for a way to improve the sustainability of the cities.\n",
    "\n",
    "Sustainability need to be a great key for a good urban plan.\n"
   ]
  },
  {
   "cell_type": "code",
   "execution_count": null,
   "id": "cc143eda",
   "metadata": {},
   "outputs": [],
   "source": []
  },
  {
   "cell_type": "markdown",
   "id": "dedb2bbc",
   "metadata": {},
   "source": [
    "## Problem statement\n",
    "This project is aiming to help urban planners design and plan not only for this generation but also for the future  by understanding the area that need to be more focused on in order to achieve sustainability."
   ]
  },
  {
   "cell_type": "markdown",
   "id": "80ec5c4f",
   "metadata": {},
   "source": [
    "### Data collection "
   ]
  },
  {
   "cell_type": "code",
   "execution_count": 1,
   "id": "f8d479fc",
   "metadata": {},
   "outputs": [],
   "source": [
    "import requests\n",
    "import pandas as pd\n",
    "import numpy as np\n",
    "import time\n",
    "import seaborn as sns \n",
    "import matplotlib.pyplot as plt\n",
    "from nltk.tokenize import sent_tokenize, word_tokenize, RegexpTokenizer\n",
    "from nltk.stem import WordNetLemmatizer\n",
    "from nltk.stem.porter import PorterStemmer\n",
    "from nltk.corpus import stopwords\n",
    "from nltk.sentiment.vader import SentimentIntensityAnalyzer\n",
    "import re\n",
    "from sklearn.model_selection import train_test_split, GridSearchCV\n",
    "from sklearn.feature_extraction.text import CountVectorizer, TfidfVectorizer\n",
    "from sklearn.pipeline import Pipeline\n",
    "from sklearn.naive_bayes import MultinomialNB\n"
   ]
  },
  {
   "cell_type": "code",
   "execution_count": 92,
   "id": "742082f7",
   "metadata": {},
   "outputs": [],
   "source": [
    "from sklearn.naive_bayes import BernoulliNB"
   ]
  },
  {
   "cell_type": "code",
   "execution_count": 2,
   "id": "0ed964c1",
   "metadata": {},
   "outputs": [],
   "source": [
    "url = 'https://api.pushshift.io//reddit/search/submission'"
   ]
  },
  {
   "cell_type": "code",
   "execution_count": 3,
   "id": "295e6ae8",
   "metadata": {},
   "outputs": [],
   "source": [
    "params1 = {\n",
    "    'subreddit':'urbandesign',\n",
    "    'size': 100,\n",
    "    'before':1633175578\n",
    "}"
   ]
  },
  {
   "cell_type": "code",
   "execution_count": 4,
   "id": "a43bd57f",
   "metadata": {},
   "outputs": [
    {
     "name": "stdout",
     "output_type": "stream",
     "text": [
      " for 0 data shape is (100, 66)\n",
      " for 1 data shape is (200, 68)\n",
      " for 2 data shape is (300, 80)\n",
      " for 3 data shape is (400, 85)\n",
      " for 4 data shape is (450, 87)\n"
     ]
    }
   ],
   "source": [
    "#url for the data\n",
    "url = 'https://api.pushshift.io//reddit/search/submission'\n",
    "#parameters for the APi\n",
    "params = {\n",
    "    'subreddit':'urbandesign',\n",
    "    'size':100,\n",
    "    'is_self':True\n",
    "   \n",
    "}\n",
    "data_ud = pd.DataFrame()\n",
    "\n",
    "for i in range(10):\n",
    "    try:\n",
    "        #get the data from the url \n",
    "        res = requests.get(url,params)\n",
    "        #creating a list of dictionary which represent a post \n",
    "        urban_design = res.json()['data']\n",
    "        # creating a dataframe from  the urban design \n",
    "        df1 = pd.DataFrame(urban_design)\n",
    "\n",
    "        #updating the parameters to have the oldest time for the post\n",
    "        params['before'] = min(df1['created_utc'])\n",
    "        #append the dataframe\n",
    "        data_ud = data_ud.append(df1,ignore_index=True)\n",
    "        print( f\" for {i} data shape is {data_ud.shape}\")\n",
    "        #adding sleep function\n",
    "        if i%3 == 0:\n",
    "            time.sleep(2)\n",
    "    except:\n",
    "        pass\n",
    "\n",
    "\n"
   ]
  },
  {
   "cell_type": "code",
   "execution_count": 4,
   "id": "b0695d09",
   "metadata": {},
   "outputs": [],
   "source": [
    "pd.set_option('display.max_columns', None)"
   ]
  },
  {
   "cell_type": "code",
   "execution_count": 6,
   "id": "cbc98138",
   "metadata": {},
   "outputs": [
    {
     "data": {
      "text/html": [
       "<div>\n",
       "<style scoped>\n",
       "    .dataframe tbody tr th:only-of-type {\n",
       "        vertical-align: middle;\n",
       "    }\n",
       "\n",
       "    .dataframe tbody tr th {\n",
       "        vertical-align: top;\n",
       "    }\n",
       "\n",
       "    .dataframe thead th {\n",
       "        text-align: right;\n",
       "    }\n",
       "</style>\n",
       "<table border=\"1\" class=\"dataframe\">\n",
       "  <thead>\n",
       "    <tr style=\"text-align: right;\">\n",
       "      <th></th>\n",
       "      <th>all_awardings</th>\n",
       "      <th>allow_live_comments</th>\n",
       "      <th>author</th>\n",
       "      <th>author_flair_css_class</th>\n",
       "      <th>author_flair_richtext</th>\n",
       "      <th>author_flair_text</th>\n",
       "      <th>author_flair_type</th>\n",
       "      <th>author_fullname</th>\n",
       "      <th>author_is_blocked</th>\n",
       "      <th>author_patreon_flair</th>\n",
       "      <th>author_premium</th>\n",
       "      <th>awarders</th>\n",
       "      <th>can_mod_post</th>\n",
       "      <th>contest_mode</th>\n",
       "      <th>created_utc</th>\n",
       "      <th>domain</th>\n",
       "      <th>full_link</th>\n",
       "      <th>gildings</th>\n",
       "      <th>id</th>\n",
       "      <th>is_created_from_ads_ui</th>\n",
       "      <th>is_crosspostable</th>\n",
       "      <th>is_meta</th>\n",
       "      <th>is_original_content</th>\n",
       "      <th>is_reddit_media_domain</th>\n",
       "      <th>is_robot_indexable</th>\n",
       "      <th>is_self</th>\n",
       "      <th>is_video</th>\n",
       "      <th>link_flair_background_color</th>\n",
       "      <th>link_flair_richtext</th>\n",
       "      <th>link_flair_text_color</th>\n",
       "      <th>link_flair_type</th>\n",
       "      <th>locked</th>\n",
       "      <th>media_only</th>\n",
       "      <th>no_follow</th>\n",
       "      <th>num_comments</th>\n",
       "      <th>num_crossposts</th>\n",
       "      <th>over_18</th>\n",
       "      <th>parent_whitelist_status</th>\n",
       "      <th>permalink</th>\n",
       "      <th>pinned</th>\n",
       "      <th>post_hint</th>\n",
       "      <th>preview</th>\n",
       "      <th>pwls</th>\n",
       "      <th>retrieved_on</th>\n",
       "      <th>score</th>\n",
       "      <th>selftext</th>\n",
       "      <th>send_replies</th>\n",
       "      <th>spoiler</th>\n",
       "      <th>stickied</th>\n",
       "      <th>subreddit</th>\n",
       "      <th>subreddit_id</th>\n",
       "      <th>subreddit_subscribers</th>\n",
       "      <th>subreddit_type</th>\n",
       "      <th>thumbnail</th>\n",
       "      <th>title</th>\n",
       "      <th>total_awards_received</th>\n",
       "      <th>treatment_tags</th>\n",
       "      <th>upvote_ratio</th>\n",
       "      <th>url</th>\n",
       "      <th>whitelist_status</th>\n",
       "      <th>wls</th>\n",
       "      <th>removed_by_category</th>\n",
       "      <th>media_metadata</th>\n",
       "      <th>poll_data</th>\n",
       "      <th>thumbnail_height</th>\n",
       "      <th>thumbnail_width</th>\n",
       "      <th>author_flair_background_color</th>\n",
       "      <th>author_flair_text_color</th>\n",
       "      <th>edited</th>\n",
       "      <th>steward_reports</th>\n",
       "      <th>updated_utc</th>\n",
       "      <th>author_created_utc</th>\n",
       "      <th>author_flair_template_id</th>\n",
       "      <th>category</th>\n",
       "      <th>content_categories</th>\n",
       "      <th>gilded</th>\n",
       "      <th>media_embed</th>\n",
       "      <th>removal_reason</th>\n",
       "      <th>secure_media_embed</th>\n",
       "      <th>suggested_sort</th>\n",
       "      <th>rte_mode</th>\n",
       "      <th>brand_safe</th>\n",
       "      <th>author_cakeday</th>\n",
       "      <th>approved_at_utc</th>\n",
       "      <th>banned_at_utc</th>\n",
       "      <th>mod_reports</th>\n",
       "      <th>user_reports</th>\n",
       "    </tr>\n",
       "  </thead>\n",
       "  <tbody>\n",
       "    <tr>\n",
       "      <th>0</th>\n",
       "      <td>[]</td>\n",
       "      <td>False</td>\n",
       "      <td>Oleks_DT</td>\n",
       "      <td>None</td>\n",
       "      <td>[]</td>\n",
       "      <td>None</td>\n",
       "      <td>text</td>\n",
       "      <td>t2_bx1aofof</td>\n",
       "      <td>False</td>\n",
       "      <td>False</td>\n",
       "      <td>False</td>\n",
       "      <td>[]</td>\n",
       "      <td>False</td>\n",
       "      <td>False</td>\n",
       "      <td>1636654022</td>\n",
       "      <td>self.urbandesign</td>\n",
       "      <td>https://www.reddit.com/r/urbandesign/comments/...</td>\n",
       "      <td>{}</td>\n",
       "      <td>qrr5ah</td>\n",
       "      <td>False</td>\n",
       "      <td>True</td>\n",
       "      <td>False</td>\n",
       "      <td>False</td>\n",
       "      <td>False</td>\n",
       "      <td>True</td>\n",
       "      <td>True</td>\n",
       "      <td>False</td>\n",
       "      <td></td>\n",
       "      <td>[]</td>\n",
       "      <td>dark</td>\n",
       "      <td>text</td>\n",
       "      <td>False</td>\n",
       "      <td>False</td>\n",
       "      <td>True</td>\n",
       "      <td>0</td>\n",
       "      <td>0.0</td>\n",
       "      <td>False</td>\n",
       "      <td>all_ads</td>\n",
       "      <td>/r/urbandesign/comments/qrr5ah/topdown_and_bot...</td>\n",
       "      <td>False</td>\n",
       "      <td>self</td>\n",
       "      <td>{'enabled': False, 'images': [{'id': 'UxMarmvk...</td>\n",
       "      <td>6.0</td>\n",
       "      <td>1.636654e+09</td>\n",
       "      <td>1</td>\n",
       "      <td>[https://youtu.be/rp4kiddWTm4](https://youtu.b...</td>\n",
       "      <td>True</td>\n",
       "      <td>False</td>\n",
       "      <td>False</td>\n",
       "      <td>urbandesign</td>\n",
       "      <td>t5_2r0d5</td>\n",
       "      <td>202916.0</td>\n",
       "      <td>public</td>\n",
       "      <td>self</td>\n",
       "      <td>TOP-DOWN and BOTTOM-UP urban development.</td>\n",
       "      <td>0.0</td>\n",
       "      <td>[]</td>\n",
       "      <td>1.0</td>\n",
       "      <td>https://www.reddit.com/r/urbandesign/comments/...</td>\n",
       "      <td>all_ads</td>\n",
       "      <td>6.0</td>\n",
       "      <td>NaN</td>\n",
       "      <td>NaN</td>\n",
       "      <td>NaN</td>\n",
       "      <td>NaN</td>\n",
       "      <td>NaN</td>\n",
       "      <td>NaN</td>\n",
       "      <td>NaN</td>\n",
       "      <td>NaN</td>\n",
       "      <td>NaN</td>\n",
       "      <td>NaN</td>\n",
       "      <td>NaN</td>\n",
       "      <td>NaN</td>\n",
       "      <td>NaN</td>\n",
       "      <td>NaN</td>\n",
       "      <td>NaN</td>\n",
       "      <td>NaN</td>\n",
       "      <td>NaN</td>\n",
       "      <td>NaN</td>\n",
       "      <td>NaN</td>\n",
       "      <td>NaN</td>\n",
       "      <td>NaN</td>\n",
       "      <td>NaN</td>\n",
       "      <td>NaN</td>\n",
       "      <td>NaN</td>\n",
       "      <td>NaN</td>\n",
       "      <td>NaN</td>\n",
       "    </tr>\n",
       "    <tr>\n",
       "      <th>1</th>\n",
       "      <td>[]</td>\n",
       "      <td>False</td>\n",
       "      <td>LL-Reddit</td>\n",
       "      <td>None</td>\n",
       "      <td>[]</td>\n",
       "      <td>None</td>\n",
       "      <td>text</td>\n",
       "      <td>t2_g3s4xhpg</td>\n",
       "      <td>False</td>\n",
       "      <td>False</td>\n",
       "      <td>False</td>\n",
       "      <td>[]</td>\n",
       "      <td>False</td>\n",
       "      <td>False</td>\n",
       "      <td>1636423155</td>\n",
       "      <td>self.urbandesign</td>\n",
       "      <td>https://www.reddit.com/r/urbandesign/comments/...</td>\n",
       "      <td>{}</td>\n",
       "      <td>qpt335</td>\n",
       "      <td>False</td>\n",
       "      <td>False</td>\n",
       "      <td>False</td>\n",
       "      <td>False</td>\n",
       "      <td>False</td>\n",
       "      <td>False</td>\n",
       "      <td>True</td>\n",
       "      <td>False</td>\n",
       "      <td></td>\n",
       "      <td>[]</td>\n",
       "      <td>dark</td>\n",
       "      <td>text</td>\n",
       "      <td>False</td>\n",
       "      <td>False</td>\n",
       "      <td>True</td>\n",
       "      <td>0</td>\n",
       "      <td>0.0</td>\n",
       "      <td>False</td>\n",
       "      <td>all_ads</td>\n",
       "      <td>/r/urbandesign/comments/qpt335/hi_guys_plz_hel...</td>\n",
       "      <td>False</td>\n",
       "      <td>self</td>\n",
       "      <td>{'enabled': False, 'images': [{'id': 'CMtvGTIg...</td>\n",
       "      <td>6.0</td>\n",
       "      <td>1.636423e+09</td>\n",
       "      <td>1</td>\n",
       "      <td>[removed]</td>\n",
       "      <td>True</td>\n",
       "      <td>False</td>\n",
       "      <td>False</td>\n",
       "      <td>urbandesign</td>\n",
       "      <td>t5_2r0d5</td>\n",
       "      <td>202370.0</td>\n",
       "      <td>public</td>\n",
       "      <td>self</td>\n",
       "      <td>Hi guys, plz help me with the survey of my sch...</td>\n",
       "      <td>0.0</td>\n",
       "      <td>[]</td>\n",
       "      <td>1.0</td>\n",
       "      <td>https://www.reddit.com/r/urbandesign/comments/...</td>\n",
       "      <td>all_ads</td>\n",
       "      <td>6.0</td>\n",
       "      <td>reddit</td>\n",
       "      <td>NaN</td>\n",
       "      <td>NaN</td>\n",
       "      <td>NaN</td>\n",
       "      <td>NaN</td>\n",
       "      <td>NaN</td>\n",
       "      <td>NaN</td>\n",
       "      <td>NaN</td>\n",
       "      <td>NaN</td>\n",
       "      <td>NaN</td>\n",
       "      <td>NaN</td>\n",
       "      <td>NaN</td>\n",
       "      <td>NaN</td>\n",
       "      <td>NaN</td>\n",
       "      <td>NaN</td>\n",
       "      <td>NaN</td>\n",
       "      <td>NaN</td>\n",
       "      <td>NaN</td>\n",
       "      <td>NaN</td>\n",
       "      <td>NaN</td>\n",
       "      <td>NaN</td>\n",
       "      <td>NaN</td>\n",
       "      <td>NaN</td>\n",
       "      <td>NaN</td>\n",
       "      <td>NaN</td>\n",
       "      <td>NaN</td>\n",
       "    </tr>\n",
       "    <tr>\n",
       "      <th>2</th>\n",
       "      <td>[]</td>\n",
       "      <td>False</td>\n",
       "      <td>SweetZoJe</td>\n",
       "      <td>None</td>\n",
       "      <td>[]</td>\n",
       "      <td>None</td>\n",
       "      <td>text</td>\n",
       "      <td>t2_lbcay</td>\n",
       "      <td>False</td>\n",
       "      <td>False</td>\n",
       "      <td>False</td>\n",
       "      <td>[]</td>\n",
       "      <td>False</td>\n",
       "      <td>False</td>\n",
       "      <td>1636109918</td>\n",
       "      <td>self.urbandesign</td>\n",
       "      <td>https://www.reddit.com/r/urbandesign/comments/...</td>\n",
       "      <td>{}</td>\n",
       "      <td>qn8lti</td>\n",
       "      <td>False</td>\n",
       "      <td>True</td>\n",
       "      <td>False</td>\n",
       "      <td>False</td>\n",
       "      <td>False</td>\n",
       "      <td>True</td>\n",
       "      <td>True</td>\n",
       "      <td>False</td>\n",
       "      <td></td>\n",
       "      <td>[]</td>\n",
       "      <td>dark</td>\n",
       "      <td>text</td>\n",
       "      <td>False</td>\n",
       "      <td>False</td>\n",
       "      <td>True</td>\n",
       "      <td>1</td>\n",
       "      <td>0.0</td>\n",
       "      <td>False</td>\n",
       "      <td>all_ads</td>\n",
       "      <td>/r/urbandesign/comments/qn8lti/preparing_a_por...</td>\n",
       "      <td>False</td>\n",
       "      <td>NaN</td>\n",
       "      <td>NaN</td>\n",
       "      <td>6.0</td>\n",
       "      <td>1.636110e+09</td>\n",
       "      <td>1</td>\n",
       "      <td>Hello reddit!\\n\\nI have an upcoming interview ...</td>\n",
       "      <td>True</td>\n",
       "      <td>False</td>\n",
       "      <td>False</td>\n",
       "      <td>urbandesign</td>\n",
       "      <td>t5_2r0d5</td>\n",
       "      <td>201676.0</td>\n",
       "      <td>public</td>\n",
       "      <td>self</td>\n",
       "      <td>Preparing a portfolio for a remote Urban Desig...</td>\n",
       "      <td>0.0</td>\n",
       "      <td>[]</td>\n",
       "      <td>1.0</td>\n",
       "      <td>https://www.reddit.com/r/urbandesign/comments/...</td>\n",
       "      <td>all_ads</td>\n",
       "      <td>6.0</td>\n",
       "      <td>NaN</td>\n",
       "      <td>NaN</td>\n",
       "      <td>NaN</td>\n",
       "      <td>NaN</td>\n",
       "      <td>NaN</td>\n",
       "      <td>NaN</td>\n",
       "      <td>NaN</td>\n",
       "      <td>NaN</td>\n",
       "      <td>NaN</td>\n",
       "      <td>NaN</td>\n",
       "      <td>NaN</td>\n",
       "      <td>NaN</td>\n",
       "      <td>NaN</td>\n",
       "      <td>NaN</td>\n",
       "      <td>NaN</td>\n",
       "      <td>NaN</td>\n",
       "      <td>NaN</td>\n",
       "      <td>NaN</td>\n",
       "      <td>NaN</td>\n",
       "      <td>NaN</td>\n",
       "      <td>NaN</td>\n",
       "      <td>NaN</td>\n",
       "      <td>NaN</td>\n",
       "      <td>NaN</td>\n",
       "      <td>NaN</td>\n",
       "      <td>NaN</td>\n",
       "    </tr>\n",
       "    <tr>\n",
       "      <th>3</th>\n",
       "      <td>[]</td>\n",
       "      <td>False</td>\n",
       "      <td>properthief</td>\n",
       "      <td>None</td>\n",
       "      <td>[]</td>\n",
       "      <td>None</td>\n",
       "      <td>text</td>\n",
       "      <td>t2_46vcgave</td>\n",
       "      <td>False</td>\n",
       "      <td>False</td>\n",
       "      <td>False</td>\n",
       "      <td>[]</td>\n",
       "      <td>False</td>\n",
       "      <td>False</td>\n",
       "      <td>1635740517</td>\n",
       "      <td>self.urbandesign</td>\n",
       "      <td>https://www.reddit.com/r/urbandesign/comments/...</td>\n",
       "      <td>{}</td>\n",
       "      <td>qk6adn</td>\n",
       "      <td>False</td>\n",
       "      <td>True</td>\n",
       "      <td>False</td>\n",
       "      <td>False</td>\n",
       "      <td>False</td>\n",
       "      <td>True</td>\n",
       "      <td>True</td>\n",
       "      <td>False</td>\n",
       "      <td></td>\n",
       "      <td>[]</td>\n",
       "      <td>dark</td>\n",
       "      <td>text</td>\n",
       "      <td>False</td>\n",
       "      <td>False</td>\n",
       "      <td>True</td>\n",
       "      <td>3</td>\n",
       "      <td>0.0</td>\n",
       "      <td>False</td>\n",
       "      <td>all_ads</td>\n",
       "      <td>/r/urbandesign/comments/qk6adn/urban_design_ma...</td>\n",
       "      <td>False</td>\n",
       "      <td>NaN</td>\n",
       "      <td>NaN</td>\n",
       "      <td>6.0</td>\n",
       "      <td>1.635741e+09</td>\n",
       "      <td>1</td>\n",
       "      <td>Are there any Masters of Urban Design program ...</td>\n",
       "      <td>True</td>\n",
       "      <td>False</td>\n",
       "      <td>False</td>\n",
       "      <td>urbandesign</td>\n",
       "      <td>t5_2r0d5</td>\n",
       "      <td>200893.0</td>\n",
       "      <td>public</td>\n",
       "      <td>self</td>\n",
       "      <td>Urban Design Masters in France??</td>\n",
       "      <td>0.0</td>\n",
       "      <td>[]</td>\n",
       "      <td>1.0</td>\n",
       "      <td>https://www.reddit.com/r/urbandesign/comments/...</td>\n",
       "      <td>all_ads</td>\n",
       "      <td>6.0</td>\n",
       "      <td>NaN</td>\n",
       "      <td>NaN</td>\n",
       "      <td>NaN</td>\n",
       "      <td>NaN</td>\n",
       "      <td>NaN</td>\n",
       "      <td>NaN</td>\n",
       "      <td>NaN</td>\n",
       "      <td>NaN</td>\n",
       "      <td>NaN</td>\n",
       "      <td>NaN</td>\n",
       "      <td>NaN</td>\n",
       "      <td>NaN</td>\n",
       "      <td>NaN</td>\n",
       "      <td>NaN</td>\n",
       "      <td>NaN</td>\n",
       "      <td>NaN</td>\n",
       "      <td>NaN</td>\n",
       "      <td>NaN</td>\n",
       "      <td>NaN</td>\n",
       "      <td>NaN</td>\n",
       "      <td>NaN</td>\n",
       "      <td>NaN</td>\n",
       "      <td>NaN</td>\n",
       "      <td>NaN</td>\n",
       "      <td>NaN</td>\n",
       "      <td>NaN</td>\n",
       "    </tr>\n",
       "    <tr>\n",
       "      <th>4</th>\n",
       "      <td>[]</td>\n",
       "      <td>False</td>\n",
       "      <td>CarlaSamuel</td>\n",
       "      <td>None</td>\n",
       "      <td>[]</td>\n",
       "      <td>None</td>\n",
       "      <td>text</td>\n",
       "      <td>t2_bbux6bt3</td>\n",
       "      <td>False</td>\n",
       "      <td>False</td>\n",
       "      <td>False</td>\n",
       "      <td>[]</td>\n",
       "      <td>False</td>\n",
       "      <td>False</td>\n",
       "      <td>1635694134</td>\n",
       "      <td>self.urbandesign</td>\n",
       "      <td>https://www.reddit.com/r/urbandesign/comments/...</td>\n",
       "      <td>{}</td>\n",
       "      <td>qjrva5</td>\n",
       "      <td>False</td>\n",
       "      <td>True</td>\n",
       "      <td>False</td>\n",
       "      <td>False</td>\n",
       "      <td>False</td>\n",
       "      <td>True</td>\n",
       "      <td>True</td>\n",
       "      <td>False</td>\n",
       "      <td></td>\n",
       "      <td>[]</td>\n",
       "      <td>dark</td>\n",
       "      <td>text</td>\n",
       "      <td>False</td>\n",
       "      <td>False</td>\n",
       "      <td>True</td>\n",
       "      <td>13</td>\n",
       "      <td>0.0</td>\n",
       "      <td>False</td>\n",
       "      <td>all_ads</td>\n",
       "      <td>/r/urbandesign/comments/qjrva5/cant_seem_to_fi...</td>\n",
       "      <td>False</td>\n",
       "      <td>NaN</td>\n",
       "      <td>NaN</td>\n",
       "      <td>6.0</td>\n",
       "      <td>1.635694e+09</td>\n",
       "      <td>1</td>\n",
       "      <td>So I had my masters in Urban Design, Sweden, a...</td>\n",
       "      <td>True</td>\n",
       "      <td>False</td>\n",
       "      <td>False</td>\n",
       "      <td>urbandesign</td>\n",
       "      <td>t5_2r0d5</td>\n",
       "      <td>200808.0</td>\n",
       "      <td>public</td>\n",
       "      <td>self</td>\n",
       "      <td>Cant seem to find an Urban Planning/Design job...</td>\n",
       "      <td>0.0</td>\n",
       "      <td>[]</td>\n",
       "      <td>1.0</td>\n",
       "      <td>https://www.reddit.com/r/urbandesign/comments/...</td>\n",
       "      <td>all_ads</td>\n",
       "      <td>6.0</td>\n",
       "      <td>NaN</td>\n",
       "      <td>NaN</td>\n",
       "      <td>NaN</td>\n",
       "      <td>NaN</td>\n",
       "      <td>NaN</td>\n",
       "      <td>NaN</td>\n",
       "      <td>NaN</td>\n",
       "      <td>NaN</td>\n",
       "      <td>NaN</td>\n",
       "      <td>NaN</td>\n",
       "      <td>NaN</td>\n",
       "      <td>NaN</td>\n",
       "      <td>NaN</td>\n",
       "      <td>NaN</td>\n",
       "      <td>NaN</td>\n",
       "      <td>NaN</td>\n",
       "      <td>NaN</td>\n",
       "      <td>NaN</td>\n",
       "      <td>NaN</td>\n",
       "      <td>NaN</td>\n",
       "      <td>NaN</td>\n",
       "      <td>NaN</td>\n",
       "      <td>NaN</td>\n",
       "      <td>NaN</td>\n",
       "      <td>NaN</td>\n",
       "      <td>NaN</td>\n",
       "    </tr>\n",
       "  </tbody>\n",
       "</table>\n",
       "</div>"
      ],
      "text/plain": [
       "  all_awardings allow_live_comments       author author_flair_css_class  \\\n",
       "0            []               False     Oleks_DT                   None   \n",
       "1            []               False    LL-Reddit                   None   \n",
       "2            []               False    SweetZoJe                   None   \n",
       "3            []               False  properthief                   None   \n",
       "4            []               False  CarlaSamuel                   None   \n",
       "\n",
       "  author_flair_richtext author_flair_text author_flair_type author_fullname  \\\n",
       "0                    []              None              text     t2_bx1aofof   \n",
       "1                    []              None              text     t2_g3s4xhpg   \n",
       "2                    []              None              text        t2_lbcay   \n",
       "3                    []              None              text     t2_46vcgave   \n",
       "4                    []              None              text     t2_bbux6bt3   \n",
       "\n",
       "  author_is_blocked author_patreon_flair author_premium awarders can_mod_post  \\\n",
       "0             False                False          False       []        False   \n",
       "1             False                False          False       []        False   \n",
       "2             False                False          False       []        False   \n",
       "3             False                False          False       []        False   \n",
       "4             False                False          False       []        False   \n",
       "\n",
       "  contest_mode  created_utc            domain  \\\n",
       "0        False   1636654022  self.urbandesign   \n",
       "1        False   1636423155  self.urbandesign   \n",
       "2        False   1636109918  self.urbandesign   \n",
       "3        False   1635740517  self.urbandesign   \n",
       "4        False   1635694134  self.urbandesign   \n",
       "\n",
       "                                           full_link gildings      id  \\\n",
       "0  https://www.reddit.com/r/urbandesign/comments/...       {}  qrr5ah   \n",
       "1  https://www.reddit.com/r/urbandesign/comments/...       {}  qpt335   \n",
       "2  https://www.reddit.com/r/urbandesign/comments/...       {}  qn8lti   \n",
       "3  https://www.reddit.com/r/urbandesign/comments/...       {}  qk6adn   \n",
       "4  https://www.reddit.com/r/urbandesign/comments/...       {}  qjrva5   \n",
       "\n",
       "  is_created_from_ads_ui is_crosspostable is_meta is_original_content  \\\n",
       "0                  False             True   False               False   \n",
       "1                  False            False   False               False   \n",
       "2                  False             True   False               False   \n",
       "3                  False             True   False               False   \n",
       "4                  False             True   False               False   \n",
       "\n",
       "  is_reddit_media_domain is_robot_indexable  is_self is_video  \\\n",
       "0                  False               True     True    False   \n",
       "1                  False              False     True    False   \n",
       "2                  False               True     True    False   \n",
       "3                  False               True     True    False   \n",
       "4                  False               True     True    False   \n",
       "\n",
       "  link_flair_background_color link_flair_richtext link_flair_text_color  \\\n",
       "0                                              []                  dark   \n",
       "1                                              []                  dark   \n",
       "2                                              []                  dark   \n",
       "3                                              []                  dark   \n",
       "4                                              []                  dark   \n",
       "\n",
       "  link_flair_type locked media_only no_follow  num_comments  num_crossposts  \\\n",
       "0            text  False      False      True             0             0.0   \n",
       "1            text  False      False      True             0             0.0   \n",
       "2            text  False      False      True             1             0.0   \n",
       "3            text  False      False      True             3             0.0   \n",
       "4            text  False      False      True            13             0.0   \n",
       "\n",
       "   over_18 parent_whitelist_status  \\\n",
       "0    False                 all_ads   \n",
       "1    False                 all_ads   \n",
       "2    False                 all_ads   \n",
       "3    False                 all_ads   \n",
       "4    False                 all_ads   \n",
       "\n",
       "                                           permalink pinned post_hint  \\\n",
       "0  /r/urbandesign/comments/qrr5ah/topdown_and_bot...  False      self   \n",
       "1  /r/urbandesign/comments/qpt335/hi_guys_plz_hel...  False      self   \n",
       "2  /r/urbandesign/comments/qn8lti/preparing_a_por...  False       NaN   \n",
       "3  /r/urbandesign/comments/qk6adn/urban_design_ma...  False       NaN   \n",
       "4  /r/urbandesign/comments/qjrva5/cant_seem_to_fi...  False       NaN   \n",
       "\n",
       "                                             preview  pwls  retrieved_on  \\\n",
       "0  {'enabled': False, 'images': [{'id': 'UxMarmvk...   6.0  1.636654e+09   \n",
       "1  {'enabled': False, 'images': [{'id': 'CMtvGTIg...   6.0  1.636423e+09   \n",
       "2                                                NaN   6.0  1.636110e+09   \n",
       "3                                                NaN   6.0  1.635741e+09   \n",
       "4                                                NaN   6.0  1.635694e+09   \n",
       "\n",
       "   score                                           selftext send_replies  \\\n",
       "0      1  [https://youtu.be/rp4kiddWTm4](https://youtu.b...         True   \n",
       "1      1                                          [removed]         True   \n",
       "2      1  Hello reddit!\\n\\nI have an upcoming interview ...         True   \n",
       "3      1  Are there any Masters of Urban Design program ...         True   \n",
       "4      1  So I had my masters in Urban Design, Sweden, a...         True   \n",
       "\n",
       "  spoiler stickied    subreddit subreddit_id  subreddit_subscribers  \\\n",
       "0   False    False  urbandesign     t5_2r0d5               202916.0   \n",
       "1   False    False  urbandesign     t5_2r0d5               202370.0   \n",
       "2   False    False  urbandesign     t5_2r0d5               201676.0   \n",
       "3   False    False  urbandesign     t5_2r0d5               200893.0   \n",
       "4   False    False  urbandesign     t5_2r0d5               200808.0   \n",
       "\n",
       "  subreddit_type thumbnail                                              title  \\\n",
       "0         public      self          TOP-DOWN and BOTTOM-UP urban development.   \n",
       "1         public      self  Hi guys, plz help me with the survey of my sch...   \n",
       "2         public      self  Preparing a portfolio for a remote Urban Desig...   \n",
       "3         public      self                   Urban Design Masters in France??   \n",
       "4         public      self  Cant seem to find an Urban Planning/Design job...   \n",
       "\n",
       "   total_awards_received treatment_tags  upvote_ratio  \\\n",
       "0                    0.0             []           1.0   \n",
       "1                    0.0             []           1.0   \n",
       "2                    0.0             []           1.0   \n",
       "3                    0.0             []           1.0   \n",
       "4                    0.0             []           1.0   \n",
       "\n",
       "                                                 url whitelist_status  wls  \\\n",
       "0  https://www.reddit.com/r/urbandesign/comments/...          all_ads  6.0   \n",
       "1  https://www.reddit.com/r/urbandesign/comments/...          all_ads  6.0   \n",
       "2  https://www.reddit.com/r/urbandesign/comments/...          all_ads  6.0   \n",
       "3  https://www.reddit.com/r/urbandesign/comments/...          all_ads  6.0   \n",
       "4  https://www.reddit.com/r/urbandesign/comments/...          all_ads  6.0   \n",
       "\n",
       "  removed_by_category media_metadata poll_data  thumbnail_height  \\\n",
       "0                 NaN            NaN       NaN               NaN   \n",
       "1              reddit            NaN       NaN               NaN   \n",
       "2                 NaN            NaN       NaN               NaN   \n",
       "3                 NaN            NaN       NaN               NaN   \n",
       "4                 NaN            NaN       NaN               NaN   \n",
       "\n",
       "   thumbnail_width author_flair_background_color author_flair_text_color  \\\n",
       "0              NaN                           NaN                     NaN   \n",
       "1              NaN                           NaN                     NaN   \n",
       "2              NaN                           NaN                     NaN   \n",
       "3              NaN                           NaN                     NaN   \n",
       "4              NaN                           NaN                     NaN   \n",
       "\n",
       "   edited steward_reports  updated_utc  author_created_utc  \\\n",
       "0     NaN             NaN          NaN                 NaN   \n",
       "1     NaN             NaN          NaN                 NaN   \n",
       "2     NaN             NaN          NaN                 NaN   \n",
       "3     NaN             NaN          NaN                 NaN   \n",
       "4     NaN             NaN          NaN                 NaN   \n",
       "\n",
       "   author_flair_template_id  category  content_categories  gilded media_embed  \\\n",
       "0                       NaN       NaN                 NaN     NaN         NaN   \n",
       "1                       NaN       NaN                 NaN     NaN         NaN   \n",
       "2                       NaN       NaN                 NaN     NaN         NaN   \n",
       "3                       NaN       NaN                 NaN     NaN         NaN   \n",
       "4                       NaN       NaN                 NaN     NaN         NaN   \n",
       "\n",
       "   removal_reason secure_media_embed  suggested_sort rte_mode brand_safe  \\\n",
       "0             NaN                NaN             NaN      NaN        NaN   \n",
       "1             NaN                NaN             NaN      NaN        NaN   \n",
       "2             NaN                NaN             NaN      NaN        NaN   \n",
       "3             NaN                NaN             NaN      NaN        NaN   \n",
       "4             NaN                NaN             NaN      NaN        NaN   \n",
       "\n",
       "  author_cakeday  approved_at_utc  banned_at_utc mod_reports user_reports  \n",
       "0            NaN              NaN            NaN         NaN          NaN  \n",
       "1            NaN              NaN            NaN         NaN          NaN  \n",
       "2            NaN              NaN            NaN         NaN          NaN  \n",
       "3            NaN              NaN            NaN         NaN          NaN  \n",
       "4            NaN              NaN            NaN         NaN          NaN  "
      ]
     },
     "execution_count": 6,
     "metadata": {},
     "output_type": "execute_result"
    }
   ],
   "source": [
    "data_ud.head()"
   ]
  },
  {
   "cell_type": "code",
   "execution_count": 3,
   "id": "d60b32ac",
   "metadata": {},
   "outputs": [
    {
     "ename": "NameError",
     "evalue": "name 'data_ud' is not defined",
     "output_type": "error",
     "traceback": [
      "\u001b[1;31m---------------------------------------------------------------------------\u001b[0m",
      "\u001b[1;31mNameError\u001b[0m                                 Traceback (most recent call last)",
      "\u001b[1;32m<ipython-input-3-7e452d8e30d4>\u001b[0m in \u001b[0;36m<module>\u001b[1;34m\u001b[0m\n\u001b[1;32m----> 1\u001b[1;33m \u001b[0mdata_ud\u001b[0m\u001b[1;33m.\u001b[0m\u001b[0mloc\u001b[0m\u001b[1;33m[\u001b[0m\u001b[1;33m:\u001b[0m\u001b[1;33m,\u001b[0m\u001b[1;33m[\u001b[0m\u001b[1;34m'subreddit'\u001b[0m\u001b[1;33m,\u001b[0m\u001b[1;34m'title'\u001b[0m\u001b[1;33m,\u001b[0m\u001b[1;34m'created_utc'\u001b[0m\u001b[1;33m]\u001b[0m\u001b[1;33m]\u001b[0m\u001b[1;33m.\u001b[0m\u001b[0mhead\u001b[0m\u001b[1;33m(\u001b[0m\u001b[1;33m)\u001b[0m\u001b[1;33m\u001b[0m\u001b[1;33m\u001b[0m\u001b[0m\n\u001b[0m",
      "\u001b[1;31mNameError\u001b[0m: name 'data_ud' is not defined"
     ]
    }
   ],
   "source": [
    "data_ud.loc[:,['subreddit','title','created_utc']].head()"
   ]
  },
  {
   "cell_type": "code",
   "execution_count": 8,
   "id": "67a09ccc",
   "metadata": {},
   "outputs": [
    {
     "data": {
      "text/plain": [
       "{'subreddit': 'urbandesign',\n",
       " 'size': 100,\n",
       " 'is_self': True,\n",
       " 'before': 1323379851}"
      ]
     },
     "execution_count": 8,
     "metadata": {},
     "output_type": "execute_result"
    }
   ],
   "source": [
    "params"
   ]
  },
  {
   "cell_type": "code",
   "execution_count": null,
   "id": "87ab2aef",
   "metadata": {},
   "outputs": [],
   "source": [
    "df1['created_utc'][99]"
   ]
  },
  {
   "cell_type": "code",
   "execution_count": 4,
   "id": "b84bfc59",
   "metadata": {},
   "outputs": [
    {
     "name": "stdout",
     "output_type": "stream",
     "text": [
      " for 0 data shape is (100, 76)\n",
      " for 1 data shape is (200, 80)\n",
      " for 2 data shape is (300, 80)\n",
      " for 3 data shape is (400, 81)\n",
      " for 4 data shape is (500, 81)\n",
      " for 5 data shape is (600, 81)\n",
      " for 6 data shape is (700, 81)\n",
      " for 7 data shape is (800, 82)\n",
      " for 8 data shape is (900, 82)\n",
      " for 9 data shape is (1000, 82)\n",
      " for 10 data shape is (1100, 82)\n",
      " for 11 data shape is (1200, 82)\n",
      " for 12 data shape is (1300, 82)\n",
      " for 13 data shape is (1400, 82)\n",
      " for 14 data shape is (1500, 82)\n",
      " for 15 data shape is (1600, 82)\n",
      " for 16 data shape is (1700, 83)\n",
      " for 17 data shape is (1800, 83)\n",
      " for 18 data shape is (1900, 83)\n",
      " for 19 data shape is (2000, 83)\n"
     ]
    }
   ],
   "source": [
    "url = 'https://api.pushshift.io//reddit/search/submission'\n",
    "#parameters for the APi\n",
    "params = {\n",
    "    'subreddit':'urbanplanning',\n",
    "    'size':100,\n",
    "   \n",
    "}\n",
    "data_up = pd.DataFrame()\n",
    "\n",
    "for i in range(20):\n",
    "    try:\n",
    "        #get the data from the url \n",
    "        res = requests.get(url,params)\n",
    "        #creating a list of dictionary which represent a post \n",
    "        urban_planning = res.json()['data']\n",
    "        # creating a dataframe from  the urban planning\n",
    "        df1 = pd.DataFrame(urban_planning)\n",
    "\n",
    "        #updating the parameters to have the oldest time for the post\n",
    "        params['before'] = min(df1['created_utc'])\n",
    "        #append the dataframe\n",
    "        data_up = data_up.append(df1,ignore_index=True)\n",
    "        print( f\" for {i} data shape is {data_up.shape}\")\n",
    "         #adding sleep function\n",
    "        if i%3 == 0:\n",
    "            time.sleep(2)\n",
    "    except:\n",
    "        pass\n"
   ]
  },
  {
   "cell_type": "code",
   "execution_count": 5,
   "id": "5cc0b4d7",
   "metadata": {},
   "outputs": [
    {
     "data": {
      "text/html": [
       "<div>\n",
       "<style scoped>\n",
       "    .dataframe tbody tr th:only-of-type {\n",
       "        vertical-align: middle;\n",
       "    }\n",
       "\n",
       "    .dataframe tbody tr th {\n",
       "        vertical-align: top;\n",
       "    }\n",
       "\n",
       "    .dataframe thead th {\n",
       "        text-align: right;\n",
       "    }\n",
       "</style>\n",
       "<table border=\"1\" class=\"dataframe\">\n",
       "  <thead>\n",
       "    <tr style=\"text-align: right;\">\n",
       "      <th></th>\n",
       "      <th>subreddit</th>\n",
       "      <th>title</th>\n",
       "      <th>selftext</th>\n",
       "    </tr>\n",
       "  </thead>\n",
       "  <tbody>\n",
       "    <tr>\n",
       "      <th>0</th>\n",
       "      <td>urbanplanning</td>\n",
       "      <td>How do I market myself as best as possible for...</td>\n",
       "      <td>I recently contacted an organization reaching ...</td>\n",
       "    </tr>\n",
       "    <tr>\n",
       "      <th>1</th>\n",
       "      <td>urbanplanning</td>\n",
       "      <td>Advice on schooling</td>\n",
       "      <td>Hi everyone, I'm currently finishing my first ...</td>\n",
       "    </tr>\n",
       "    <tr>\n",
       "      <th>2</th>\n",
       "      <td>urbanplanning</td>\n",
       "      <td>Looking for advice</td>\n",
       "      <td>I’m currently a freshman majoring in computer ...</td>\n",
       "    </tr>\n",
       "    <tr>\n",
       "      <th>3</th>\n",
       "      <td>urbanplanning</td>\n",
       "      <td>[Repost] E-Scooter Survey</td>\n",
       "      <td>Hello! I am a researcher at the HumanFIRST lab...</td>\n",
       "    </tr>\n",
       "    <tr>\n",
       "      <th>4</th>\n",
       "      <td>urbanplanning</td>\n",
       "      <td>How Public Housing Can Make a Difference</td>\n",
       "      <td></td>\n",
       "    </tr>\n",
       "  </tbody>\n",
       "</table>\n",
       "</div>"
      ],
      "text/plain": [
       "       subreddit                                              title  \\\n",
       "0  urbanplanning  How do I market myself as best as possible for...   \n",
       "1  urbanplanning                                Advice on schooling   \n",
       "2  urbanplanning                                 Looking for advice   \n",
       "3  urbanplanning                          [Repost] E-Scooter Survey   \n",
       "4  urbanplanning           How Public Housing Can Make a Difference   \n",
       "\n",
       "                                            selftext  \n",
       "0  I recently contacted an organization reaching ...  \n",
       "1  Hi everyone, I'm currently finishing my first ...  \n",
       "2  I’m currently a freshman majoring in computer ...  \n",
       "3  Hello! I am a researcher at the HumanFIRST lab...  \n",
       "4                                                     "
      ]
     },
     "execution_count": 5,
     "metadata": {},
     "output_type": "execute_result"
    }
   ],
   "source": [
    "data_up.loc[:,['subreddit','title','selftext']].head()\n",
    "urb_pl = data_up.loc[:,['subreddit','title','selftext']]\n",
    "urb_pl.head()"
   ]
  },
  {
   "cell_type": "code",
   "execution_count": 8,
   "id": "eb43902f",
   "metadata": {},
   "outputs": [
    {
     "data": {
      "text/plain": [
       "(2000, 3)"
      ]
     },
     "execution_count": 8,
     "metadata": {},
     "output_type": "execute_result"
    }
   ],
   "source": [
    "urb_pl.shape"
   ]
  },
  {
   "cell_type": "code",
   "execution_count": null,
   "id": "ffdf7628",
   "metadata": {},
   "outputs": [],
   "source": []
  },
  {
   "cell_type": "code",
   "execution_count": 6,
   "id": "95deb101",
   "metadata": {},
   "outputs": [
    {
     "name": "stdout",
     "output_type": "stream",
     "text": [
      " for 0 data shape is (100, 77)\n",
      " for 1 data shape is (200, 77)\n",
      " for 2 data shape is (300, 78)\n",
      " for 3 data shape is (399, 79)\n",
      " for 4 data shape is (499, 79)\n",
      " for 5 data shape is (599, 79)\n",
      " for 6 data shape is (699, 79)\n",
      " for 7 data shape is (799, 79)\n",
      " for 8 data shape is (899, 80)\n",
      " for 9 data shape is (999, 80)\n",
      " for 10 data shape is (1099, 80)\n",
      " for 11 data shape is (1199, 81)\n",
      " for 12 data shape is (1299, 81)\n",
      " for 13 data shape is (1399, 81)\n",
      " for 14 data shape is (1497, 81)\n",
      " for 15 data shape is (1591, 81)\n",
      " for 16 data shape is (1691, 81)\n",
      " for 17 data shape is (1791, 81)\n",
      " for 18 data shape is (1891, 81)\n",
      " for 19 data shape is (1991, 81)\n",
      " for 20 data shape is (2091, 81)\n"
     ]
    }
   ],
   "source": [
    "url = 'https://api.pushshift.io//reddit/search/submission'\n",
    "#parameters for the APi\n",
    "params = {\n",
    "    'subreddit':'sustainability',\n",
    "    'size':100,\n",
    "   \n",
    "}\n",
    "data_sust = pd.DataFrame()\n",
    "\n",
    "for i in range(21):\n",
    "    try:\n",
    "        #get the data from the url \n",
    "        res = requests.get(url,params)\n",
    "        #creating a list of dictionary which represent a post \n",
    "        sustai = res.json()['data']\n",
    "        # creating a dataframe from  the urban design \n",
    "        df1 = pd.DataFrame(sustai)\n",
    "\n",
    "        #updating the parameters to have the oldest time for the post\n",
    "        params['before'] = min(df1['created_utc'])\n",
    "        #append the dataframe\n",
    "        data_sust = data_sust.append(df1,ignore_index=True)\n",
    "        print( f\" for {i} data shape is {data_sust.shape}\")\n",
    "         #adding sleep function\n",
    "        if i%3 == 0:\n",
    "            time.sleep(2)\n",
    "    except:\n",
    "        pass\n"
   ]
  },
  {
   "cell_type": "markdown",
   "id": "efb21053",
   "metadata": {},
   "source": [
    "### Data cleanning"
   ]
  },
  {
   "cell_type": "code",
   "execution_count": 8,
   "id": "38b0c685",
   "metadata": {},
   "outputs": [
    {
     "data": {
      "text/html": [
       "<div>\n",
       "<style scoped>\n",
       "    .dataframe tbody tr th:only-of-type {\n",
       "        vertical-align: middle;\n",
       "    }\n",
       "\n",
       "    .dataframe tbody tr th {\n",
       "        vertical-align: top;\n",
       "    }\n",
       "\n",
       "    .dataframe thead th {\n",
       "        text-align: right;\n",
       "    }\n",
       "</style>\n",
       "<table border=\"1\" class=\"dataframe\">\n",
       "  <thead>\n",
       "    <tr style=\"text-align: right;\">\n",
       "      <th></th>\n",
       "      <th>subreddit</th>\n",
       "      <th>title</th>\n",
       "      <th>selftext</th>\n",
       "    </tr>\n",
       "  </thead>\n",
       "  <tbody>\n",
       "    <tr>\n",
       "      <th>0</th>\n",
       "      <td>sustainability</td>\n",
       "      <td>When I see someone preach sustainable living</td>\n",
       "      <td></td>\n",
       "    </tr>\n",
       "    <tr>\n",
       "      <th>1</th>\n",
       "      <td>sustainability</td>\n",
       "      <td>GenZ VS Earth</td>\n",
       "      <td></td>\n",
       "    </tr>\n",
       "    <tr>\n",
       "      <th>2</th>\n",
       "      <td>sustainability</td>\n",
       "      <td>DIY Christmas cards</td>\n",
       "      <td></td>\n",
       "    </tr>\n",
       "    <tr>\n",
       "      <th>3</th>\n",
       "      <td>sustainability</td>\n",
       "      <td>NatureTech Jobs</td>\n",
       "      <td>Checkout [https://nauturetech.io](https://naut...</td>\n",
       "    </tr>\n",
       "    <tr>\n",
       "      <th>4</th>\n",
       "      <td>sustainability</td>\n",
       "      <td>Please complete this survey on sustainable pur...</td>\n",
       "      <td></td>\n",
       "    </tr>\n",
       "  </tbody>\n",
       "</table>\n",
       "</div>"
      ],
      "text/plain": [
       "        subreddit                                              title  \\\n",
       "0  sustainability       When I see someone preach sustainable living   \n",
       "1  sustainability                                      GenZ VS Earth   \n",
       "2  sustainability                                DIY Christmas cards   \n",
       "3  sustainability                                    NatureTech Jobs   \n",
       "4  sustainability  Please complete this survey on sustainable pur...   \n",
       "\n",
       "                                            selftext  \n",
       "0                                                     \n",
       "1                                                     \n",
       "2                                                     \n",
       "3  Checkout [https://nauturetech.io](https://naut...  \n",
       "4                                                     "
      ]
     },
     "execution_count": 8,
     "metadata": {},
     "output_type": "execute_result"
    }
   ],
   "source": [
    "data_sust.loc[:,['subreddit','title','selftext']].head()\n",
    "sust = data_sust.loc[:,['subreddit','title','selftext']]\n",
    "sust.head()"
   ]
  },
  {
   "cell_type": "code",
   "execution_count": 9,
   "id": "3dbc01f0",
   "metadata": {},
   "outputs": [
    {
     "data": {
      "text/plain": [
       "(2091, 3)"
      ]
     },
     "execution_count": 9,
     "metadata": {},
     "output_type": "execute_result"
    }
   ],
   "source": [
    "sust.shape"
   ]
  },
  {
   "cell_type": "code",
   "execution_count": 10,
   "id": "2c872888",
   "metadata": {},
   "outputs": [
    {
     "data": {
      "text/html": [
       "<div>\n",
       "<style scoped>\n",
       "    .dataframe tbody tr th:only-of-type {\n",
       "        vertical-align: middle;\n",
       "    }\n",
       "\n",
       "    .dataframe tbody tr th {\n",
       "        vertical-align: top;\n",
       "    }\n",
       "\n",
       "    .dataframe thead th {\n",
       "        text-align: right;\n",
       "    }\n",
       "</style>\n",
       "<table border=\"1\" class=\"dataframe\">\n",
       "  <thead>\n",
       "    <tr style=\"text-align: right;\">\n",
       "      <th></th>\n",
       "      <th>subreddit</th>\n",
       "      <th>title</th>\n",
       "      <th>selftext</th>\n",
       "    </tr>\n",
       "  </thead>\n",
       "  <tbody>\n",
       "    <tr>\n",
       "      <th>4086</th>\n",
       "      <td>sustainability</td>\n",
       "      <td>college student working on a project to help p...</td>\n",
       "      <td>Hi everyone, I am a second year student in uni...</td>\n",
       "    </tr>\n",
       "    <tr>\n",
       "      <th>4087</th>\n",
       "      <td>sustainability</td>\n",
       "      <td>\"First, we start by ripping down 20.000 hectar...</td>\n",
       "      <td></td>\n",
       "    </tr>\n",
       "    <tr>\n",
       "      <th>4088</th>\n",
       "      <td>sustainability</td>\n",
       "      <td>Carbon capture is expected to play a pivotal r...</td>\n",
       "      <td></td>\n",
       "    </tr>\n",
       "    <tr>\n",
       "      <th>4089</th>\n",
       "      <td>sustainability</td>\n",
       "      <td>This review in my climate change app got me a ...</td>\n",
       "      <td></td>\n",
       "    </tr>\n",
       "    <tr>\n",
       "      <th>4090</th>\n",
       "      <td>sustainability</td>\n",
       "      <td>Unilever to bring in carbon footprint labels f...</td>\n",
       "      <td></td>\n",
       "    </tr>\n",
       "  </tbody>\n",
       "</table>\n",
       "</div>"
      ],
      "text/plain": [
       "           subreddit                                              title  \\\n",
       "4086  sustainability  college student working on a project to help p...   \n",
       "4087  sustainability  \"First, we start by ripping down 20.000 hectar...   \n",
       "4088  sustainability  Carbon capture is expected to play a pivotal r...   \n",
       "4089  sustainability  This review in my climate change app got me a ...   \n",
       "4090  sustainability  Unilever to bring in carbon footprint labels f...   \n",
       "\n",
       "                                               selftext  \n",
       "4086  Hi everyone, I am a second year student in uni...  \n",
       "4087                                                     \n",
       "4088                                                     \n",
       "4089                                                     \n",
       "4090                                                     "
      ]
     },
     "execution_count": 10,
     "metadata": {},
     "output_type": "execute_result"
    }
   ],
   "source": [
    "#combining the sustainability and urban planning dataframes\n",
    "frames=[urb_pl,sust]\n",
    "df_comb = pd.concat(frames,axis=0, ignore_index=True)\n",
    "df_comb.tail()"
   ]
  },
  {
   "cell_type": "code",
   "execution_count": 11,
   "id": "e1b98059",
   "metadata": {},
   "outputs": [
    {
     "data": {
      "text/plain": [
       "(4091, 3)"
      ]
     },
     "execution_count": 11,
     "metadata": {},
     "output_type": "execute_result"
    }
   ],
   "source": [
    "df_comb.shape"
   ]
  },
  {
   "cell_type": "code",
   "execution_count": 12,
   "id": "740c810f",
   "metadata": {},
   "outputs": [
    {
     "data": {
      "text/plain": [
       "subreddit    0\n",
       "title        0\n",
       "selftext     4\n",
       "dtype: int64"
      ]
     },
     "execution_count": 12,
     "metadata": {},
     "output_type": "execute_result"
    }
   ],
   "source": [
    "df_comb.isnull().sum()"
   ]
  },
  {
   "cell_type": "code",
   "execution_count": 13,
   "id": "785649d0",
   "metadata": {},
   "outputs": [],
   "source": [
    "df_comb= df_comb.dropna()"
   ]
  },
  {
   "cell_type": "markdown",
   "id": "f8bf5b1d",
   "metadata": {},
   "source": [
    "### EXPLORATORY DATA ANALYSIS"
   ]
  },
  {
   "cell_type": "code",
   "execution_count": 14,
   "id": "61c228d4",
   "metadata": {},
   "outputs": [
    {
     "data": {
      "text/plain": [
       "1    0.511133\n",
       "0    0.488867\n",
       "Name: subreddit, dtype: float64"
      ]
     },
     "execution_count": 14,
     "metadata": {},
     "output_type": "execute_result"
    }
   ],
   "source": [
    "# Changing the subreddit  column into 1 and 0\n",
    "df_comb['subreddit'] = df_comb['subreddit'].map({'urbanplanning': 0, \"sustainability\": 1})\n",
    "df_comb['subreddit'].value_counts(normalize=True)"
   ]
  },
  {
   "cell_type": "code",
   "execution_count": 15,
   "id": "599c53c6",
   "metadata": {},
   "outputs": [
    {
     "data": {
      "text/html": [
       "<div>\n",
       "<style scoped>\n",
       "    .dataframe tbody tr th:only-of-type {\n",
       "        vertical-align: middle;\n",
       "    }\n",
       "\n",
       "    .dataframe tbody tr th {\n",
       "        vertical-align: top;\n",
       "    }\n",
       "\n",
       "    .dataframe thead th {\n",
       "        text-align: right;\n",
       "    }\n",
       "</style>\n",
       "<table border=\"1\" class=\"dataframe\">\n",
       "  <thead>\n",
       "    <tr style=\"text-align: right;\">\n",
       "      <th></th>\n",
       "      <th>subreddit</th>\n",
       "      <th>title</th>\n",
       "      <th>selftext</th>\n",
       "      <th>all_text</th>\n",
       "    </tr>\n",
       "  </thead>\n",
       "  <tbody>\n",
       "    <tr>\n",
       "      <th>0</th>\n",
       "      <td>0</td>\n",
       "      <td>How do I market myself as best as possible for...</td>\n",
       "      <td>I recently contacted an organization reaching ...</td>\n",
       "      <td>How do I market myself as best as possible for...</td>\n",
       "    </tr>\n",
       "    <tr>\n",
       "      <th>1</th>\n",
       "      <td>0</td>\n",
       "      <td>Advice on schooling</td>\n",
       "      <td>Hi everyone, I'm currently finishing my first ...</td>\n",
       "      <td>Advice on schooling Hi everyone, I'm currently...</td>\n",
       "    </tr>\n",
       "    <tr>\n",
       "      <th>2</th>\n",
       "      <td>0</td>\n",
       "      <td>Looking for advice</td>\n",
       "      <td>I’m currently a freshman majoring in computer ...</td>\n",
       "      <td>Looking for advice I’m currently a freshman ma...</td>\n",
       "    </tr>\n",
       "    <tr>\n",
       "      <th>3</th>\n",
       "      <td>0</td>\n",
       "      <td>[Repost] E-Scooter Survey</td>\n",
       "      <td>Hello! I am a researcher at the HumanFIRST lab...</td>\n",
       "      <td>[Repost] E-Scooter Survey Hello! I am a resear...</td>\n",
       "    </tr>\n",
       "    <tr>\n",
       "      <th>4</th>\n",
       "      <td>0</td>\n",
       "      <td>How Public Housing Can Make a Difference</td>\n",
       "      <td></td>\n",
       "      <td>How Public Housing Can Make a Difference</td>\n",
       "    </tr>\n",
       "  </tbody>\n",
       "</table>\n",
       "</div>"
      ],
      "text/plain": [
       "   subreddit                                              title  \\\n",
       "0          0  How do I market myself as best as possible for...   \n",
       "1          0                                Advice on schooling   \n",
       "2          0                                 Looking for advice   \n",
       "3          0                          [Repost] E-Scooter Survey   \n",
       "4          0           How Public Housing Can Make a Difference   \n",
       "\n",
       "                                            selftext  \\\n",
       "0  I recently contacted an organization reaching ...   \n",
       "1  Hi everyone, I'm currently finishing my first ...   \n",
       "2  I’m currently a freshman majoring in computer ...   \n",
       "3  Hello! I am a researcher at the HumanFIRST lab...   \n",
       "4                                                      \n",
       "\n",
       "                                            all_text  \n",
       "0  How do I market myself as best as possible for...  \n",
       "1  Advice on schooling Hi everyone, I'm currently...  \n",
       "2  Looking for advice I’m currently a freshman ma...  \n",
       "3  [Repost] E-Scooter Survey Hello! I am a resear...  \n",
       "4          How Public Housing Can Make a Difference   "
      ]
     },
     "execution_count": 15,
     "metadata": {},
     "output_type": "execute_result"
    }
   ],
   "source": [
    "#creating a new column for for title and selftext\n",
    "df_comb['all_text'] = df_comb['title']+' '+df_comb['selftext']\n",
    "df_comb.head()"
   ]
  },
  {
   "cell_type": "code",
   "execution_count": 16,
   "id": "e6f0e3a1",
   "metadata": {},
   "outputs": [
    {
     "data": {
      "text/plain": [
       "(4007, 4)"
      ]
     },
     "execution_count": 16,
     "metadata": {},
     "output_type": "execute_result"
    }
   ],
   "source": [
    "#dropping duplicates\n",
    "df_comb = df_comb.drop_duplicates(subset= ['all_text'])\n",
    "df_comb.shape"
   ]
  },
  {
   "cell_type": "code",
   "execution_count": 17,
   "id": "41be3462",
   "metadata": {},
   "outputs": [
    {
     "data": {
      "text/plain": [
       "0     981\n",
       "1    1011\n",
       "2     858\n",
       "3     512\n",
       "4      41\n",
       "Name: all_text_length, dtype: int64"
      ]
     },
     "execution_count": 17,
     "metadata": {},
     "output_type": "execute_result"
    }
   ],
   "source": [
    "#creating a new column for all_text lenght\n",
    "df_comb['all_text_length'] = (df_comb['all_text'].str.len())\n",
    "df_comb['all_text_length'].head()"
   ]
  },
  {
   "cell_type": "code",
   "execution_count": 18,
   "id": "f1e44b38",
   "metadata": {},
   "outputs": [
    {
     "data": {
      "text/plain": [
       "0    167\n",
       "1    180\n",
       "2    141\n",
       "3     80\n",
       "4      7\n",
       "Name: all_text_word_count, dtype: int64"
      ]
     },
     "execution_count": 18,
     "metadata": {},
     "output_type": "execute_result"
    }
   ],
   "source": [
    "#creating a new column for the word count \n",
    "df_comb['all_text_word_count'] = df_comb['all_text'].str.split().str.len()\n",
    "df_comb['all_text_word_count'].head()"
   ]
  },
  {
   "cell_type": "code",
   "execution_count": 19,
   "id": "8e23f4ec",
   "metadata": {},
   "outputs": [
    {
     "data": {
      "text/html": [
       "<div>\n",
       "<style scoped>\n",
       "    .dataframe tbody tr th:only-of-type {\n",
       "        vertical-align: middle;\n",
       "    }\n",
       "\n",
       "    .dataframe tbody tr th {\n",
       "        vertical-align: top;\n",
       "    }\n",
       "\n",
       "    .dataframe thead th {\n",
       "        text-align: right;\n",
       "    }\n",
       "</style>\n",
       "<table border=\"1\" class=\"dataframe\">\n",
       "  <thead>\n",
       "    <tr style=\"text-align: right;\">\n",
       "      <th></th>\n",
       "      <th>subreddit</th>\n",
       "      <th>title</th>\n",
       "      <th>selftext</th>\n",
       "      <th>all_text</th>\n",
       "      <th>all_text_length</th>\n",
       "      <th>all_text_word_count</th>\n",
       "    </tr>\n",
       "  </thead>\n",
       "  <tbody>\n",
       "    <tr>\n",
       "      <th>0</th>\n",
       "      <td>0</td>\n",
       "      <td>How do I market myself as best as possible for...</td>\n",
       "      <td>I recently contacted an organization reaching ...</td>\n",
       "      <td>How do I market myself as best as possible for...</td>\n",
       "      <td>981</td>\n",
       "      <td>167</td>\n",
       "    </tr>\n",
       "    <tr>\n",
       "      <th>1</th>\n",
       "      <td>0</td>\n",
       "      <td>Advice on schooling</td>\n",
       "      <td>Hi everyone, I'm currently finishing my first ...</td>\n",
       "      <td>Advice on schooling Hi everyone, I'm currently...</td>\n",
       "      <td>1011</td>\n",
       "      <td>180</td>\n",
       "    </tr>\n",
       "    <tr>\n",
       "      <th>2</th>\n",
       "      <td>0</td>\n",
       "      <td>Looking for advice</td>\n",
       "      <td>I’m currently a freshman majoring in computer ...</td>\n",
       "      <td>Looking for advice I’m currently a freshman ma...</td>\n",
       "      <td>858</td>\n",
       "      <td>141</td>\n",
       "    </tr>\n",
       "    <tr>\n",
       "      <th>3</th>\n",
       "      <td>0</td>\n",
       "      <td>[Repost] E-Scooter Survey</td>\n",
       "      <td>Hello! I am a researcher at the HumanFIRST lab...</td>\n",
       "      <td>[Repost] E-Scooter Survey Hello! I am a resear...</td>\n",
       "      <td>512</td>\n",
       "      <td>80</td>\n",
       "    </tr>\n",
       "    <tr>\n",
       "      <th>4</th>\n",
       "      <td>0</td>\n",
       "      <td>How Public Housing Can Make a Difference</td>\n",
       "      <td></td>\n",
       "      <td>How Public Housing Can Make a Difference</td>\n",
       "      <td>41</td>\n",
       "      <td>7</td>\n",
       "    </tr>\n",
       "  </tbody>\n",
       "</table>\n",
       "</div>"
      ],
      "text/plain": [
       "   subreddit                                              title  \\\n",
       "0          0  How do I market myself as best as possible for...   \n",
       "1          0                                Advice on schooling   \n",
       "2          0                                 Looking for advice   \n",
       "3          0                          [Repost] E-Scooter Survey   \n",
       "4          0           How Public Housing Can Make a Difference   \n",
       "\n",
       "                                            selftext  \\\n",
       "0  I recently contacted an organization reaching ...   \n",
       "1  Hi everyone, I'm currently finishing my first ...   \n",
       "2  I’m currently a freshman majoring in computer ...   \n",
       "3  Hello! I am a researcher at the HumanFIRST lab...   \n",
       "4                                                      \n",
       "\n",
       "                                            all_text  all_text_length  \\\n",
       "0  How do I market myself as best as possible for...              981   \n",
       "1  Advice on schooling Hi everyone, I'm currently...             1011   \n",
       "2  Looking for advice I’m currently a freshman ma...              858   \n",
       "3  [Repost] E-Scooter Survey Hello! I am a resear...              512   \n",
       "4          How Public Housing Can Make a Difference                41   \n",
       "\n",
       "   all_text_word_count  \n",
       "0                  167  \n",
       "1                  180  \n",
       "2                  141  \n",
       "3                   80  \n",
       "4                    7  "
      ]
     },
     "execution_count": 19,
     "metadata": {},
     "output_type": "execute_result"
    }
   ],
   "source": [
    "df_comb.head()"
   ]
  },
  {
   "cell_type": "markdown",
   "id": "5e10e87c",
   "metadata": {},
   "source": [
    "### Vizualization of the distribution"
   ]
  },
  {
   "cell_type": "markdown",
   "id": "5091b47d",
   "metadata": {},
   "source": [
    "In this part we are going to vizualize the distribution of the word count and the length of documents."
   ]
  },
  {
   "cell_type": "code",
   "execution_count": 20,
   "id": "e4e83718",
   "metadata": {},
   "outputs": [
    {
     "data": {
      "text/plain": [
       "<Figure size 1152x648 with 0 Axes>"
      ]
     },
     "metadata": {},
     "output_type": "display_data"
    },
    {
     "data": {
      "image/png": "[encoded data removed]",
      "text/plain": [
       "<Figure size 360x360 with 1 Axes>"
      ]
     },
     "metadata": {
      "needs_background": "light"
     },
     "output_type": "display_data"
    }
   ],
   "source": [
    "plt.figure(figsize= (16,9))\n",
    "\n",
    "sns.displot(data=df_comb, x='all_text_length',height=5,aspect=1)\n",
    "\n",
    "plt.title(\"Distribution of the Length of the Posts \")\n",
    "\n",
    "plt.xlabel(\"Length of posts \", fontsize = 12) ;"
   ]
  },
  {
   "cell_type": "markdown",
   "id": "6da3b4c8",
   "metadata": {},
   "source": [
    "*Interpetation*: with this graph we can see that the general distribution of the length of the post is skewed to the right which show that most of the post are under 2000 characters."
   ]
  },
  {
   "cell_type": "code",
   "execution_count": 21,
   "id": "66d2b202",
   "metadata": {},
   "outputs": [
    {
     "name": "stderr",
     "output_type": "stream",
     "text": [
      "C:\\Users\\irene\\anaconda3\\envs\\dsirfx_py38\\lib\\site-packages\\seaborn\\_decorators.py:36: FutureWarning: Pass the following variable as a keyword arg: x. From version 0.12, the only valid positional argument will be `data`, and passing other arguments without an explicit keyword will result in an error or misinterpretation.\n",
      "  warnings.warn(\n"
     ]
    },
    {
     "data": {
      "image/png": "[encoded data removed]",
      "text/plain": [
       "<Figure size 1152x648 with 1 Axes>"
      ]
     },
     "metadata": {
      "needs_background": "light"
     },
     "output_type": "display_data"
    }
   ],
   "source": [
    "plt.figure(figsize=(16,9))\n",
    "\n",
    "sns.boxplot(df_comb['all_text_length']);"
   ]
  },
  {
   "cell_type": "code",
   "execution_count": 22,
   "id": "ad05d505",
   "metadata": {},
   "outputs": [
    {
     "data": {
      "text/plain": [
       "<Figure size 1152x648 with 0 Axes>"
      ]
     },
     "metadata": {},
     "output_type": "display_data"
    },
    {
     "data": {
      "image/png": "[encoded data removed]",
      "text/plain": [
       "<Figure size 360x360 with 1 Axes>"
      ]
     },
     "metadata": {
      "needs_background": "light"
     },
     "output_type": "display_data"
    }
   ],
   "source": [
    "plt.figure(figsize=(16,9))\n",
    "\n",
    "sns.displot(df_comb['all_text_word_count'])\n",
    "\n",
    "plt.title(\"Distribution of the word counts of the Posts \")\n",
    "\n",
    "plt.xlabel(\"word counts of posts \", fontsize = 12);"
   ]
  },
  {
   "cell_type": "markdown",
   "id": "b050b2e5",
   "metadata": {},
   "source": [
    "*Interpetation*: with this graph we can see that the general distribution of the word count of the post is skewed to the right which show that most of the post are under 200 words."
   ]
  },
  {
   "cell_type": "code",
   "execution_count": 23,
   "id": "e0d37f2e",
   "metadata": {},
   "outputs": [
    {
     "name": "stderr",
     "output_type": "stream",
     "text": [
      "C:\\Users\\irene\\anaconda3\\envs\\dsirfx_py38\\lib\\site-packages\\seaborn\\_decorators.py:36: FutureWarning: Pass the following variable as a keyword arg: x. From version 0.12, the only valid positional argument will be `data`, and passing other arguments without an explicit keyword will result in an error or misinterpretation.\n",
      "  warnings.warn(\n"
     ]
    },
    {
     "ename": "ValueError",
     "evalue": "The truth value of a Series is ambiguous. Use a.empty, a.bool(), a.item(), a.any() or a.all().",
     "output_type": "error",
     "traceback": [
      "\u001b[1;31m---------------------------------------------------------------------------\u001b[0m",
      "\u001b[1;31mValueError\u001b[0m                                Traceback (most recent call last)",
      "\u001b[1;32m<ipython-input-23-9c541d9fba7f>\u001b[0m in \u001b[0;36m<module>\u001b[1;34m\u001b[0m\n\u001b[0;32m      1\u001b[0m \u001b[0mplt\u001b[0m\u001b[1;33m.\u001b[0m\u001b[0mfigure\u001b[0m\u001b[1;33m(\u001b[0m\u001b[0mfigsize\u001b[0m\u001b[1;33m=\u001b[0m\u001b[1;33m(\u001b[0m\u001b[1;36m16\u001b[0m\u001b[1;33m,\u001b[0m\u001b[1;36m9\u001b[0m\u001b[1;33m)\u001b[0m\u001b[1;33m)\u001b[0m\u001b[1;33m\u001b[0m\u001b[1;33m\u001b[0m\u001b[0m\n\u001b[0;32m      2\u001b[0m \u001b[1;33m\u001b[0m\u001b[0m\n\u001b[1;32m----> 3\u001b[1;33m \u001b[0msns\u001b[0m\u001b[1;33m.\u001b[0m\u001b[0mboxplot\u001b[0m\u001b[1;33m(\u001b[0m\u001b[0mdf_comb\u001b[0m\u001b[1;33m,\u001b[0m \u001b[0mx\u001b[0m\u001b[1;33m=\u001b[0m\u001b[1;34m'all_text_word_count'\u001b[0m\u001b[1;33m)\u001b[0m\u001b[1;33m;\u001b[0m\u001b[1;33m\u001b[0m\u001b[1;33m\u001b[0m\u001b[0m\n\u001b[0m",
      "\u001b[1;32m~\\anaconda3\\envs\\dsirfx_py38\\lib\\site-packages\\seaborn\\_decorators.py\u001b[0m in \u001b[0;36minner_f\u001b[1;34m(*args, **kwargs)\u001b[0m\n\u001b[0;32m     44\u001b[0m             )\n\u001b[0;32m     45\u001b[0m         \u001b[0mkwargs\u001b[0m\u001b[1;33m.\u001b[0m\u001b[0mupdate\u001b[0m\u001b[1;33m(\u001b[0m\u001b[1;33m{\u001b[0m\u001b[0mk\u001b[0m\u001b[1;33m:\u001b[0m \u001b[0marg\u001b[0m \u001b[1;32mfor\u001b[0m \u001b[0mk\u001b[0m\u001b[1;33m,\u001b[0m \u001b[0marg\u001b[0m \u001b[1;32min\u001b[0m \u001b[0mzip\u001b[0m\u001b[1;33m(\u001b[0m\u001b[0msig\u001b[0m\u001b[1;33m.\u001b[0m\u001b[0mparameters\u001b[0m\u001b[1;33m,\u001b[0m \u001b[0margs\u001b[0m\u001b[1;33m)\u001b[0m\u001b[1;33m}\u001b[0m\u001b[1;33m)\u001b[0m\u001b[1;33m\u001b[0m\u001b[1;33m\u001b[0m\u001b[0m\n\u001b[1;32m---> 46\u001b[1;33m         \u001b[1;32mreturn\u001b[0m \u001b[0mf\u001b[0m\u001b[1;33m(\u001b[0m\u001b[1;33m**\u001b[0m\u001b[0mkwargs\u001b[0m\u001b[1;33m)\u001b[0m\u001b[1;33m\u001b[0m\u001b[1;33m\u001b[0m\u001b[0m\n\u001b[0m\u001b[0;32m     47\u001b[0m     \u001b[1;32mreturn\u001b[0m \u001b[0minner_f\u001b[0m\u001b[1;33m\u001b[0m\u001b[1;33m\u001b[0m\u001b[0m\n\u001b[0;32m     48\u001b[0m \u001b[1;33m\u001b[0m\u001b[0m\n",
      "\u001b[1;32m~\\anaconda3\\envs\\dsirfx_py38\\lib\\site-packages\\seaborn\\categorical.py\u001b[0m in \u001b[0;36mboxplot\u001b[1;34m(x, y, hue, data, order, hue_order, orient, color, palette, saturation, width, dodge, fliersize, linewidth, whis, ax, **kwargs)\u001b[0m\n\u001b[0;32m   2238\u001b[0m ):\n\u001b[0;32m   2239\u001b[0m \u001b[1;33m\u001b[0m\u001b[0m\n\u001b[1;32m-> 2240\u001b[1;33m     plotter = _BoxPlotter(x, y, hue, data, order, hue_order,\n\u001b[0m\u001b[0;32m   2241\u001b[0m                           \u001b[0morient\u001b[0m\u001b[1;33m,\u001b[0m \u001b[0mcolor\u001b[0m\u001b[1;33m,\u001b[0m \u001b[0mpalette\u001b[0m\u001b[1;33m,\u001b[0m \u001b[0msaturation\u001b[0m\u001b[1;33m,\u001b[0m\u001b[1;33m\u001b[0m\u001b[1;33m\u001b[0m\u001b[0m\n\u001b[0;32m   2242\u001b[0m                           width, dodge, fliersize, linewidth)\n",
      "\u001b[1;32m~\\anaconda3\\envs\\dsirfx_py38\\lib\\site-packages\\seaborn\\categorical.py\u001b[0m in \u001b[0;36m__init__\u001b[1;34m(self, x, y, hue, data, order, hue_order, orient, color, palette, saturation, width, dodge, fliersize, linewidth)\u001b[0m\n\u001b[0;32m    404\u001b[0m                  width, dodge, fliersize, linewidth):\n\u001b[0;32m    405\u001b[0m \u001b[1;33m\u001b[0m\u001b[0m\n\u001b[1;32m--> 406\u001b[1;33m         \u001b[0mself\u001b[0m\u001b[1;33m.\u001b[0m\u001b[0mestablish_variables\u001b[0m\u001b[1;33m(\u001b[0m\u001b[0mx\u001b[0m\u001b[1;33m,\u001b[0m \u001b[0my\u001b[0m\u001b[1;33m,\u001b[0m \u001b[0mhue\u001b[0m\u001b[1;33m,\u001b[0m \u001b[0mdata\u001b[0m\u001b[1;33m,\u001b[0m \u001b[0morient\u001b[0m\u001b[1;33m,\u001b[0m \u001b[0morder\u001b[0m\u001b[1;33m,\u001b[0m \u001b[0mhue_order\u001b[0m\u001b[1;33m)\u001b[0m\u001b[1;33m\u001b[0m\u001b[1;33m\u001b[0m\u001b[0m\n\u001b[0m\u001b[0;32m    407\u001b[0m         \u001b[0mself\u001b[0m\u001b[1;33m.\u001b[0m\u001b[0mestablish_colors\u001b[0m\u001b[1;33m(\u001b[0m\u001b[0mcolor\u001b[0m\u001b[1;33m,\u001b[0m \u001b[0mpalette\u001b[0m\u001b[1;33m,\u001b[0m \u001b[0msaturation\u001b[0m\u001b[1;33m)\u001b[0m\u001b[1;33m\u001b[0m\u001b[1;33m\u001b[0m\u001b[0m\n\u001b[0;32m    408\u001b[0m \u001b[1;33m\u001b[0m\u001b[0m\n",
      "\u001b[1;32m~\\anaconda3\\envs\\dsirfx_py38\\lib\\site-packages\\seaborn\\categorical.py\u001b[0m in \u001b[0;36mestablish_variables\u001b[1;34m(self, x, y, hue, data, orient, order, hue_order, units)\u001b[0m\n\u001b[0;32m    154\u001b[0m \u001b[1;33m\u001b[0m\u001b[0m\n\u001b[0;32m    155\u001b[0m             \u001b[1;31m# Figure out the plotting orientation\u001b[0m\u001b[1;33m\u001b[0m\u001b[1;33m\u001b[0m\u001b[1;33m\u001b[0m\u001b[0m\n\u001b[1;32m--> 156\u001b[1;33m             orient = infer_orient(\n\u001b[0m\u001b[0;32m    157\u001b[0m                 \u001b[0mx\u001b[0m\u001b[1;33m,\u001b[0m \u001b[0my\u001b[0m\u001b[1;33m,\u001b[0m \u001b[0morient\u001b[0m\u001b[1;33m,\u001b[0m \u001b[0mrequire_numeric\u001b[0m\u001b[1;33m=\u001b[0m\u001b[0mself\u001b[0m\u001b[1;33m.\u001b[0m\u001b[0mrequire_numeric\u001b[0m\u001b[1;33m\u001b[0m\u001b[1;33m\u001b[0m\u001b[0m\n\u001b[0;32m    158\u001b[0m             )\n",
      "\u001b[1;32m~\\anaconda3\\envs\\dsirfx_py38\\lib\\site-packages\\seaborn\\_core.py\u001b[0m in \u001b[0;36minfer_orient\u001b[1;34m(x, y, orient, require_numeric)\u001b[0m\n\u001b[0;32m   1302\u001b[0m     \"\"\"\n\u001b[0;32m   1303\u001b[0m \u001b[1;33m\u001b[0m\u001b[0m\n\u001b[1;32m-> 1304\u001b[1;33m     \u001b[0mx_type\u001b[0m \u001b[1;33m=\u001b[0m \u001b[1;32mNone\u001b[0m \u001b[1;32mif\u001b[0m \u001b[0mx\u001b[0m \u001b[1;32mis\u001b[0m \u001b[1;32mNone\u001b[0m \u001b[1;32melse\u001b[0m \u001b[0mvariable_type\u001b[0m\u001b[1;33m(\u001b[0m\u001b[0mx\u001b[0m\u001b[1;33m)\u001b[0m\u001b[1;33m\u001b[0m\u001b[1;33m\u001b[0m\u001b[0m\n\u001b[0m\u001b[0;32m   1305\u001b[0m     \u001b[0my_type\u001b[0m \u001b[1;33m=\u001b[0m \u001b[1;32mNone\u001b[0m \u001b[1;32mif\u001b[0m \u001b[0my\u001b[0m \u001b[1;32mis\u001b[0m \u001b[1;32mNone\u001b[0m \u001b[1;32melse\u001b[0m \u001b[0mvariable_type\u001b[0m\u001b[1;33m(\u001b[0m\u001b[0my\u001b[0m\u001b[1;33m)\u001b[0m\u001b[1;33m\u001b[0m\u001b[1;33m\u001b[0m\u001b[0m\n\u001b[0;32m   1306\u001b[0m \u001b[1;33m\u001b[0m\u001b[0m\n",
      "\u001b[1;32m~\\anaconda3\\envs\\dsirfx_py38\\lib\\site-packages\\seaborn\\_core.py\u001b[0m in \u001b[0;36mvariable_type\u001b[1;34m(vector, boolean_type)\u001b[0m\n\u001b[0;32m   1220\u001b[0m \u001b[1;33m\u001b[0m\u001b[0m\n\u001b[0;32m   1221\u001b[0m     \u001b[1;31m# Special-case all-na data, which is always \"numeric\"\u001b[0m\u001b[1;33m\u001b[0m\u001b[1;33m\u001b[0m\u001b[1;33m\u001b[0m\u001b[0m\n\u001b[1;32m-> 1222\u001b[1;33m     \u001b[1;32mif\u001b[0m \u001b[0mpd\u001b[0m\u001b[1;33m.\u001b[0m\u001b[0misna\u001b[0m\u001b[1;33m(\u001b[0m\u001b[0mvector\u001b[0m\u001b[1;33m)\u001b[0m\u001b[1;33m.\u001b[0m\u001b[0mall\u001b[0m\u001b[1;33m(\u001b[0m\u001b[1;33m)\u001b[0m\u001b[1;33m:\u001b[0m\u001b[1;33m\u001b[0m\u001b[1;33m\u001b[0m\u001b[0m\n\u001b[0m\u001b[0;32m   1223\u001b[0m         \u001b[1;32mreturn\u001b[0m \u001b[1;34m\"numeric\"\u001b[0m\u001b[1;33m\u001b[0m\u001b[1;33m\u001b[0m\u001b[0m\n\u001b[0;32m   1224\u001b[0m \u001b[1;33m\u001b[0m\u001b[0m\n",
      "\u001b[1;32m~\\anaconda3\\envs\\dsirfx_py38\\lib\\site-packages\\pandas\\core\\generic.py\u001b[0m in \u001b[0;36m__nonzero__\u001b[1;34m(self)\u001b[0m\n\u001b[0;32m   1440\u001b[0m     \u001b[1;33m@\u001b[0m\u001b[0mfinal\u001b[0m\u001b[1;33m\u001b[0m\u001b[1;33m\u001b[0m\u001b[0m\n\u001b[0;32m   1441\u001b[0m     \u001b[1;32mdef\u001b[0m \u001b[0m__nonzero__\u001b[0m\u001b[1;33m(\u001b[0m\u001b[0mself\u001b[0m\u001b[1;33m)\u001b[0m\u001b[1;33m:\u001b[0m\u001b[1;33m\u001b[0m\u001b[1;33m\u001b[0m\u001b[0m\n\u001b[1;32m-> 1442\u001b[1;33m         raise ValueError(\n\u001b[0m\u001b[0;32m   1443\u001b[0m             \u001b[1;34mf\"The truth value of a {type(self).__name__} is ambiguous. \"\u001b[0m\u001b[1;33m\u001b[0m\u001b[1;33m\u001b[0m\u001b[0m\n\u001b[0;32m   1444\u001b[0m             \u001b[1;34m\"Use a.empty, a.bool(), a.item(), a.any() or a.all().\"\u001b[0m\u001b[1;33m\u001b[0m\u001b[1;33m\u001b[0m\u001b[0m\n",
      "\u001b[1;31mValueError\u001b[0m: The truth value of a Series is ambiguous. Use a.empty, a.bool(), a.item(), a.any() or a.all()."
     ]
    },
    {
     "data": {
      "text/plain": [
       "<Figure size 1152x648 with 0 Axes>"
      ]
     },
     "metadata": {},
     "output_type": "display_data"
    }
   ],
   "source": [
    "plt.figure(figsize=(16,9))\n",
    "\n",
    "sns.boxplot(df_comb, x='all_text_word_count');"
   ]
  },
  {
   "cell_type": "code",
   "execution_count": 24,
   "id": "42c1ed79",
   "metadata": {},
   "outputs": [
    {
     "data": {
      "text/plain": [
       "<seaborn.axisgrid.FacetGrid at 0x1c603402eb0>"
      ]
     },
     "execution_count": 24,
     "metadata": {},
     "output_type": "execute_result"
    },
    {
     "data": {
      "text/plain": [
       "<Figure size 1152x648 with 0 Axes>"
      ]
     },
     "metadata": {},
     "output_type": "display_data"
    },
    {
     "data": {
      "image/png": "[encoded data removed]",
      "text/plain": [
       "<Figure size 720x360 with 2 Axes>"
      ]
     },
     "metadata": {
      "needs_background": "light"
     },
     "output_type": "display_data"
    }
   ],
   "source": [
    "#distribution of word count according separate by subreddit\n",
    "plt.figure(figsize=(16,9))\n",
    "sns.displot(df_comb, x='all_text_word_count', col='subreddit')\n",
    "\n"
   ]
  },
  {
   "cell_type": "markdown",
   "id": "865b61b0",
   "metadata": {},
   "source": [
    "*Interpetation*: with this graph we can see that the general distribution of the word count of the posts from the urban planning subreddit and sustainability subreddit are almost the same which show that most of the post are under 200 words."
   ]
  },
  {
   "cell_type": "code",
   "execution_count": 22,
   "id": "006fc4f6",
   "metadata": {},
   "outputs": [
    {
     "name": "stderr",
     "output_type": "stream",
     "text": [
      "C:\\Users\\irene\\anaconda3\\envs\\dsirfx_py38\\lib\\site-packages\\numpy\\core\\_asarray.py:171: VisibleDeprecationWarning: Creating an ndarray from ragged nested sequences (which is a list-or-tuple of lists-or-tuples-or ndarrays with different lengths or shapes) is deprecated. If you meant to do this, you must specify 'dtype=object' when creating the ndarray.\n",
      "  return array(a, dtype, copy=False, order=order, subok=True)\n"
     ]
    },
    {
     "ename": "ValueError",
     "evalue": "The truth value of a Series is ambiguous. Use a.empty, a.bool(), a.item(), a.any() or a.all().",
     "output_type": "error",
     "traceback": [
      "\u001b[1;31m---------------------------------------------------------------------------\u001b[0m",
      "\u001b[1;31mValueError\u001b[0m                                Traceback (most recent call last)",
      "\u001b[1;32m<ipython-input-22-e66ef5a5b5fc>\u001b[0m in \u001b[0;36m<module>\u001b[1;34m\u001b[0m\n\u001b[1;32m----> 1\u001b[1;33m \u001b[0mplt\u001b[0m\u001b[1;33m.\u001b[0m\u001b[0mhist\u001b[0m\u001b[1;33m(\u001b[0m\u001b[0mdf_comb\u001b[0m\u001b[1;33m.\u001b[0m\u001b[0mgroupby\u001b[0m\u001b[1;33m(\u001b[0m\u001b[1;34m'subreddit'\u001b[0m\u001b[1;33m)\u001b[0m\u001b[1;33m[\u001b[0m\u001b[1;34m'all_text_word_count'\u001b[0m\u001b[1;33m]\u001b[0m\u001b[1;33m)\u001b[0m\u001b[1;33m\u001b[0m\u001b[1;33m\u001b[0m\u001b[0m\n\u001b[0m\u001b[0;32m      2\u001b[0m \u001b[1;33m\u001b[0m\u001b[0m\n",
      "\u001b[1;32m~\\anaconda3\\envs\\dsirfx_py38\\lib\\site-packages\\matplotlib\\pyplot.py\u001b[0m in \u001b[0;36mhist\u001b[1;34m(x, bins, range, density, weights, cumulative, bottom, histtype, align, orientation, rwidth, log, color, label, stacked, data, **kwargs)\u001b[0m\n\u001b[0;32m   2683\u001b[0m         \u001b[0morientation\u001b[0m\u001b[1;33m=\u001b[0m\u001b[1;34m'vertical'\u001b[0m\u001b[1;33m,\u001b[0m \u001b[0mrwidth\u001b[0m\u001b[1;33m=\u001b[0m\u001b[1;32mNone\u001b[0m\u001b[1;33m,\u001b[0m \u001b[0mlog\u001b[0m\u001b[1;33m=\u001b[0m\u001b[1;32mFalse\u001b[0m\u001b[1;33m,\u001b[0m \u001b[0mcolor\u001b[0m\u001b[1;33m=\u001b[0m\u001b[1;32mNone\u001b[0m\u001b[1;33m,\u001b[0m\u001b[1;33m\u001b[0m\u001b[1;33m\u001b[0m\u001b[0m\n\u001b[0;32m   2684\u001b[0m         label=None, stacked=False, *, data=None, **kwargs):\n\u001b[1;32m-> 2685\u001b[1;33m     return gca().hist(\n\u001b[0m\u001b[0;32m   2686\u001b[0m         \u001b[0mx\u001b[0m\u001b[1;33m,\u001b[0m \u001b[0mbins\u001b[0m\u001b[1;33m=\u001b[0m\u001b[0mbins\u001b[0m\u001b[1;33m,\u001b[0m \u001b[0mrange\u001b[0m\u001b[1;33m=\u001b[0m\u001b[0mrange\u001b[0m\u001b[1;33m,\u001b[0m \u001b[0mdensity\u001b[0m\u001b[1;33m=\u001b[0m\u001b[0mdensity\u001b[0m\u001b[1;33m,\u001b[0m \u001b[0mweights\u001b[0m\u001b[1;33m=\u001b[0m\u001b[0mweights\u001b[0m\u001b[1;33m,\u001b[0m\u001b[1;33m\u001b[0m\u001b[1;33m\u001b[0m\u001b[0m\n\u001b[0;32m   2687\u001b[0m         \u001b[0mcumulative\u001b[0m\u001b[1;33m=\u001b[0m\u001b[0mcumulative\u001b[0m\u001b[1;33m,\u001b[0m \u001b[0mbottom\u001b[0m\u001b[1;33m=\u001b[0m\u001b[0mbottom\u001b[0m\u001b[1;33m,\u001b[0m \u001b[0mhisttype\u001b[0m\u001b[1;33m=\u001b[0m\u001b[0mhisttype\u001b[0m\u001b[1;33m,\u001b[0m\u001b[1;33m\u001b[0m\u001b[1;33m\u001b[0m\u001b[0m\n",
      "\u001b[1;32m~\\anaconda3\\envs\\dsirfx_py38\\lib\\site-packages\\matplotlib\\__init__.py\u001b[0m in \u001b[0;36minner\u001b[1;34m(ax, data, *args, **kwargs)\u001b[0m\n\u001b[0;32m   1445\u001b[0m     \u001b[1;32mdef\u001b[0m \u001b[0minner\u001b[0m\u001b[1;33m(\u001b[0m\u001b[0max\u001b[0m\u001b[1;33m,\u001b[0m \u001b[1;33m*\u001b[0m\u001b[0margs\u001b[0m\u001b[1;33m,\u001b[0m \u001b[0mdata\u001b[0m\u001b[1;33m=\u001b[0m\u001b[1;32mNone\u001b[0m\u001b[1;33m,\u001b[0m \u001b[1;33m**\u001b[0m\u001b[0mkwargs\u001b[0m\u001b[1;33m)\u001b[0m\u001b[1;33m:\u001b[0m\u001b[1;33m\u001b[0m\u001b[1;33m\u001b[0m\u001b[0m\n\u001b[0;32m   1446\u001b[0m         \u001b[1;32mif\u001b[0m \u001b[0mdata\u001b[0m \u001b[1;32mis\u001b[0m \u001b[1;32mNone\u001b[0m\u001b[1;33m:\u001b[0m\u001b[1;33m\u001b[0m\u001b[1;33m\u001b[0m\u001b[0m\n\u001b[1;32m-> 1447\u001b[1;33m             \u001b[1;32mreturn\u001b[0m \u001b[0mfunc\u001b[0m\u001b[1;33m(\u001b[0m\u001b[0max\u001b[0m\u001b[1;33m,\u001b[0m \u001b[1;33m*\u001b[0m\u001b[0mmap\u001b[0m\u001b[1;33m(\u001b[0m\u001b[0msanitize_sequence\u001b[0m\u001b[1;33m,\u001b[0m \u001b[0margs\u001b[0m\u001b[1;33m)\u001b[0m\u001b[1;33m,\u001b[0m \u001b[1;33m**\u001b[0m\u001b[0mkwargs\u001b[0m\u001b[1;33m)\u001b[0m\u001b[1;33m\u001b[0m\u001b[1;33m\u001b[0m\u001b[0m\n\u001b[0m\u001b[0;32m   1448\u001b[0m \u001b[1;33m\u001b[0m\u001b[0m\n\u001b[0;32m   1449\u001b[0m         \u001b[0mbound\u001b[0m \u001b[1;33m=\u001b[0m \u001b[0mnew_sig\u001b[0m\u001b[1;33m.\u001b[0m\u001b[0mbind\u001b[0m\u001b[1;33m(\u001b[0m\u001b[0max\u001b[0m\u001b[1;33m,\u001b[0m \u001b[1;33m*\u001b[0m\u001b[0margs\u001b[0m\u001b[1;33m,\u001b[0m \u001b[1;33m**\u001b[0m\u001b[0mkwargs\u001b[0m\u001b[1;33m)\u001b[0m\u001b[1;33m\u001b[0m\u001b[1;33m\u001b[0m\u001b[0m\n",
      "\u001b[1;32m~\\anaconda3\\envs\\dsirfx_py38\\lib\\site-packages\\matplotlib\\axes\\_axes.py\u001b[0m in \u001b[0;36mhist\u001b[1;34m(self, x, bins, range, density, weights, cumulative, bottom, histtype, align, orientation, rwidth, log, color, label, stacked, **kwargs)\u001b[0m\n\u001b[0;32m   6621\u001b[0m                     \u001b[1;31m# python's min/max ignore nan,\u001b[0m\u001b[1;33m\u001b[0m\u001b[1;33m\u001b[0m\u001b[1;33m\u001b[0m\u001b[0m\n\u001b[0;32m   6622\u001b[0m                     \u001b[1;31m# np.minnan returns nan for all nan input\u001b[0m\u001b[1;33m\u001b[0m\u001b[1;33m\u001b[0m\u001b[1;33m\u001b[0m\u001b[0m\n\u001b[1;32m-> 6623\u001b[1;33m                     \u001b[0mxmin\u001b[0m \u001b[1;33m=\u001b[0m \u001b[0mmin\u001b[0m\u001b[1;33m(\u001b[0m\u001b[0mxmin\u001b[0m\u001b[1;33m,\u001b[0m \u001b[0mnp\u001b[0m\u001b[1;33m.\u001b[0m\u001b[0mnanmin\u001b[0m\u001b[1;33m(\u001b[0m\u001b[0mxi\u001b[0m\u001b[1;33m)\u001b[0m\u001b[1;33m)\u001b[0m\u001b[1;33m\u001b[0m\u001b[1;33m\u001b[0m\u001b[0m\n\u001b[0m\u001b[0;32m   6624\u001b[0m                     \u001b[0mxmax\u001b[0m \u001b[1;33m=\u001b[0m \u001b[0mmax\u001b[0m\u001b[1;33m(\u001b[0m\u001b[0mxmax\u001b[0m\u001b[1;33m,\u001b[0m \u001b[0mnp\u001b[0m\u001b[1;33m.\u001b[0m\u001b[0mnanmax\u001b[0m\u001b[1;33m(\u001b[0m\u001b[0mxi\u001b[0m\u001b[1;33m)\u001b[0m\u001b[1;33m)\u001b[0m\u001b[1;33m\u001b[0m\u001b[1;33m\u001b[0m\u001b[0m\n\u001b[0;32m   6625\u001b[0m             \u001b[1;32mif\u001b[0m \u001b[0mxmin\u001b[0m \u001b[1;33m<=\u001b[0m \u001b[0mxmax\u001b[0m\u001b[1;33m:\u001b[0m  \u001b[1;31m# Only happens if we have seen a finite value.\u001b[0m\u001b[1;33m\u001b[0m\u001b[1;33m\u001b[0m\u001b[0m\n",
      "\u001b[1;32m<__array_function__ internals>\u001b[0m in \u001b[0;36mnanmin\u001b[1;34m(*args, **kwargs)\u001b[0m\n",
      "\u001b[1;32m~\\anaconda3\\envs\\dsirfx_py38\\lib\\site-packages\\numpy\\lib\\nanfunctions.py\u001b[0m in \u001b[0;36mnanmin\u001b[1;34m(a, axis, out, keepdims)\u001b[0m\n\u001b[0;32m    323\u001b[0m     \u001b[1;32melse\u001b[0m\u001b[1;33m:\u001b[0m\u001b[1;33m\u001b[0m\u001b[1;33m\u001b[0m\u001b[0m\n\u001b[0;32m    324\u001b[0m         \u001b[1;31m# Slow, but safe for subclasses of ndarray\u001b[0m\u001b[1;33m\u001b[0m\u001b[1;33m\u001b[0m\u001b[1;33m\u001b[0m\u001b[0m\n\u001b[1;32m--> 325\u001b[1;33m         \u001b[0ma\u001b[0m\u001b[1;33m,\u001b[0m \u001b[0mmask\u001b[0m \u001b[1;33m=\u001b[0m \u001b[0m_replace_nan\u001b[0m\u001b[1;33m(\u001b[0m\u001b[0ma\u001b[0m\u001b[1;33m,\u001b[0m \u001b[1;33m+\u001b[0m\u001b[0mnp\u001b[0m\u001b[1;33m.\u001b[0m\u001b[0minf\u001b[0m\u001b[1;33m)\u001b[0m\u001b[1;33m\u001b[0m\u001b[1;33m\u001b[0m\u001b[0m\n\u001b[0m\u001b[0;32m    326\u001b[0m         \u001b[0mres\u001b[0m \u001b[1;33m=\u001b[0m \u001b[0mnp\u001b[0m\u001b[1;33m.\u001b[0m\u001b[0mamin\u001b[0m\u001b[1;33m(\u001b[0m\u001b[0ma\u001b[0m\u001b[1;33m,\u001b[0m \u001b[0maxis\u001b[0m\u001b[1;33m=\u001b[0m\u001b[0maxis\u001b[0m\u001b[1;33m,\u001b[0m \u001b[0mout\u001b[0m\u001b[1;33m=\u001b[0m\u001b[0mout\u001b[0m\u001b[1;33m,\u001b[0m \u001b[1;33m**\u001b[0m\u001b[0mkwargs\u001b[0m\u001b[1;33m)\u001b[0m\u001b[1;33m\u001b[0m\u001b[1;33m\u001b[0m\u001b[0m\n\u001b[0;32m    327\u001b[0m         \u001b[1;32mif\u001b[0m \u001b[0mmask\u001b[0m \u001b[1;32mis\u001b[0m \u001b[1;32mNone\u001b[0m\u001b[1;33m:\u001b[0m\u001b[1;33m\u001b[0m\u001b[1;33m\u001b[0m\u001b[0m\n",
      "\u001b[1;32m~\\anaconda3\\envs\\dsirfx_py38\\lib\\site-packages\\numpy\\lib\\nanfunctions.py\u001b[0m in \u001b[0;36m_replace_nan\u001b[1;34m(a, val)\u001b[0m\n\u001b[0;32m     98\u001b[0m     \u001b[1;32mif\u001b[0m \u001b[0ma\u001b[0m\u001b[1;33m.\u001b[0m\u001b[0mdtype\u001b[0m \u001b[1;33m==\u001b[0m \u001b[0mnp\u001b[0m\u001b[1;33m.\u001b[0m\u001b[0mobject_\u001b[0m\u001b[1;33m:\u001b[0m\u001b[1;33m\u001b[0m\u001b[1;33m\u001b[0m\u001b[0m\n\u001b[0;32m     99\u001b[0m         \u001b[1;31m# object arrays do not support `isnan` (gh-9009), so make a guess\u001b[0m\u001b[1;33m\u001b[0m\u001b[1;33m\u001b[0m\u001b[1;33m\u001b[0m\u001b[0m\n\u001b[1;32m--> 100\u001b[1;33m         \u001b[0mmask\u001b[0m \u001b[1;33m=\u001b[0m \u001b[0mnp\u001b[0m\u001b[1;33m.\u001b[0m\u001b[0mnot_equal\u001b[0m\u001b[1;33m(\u001b[0m\u001b[0ma\u001b[0m\u001b[1;33m,\u001b[0m \u001b[0ma\u001b[0m\u001b[1;33m,\u001b[0m \u001b[0mdtype\u001b[0m\u001b[1;33m=\u001b[0m\u001b[0mbool\u001b[0m\u001b[1;33m)\u001b[0m\u001b[1;33m\u001b[0m\u001b[1;33m\u001b[0m\u001b[0m\n\u001b[0m\u001b[0;32m    101\u001b[0m     \u001b[1;32melif\u001b[0m \u001b[0missubclass\u001b[0m\u001b[1;33m(\u001b[0m\u001b[0ma\u001b[0m\u001b[1;33m.\u001b[0m\u001b[0mdtype\u001b[0m\u001b[1;33m.\u001b[0m\u001b[0mtype\u001b[0m\u001b[1;33m,\u001b[0m \u001b[0mnp\u001b[0m\u001b[1;33m.\u001b[0m\u001b[0minexact\u001b[0m\u001b[1;33m)\u001b[0m\u001b[1;33m:\u001b[0m\u001b[1;33m\u001b[0m\u001b[1;33m\u001b[0m\u001b[0m\n\u001b[0;32m    102\u001b[0m         \u001b[0mmask\u001b[0m \u001b[1;33m=\u001b[0m \u001b[0mnp\u001b[0m\u001b[1;33m.\u001b[0m\u001b[0misnan\u001b[0m\u001b[1;33m(\u001b[0m\u001b[0ma\u001b[0m\u001b[1;33m)\u001b[0m\u001b[1;33m\u001b[0m\u001b[1;33m\u001b[0m\u001b[0m\n",
      "\u001b[1;32m~\\anaconda3\\envs\\dsirfx_py38\\lib\\site-packages\\pandas\\core\\generic.py\u001b[0m in \u001b[0;36m__nonzero__\u001b[1;34m(self)\u001b[0m\n\u001b[0;32m   1440\u001b[0m     \u001b[1;33m@\u001b[0m\u001b[0mfinal\u001b[0m\u001b[1;33m\u001b[0m\u001b[1;33m\u001b[0m\u001b[0m\n\u001b[0;32m   1441\u001b[0m     \u001b[1;32mdef\u001b[0m \u001b[0m__nonzero__\u001b[0m\u001b[1;33m(\u001b[0m\u001b[0mself\u001b[0m\u001b[1;33m)\u001b[0m\u001b[1;33m:\u001b[0m\u001b[1;33m\u001b[0m\u001b[1;33m\u001b[0m\u001b[0m\n\u001b[1;32m-> 1442\u001b[1;33m         raise ValueError(\n\u001b[0m\u001b[0;32m   1443\u001b[0m             \u001b[1;34mf\"The truth value of a {type(self).__name__} is ambiguous. \"\u001b[0m\u001b[1;33m\u001b[0m\u001b[1;33m\u001b[0m\u001b[0m\n\u001b[0;32m   1444\u001b[0m             \u001b[1;34m\"Use a.empty, a.bool(), a.item(), a.any() or a.all().\"\u001b[0m\u001b[1;33m\u001b[0m\u001b[1;33m\u001b[0m\u001b[0m\n",
      "\u001b[1;31mValueError\u001b[0m: The truth value of a Series is ambiguous. Use a.empty, a.bool(), a.item(), a.any() or a.all()."
     ]
    },
    {
     "data": {
      "image/png": "[encoded data removed]",
      "text/plain": [
       "<Figure size 432x288 with 1 Axes>"
      ]
     },
     "metadata": {
      "needs_background": "light"
     },
     "output_type": "display_data"
    }
   ],
   "source": [
    "plt.hist(df_comb.groupby('subreddit')['all_text_word_count'])\n",
    "\n"
   ]
  },
  {
   "cell_type": "code",
   "execution_count": null,
   "id": "7beb65fc",
   "metadata": {},
   "outputs": [],
   "source": []
  },
  {
   "cell_type": "code",
   "execution_count": null,
   "id": "7bcb0261",
   "metadata": {},
   "outputs": [],
   "source": []
  },
  {
   "cell_type": "code",
   "execution_count": 25,
   "id": "7bfbf4e7",
   "metadata": {},
   "outputs": [
    {
     "data": {
      "text/html": [
       "<div>\n",
       "<style scoped>\n",
       "    .dataframe tbody tr th:only-of-type {\n",
       "        vertical-align: middle;\n",
       "    }\n",
       "\n",
       "    .dataframe tbody tr th {\n",
       "        vertical-align: top;\n",
       "    }\n",
       "\n",
       "    .dataframe thead tr th {\n",
       "        text-align: left;\n",
       "    }\n",
       "\n",
       "    .dataframe thead tr:last-of-type th {\n",
       "        text-align: right;\n",
       "    }\n",
       "</style>\n",
       "<table border=\"1\" class=\"dataframe\">\n",
       "  <thead>\n",
       "    <tr>\n",
       "      <th></th>\n",
       "      <th colspan=\"8\" halign=\"left\">all_text_length</th>\n",
       "      <th colspan=\"8\" halign=\"left\">all_text_word_count</th>\n",
       "    </tr>\n",
       "    <tr>\n",
       "      <th></th>\n",
       "      <th>count</th>\n",
       "      <th>mean</th>\n",
       "      <th>std</th>\n",
       "      <th>min</th>\n",
       "      <th>25%</th>\n",
       "      <th>50%</th>\n",
       "      <th>75%</th>\n",
       "      <th>max</th>\n",
       "      <th>count</th>\n",
       "      <th>mean</th>\n",
       "      <th>std</th>\n",
       "      <th>min</th>\n",
       "      <th>25%</th>\n",
       "      <th>50%</th>\n",
       "      <th>75%</th>\n",
       "      <th>max</th>\n",
       "    </tr>\n",
       "    <tr>\n",
       "      <th>subreddit</th>\n",
       "      <th></th>\n",
       "      <th></th>\n",
       "      <th></th>\n",
       "      <th></th>\n",
       "      <th></th>\n",
       "      <th></th>\n",
       "      <th></th>\n",
       "      <th></th>\n",
       "      <th></th>\n",
       "      <th></th>\n",
       "      <th></th>\n",
       "      <th></th>\n",
       "      <th></th>\n",
       "      <th></th>\n",
       "      <th></th>\n",
       "      <th></th>\n",
       "    </tr>\n",
       "  </thead>\n",
       "  <tbody>\n",
       "    <tr>\n",
       "      <th>0</th>\n",
       "      <td>1967.0</td>\n",
       "      <td>398.837316</td>\n",
       "      <td>698.890332</td>\n",
       "      <td>11.0</td>\n",
       "      <td>62.00</td>\n",
       "      <td>111.0</td>\n",
       "      <td>479.5</td>\n",
       "      <td>7563.0</td>\n",
       "      <td>1967.0</td>\n",
       "      <td>65.365531</td>\n",
       "      <td>114.861485</td>\n",
       "      <td>1.0</td>\n",
       "      <td>10.0</td>\n",
       "      <td>18.0</td>\n",
       "      <td>78.0</td>\n",
       "      <td>1335.0</td>\n",
       "    </tr>\n",
       "    <tr>\n",
       "      <th>1</th>\n",
       "      <td>2040.0</td>\n",
       "      <td>296.422059</td>\n",
       "      <td>555.160534</td>\n",
       "      <td>4.0</td>\n",
       "      <td>57.75</td>\n",
       "      <td>96.0</td>\n",
       "      <td>301.0</td>\n",
       "      <td>7146.0</td>\n",
       "      <td>2040.0</td>\n",
       "      <td>46.521078</td>\n",
       "      <td>86.880297</td>\n",
       "      <td>1.0</td>\n",
       "      <td>9.0</td>\n",
       "      <td>15.0</td>\n",
       "      <td>48.0</td>\n",
       "      <td>1313.0</td>\n",
       "    </tr>\n",
       "  </tbody>\n",
       "</table>\n",
       "</div>"
      ],
      "text/plain": [
       "          all_text_length                                                     \\\n",
       "                    count        mean         std   min    25%    50%    75%   \n",
       "subreddit                                                                      \n",
       "0                  1967.0  398.837316  698.890332  11.0  62.00  111.0  479.5   \n",
       "1                  2040.0  296.422059  555.160534   4.0  57.75   96.0  301.0   \n",
       "\n",
       "                  all_text_word_count                                          \\\n",
       "              max               count       mean         std  min   25%   50%   \n",
       "subreddit                                                                       \n",
       "0          7563.0              1967.0  65.365531  114.861485  1.0  10.0  18.0   \n",
       "1          7146.0              2040.0  46.521078   86.880297  1.0   9.0  15.0   \n",
       "\n",
       "                         \n",
       "            75%     max  \n",
       "subreddit                \n",
       "0          78.0  1335.0  \n",
       "1          48.0  1313.0  "
      ]
     },
     "execution_count": 25,
     "metadata": {},
     "output_type": "execute_result"
    }
   ],
   "source": [
    "df_comb.groupby('subreddit').describe()"
   ]
  },
  {
   "cell_type": "code",
   "execution_count": null,
   "id": "6af8f9b4",
   "metadata": {},
   "outputs": [],
   "source": []
  },
  {
   "cell_type": "code",
   "execution_count": 26,
   "id": "e89f4cbd",
   "metadata": {},
   "outputs": [],
   "source": [
    "# removing the link in the all_text column \n",
    "\n",
    "df_comb['all_text']= df_comb['all_text'].apply(lambda x: re.sub('http\\S+\\s*', '', str(x)))"
   ]
  },
  {
   "cell_type": "code",
   "execution_count": null,
   "id": "7442ca18",
   "metadata": {},
   "outputs": [],
   "source": []
  },
  {
   "cell_type": "code",
   "execution_count": null,
   "id": "2f574123",
   "metadata": {},
   "outputs": [],
   "source": []
  },
  {
   "cell_type": "code",
   "execution_count": null,
   "id": "4fa2db6a",
   "metadata": {},
   "outputs": [],
   "source": []
  },
  {
   "cell_type": "code",
   "execution_count": null,
   "id": "b9609163",
   "metadata": {},
   "outputs": [],
   "source": []
  },
  {
   "cell_type": "code",
   "execution_count": null,
   "id": "2f235993",
   "metadata": {},
   "outputs": [],
   "source": []
  },
  {
   "cell_type": "code",
   "execution_count": null,
   "id": "7ebbe1ed",
   "metadata": {},
   "outputs": [],
   "source": []
  },
  {
   "cell_type": "markdown",
   "id": "f6594b47",
   "metadata": {},
   "source": [
    "### PRE- PROCESSING"
   ]
  },
  {
   "cell_type": "markdown",
   "id": "b03cdfa1",
   "metadata": {},
   "source": [
    "the next step we are going to use the CountVectorizer to analyze the data"
   ]
  },
  {
   "cell_type": "markdown",
   "id": "d5af3709",
   "metadata": {},
   "source": [
    "## Using the CountVectorizer method "
   ]
  },
  {
   "cell_type": "code",
   "execution_count": 27,
   "id": "4aecd380",
   "metadata": {},
   "outputs": [],
   "source": [
    "# Instantiate a CountVectorizer.\n",
    "cvec = CountVectorizer(stop_words='english')"
   ]
  },
  {
   "cell_type": "code",
   "execution_count": 28,
   "id": "b6fee234",
   "metadata": {},
   "outputs": [
    {
     "data": {
      "text/plain": [
       "subreddit              0\n",
       "title                  0\n",
       "selftext               0\n",
       "all_text               0\n",
       "all_text_length        0\n",
       "all_text_word_count    0\n",
       "dtype: int64"
      ]
     },
     "execution_count": 28,
     "metadata": {},
     "output_type": "execute_result"
    }
   ],
   "source": [
    "df_comb.isnull().sum()"
   ]
  },
  {
   "cell_type": "code",
   "execution_count": 35,
   "id": "a4fadf69",
   "metadata": {},
   "outputs": [],
   "source": [
    "df_comb = df_comb.dropna()"
   ]
  },
  {
   "cell_type": "code",
   "execution_count": 36,
   "id": "2a9f5459",
   "metadata": {},
   "outputs": [
    {
     "data": {
      "text/plain": [
       "subreddit              0\n",
       "title                  0\n",
       "selftext               0\n",
       "all_text               0\n",
       "all_text_length        0\n",
       "all_text_word_count    0\n",
       "dtype: int64"
      ]
     },
     "execution_count": 36,
     "metadata": {},
     "output_type": "execute_result"
    }
   ],
   "source": [
    "df_comb.isnull().sum()"
   ]
  },
  {
   "cell_type": "code",
   "execution_count": 29,
   "id": "f52b77e7",
   "metadata": {},
   "outputs": [],
   "source": [
    "#using only a countvectorizer in EDA  \n",
    "\n",
    "df_su= df_comb['all_text']\n",
    "\n"
   ]
  },
  {
   "cell_type": "code",
   "execution_count": 30,
   "id": "2a888b91",
   "metadata": {},
   "outputs": [],
   "source": [
    "# Fit the vectorizer on our corpus.\n",
    "# Transform the corpus.\n",
    "df_cvec = cvec.fit_transform(df_su)"
   ]
  },
  {
   "cell_type": "code",
   "execution_count": null,
   "id": "7a6dfd2c",
   "metadata": {},
   "outputs": [],
   "source": [
    "df_cvec.todense()"
   ]
  },
  {
   "cell_type": "code",
   "execution_count": 31,
   "id": "d9064869",
   "metadata": {},
   "outputs": [
    {
     "data": {
      "text/html": [
       "<div>\n",
       "<style scoped>\n",
       "    .dataframe tbody tr th:only-of-type {\n",
       "        vertical-align: middle;\n",
       "    }\n",
       "\n",
       "    .dataframe tbody tr th {\n",
       "        vertical-align: top;\n",
       "    }\n",
       "\n",
       "    .dataframe thead th {\n",
       "        text-align: right;\n",
       "    }\n",
       "</style>\n",
       "<table border=\"1\" class=\"dataframe\">\n",
       "  <thead>\n",
       "    <tr style=\"text-align: right;\">\n",
       "      <th></th>\n",
       "      <th>00</th>\n",
       "      <th>000</th>\n",
       "      <th>0001</th>\n",
       "      <th>0020</th>\n",
       "      <th>004</th>\n",
       "      <th>006</th>\n",
       "      <th>01</th>\n",
       "      <th>02</th>\n",
       "      <th>023</th>\n",
       "      <th>03</th>\n",
       "      <th>...</th>\n",
       "      <th>zurich</th>\n",
       "      <th>zwolle</th>\n",
       "      <th>zyberk</th>\n",
       "      <th>благоустройство</th>\n",
       "      <th>𝗛𝘂𝗺𝗮𝗻</th>\n",
       "      <th>𝗦𝗲𝗮</th>\n",
       "      <th>𝗧𝘂𝗿𝘁𝗹𝗲</th>\n",
       "      <th>𝗰𝗼𝗻𝘀𝗲𝗿𝘃𝗮𝘁𝗶𝗼𝗻</th>\n",
       "      <th>𝗽𝗼𝗮𝗰𝗵𝗶𝗻𝗴</th>\n",
       "      <th>𝙧𝙚𝙘𝙮𝙘𝙡𝙖𝙗𝙡𝙚𝙨</th>\n",
       "    </tr>\n",
       "  </thead>\n",
       "  <tbody>\n",
       "    <tr>\n",
       "      <th>0</th>\n",
       "      <td>0</td>\n",
       "      <td>0</td>\n",
       "      <td>0</td>\n",
       "      <td>0</td>\n",
       "      <td>0</td>\n",
       "      <td>0</td>\n",
       "      <td>0</td>\n",
       "      <td>0</td>\n",
       "      <td>0</td>\n",
       "      <td>0</td>\n",
       "      <td>...</td>\n",
       "      <td>0</td>\n",
       "      <td>0</td>\n",
       "      <td>0</td>\n",
       "      <td>0</td>\n",
       "      <td>0</td>\n",
       "      <td>0</td>\n",
       "      <td>0</td>\n",
       "      <td>0</td>\n",
       "      <td>0</td>\n",
       "      <td>0</td>\n",
       "    </tr>\n",
       "    <tr>\n",
       "      <th>1</th>\n",
       "      <td>0</td>\n",
       "      <td>0</td>\n",
       "      <td>0</td>\n",
       "      <td>0</td>\n",
       "      <td>0</td>\n",
       "      <td>0</td>\n",
       "      <td>0</td>\n",
       "      <td>0</td>\n",
       "      <td>0</td>\n",
       "      <td>0</td>\n",
       "      <td>...</td>\n",
       "      <td>0</td>\n",
       "      <td>0</td>\n",
       "      <td>0</td>\n",
       "      <td>0</td>\n",
       "      <td>0</td>\n",
       "      <td>0</td>\n",
       "      <td>0</td>\n",
       "      <td>0</td>\n",
       "      <td>0</td>\n",
       "      <td>0</td>\n",
       "    </tr>\n",
       "    <tr>\n",
       "      <th>2</th>\n",
       "      <td>0</td>\n",
       "      <td>0</td>\n",
       "      <td>0</td>\n",
       "      <td>0</td>\n",
       "      <td>0</td>\n",
       "      <td>0</td>\n",
       "      <td>0</td>\n",
       "      <td>0</td>\n",
       "      <td>0</td>\n",
       "      <td>0</td>\n",
       "      <td>...</td>\n",
       "      <td>0</td>\n",
       "      <td>0</td>\n",
       "      <td>0</td>\n",
       "      <td>0</td>\n",
       "      <td>0</td>\n",
       "      <td>0</td>\n",
       "      <td>0</td>\n",
       "      <td>0</td>\n",
       "      <td>0</td>\n",
       "      <td>0</td>\n",
       "    </tr>\n",
       "    <tr>\n",
       "      <th>3</th>\n",
       "      <td>0</td>\n",
       "      <td>0</td>\n",
       "      <td>0</td>\n",
       "      <td>0</td>\n",
       "      <td>0</td>\n",
       "      <td>0</td>\n",
       "      <td>0</td>\n",
       "      <td>0</td>\n",
       "      <td>0</td>\n",
       "      <td>0</td>\n",
       "      <td>...</td>\n",
       "      <td>0</td>\n",
       "      <td>0</td>\n",
       "      <td>0</td>\n",
       "      <td>0</td>\n",
       "      <td>0</td>\n",
       "      <td>0</td>\n",
       "      <td>0</td>\n",
       "      <td>0</td>\n",
       "      <td>0</td>\n",
       "      <td>0</td>\n",
       "    </tr>\n",
       "    <tr>\n",
       "      <th>4</th>\n",
       "      <td>0</td>\n",
       "      <td>0</td>\n",
       "      <td>0</td>\n",
       "      <td>0</td>\n",
       "      <td>0</td>\n",
       "      <td>0</td>\n",
       "      <td>0</td>\n",
       "      <td>0</td>\n",
       "      <td>0</td>\n",
       "      <td>0</td>\n",
       "      <td>...</td>\n",
       "      <td>0</td>\n",
       "      <td>0</td>\n",
       "      <td>0</td>\n",
       "      <td>0</td>\n",
       "      <td>0</td>\n",
       "      <td>0</td>\n",
       "      <td>0</td>\n",
       "      <td>0</td>\n",
       "      <td>0</td>\n",
       "      <td>0</td>\n",
       "    </tr>\n",
       "  </tbody>\n",
       "</table>\n",
       "<p>5 rows × 14064 columns</p>\n",
       "</div>"
      ],
      "text/plain": [
       "   00  000  0001  0020  004  006  01  02  023  03  ...  zurich  zwolle  \\\n",
       "0   0    0     0     0    0    0   0   0    0   0  ...       0       0   \n",
       "1   0    0     0     0    0    0   0   0    0   0  ...       0       0   \n",
       "2   0    0     0     0    0    0   0   0    0   0  ...       0       0   \n",
       "3   0    0     0     0    0    0   0   0    0   0  ...       0       0   \n",
       "4   0    0     0     0    0    0   0   0    0   0  ...       0       0   \n",
       "\n",
       "   zyberk  благоустройство  𝗛𝘂𝗺𝗮𝗻  𝗦𝗲𝗮  𝗧𝘂𝗿𝘁𝗹𝗲  𝗰𝗼𝗻𝘀𝗲𝗿𝘃𝗮𝘁𝗶𝗼𝗻  𝗽𝗼𝗮𝗰𝗵𝗶𝗻𝗴  \\\n",
       "0       0                0      0    0       0             0         0   \n",
       "1       0                0      0    0       0             0         0   \n",
       "2       0                0      0    0       0             0         0   \n",
       "3       0                0      0    0       0             0         0   \n",
       "4       0                0      0    0       0             0         0   \n",
       "\n",
       "   𝙧𝙚𝙘𝙮𝙘𝙡𝙖𝙗𝙡𝙚𝙨  \n",
       "0            0  \n",
       "1            0  \n",
       "2            0  \n",
       "3            0  \n",
       "4            0  \n",
       "\n",
       "[5 rows x 14064 columns]"
      ]
     },
     "execution_count": 31,
     "metadata": {},
     "output_type": "execute_result"
    }
   ],
   "source": [
    "# Make a dataframe\n",
    "# Convert data to dense representation\n",
    "# Use CountVectorizer's .get_feature_names() to label the columns\n",
    "df_cv= pd.DataFrame(df_cvec.todense(), columns = cvec.get_feature_names())\n",
    "df_cv.head()"
   ]
  },
  {
   "cell_type": "code",
   "execution_count": 32,
   "id": "f954d310",
   "metadata": {},
   "outputs": [
    {
     "data": {
      "text/plain": [
       "(4007, 14064)"
      ]
     },
     "execution_count": 32,
     "metadata": {},
     "output_type": "execute_result"
    }
   ],
   "source": [
    "df_cvec.shape"
   ]
  },
  {
   "cell_type": "code",
   "execution_count": 33,
   "id": "790f56b6",
   "metadata": {},
   "outputs": [
    {
     "data": {
      "text/plain": [
       "<AxesSubplot:>"
      ]
     },
     "execution_count": 33,
     "metadata": {},
     "output_type": "execute_result"
    },
    {
     "data": {
      "image/png": "[encoded data removed]",
      "text/plain": [
       "<Figure size 576x360 with 1 Axes>"
      ]
     },
     "metadata": {
      "needs_background": "light"
     },
     "output_type": "display_data"
    }
   ],
   "source": [
    "plt.figure(figsize=(8,5))\n",
    "\n",
    "df_cv.sum().sort_values(ascending=False).head(15).sort_values(ascending=True).plot(kind=\"barh\")"
   ]
  },
  {
   "cell_type": "markdown",
   "id": "b6b847e4",
   "metadata": {},
   "source": [
    "*Interpetation*: With this we see that the most used word  is planning followed by urban "
   ]
  },
  {
   "cell_type": "code",
   "execution_count": 34,
   "id": "d48a097a",
   "metadata": {},
   "outputs": [
    {
     "data": {
      "text/plain": [
       "planning          1000\n",
       "urban              960\n",
       "like               771\n",
       "city               689\n",
       "people             658\n",
       "sustainable        561\n",
       "just               536\n",
       "sustainability     526\n",
       "new                481\n",
       "cities             453\n",
       "know               430\n",
       "work               429\n",
       "don                409\n",
       "ve                 403\n",
       "use                383\n",
       "dtype: int64"
      ]
     },
     "execution_count": 34,
     "metadata": {},
     "output_type": "execute_result"
    }
   ],
   "source": [
    "df_cv.sum().sort_values(ascending=False).head(15).sort_values(ascending=False)"
   ]
  },
  {
   "cell_type": "code",
   "execution_count": null,
   "id": "b1a5ddc3",
   "metadata": {},
   "outputs": [],
   "source": []
  },
  {
   "cell_type": "code",
   "execution_count": 35,
   "id": "dfdbf6cf",
   "metadata": {},
   "outputs": [],
   "source": [
    "cvec2 = CountVectorizer(stop_words='english',ngram_range=(2,2))"
   ]
  },
  {
   "cell_type": "code",
   "execution_count": 36,
   "id": "81c480e7",
   "metadata": {},
   "outputs": [],
   "source": [
    "df_cvec2 = cvec2.fit_transform(df_su)"
   ]
  },
  {
   "cell_type": "code",
   "execution_count": 37,
   "id": "e3532a91",
   "metadata": {},
   "outputs": [
    {
     "data": {
      "text/plain": [
       "<AxesSubplot:>"
      ]
     },
     "execution_count": 37,
     "metadata": {},
     "output_type": "execute_result"
    },
    {
     "data": {
      "image/png": "[encoded data removed]",
      "text/plain": [
       "<Figure size 432x288 with 1 Axes>"
      ]
     },
     "metadata": {
      "needs_background": "light"
     },
     "output_type": "display_data"
    }
   ],
   "source": [
    "# convert training data to dataframe\n",
    "df_cvec2 = pd.DataFrame(cvec2.fit_transform(df_su).todense(),\n",
    "                           columns=cvec2.get_feature_names())\n",
    "\n",
    "# plot top occuring words\n",
    "df_cvec2.sum().sort_values(ascending=False).head(15).sort_values(ascending=True).plot(kind='barh')"
   ]
  },
  {
   "cell_type": "code",
   "execution_count": null,
   "id": "b62cedb7",
   "metadata": {},
   "outputs": [],
   "source": []
  },
  {
   "cell_type": "code",
   "execution_count": null,
   "id": "864a2b41",
   "metadata": {},
   "outputs": [],
   "source": []
  },
  {
   "cell_type": "markdown",
   "id": "c64b8472",
   "metadata": {},
   "source": [
    "## Using the TfidVectorizer"
   ]
  },
  {
   "cell_type": "code",
   "execution_count": 38,
   "id": "98319e61",
   "metadata": {},
   "outputs": [],
   "source": [
    "# Instantiate the transformer.\n",
    "tvec = TfidfVectorizer(stop_words='english')"
   ]
  },
  {
   "cell_type": "code",
   "execution_count": 39,
   "id": "d2c1664d",
   "metadata": {},
   "outputs": [
    {
     "data": {
      "text/plain": [
       "<AxesSubplot:>"
      ]
     },
     "execution_count": 39,
     "metadata": {},
     "output_type": "execute_result"
    },
    {
     "data": {
      "image/png": "[encoded data removed]",
      "text/plain": [
       "<Figure size 432x288 with 1 Axes>"
      ]
     },
     "metadata": {
      "needs_background": "light"
     },
     "output_type": "display_data"
    }
   ],
   "source": [
    "# convert training data to dataframe\n",
    "df_tfidf = pd.DataFrame(tvec.fit_transform(df_su).todense(),\n",
    "                           columns=tvec.get_feature_names())\n",
    "\n",
    "# plot top occuring words\n",
    "df_tfidf.sum().sort_values(ascending=False).head(15).sort_values(ascending=True).plot(kind='barh')"
   ]
  },
  {
   "cell_type": "code",
   "execution_count": 40,
   "id": "0314df40",
   "metadata": {},
   "outputs": [
    {
     "data": {
      "text/plain": [
       "removed           80.931313\n",
       "urban             76.334226\n",
       "planning          72.356623\n",
       "sustainable       64.307240\n",
       "sustainability    58.644995\n",
       "city              57.682329\n",
       "climate           52.472571\n",
       "cities            48.542298\n",
       "new               48.083018\n",
       "like              47.532237\n",
       "housing           42.306212\n",
       "people            41.963658\n",
       "change            37.788091\n",
       "just              35.667514\n",
       "help              34.304554\n",
       "dtype: float64"
      ]
     },
     "execution_count": 40,
     "metadata": {},
     "output_type": "execute_result"
    }
   ],
   "source": [
    "df_tfidf.sum().sort_values(ascending=False).head(15).sort_values(ascending=False)"
   ]
  },
  {
   "cell_type": "code",
   "execution_count": null,
   "id": "981862d6",
   "metadata": {},
   "outputs": [],
   "source": []
  },
  {
   "cell_type": "code",
   "execution_count": 41,
   "id": "b51008ab",
   "metadata": {},
   "outputs": [],
   "source": [
    "# Instantiate the transformer.\n",
    "tvec1 = TfidfVectorizer(stop_words='english',ngram_range=(2,2))"
   ]
  },
  {
   "cell_type": "code",
   "execution_count": 42,
   "id": "5b463c48",
   "metadata": {},
   "outputs": [
    {
     "data": {
      "text/plain": [
       "<AxesSubplot:>"
      ]
     },
     "execution_count": 42,
     "metadata": {},
     "output_type": "execute_result"
    },
    {
     "data": {
      "image/png": "[encoded data removed]",
      "text/plain": [
       "<Figure size 432x288 with 1 Axes>"
      ]
     },
     "metadata": {
      "needs_background": "light"
     },
     "output_type": "display_data"
    }
   ],
   "source": [
    "# convert training data to dataframe\n",
    "df1_tfidf = pd.DataFrame(tvec1.fit_transform(df_su).todense(),\n",
    "                           columns=tvec1.get_feature_names())\n",
    "\n",
    "# plot top occuring words\n",
    "df1_tfidf.sum().sort_values(ascending=False).head(15).sort_values(ascending=True).plot(kind='barh')"
   ]
  },
  {
   "cell_type": "code",
   "execution_count": 43,
   "id": "5cd01bc0",
   "metadata": {},
   "outputs": [
    {
     "data": {
      "text/plain": [
       "urban planning        35.541879\n",
       "climate change        21.415241\n",
       "new york               7.730194\n",
       "eco friendly           7.176414\n",
       "amp x200b              6.991361\n",
       "single family          6.385449\n",
       "carbon footprint       6.374030\n",
       "high speed             6.316101\n",
       "urban planner          6.108178\n",
       "bike lanes             5.997717\n",
       "view poll              5.636209\n",
       "urban design           5.439843\n",
       "climate crisis         5.381282\n",
       "speed rail             5.294901\n",
       "affordable housing     5.174385\n",
       "dtype: float64"
      ]
     },
     "execution_count": 43,
     "metadata": {},
     "output_type": "execute_result"
    }
   ],
   "source": [
    "df1_tfidf.sum().sort_values(ascending=False).head(15).sort_values(ascending=False)"
   ]
  },
  {
   "cell_type": "code",
   "execution_count": 44,
   "id": "aae29ebe",
   "metadata": {},
   "outputs": [],
   "source": [
    "df_cv = df_cv.drop(['subreddit'] ,axis=1)"
   ]
  },
  {
   "cell_type": "code",
   "execution_count": null,
   "id": "073380ed",
   "metadata": {},
   "outputs": [],
   "source": []
  },
  {
   "cell_type": "code",
   "execution_count": null,
   "id": "78919c07",
   "metadata": {},
   "outputs": [],
   "source": []
  },
  {
   "cell_type": "code",
   "execution_count": null,
   "id": "173c367f",
   "metadata": {},
   "outputs": [],
   "source": [
    "#look at the most used world according on the categories\n",
    "#sentiment analysis\n",
    "#look of others visualization I can do\n",
    "#use the n_gram to better understand "
   ]
  },
  {
   "cell_type": "markdown",
   "id": "93cd54ee",
   "metadata": {},
   "source": [
    "Create a new DataFrames that combines the subreddit and the count-vectorized posts."
   ]
  },
  {
   "cell_type": "code",
   "execution_count": 45,
   "id": "7a54d2a8",
   "metadata": {},
   "outputs": [],
   "source": [
    "subreddit = df_comb['subreddit']"
   ]
  },
  {
   "cell_type": "code",
   "execution_count": 46,
   "id": "04deaf44",
   "metadata": {},
   "outputs": [
    {
     "data": {
      "text/html": [
       "<div>\n",
       "<style scoped>\n",
       "    .dataframe tbody tr th:only-of-type {\n",
       "        vertical-align: middle;\n",
       "    }\n",
       "\n",
       "    .dataframe tbody tr th {\n",
       "        vertical-align: top;\n",
       "    }\n",
       "\n",
       "    .dataframe thead th {\n",
       "        text-align: right;\n",
       "    }\n",
       "</style>\n",
       "<table border=\"1\" class=\"dataframe\">\n",
       "  <thead>\n",
       "    <tr style=\"text-align: right;\">\n",
       "      <th></th>\n",
       "      <th>00</th>\n",
       "      <th>000</th>\n",
       "      <th>0001</th>\n",
       "      <th>0020</th>\n",
       "      <th>004</th>\n",
       "      <th>006</th>\n",
       "      <th>01</th>\n",
       "      <th>02</th>\n",
       "      <th>023</th>\n",
       "      <th>03</th>\n",
       "      <th>...</th>\n",
       "      <th>zwolle</th>\n",
       "      <th>zyberk</th>\n",
       "      <th>благоустройство</th>\n",
       "      <th>𝗛𝘂𝗺𝗮𝗻</th>\n",
       "      <th>𝗦𝗲𝗮</th>\n",
       "      <th>𝗧𝘂𝗿𝘁𝗹𝗲</th>\n",
       "      <th>𝗰𝗼𝗻𝘀𝗲𝗿𝘃𝗮𝘁𝗶𝗼𝗻</th>\n",
       "      <th>𝗽𝗼𝗮𝗰𝗵𝗶𝗻𝗴</th>\n",
       "      <th>𝙧𝙚𝙘𝙮𝙘𝙡𝙖𝙗𝙡𝙚𝙨</th>\n",
       "      <th>subreddit</th>\n",
       "    </tr>\n",
       "  </thead>\n",
       "  <tbody>\n",
       "    <tr>\n",
       "      <th>0</th>\n",
       "      <td>0.0</td>\n",
       "      <td>0.0</td>\n",
       "      <td>0.0</td>\n",
       "      <td>0.0</td>\n",
       "      <td>0.0</td>\n",
       "      <td>0.0</td>\n",
       "      <td>0.0</td>\n",
       "      <td>0.0</td>\n",
       "      <td>0.0</td>\n",
       "      <td>0.0</td>\n",
       "      <td>...</td>\n",
       "      <td>0.0</td>\n",
       "      <td>0.0</td>\n",
       "      <td>0.0</td>\n",
       "      <td>0.0</td>\n",
       "      <td>0.0</td>\n",
       "      <td>0.0</td>\n",
       "      <td>0.0</td>\n",
       "      <td>0.0</td>\n",
       "      <td>0.0</td>\n",
       "      <td>0.0</td>\n",
       "    </tr>\n",
       "    <tr>\n",
       "      <th>1</th>\n",
       "      <td>0.0</td>\n",
       "      <td>0.0</td>\n",
       "      <td>0.0</td>\n",
       "      <td>0.0</td>\n",
       "      <td>0.0</td>\n",
       "      <td>0.0</td>\n",
       "      <td>0.0</td>\n",
       "      <td>0.0</td>\n",
       "      <td>0.0</td>\n",
       "      <td>0.0</td>\n",
       "      <td>...</td>\n",
       "      <td>0.0</td>\n",
       "      <td>0.0</td>\n",
       "      <td>0.0</td>\n",
       "      <td>0.0</td>\n",
       "      <td>0.0</td>\n",
       "      <td>0.0</td>\n",
       "      <td>0.0</td>\n",
       "      <td>0.0</td>\n",
       "      <td>0.0</td>\n",
       "      <td>0.0</td>\n",
       "    </tr>\n",
       "    <tr>\n",
       "      <th>2</th>\n",
       "      <td>0.0</td>\n",
       "      <td>0.0</td>\n",
       "      <td>0.0</td>\n",
       "      <td>0.0</td>\n",
       "      <td>0.0</td>\n",
       "      <td>0.0</td>\n",
       "      <td>0.0</td>\n",
       "      <td>0.0</td>\n",
       "      <td>0.0</td>\n",
       "      <td>0.0</td>\n",
       "      <td>...</td>\n",
       "      <td>0.0</td>\n",
       "      <td>0.0</td>\n",
       "      <td>0.0</td>\n",
       "      <td>0.0</td>\n",
       "      <td>0.0</td>\n",
       "      <td>0.0</td>\n",
       "      <td>0.0</td>\n",
       "      <td>0.0</td>\n",
       "      <td>0.0</td>\n",
       "      <td>0.0</td>\n",
       "    </tr>\n",
       "    <tr>\n",
       "      <th>3</th>\n",
       "      <td>0.0</td>\n",
       "      <td>0.0</td>\n",
       "      <td>0.0</td>\n",
       "      <td>0.0</td>\n",
       "      <td>0.0</td>\n",
       "      <td>0.0</td>\n",
       "      <td>0.0</td>\n",
       "      <td>0.0</td>\n",
       "      <td>0.0</td>\n",
       "      <td>0.0</td>\n",
       "      <td>...</td>\n",
       "      <td>0.0</td>\n",
       "      <td>0.0</td>\n",
       "      <td>0.0</td>\n",
       "      <td>0.0</td>\n",
       "      <td>0.0</td>\n",
       "      <td>0.0</td>\n",
       "      <td>0.0</td>\n",
       "      <td>0.0</td>\n",
       "      <td>0.0</td>\n",
       "      <td>0.0</td>\n",
       "    </tr>\n",
       "    <tr>\n",
       "      <th>4</th>\n",
       "      <td>0.0</td>\n",
       "      <td>0.0</td>\n",
       "      <td>0.0</td>\n",
       "      <td>0.0</td>\n",
       "      <td>0.0</td>\n",
       "      <td>0.0</td>\n",
       "      <td>0.0</td>\n",
       "      <td>0.0</td>\n",
       "      <td>0.0</td>\n",
       "      <td>0.0</td>\n",
       "      <td>...</td>\n",
       "      <td>0.0</td>\n",
       "      <td>0.0</td>\n",
       "      <td>0.0</td>\n",
       "      <td>0.0</td>\n",
       "      <td>0.0</td>\n",
       "      <td>0.0</td>\n",
       "      <td>0.0</td>\n",
       "      <td>0.0</td>\n",
       "      <td>0.0</td>\n",
       "      <td>0.0</td>\n",
       "    </tr>\n",
       "  </tbody>\n",
       "</table>\n",
       "<p>5 rows × 14064 columns</p>\n",
       "</div>"
      ],
      "text/plain": [
       "    00  000  0001  0020  004  006   01   02  023   03  ...  zwolle  zyberk  \\\n",
       "0  0.0  0.0   0.0   0.0  0.0  0.0  0.0  0.0  0.0  0.0  ...     0.0     0.0   \n",
       "1  0.0  0.0   0.0   0.0  0.0  0.0  0.0  0.0  0.0  0.0  ...     0.0     0.0   \n",
       "2  0.0  0.0   0.0   0.0  0.0  0.0  0.0  0.0  0.0  0.0  ...     0.0     0.0   \n",
       "3  0.0  0.0   0.0   0.0  0.0  0.0  0.0  0.0  0.0  0.0  ...     0.0     0.0   \n",
       "4  0.0  0.0   0.0   0.0  0.0  0.0  0.0  0.0  0.0  0.0  ...     0.0     0.0   \n",
       "\n",
       "   благоустройство  𝗛𝘂𝗺𝗮𝗻  𝗦𝗲𝗮  𝗧𝘂𝗿𝘁𝗹𝗲  𝗰𝗼𝗻𝘀𝗲𝗿𝘃𝗮𝘁𝗶𝗼𝗻  𝗽𝗼𝗮𝗰𝗵𝗶𝗻𝗴  𝙧𝙚𝙘𝙮𝙘𝙡𝙖𝙗𝙡𝙚𝙨  \\\n",
       "0              0.0    0.0  0.0     0.0           0.0       0.0          0.0   \n",
       "1              0.0    0.0  0.0     0.0           0.0       0.0          0.0   \n",
       "2              0.0    0.0  0.0     0.0           0.0       0.0          0.0   \n",
       "3              0.0    0.0  0.0     0.0           0.0       0.0          0.0   \n",
       "4              0.0    0.0  0.0     0.0           0.0       0.0          0.0   \n",
       "\n",
       "   subreddit  \n",
       "0        0.0  \n",
       "1        0.0  \n",
       "2        0.0  \n",
       "3        0.0  \n",
       "4        0.0  \n",
       "\n",
       "[5 rows x 14064 columns]"
      ]
     },
     "execution_count": 46,
     "metadata": {},
     "output_type": "execute_result"
    }
   ],
   "source": [
    "frames= [df_cv,subreddit]\n",
    "class_and_text = pd.concat(frames,axis=1)\n",
    "class_and_text.head()"
   ]
  },
  {
   "cell_type": "code",
   "execution_count": 47,
   "id": "ec985653",
   "metadata": {},
   "outputs": [
    {
     "data": {
      "text/plain": [
       "1.0    2040\n",
       "0.0    1967\n",
       "Name: subreddit, dtype: int64"
      ]
     },
     "execution_count": 47,
     "metadata": {},
     "output_type": "execute_result"
    }
   ],
   "source": [
    "class_and_text['subreddit'].value_counts()    "
   ]
  },
  {
   "cell_type": "code",
   "execution_count": 48,
   "id": "fc6c3293",
   "metadata": {},
   "outputs": [
    {
     "data": {
      "text/plain": [
       "00              78\n",
       "000             78\n",
       "0001            78\n",
       "0020            78\n",
       "004             78\n",
       "                ..\n",
       "𝗧𝘂𝗿𝘁𝗹𝗲          78\n",
       "𝗰𝗼𝗻𝘀𝗲𝗿𝘃𝗮𝘁𝗶𝗼𝗻    78\n",
       "𝗽𝗼𝗮𝗰𝗵𝗶𝗻𝗴        78\n",
       "𝙧𝙚𝙘𝙮𝙘𝙡𝙖𝙗𝙡𝙚𝙨     78\n",
       "subreddit       78\n",
       "Length: 14064, dtype: int64"
      ]
     },
     "execution_count": 48,
     "metadata": {},
     "output_type": "execute_result"
    }
   ],
   "source": [
    "class_and_text.isnull().sum()"
   ]
  },
  {
   "cell_type": "code",
   "execution_count": 49,
   "id": "25345978",
   "metadata": {},
   "outputs": [],
   "source": [
    "class_and_text = class_and_text.dropna()"
   ]
  },
  {
   "cell_type": "code",
   "execution_count": 218,
   "id": "799a6f79",
   "metadata": {},
   "outputs": [
    {
     "data": {
      "text/plain": [
       "Index(['00', '000', '0001', '0020', '004', '006', '01', '02', '023', '031',\n",
       "       ...\n",
       "       '𝘰𝘧', '𝘰𝘧𝘵𝘦𝘯', '𝘱𝘰𝘴𝘪𝘵𝘪𝘷𝘦', '𝘴𝘵𝘳𝘪𝘧𝘦', '𝘵𝘩𝘢𝘵', '𝘵𝘰𝘶𝘤𝘩', '𝘶𝘯𝘤𝘦𝘳𝘵𝘢𝘪𝘯𝘵𝘺',\n",
       "       '𝘷𝘪𝘢', '𝙧𝙚𝙘𝙮𝙘𝙡𝙖𝙗𝙡𝙚𝙨', 'subreddit'],\n",
       "      dtype='object', length=14227)"
      ]
     },
     "execution_count": 218,
     "metadata": {},
     "output_type": "execute_result"
    }
   ],
   "source": [
    "class_and_text.columns"
   ]
  },
  {
   "cell_type": "code",
   "execution_count": 60,
   "id": "99bb41f4",
   "metadata": {},
   "outputs": [
    {
     "data": {
      "text/plain": [
       "00             0\n",
       "000            0\n",
       "0001           0\n",
       "0020           0\n",
       "004            0\n",
       "              ..\n",
       "𝘵𝘰𝘶𝘤𝘩          0\n",
       "𝘶𝘯𝘤𝘦𝘳𝘵𝘢𝘪𝘯𝘵𝘺    0\n",
       "𝘷𝘪𝘢            0\n",
       "𝙧𝙚𝙘𝙮𝙘𝙡𝙖𝙗𝙡𝙚𝙨    0\n",
       "subreddit      0\n",
       "Length: 14227, dtype: int64"
      ]
     },
     "execution_count": 60,
     "metadata": {},
     "output_type": "execute_result"
    }
   ],
   "source": [
    "class_and_text.isnull().sum()"
   ]
  },
  {
   "cell_type": "code",
   "execution_count": 50,
   "id": "843e0afa",
   "metadata": {},
   "outputs": [
    {
     "data": {
      "text/plain": [
       "(3929, 14064)"
      ]
     },
     "execution_count": 50,
     "metadata": {},
     "output_type": "execute_result"
    }
   ],
   "source": [
    "class_and_text.shape"
   ]
  },
  {
   "cell_type": "code",
   "execution_count": 51,
   "id": "3b94f94c",
   "metadata": {},
   "outputs": [
    {
     "data": {
      "text/plain": [
       "Series([], dtype: float64)"
      ]
     },
     "execution_count": 51,
     "metadata": {},
     "output_type": "execute_result"
    }
   ],
   "source": [
    "class_and_text.loc[(class_and_text['subreddit']== 1),[]].sum().sort_values(ascending=False).head(25)\n"
   ]
  },
  {
   "cell_type": "code",
   "execution_count": 61,
   "id": "6233d077",
   "metadata": {},
   "outputs": [
    {
     "data": {
      "text/plain": [
       "<AxesSubplot:>"
      ]
     },
     "execution_count": 61,
     "metadata": {},
     "output_type": "execute_result"
    },
    {
     "data": {
      "image/png": "[encoded data removed]",
      "text/plain": [
       "<Figure size 432x288 with 1 Axes>"
      ]
     },
     "metadata": {
      "needs_background": "light"
     },
     "output_type": "display_data"
    }
   ],
   "source": [
    "class_and_text[class_and_text['subreddit']== 1].sum().sort_values(ascending=False)[2:26].sort_values(ascending=True).plot(kind='barh')"
   ]
  },
  {
   "cell_type": "code",
   "execution_count": 53,
   "id": "eb83e343",
   "metadata": {},
   "outputs": [
    {
     "data": {
      "text/plain": [
       "planning       965.0\n",
       "urban          928.0\n",
       "city           634.0\n",
       "like           471.0\n",
       "people         425.0\n",
       "cities         419.0\n",
       "just           302.0\n",
       "housing        298.0\n",
       "work           290.0\n",
       "new            289.0\n",
       "ve             256.0\n",
       "public         243.0\n",
       "don            242.0\n",
       "think          225.0\n",
       "know           219.0\n",
       "job            205.0\n",
       "want           200.0\n",
       "development    195.0\n",
       "car            184.0\n",
       "time           184.0\n",
       "use            182.0\n",
       "experience     176.0\n",
       "looking        171.0\n",
       "make           169.0\n",
       "good           168.0\n",
       "dtype: float64"
      ]
     },
     "execution_count": 53,
     "metadata": {},
     "output_type": "execute_result"
    }
   ],
   "source": [
    "class_and_text[class_and_text['subreddit']== 0].sum().sort_values(ascending=False).head(25)"
   ]
  },
  {
   "cell_type": "code",
   "execution_count": 54,
   "id": "9c2b7af0",
   "metadata": {},
   "outputs": [
    {
     "data": {
      "text/plain": [
       "<AxesSubplot:>"
      ]
     },
     "execution_count": 54,
     "metadata": {},
     "output_type": "execute_result"
    },
    {
     "data": {
      "image/png": "[encoded data removed]",
      "text/plain": [
       "<Figure size 432x288 with 1 Axes>"
      ]
     },
     "metadata": {
      "needs_background": "light"
     },
     "output_type": "display_data"
    }
   ],
   "source": [
    "class_and_text[class_and_text['subreddit']== 0].sum().sort_values(ascending=False).head(25).sort_values(ascending=True).plot(kind='barh')"
   ]
  },
  {
   "cell_type": "code",
   "execution_count": 57,
   "id": "f4d6041f",
   "metadata": {},
   "outputs": [
    {
     "data": {
      "text/html": [
       "<div>\n",
       "<style scoped>\n",
       "    .dataframe tbody tr th:only-of-type {\n",
       "        vertical-align: middle;\n",
       "    }\n",
       "\n",
       "    .dataframe tbody tr th {\n",
       "        vertical-align: top;\n",
       "    }\n",
       "\n",
       "    .dataframe thead th {\n",
       "        text-align: right;\n",
       "    }\n",
       "</style>\n",
       "<table border=\"1\" class=\"dataframe\">\n",
       "  <thead>\n",
       "    <tr style=\"text-align: right;\">\n",
       "      <th></th>\n",
       "      <th>00 00</th>\n",
       "      <th>00 19</th>\n",
       "      <th>00 20</th>\n",
       "      <th>00 50</th>\n",
       "      <th>00 59</th>\n",
       "      <th>00 evening</th>\n",
       "      <th>00 fare</th>\n",
       "      <th>00 nn</th>\n",
       "      <th>00 pm</th>\n",
       "      <th>00 train</th>\n",
       "      <th>...</th>\n",
       "      <th>zwolle nl</th>\n",
       "      <th>zyberk speck</th>\n",
       "      <th>благоустройство blagoustoistvo</th>\n",
       "      <th>𝗛𝘂𝗺𝗮𝗻 𝗦𝗲𝗮</th>\n",
       "      <th>𝗦𝗲𝗮 𝗧𝘂𝗿𝘁𝗹𝗲</th>\n",
       "      <th>𝗧𝘂𝗿𝘁𝗹𝗲 relationship</th>\n",
       "      <th>𝗰𝗼𝗻𝘀𝗲𝗿𝘃𝗮𝘁𝗶𝗼𝗻 𝗛𝘂𝗺𝗮𝗻</th>\n",
       "      <th>𝗽𝗼𝗮𝗰𝗵𝗶𝗻𝗴 turn</th>\n",
       "      <th>𝙧𝙚𝙘𝙮𝙘𝙡𝙖𝙗𝙡𝙚𝙨 recycling</th>\n",
       "      <th>subreddit</th>\n",
       "    </tr>\n",
       "  </thead>\n",
       "  <tbody>\n",
       "    <tr>\n",
       "      <th>0</th>\n",
       "      <td>0.0</td>\n",
       "      <td>0.0</td>\n",
       "      <td>0.0</td>\n",
       "      <td>0.0</td>\n",
       "      <td>0.0</td>\n",
       "      <td>0.0</td>\n",
       "      <td>0.0</td>\n",
       "      <td>0.0</td>\n",
       "      <td>0.0</td>\n",
       "      <td>0.0</td>\n",
       "      <td>...</td>\n",
       "      <td>0.0</td>\n",
       "      <td>0.0</td>\n",
       "      <td>0.0</td>\n",
       "      <td>0.0</td>\n",
       "      <td>0.0</td>\n",
       "      <td>0.0</td>\n",
       "      <td>0.0</td>\n",
       "      <td>0.0</td>\n",
       "      <td>0.0</td>\n",
       "      <td>0.0</td>\n",
       "    </tr>\n",
       "    <tr>\n",
       "      <th>1</th>\n",
       "      <td>0.0</td>\n",
       "      <td>0.0</td>\n",
       "      <td>0.0</td>\n",
       "      <td>0.0</td>\n",
       "      <td>0.0</td>\n",
       "      <td>0.0</td>\n",
       "      <td>0.0</td>\n",
       "      <td>0.0</td>\n",
       "      <td>0.0</td>\n",
       "      <td>0.0</td>\n",
       "      <td>...</td>\n",
       "      <td>0.0</td>\n",
       "      <td>0.0</td>\n",
       "      <td>0.0</td>\n",
       "      <td>0.0</td>\n",
       "      <td>0.0</td>\n",
       "      <td>0.0</td>\n",
       "      <td>0.0</td>\n",
       "      <td>0.0</td>\n",
       "      <td>0.0</td>\n",
       "      <td>0.0</td>\n",
       "    </tr>\n",
       "    <tr>\n",
       "      <th>2</th>\n",
       "      <td>0.0</td>\n",
       "      <td>0.0</td>\n",
       "      <td>0.0</td>\n",
       "      <td>0.0</td>\n",
       "      <td>0.0</td>\n",
       "      <td>0.0</td>\n",
       "      <td>0.0</td>\n",
       "      <td>0.0</td>\n",
       "      <td>0.0</td>\n",
       "      <td>0.0</td>\n",
       "      <td>...</td>\n",
       "      <td>0.0</td>\n",
       "      <td>0.0</td>\n",
       "      <td>0.0</td>\n",
       "      <td>0.0</td>\n",
       "      <td>0.0</td>\n",
       "      <td>0.0</td>\n",
       "      <td>0.0</td>\n",
       "      <td>0.0</td>\n",
       "      <td>0.0</td>\n",
       "      <td>0.0</td>\n",
       "    </tr>\n",
       "    <tr>\n",
       "      <th>3</th>\n",
       "      <td>0.0</td>\n",
       "      <td>0.0</td>\n",
       "      <td>0.0</td>\n",
       "      <td>0.0</td>\n",
       "      <td>0.0</td>\n",
       "      <td>0.0</td>\n",
       "      <td>0.0</td>\n",
       "      <td>0.0</td>\n",
       "      <td>0.0</td>\n",
       "      <td>0.0</td>\n",
       "      <td>...</td>\n",
       "      <td>0.0</td>\n",
       "      <td>0.0</td>\n",
       "      <td>0.0</td>\n",
       "      <td>0.0</td>\n",
       "      <td>0.0</td>\n",
       "      <td>0.0</td>\n",
       "      <td>0.0</td>\n",
       "      <td>0.0</td>\n",
       "      <td>0.0</td>\n",
       "      <td>0.0</td>\n",
       "    </tr>\n",
       "    <tr>\n",
       "      <th>4</th>\n",
       "      <td>0.0</td>\n",
       "      <td>0.0</td>\n",
       "      <td>0.0</td>\n",
       "      <td>0.0</td>\n",
       "      <td>0.0</td>\n",
       "      <td>0.0</td>\n",
       "      <td>0.0</td>\n",
       "      <td>0.0</td>\n",
       "      <td>0.0</td>\n",
       "      <td>0.0</td>\n",
       "      <td>...</td>\n",
       "      <td>0.0</td>\n",
       "      <td>0.0</td>\n",
       "      <td>0.0</td>\n",
       "      <td>0.0</td>\n",
       "      <td>0.0</td>\n",
       "      <td>0.0</td>\n",
       "      <td>0.0</td>\n",
       "      <td>0.0</td>\n",
       "      <td>0.0</td>\n",
       "      <td>0.0</td>\n",
       "    </tr>\n",
       "  </tbody>\n",
       "</table>\n",
       "<p>5 rows × 89668 columns</p>\n",
       "</div>"
      ],
      "text/plain": [
       "   00 00  00 19  00 20  00 50  00 59  00 evening  00 fare  00 nn  00 pm  \\\n",
       "0    0.0    0.0    0.0    0.0    0.0         0.0      0.0    0.0    0.0   \n",
       "1    0.0    0.0    0.0    0.0    0.0         0.0      0.0    0.0    0.0   \n",
       "2    0.0    0.0    0.0    0.0    0.0         0.0      0.0    0.0    0.0   \n",
       "3    0.0    0.0    0.0    0.0    0.0         0.0      0.0    0.0    0.0   \n",
       "4    0.0    0.0    0.0    0.0    0.0         0.0      0.0    0.0    0.0   \n",
       "\n",
       "   00 train  ...  zwolle nl  zyberk speck  благоустройство blagoustoistvo  \\\n",
       "0       0.0  ...        0.0           0.0                             0.0   \n",
       "1       0.0  ...        0.0           0.0                             0.0   \n",
       "2       0.0  ...        0.0           0.0                             0.0   \n",
       "3       0.0  ...        0.0           0.0                             0.0   \n",
       "4       0.0  ...        0.0           0.0                             0.0   \n",
       "\n",
       "   𝗛𝘂𝗺𝗮𝗻 𝗦𝗲𝗮  𝗦𝗲𝗮 𝗧𝘂𝗿𝘁𝗹𝗲  𝗧𝘂𝗿𝘁𝗹𝗲 relationship  𝗰𝗼𝗻𝘀𝗲𝗿𝘃𝗮𝘁𝗶𝗼𝗻 𝗛𝘂𝗺𝗮𝗻  \\\n",
       "0        0.0         0.0                  0.0                 0.0   \n",
       "1        0.0         0.0                  0.0                 0.0   \n",
       "2        0.0         0.0                  0.0                 0.0   \n",
       "3        0.0         0.0                  0.0                 0.0   \n",
       "4        0.0         0.0                  0.0                 0.0   \n",
       "\n",
       "   𝗽𝗼𝗮𝗰𝗵𝗶𝗻𝗴 turn  𝙧𝙚𝙘𝙮𝙘𝙡𝙖𝙗𝙡𝙚𝙨 recycling  subreddit  \n",
       "0            0.0                    0.0        0.0  \n",
       "1            0.0                    0.0        0.0  \n",
       "2            0.0                    0.0        0.0  \n",
       "3            0.0                    0.0        0.0  \n",
       "4            0.0                    0.0        0.0  \n",
       "\n",
       "[5 rows x 89668 columns]"
      ]
     },
     "execution_count": 57,
     "metadata": {},
     "output_type": "execute_result"
    }
   ],
   "source": [
    "frames= [df1_tfidf,subreddit]\n",
    "class_and_text1 = pd.concat(frames,axis=1)\n",
    "class_and_text1 = class_and_text1.dropna()\n",
    "class_and_text1.head()\n"
   ]
  },
  {
   "cell_type": "code",
   "execution_count": 63,
   "id": "c58b88a5",
   "metadata": {},
   "outputs": [
    {
     "data": {
      "text/plain": [
       "<AxesSubplot:>"
      ]
     },
     "execution_count": 63,
     "metadata": {},
     "output_type": "execute_result"
    },
    {
     "data": {
      "image/png": "[encoded data removed]",
      "text/plain": [
       "<Figure size 432x288 with 1 Axes>"
      ]
     },
     "metadata": {
      "needs_background": "light"
     },
     "output_type": "display_data"
    }
   ],
   "source": [
    "class_and_text1[class_and_text1['subreddit']== 1].sum().sort_values(ascending=False)[2:25].sort_values(ascending=True).plot(kind='barh')"
   ]
  },
  {
   "cell_type": "code",
   "execution_count": 60,
   "id": "b94c16db",
   "metadata": {},
   "outputs": [
    {
     "data": {
      "text/plain": [
       "subreddit                  1962.000000\n",
       "climate change               17.156805\n",
       "eco friendly                  6.834048\n",
       "carbon footprint              6.327442\n",
       "sustainable fashion           4.724656\n",
       "amp x200b                     4.614974\n",
       "climate crisis                4.555204\n",
       "net zero                      3.980755\n",
       "food waste                    3.878754\n",
       "plastic free                  3.843990\n",
       "view poll                     3.598705\n",
       "zero waste                    3.456110\n",
       "single use                    3.275816\n",
       "plastic waste                 3.106320\n",
       "sustainable furniture         3.097836\n",
       "save world                    3.097481\n",
       "fossil fuel                   2.978754\n",
       "plant based                   2.957055\n",
       "sustainable development       2.955082\n",
       "circular economy              2.937797\n",
       "use plastic                   2.896205\n",
       "fast fashion                  2.814185\n",
       "renewable energy              2.772771\n",
       "sustainable lifestyle         2.723527\n",
       "does know                     2.715005\n",
       "dtype: float64"
      ]
     },
     "execution_count": 60,
     "metadata": {},
     "output_type": "execute_result"
    }
   ],
   "source": [
    "class_and_text1[class_and_text1['subreddit']==1].sum().sort_values(ascending=False).head(25)"
   ]
  },
  {
   "cell_type": "code",
   "execution_count": 59,
   "id": "1f26b51c",
   "metadata": {},
   "outputs": [
    {
     "data": {
      "text/plain": [
       "<AxesSubplot:>"
      ]
     },
     "execution_count": 59,
     "metadata": {},
     "output_type": "execute_result"
    },
    {
     "data": {
      "image/png": "[encoded data removed]",
      "text/plain": [
       "<Figure size 432x288 with 1 Axes>"
      ]
     },
     "metadata": {
      "needs_background": "light"
     },
     "output_type": "display_data"
    }
   ],
   "source": [
    "class_and_text1[class_and_text1['subreddit']== 0].sum().sort_values(ascending=False).head(25).sort_values(ascending=True).plot(kind='barh')"
   ]
  },
  {
   "cell_type": "markdown",
   "id": "be5cebf4",
   "metadata": {},
   "source": [
    "## Modeling"
   ]
  },
  {
   "cell_type": "markdown",
   "id": "e1b69ff5",
   "metadata": {},
   "source": [
    "In this part we are going to use   "
   ]
  },
  {
   "cell_type": "code",
   "execution_count": 101,
   "id": "9de3746d",
   "metadata": {},
   "outputs": [
    {
     "data": {
      "text/plain": [
       "0    Beautiful Frozen Chicago Filmed With Drone | 4...\n",
       "1    What are some jobs outside the realm of urban ...\n",
       "2    Do you think US governments investing in socia...\n",
       "3           TOP-DOWN and BOTTOM-UP urban development. \n",
       "4    One of the best urban designs probably in the ...\n",
       "Name: all_text, dtype: object"
      ]
     },
     "execution_count": 101,
     "metadata": {},
     "output_type": "execute_result"
    }
   ],
   "source": [
    "# Defininfg the X and y \n",
    "X = df_comb['all_text']\n",
    "y = df_comb['subreddit']\n",
    "X.head()"
   ]
  },
  {
   "cell_type": "code",
   "execution_count": 102,
   "id": "5413ef7c",
   "metadata": {},
   "outputs": [],
   "source": [
    "# Redefine training and testing sets.\n",
    "X_train, X_test, y_train, y_test = train_test_split(X,\n",
    "                                                    y,\n",
    "                                                    test_size=0.33,\n",
    "                                                    stratify=y,\n",
    "                                                    random_state=42)"
   ]
  },
  {
   "cell_type": "code",
   "execution_count": 103,
   "id": "1a40af64",
   "metadata": {},
   "outputs": [
    {
     "data": {
      "text/plain": [
       "(2682,)"
      ]
     },
     "execution_count": 103,
     "metadata": {},
     "output_type": "execute_result"
    }
   ],
   "source": [
    "X_train.shape"
   ]
  },
  {
   "cell_type": "code",
   "execution_count": 104,
   "id": "7f70908a",
   "metadata": {},
   "outputs": [
    {
     "data": {
      "text/plain": [
       "(2682,)"
      ]
     },
     "execution_count": 104,
     "metadata": {},
     "output_type": "execute_result"
    }
   ],
   "source": [
    "y_train.shape"
   ]
  },
  {
   "cell_type": "code",
   "execution_count": 105,
   "id": "e7ebc0a2",
   "metadata": {},
   "outputs": [
    {
     "data": {
      "text/plain": [
       "(4004,)"
      ]
     },
     "execution_count": 105,
     "metadata": {},
     "output_type": "execute_result"
    }
   ],
   "source": [
    "X.shape"
   ]
  },
  {
   "cell_type": "code",
   "execution_count": 106,
   "id": "504725f2",
   "metadata": {},
   "outputs": [
    {
     "data": {
      "text/plain": [
       "(4004,)"
      ]
     },
     "execution_count": 106,
     "metadata": {},
     "output_type": "execute_result"
    }
   ],
   "source": [
    "y.shape"
   ]
  },
  {
   "cell_type": "code",
   "execution_count": 107,
   "id": "e09af3ee",
   "metadata": {},
   "outputs": [
    {
     "data": {
      "text/plain": [
       "1    0.509834\n",
       "0    0.490166\n",
       "Name: subreddit, dtype: float64"
      ]
     },
     "execution_count": 107,
     "metadata": {},
     "output_type": "execute_result"
    }
   ],
   "source": [
    " #guessing the majority class every time\n",
    "y_test.value_counts(normalize=True)"
   ]
  },
  {
   "cell_type": "markdown",
   "id": "17cc51c9",
   "metadata": {},
   "source": [
    "## Multinomial Naives Bayes Model"
   ]
  },
  {
   "cell_type": "markdown",
   "id": "eab7b01e",
   "metadata": {},
   "source": [
    "The first model we are going to use is the Multinomial Naive Bayes "
   ]
  },
  {
   "cell_type": "code",
   "execution_count": 260,
   "id": "c1819230",
   "metadata": {},
   "outputs": [],
   "source": [
    "# Let's set a pipeline up with two stages:\n",
    "# 1. CountVectorizer (transformer)\n",
    "# 2. Multinomial Naive Bayes (estimator)\n",
    "\n",
    "pipe_tfidf = Pipeline([\n",
    "    ('tfidf', TfidfVectorizer()),\n",
    "    ('mnb',MultinomialNB())\n",
    "])"
   ]
  },
  {
   "cell_type": "code",
   "execution_count": 261,
   "id": "40e38722",
   "metadata": {},
   "outputs": [
    {
     "data": {
      "text/plain": [
       "0.910891770199283"
      ]
     },
     "execution_count": 261,
     "metadata": {},
     "output_type": "execute_result"
    }
   ],
   "source": [
    "cross_val_score(pipe_tfidf, X_train, y_train, cv=5).mean()"
   ]
  },
  {
   "cell_type": "code",
   "execution_count": 262,
   "id": "23c0d1e8",
   "metadata": {},
   "outputs": [
    {
     "name": "stdout",
     "output_type": "stream",
     "text": [
      "0.9791200596569725\n",
      "0.903177004538578\n"
     ]
    }
   ],
   "source": [
    "#Fit the model\n",
    "#Trainning score\n",
    "#test score\n",
    "\n",
    "pipe_tfidf.fit(X_train, y_train)\n",
    "print(pipe_tfidf.score(X_train, y_train))\n",
    "print(pipe_tfidf.score(X_test, y_test))"
   ]
  },
  {
   "cell_type": "code",
   "execution_count": null,
   "id": "d02a2569",
   "metadata": {},
   "outputs": [],
   "source": []
  },
  {
   "cell_type": "code",
   "execution_count": null,
   "id": "246c583e",
   "metadata": {},
   "outputs": [],
   "source": []
  },
  {
   "cell_type": "code",
   "execution_count": null,
   "id": "cf8bcb71",
   "metadata": {},
   "outputs": [],
   "source": []
  },
  {
   "cell_type": "code",
   "execution_count": 108,
   "id": "eadeaec8",
   "metadata": {},
   "outputs": [],
   "source": [
    "# Let's set a pipeline up with two stages:\n",
    "# 1. CountVectorizer (transformer)\n",
    "# 2. Multinomial Naive Bayes (estimator)\n",
    "\n",
    "pipe = Pipeline([\n",
    "    ('covec', CountVectorizer()),\n",
    "    ('mnb',MultinomialNB())\n",
    "])"
   ]
  },
  {
   "cell_type": "code",
   "execution_count": 71,
   "id": "1b15a247",
   "metadata": {},
   "outputs": [],
   "source": [
    "from sklearn.model_selection import cross_val_score"
   ]
  },
  {
   "cell_type": "code",
   "execution_count": 109,
   "id": "5657b0c2",
   "metadata": {},
   "outputs": [
    {
     "data": {
      "text/plain": [
       "0.9101434169932461"
      ]
     },
     "execution_count": 109,
     "metadata": {},
     "output_type": "execute_result"
    }
   ],
   "source": [
    "# Estimate how your model will perform on unseen data\n",
    "cross_val_score(pipe, X_train, y_train, cv=5).mean()"
   ]
  },
  {
   "cell_type": "code",
   "execution_count": 110,
   "id": "4b035350",
   "metadata": {},
   "outputs": [
    {
     "name": "stdout",
     "output_type": "stream",
     "text": [
      "0.9679343773303505\n",
      "0.903177004538578\n"
     ]
    }
   ],
   "source": [
    "#Fit the model\n",
    "#Trainning score\n",
    "#test score\n",
    "\n",
    "pipe.fit(X_train, y_train)\n",
    "print(pipe.score(X_train, y_train))\n",
    "print(pipe.score(X_test, y_test))"
   ]
  },
  {
   "cell_type": "markdown",
   "id": "07c7144e",
   "metadata": {},
   "source": [
    "With this score we can see that this model is overfitting "
   ]
  },
  {
   "cell_type": "code",
   "execution_count": null,
   "id": "d501c97e",
   "metadata": {},
   "outputs": [],
   "source": [
    "X_train.shape"
   ]
  },
  {
   "cell_type": "code",
   "execution_count": 111,
   "id": "5c9a42eb",
   "metadata": {},
   "outputs": [],
   "source": [
    "# Search over the following values of hyperparameters:\n",
    "# Maximum number of features fit: 2000, 3000, 4000, 5000\n",
    "# Minimum number of documents needed to include token: 2, 3\n",
    "# Maximum number of documents needed to include token: 90%, 95%\n",
    "# Check individual tokens and also check  2-grams.\n",
    "\n",
    "param_grid = {\n",
    "    'covec__max_features': [2000, 3000, 4000, 5000],\n",
    "    'covec__min_df': [2,3],\n",
    "    'covec__max_df': [.90, .95],\n",
    "    'covec__ngram_range': [(1,1), (2,2)]\n",
    "    \n",
    "}"
   ]
  },
  {
   "cell_type": "code",
   "execution_count": 116,
   "id": "a8664f1f",
   "metadata": {},
   "outputs": [],
   "source": [
    "# Instantiate GridSearchCV.\n",
    "mnb_gs = GridSearchCV(pipe, param_grid, cv=5, verbose=1)"
   ]
  },
  {
   "cell_type": "code",
   "execution_count": 117,
   "id": "6bd62a63",
   "metadata": {},
   "outputs": [
    {
     "name": "stdout",
     "output_type": "stream",
     "text": [
      "Fitting 5 folds for each of 32 candidates, totalling 160 fits\n"
     ]
    },
    {
     "data": {
      "text/plain": [
       "GridSearchCV(cv=5,\n",
       "             estimator=Pipeline(steps=[('covec', CountVectorizer()),\n",
       "                                       ('mnb', MultinomialNB())]),\n",
       "             param_grid={'covec__max_df': [0.9, 0.95],\n",
       "                         'covec__max_features': [2000, 3000, 4000, 5000],\n",
       "                         'covec__min_df': [2, 3],\n",
       "                         'covec__ngram_range': [(1, 1), (2, 2)]},\n",
       "             verbose=1)"
      ]
     },
     "execution_count": 117,
     "metadata": {},
     "output_type": "execute_result"
    }
   ],
   "source": [
    "mnb_gs.fit(X_train, y_train)"
   ]
  },
  {
   "cell_type": "code",
   "execution_count": 118,
   "id": "0a877c4e",
   "metadata": {},
   "outputs": [
    {
     "name": "stdout",
     "output_type": "stream",
     "text": [
      "0.9135009310986965\n"
     ]
    }
   ],
   "source": [
    "print(mnb_gs.best_score_)"
   ]
  },
  {
   "cell_type": "code",
   "execution_count": 115,
   "id": "583174f2",
   "metadata": {},
   "outputs": [
    {
     "data": {
      "text/plain": [
       "{'covec__max_df': 0.9,\n",
       " 'covec__max_features': 4000,\n",
       " 'covec__min_df': 3,\n",
       " 'covec__ngram_range': (1, 1)}"
      ]
     },
     "execution_count": 115,
     "metadata": {},
     "output_type": "execute_result"
    }
   ],
   "source": [
    "mnb_gs.best_params_"
   ]
  },
  {
   "cell_type": "code",
   "execution_count": 119,
   "id": "995c4321",
   "metadata": {},
   "outputs": [
    {
     "data": {
      "text/plain": [
       "0.9448173005219985"
      ]
     },
     "execution_count": 119,
     "metadata": {},
     "output_type": "execute_result"
    }
   ],
   "source": [
    "# Score model on training set.\n",
    "\n",
    "mnb_gs.score(X_train, y_train)"
   ]
  },
  {
   "cell_type": "code",
   "execution_count": 120,
   "id": "e7d0c44c",
   "metadata": {},
   "outputs": [
    {
     "data": {
      "text/plain": [
       "0.9024205748865356"
      ]
     },
     "execution_count": 120,
     "metadata": {},
     "output_type": "execute_result"
    }
   ],
   "source": [
    "# Score model on testing set.\n",
    "mnb_gs.score(X_test, y_test)"
   ]
  },
  {
   "cell_type": "code",
   "execution_count": 121,
   "id": "8c520dc9",
   "metadata": {},
   "outputs": [],
   "source": [
    "from sklearn.metrics import confusion_matrix, plot_confusion_matrix"
   ]
  },
  {
   "cell_type": "code",
   "execution_count": 122,
   "id": "8a6a9b90",
   "metadata": {},
   "outputs": [],
   "source": [
    "# Get predictions\n",
    "preds = mnb_gs.predict(X_test)\n",
    "\n",
    "# Save confusion matrix values\n",
    "tn, fp, fn, tp = confusion_matrix(y_test, preds).ravel()\n"
   ]
  },
  {
   "cell_type": "code",
   "execution_count": 124,
   "id": "6d6d8a07",
   "metadata": {},
   "outputs": [
    {
     "data": {
      "image/png": "[encoded data removed]",
      "text/plain": [
       "<Figure size 432x288 with 2 Axes>"
      ]
     },
     "metadata": {
      "needs_background": "light"
     },
     "output_type": "display_data"
    }
   ],
   "source": [
    "# View confusion matrix\n",
    "\n",
    "plot_confusion_matrix(mnb_gs, X_test, y_test, cmap=\"Blues\", values_format=\"d\");"
   ]
  },
  {
   "cell_type": "code",
   "execution_count": 125,
   "id": "976ce80f",
   "metadata": {},
   "outputs": [
    {
     "data": {
      "text/plain": [
       "0.9074074074074074"
      ]
     },
     "execution_count": 125,
     "metadata": {},
     "output_type": "execute_result"
    }
   ],
   "source": [
    " # Calculate the specificity TRUE NEG RATE\n",
    "spec = tn / (tn + fp)\n",
    "\n",
    "spec"
   ]
  },
  {
   "cell_type": "code",
   "execution_count": 126,
   "id": "75477b28",
   "metadata": {},
   "outputs": [
    {
     "data": {
      "text/plain": [
       "0.8976261127596439"
      ]
     },
     "execution_count": 126,
     "metadata": {},
     "output_type": "execute_result"
    }
   ],
   "source": [
    "sens = tp / (tp + fn)\n",
    "sens"
   ]
  },
  {
   "cell_type": "code",
   "execution_count": 127,
   "id": "c6a5411a",
   "metadata": {},
   "outputs": [],
   "source": [
    "from sklearn.metrics import classification_report, recall_score, precision_score"
   ]
  },
  {
   "cell_type": "code",
   "execution_count": 128,
   "id": "572725f2",
   "metadata": {},
   "outputs": [
    {
     "data": {
      "text/plain": [
       "{'0': {'precision': 0.8949771689497716,\n",
       "  'recall': 0.9074074074074074,\n",
       "  'f1-score': 0.9011494252873563,\n",
       "  'support': 648},\n",
       " '1': {'precision': 0.9097744360902256,\n",
       "  'recall': 0.8976261127596439,\n",
       "  'f1-score': 0.9036594473487678,\n",
       "  'support': 674},\n",
       " 'accuracy': 0.9024205748865356,\n",
       " 'macro avg': {'precision': 0.9023758025199986,\n",
       "  'recall': 0.9025167600835257,\n",
       "  'f1-score': 0.9024044363180621,\n",
       "  'support': 1322},\n",
       " 'weighted avg': {'precision': 0.9025213127112436,\n",
       "  'recall': 0.9024205748865356,\n",
       "  'f1-score': 0.902429118834551,\n",
       "  'support': 1322}}"
      ]
     },
     "execution_count": 128,
     "metadata": {},
     "output_type": "execute_result"
    }
   ],
   "source": [
    "classification_report(y_test, preds, digits=4, output_dict=True)"
   ]
  },
  {
   "cell_type": "code",
   "execution_count": null,
   "id": "f3e5c4b6",
   "metadata": {},
   "outputs": [],
   "source": [
    "#interpreting the score"
   ]
  },
  {
   "cell_type": "code",
   "execution_count": 259,
   "id": "1affa839",
   "metadata": {},
   "outputs": [
    {
     "name": "stdout",
     "output_type": "stream",
     "text": [
      "Precision: 0.8506224066390041\n",
      "Sensitivity: 0.9124629080118695\n",
      "Specificity: 0.8333333333333334\n"
     ]
    }
   ],
   "source": [
    "print (f'Precision: {precision_score(y_test,preds, zero_division = 0)}')\n",
    "print (f'Sensitivity: {recall_score(y_test,preds)}')\n",
    "print (f'Specificity: {recall_score(y_test,preds,pos_label = 0)}')"
   ]
  },
  {
   "cell_type": "code",
   "execution_count": 265,
   "id": "ca5d4915",
   "metadata": {},
   "outputs": [
    {
     "data": {
      "text/plain": [
       "Text(0.5, 0.98, 'Sustainability Predictions as % of Predicted Class')"
      ]
     },
     "execution_count": 265,
     "metadata": {},
     "output_type": "execute_result"
    },
    {
     "data": {
      "image/png": "[encoded data removed]",
      "text/plain": [
       "<Figure size 504x504 with 2 Axes>"
      ]
     },
     "metadata": {
      "needs_background": "light"
     },
     "output_type": "display_data"
    }
   ],
   "source": [
    "# View confusion matrix\n",
    "display_labels = ['urban planning', 'Sustainability']\n",
    "\n",
    "fig, ax = plt.subplots(figsize=(7, 7))\n",
    "\n",
    "plot_confusion_matrix(mnb_gs,\n",
    "                      X_test,\n",
    "                      y_test,\n",
    "                      cmap=\"Blues\",\n",
    "                      normalize='pred',\n",
    "                      display_labels=display_labels,\n",
    "                     ax=ax);\n",
    "plt.suptitle(\"Sustainability Predictions as % of Predicted Class\", fontsize=24)"
   ]
  },
  {
   "cell_type": "code",
   "execution_count": null,
   "id": "98922162",
   "metadata": {},
   "outputs": [],
   "source": []
  },
  {
   "cell_type": "code",
   "execution_count": 266,
   "id": "d2d52462",
   "metadata": {},
   "outputs": [
    {
     "data": {
      "text/plain": [
       "Text(0.5, 0.98, 'sustainability Predictions as % of True Class')"
      ]
     },
     "execution_count": 266,
     "metadata": {},
     "output_type": "execute_result"
    },
    {
     "data": {
      "image/png": "[encoded data removed]",
      "text/plain": [
       "<Figure size 504x504 with 2 Axes>"
      ]
     },
     "metadata": {
      "needs_background": "light"
     },
     "output_type": "display_data"
    }
   ],
   "source": [
    "# View confusion matrix\n",
    "display_labels = ['urban planning', 'Sustainability']\n",
    "\n",
    "fig, ax = plt.subplots(figsize=(7, 7))\n",
    "\n",
    "plot_confusion_matrix(mnb_gs,\n",
    "                      X_test,\n",
    "                      y_test,\n",
    "                      cmap=\"Blues\",\n",
    "                      normalize='true',\n",
    "                      display_labels=display_labels,\n",
    "                     ax=ax);\n",
    "plt.suptitle(\"sustainability Predictions as % of True Class\", fontsize=24)"
   ]
  },
  {
   "cell_type": "code",
   "execution_count": null,
   "id": "b9f27f6e",
   "metadata": {},
   "outputs": [],
   "source": []
  },
  {
   "cell_type": "markdown",
   "id": "db4d08e7",
   "metadata": {},
   "source": [
    "## Using  Random forest classifiers"
   ]
  },
  {
   "cell_type": "code",
   "execution_count": 145,
   "id": "e76496f4",
   "metadata": {},
   "outputs": [],
   "source": [
    "from sklearn.ensemble import RandomForestClassifier"
   ]
  },
  {
   "cell_type": "code",
   "execution_count": 146,
   "id": "d3fbcd27",
   "metadata": {},
   "outputs": [],
   "source": [
    "#Instantiate the RandomForestClassifier\n",
    "rf = RandomForestClassifier()"
   ]
  },
  {
   "cell_type": "code",
   "execution_count": 147,
   "id": "b69ca0ca",
   "metadata": {},
   "outputs": [],
   "source": [
    "# Let's set a pipeline up with two stages:\n",
    "# 1. CountVectorizer (transformer)\n",
    "# 2. RandomForestClassifier (estimator)\n",
    "\n",
    "rf_pipe = Pipeline([\n",
    "    ('covec', CountVectorizer()),\n",
    "    ('rf',RandomForestClassifier())\n",
    "])"
   ]
  },
  {
   "cell_type": "code",
   "execution_count": 148,
   "id": "686aaefc",
   "metadata": {},
   "outputs": [
    {
     "data": {
      "text/plain": [
       "0.8769594763612109"
      ]
     },
     "execution_count": 148,
     "metadata": {},
     "output_type": "execute_result"
    }
   ],
   "source": [
    "# Estimate how your model will perform on unseen data\n",
    "cross_val_score(rf_pipe, X_train, y_train, cv=5).mean()"
   ]
  },
  {
   "cell_type": "code",
   "execution_count": 150,
   "id": "10af26f0",
   "metadata": {},
   "outputs": [
    {
     "name": "stdout",
     "output_type": "stream",
     "text": [
      "0.9996271439224459\n",
      "0.875945537065053\n"
     ]
    }
   ],
   "source": [
    "#Fit the model\n",
    "#Trainning score\n",
    "#test score\n",
    "\n",
    "rf_pipe.fit(X_train, y_train)\n",
    "print(rf_pipe.score(X_train, y_train))\n",
    "print(rf_pipe.score(X_test, y_test))"
   ]
  },
  {
   "cell_type": "code",
   "execution_count": 176,
   "id": "017aa0b4",
   "metadata": {},
   "outputs": [],
   "source": [
    "rf_params = {\n",
    "    'rf__n_estimators': [100, 150],\n",
    "    'rf__max_depth': [None, 1, 2,],\n",
    "    'covec__max_features': [2000, 3000, 4000],\n",
    "    'covec__min_df': [2,3],\n",
    "    'covec__max_df': [.90, .95],\n",
    "    'covec__ngram_range': [(1,1), (2,2)]\n",
    "}"
   ]
  },
  {
   "cell_type": "code",
   "execution_count": 177,
   "id": "161ba931",
   "metadata": {},
   "outputs": [],
   "source": [
    "rf_gs = GridSearchCV(rf_pipe, param_grid=rf_params, cv=5, verbose=1)"
   ]
  },
  {
   "cell_type": "code",
   "execution_count": 159,
   "id": "5183bdfb",
   "metadata": {},
   "outputs": [
    {
     "data": {
      "text/plain": [
       "dict_keys(['bootstrap', 'ccp_alpha', 'class_weight', 'criterion', 'max_depth', 'max_features', 'max_leaf_nodes', 'max_samples', 'min_impurity_decrease', 'min_impurity_split', 'min_samples_leaf', 'min_samples_split', 'min_weight_fraction_leaf', 'n_estimators', 'n_jobs', 'oob_score', 'random_state', 'verbose', 'warm_start'])"
      ]
     },
     "execution_count": 159,
     "metadata": {},
     "output_type": "execute_result"
    }
   ],
   "source": [
    "rf.get_params().keys()"
   ]
  },
  {
   "cell_type": "code",
   "execution_count": 178,
   "id": "41cdb947",
   "metadata": {},
   "outputs": [
    {
     "name": "stdout",
     "output_type": "stream",
     "text": [
      "Fitting 5 folds for each of 144 candidates, totalling 720 fits\n"
     ]
    },
    {
     "data": {
      "text/plain": [
       "GridSearchCV(cv=5,\n",
       "             estimator=Pipeline(steps=[('covec', CountVectorizer()),\n",
       "                                       ('rf', RandomForestClassifier())]),\n",
       "             param_grid={'covec__max_df': [0.9, 0.95],\n",
       "                         'covec__max_features': [2000, 3000, 4000],\n",
       "                         'covec__min_df': [2, 3],\n",
       "                         'covec__ngram_range': [(1, 1), (2, 2)],\n",
       "                         'rf__max_depth': [None, 1, 2],\n",
       "                         'rf__n_estimators': [100, 150]},\n",
       "             verbose=1)"
      ]
     },
     "execution_count": 178,
     "metadata": {},
     "output_type": "execute_result"
    }
   ],
   "source": [
    "rf_gs.fit(X_train, y_train)"
   ]
  },
  {
   "cell_type": "code",
   "execution_count": 179,
   "id": "01e16a30",
   "metadata": {},
   "outputs": [
    {
     "name": "stdout",
     "output_type": "stream",
     "text": [
      "0.8788251480030016\n"
     ]
    }
   ],
   "source": [
    "print(rf_gs.best_score_)"
   ]
  },
  {
   "cell_type": "code",
   "execution_count": 180,
   "id": "07b89062",
   "metadata": {},
   "outputs": [
    {
     "data": {
      "text/plain": [
       "{'covec__max_df': 0.95,\n",
       " 'covec__max_features': 2000,\n",
       " 'covec__min_df': 2,\n",
       " 'covec__ngram_range': (1, 1),\n",
       " 'rf__max_depth': None,\n",
       " 'rf__n_estimators': 100}"
      ]
     },
     "execution_count": 180,
     "metadata": {},
     "output_type": "execute_result"
    }
   ],
   "source": [
    "rf_gs.best_params_"
   ]
  },
  {
   "cell_type": "code",
   "execution_count": 181,
   "id": "b85a97a2",
   "metadata": {},
   "outputs": [
    {
     "data": {
      "text/plain": [
       "0.9977628635346756"
      ]
     },
     "execution_count": 181,
     "metadata": {},
     "output_type": "execute_result"
    }
   ],
   "source": [
    "rf_gs.score(X_train, y_train)"
   ]
  },
  {
   "cell_type": "code",
   "execution_count": 182,
   "id": "ef1befa3",
   "metadata": {},
   "outputs": [
    {
     "data": {
      "text/plain": [
       "0.8736762481089259"
      ]
     },
     "execution_count": 182,
     "metadata": {},
     "output_type": "execute_result"
    }
   ],
   "source": [
    "rf_gs.score(X_test, y_test)"
   ]
  },
  {
   "cell_type": "code",
   "execution_count": 185,
   "id": "ad4cf58b",
   "metadata": {},
   "outputs": [],
   "source": [
    "# Get predictions\n",
    "preds_rf = rf_gs.predict(X_test)\n",
    "\n",
    "# Save confusion matrix values\n",
    "tn, fp, fn, tp = confusion_matrix(y_test, preds_rf).ravel()"
   ]
  },
  {
   "cell_type": "code",
   "execution_count": 186,
   "id": "bf0d6919",
   "metadata": {},
   "outputs": [
    {
     "data": {
      "image/png": "[encoded data removed]",
      "text/plain": [
       "<Figure size 432x288 with 2 Axes>"
      ]
     },
     "metadata": {
      "needs_background": "light"
     },
     "output_type": "display_data"
    }
   ],
   "source": [
    "# View confusion matrix\n",
    "\n",
    "plot_confusion_matrix(rf_gs, X_test, y_test, cmap=\"Blues\", values_format=\"d\");"
   ]
  },
  {
   "cell_type": "code",
   "execution_count": 187,
   "id": "4f519fbb",
   "metadata": {},
   "outputs": [
    {
     "data": {
      "text/plain": [
       "{'0': {'precision': 0.9015025041736227,\n",
       "  'recall': 0.8333333333333334,\n",
       "  'f1-score': 0.8660785886126704,\n",
       "  'support': 648},\n",
       " '1': {'precision': 0.8506224066390041,\n",
       "  'recall': 0.9124629080118695,\n",
       "  'f1-score': 0.8804581245526127,\n",
       "  'support': 674},\n",
       " 'accuracy': 0.8736762481089259,\n",
       " 'macro avg': {'precision': 0.8760624554063134,\n",
       "  'recall': 0.8728981206726014,\n",
       "  'f1-score': 0.8732683565826416,\n",
       "  'support': 1322},\n",
       " 'weighted avg': {'precision': 0.8755621216181515,\n",
       "  'recall': 0.8736762481089259,\n",
       "  'f1-score': 0.8734097589784201,\n",
       "  'support': 1322}}"
      ]
     },
     "execution_count": 187,
     "metadata": {},
     "output_type": "execute_result"
    }
   ],
   "source": [
    "classification_report(y_test, preds_rf, digits=4, output_dict=True)"
   ]
  },
  {
   "cell_type": "code",
   "execution_count": null,
   "id": "72a811fd",
   "metadata": {},
   "outputs": [],
   "source": [
    "#interpreting the score"
   ]
  },
  {
   "cell_type": "code",
   "execution_count": 258,
   "id": "dcc8c0c1",
   "metadata": {},
   "outputs": [
    {
     "name": "stdout",
     "output_type": "stream",
     "text": [
      "Precision: 0.8506224066390041\n",
      "Sensitivity: 0.9124629080118695\n",
      "Specificity: 0.8333333333333334\n"
     ]
    }
   ],
   "source": [
    "print (f'Precision: {precision_score(y_test,preds_rf, zero_division = 0)}')\n",
    "print (f'Sensitivity: {recall_score(y_test,preds_rf)}')\n",
    "print (f'Specificity: {recall_score(y_test,preds_rf,pos_label = 0)}')"
   ]
  },
  {
   "cell_type": "markdown",
   "id": "a6af7c87",
   "metadata": {},
   "source": [
    "## Using KNN "
   ]
  },
  {
   "cell_type": "code",
   "execution_count": 188,
   "id": "f931d73d",
   "metadata": {},
   "outputs": [],
   "source": [
    "from sklearn.neighbors import KNeighborsClassifier"
   ]
  },
  {
   "cell_type": "code",
   "execution_count": 190,
   "id": "78c504e2",
   "metadata": {},
   "outputs": [],
   "source": [
    "# Let's set a pipeline up with two stages:\n",
    "# 1. CountVectorizer (transformer)\n",
    "# 2. KNeighborsClassifier (estimator)\n",
    "\n",
    "knn_pipe = Pipeline([\n",
    "    ('tfidf', TfidfVectorizer()),\n",
    "    ('knn',KNeighborsClassifier())\n",
    "])"
   ]
  },
  {
   "cell_type": "code",
   "execution_count": 191,
   "id": "d3762b0c",
   "metadata": {},
   "outputs": [
    {
     "data": {
      "text/plain": [
       "0.8326002668223129"
      ]
     },
     "execution_count": 191,
     "metadata": {},
     "output_type": "execute_result"
    }
   ],
   "source": [
    "# Estimate how your model will perform on unseen data\n",
    "cross_val_score(knn_pipe, X_train, y_train, cv=5).mean()"
   ]
  },
  {
   "cell_type": "code",
   "execution_count": 192,
   "id": "975a8580",
   "metadata": {},
   "outputs": [
    {
     "name": "stdout",
     "output_type": "stream",
     "text": [
      "0.9299030574198359\n",
      "0.8260211800302572\n"
     ]
    }
   ],
   "source": [
    "#Fit the model\n",
    "#Trainning score\n",
    "#test score\n",
    "\n",
    "knn_pipe.fit(X_train, y_train)\n",
    "print(knn_pipe.score(X_train, y_train))\n",
    "print(knn_pipe.score(X_test, y_test))"
   ]
  },
  {
   "cell_type": "markdown",
   "id": "4c80d381",
   "metadata": {},
   "source": []
  },
  {
   "cell_type": "code",
   "execution_count": 263,
   "id": "dae27680",
   "metadata": {},
   "outputs": [],
   "source": [
    "# Get predictions\n",
    "preds_knn = knn_pipe.predict(X_test)\n",
    "\n",
    "# Save confusion matrix values\n",
    "tn, fp, fn, tp = confusion_matrix(y_test, preds_knn).ravel()"
   ]
  },
  {
   "cell_type": "code",
   "execution_count": 264,
   "id": "eb13f2df",
   "metadata": {},
   "outputs": [
    {
     "name": "stdout",
     "output_type": "stream",
     "text": [
      "Precision: 0.8501577287066246\n",
      "Sensitivity: 0.7997032640949555\n",
      "Specificity: 0.8533950617283951\n"
     ]
    }
   ],
   "source": [
    "print (f'Precision: {precision_score(y_test,preds_knn, zero_division = 0)}')\n",
    "print (f'Sensitivity: {recall_score(y_test,preds_knn)}')\n",
    "print (f'Specificity: {recall_score(y_test,preds_knn,pos_label = 0)}')"
   ]
  },
  {
   "cell_type": "code",
   "execution_count": 64,
   "id": "47e3153a",
   "metadata": {},
   "outputs": [
    {
     "ename": "NameError",
     "evalue": "name 'plot_confusion_matrix' is not defined",
     "output_type": "error",
     "traceback": [
      "\u001b[1;31m---------------------------------------------------------------------------\u001b[0m",
      "\u001b[1;31mNameError\u001b[0m                                 Traceback (most recent call last)",
      "\u001b[1;32m<ipython-input-64-ad1da1b70ab1>\u001b[0m in \u001b[0;36m<module>\u001b[1;34m\u001b[0m\n\u001b[0;32m      1\u001b[0m \u001b[1;31m# View confusion matrix\u001b[0m\u001b[1;33m\u001b[0m\u001b[1;33m\u001b[0m\u001b[1;33m\u001b[0m\u001b[0m\n\u001b[0;32m      2\u001b[0m \u001b[1;33m\u001b[0m\u001b[0m\n\u001b[1;32m----> 3\u001b[1;33m \u001b[0mplot_confusion_matrix\u001b[0m\u001b[1;33m(\u001b[0m\u001b[0mknn_pipe\u001b[0m\u001b[1;33m,\u001b[0m \u001b[0mX_test\u001b[0m\u001b[1;33m,\u001b[0m \u001b[0my_test\u001b[0m\u001b[1;33m,\u001b[0m \u001b[0mcmap\u001b[0m\u001b[1;33m=\u001b[0m\u001b[1;34m\"Blues\"\u001b[0m\u001b[1;33m,\u001b[0m \u001b[0mvalues_format\u001b[0m\u001b[1;33m=\u001b[0m\u001b[1;34m\"d\"\u001b[0m\u001b[1;33m)\u001b[0m\u001b[1;33m;\u001b[0m\u001b[1;33m\u001b[0m\u001b[1;33m\u001b[0m\u001b[0m\n\u001b[0m",
      "\u001b[1;31mNameError\u001b[0m: name 'plot_confusion_matrix' is not defined"
     ]
    }
   ],
   "source": [
    "# View confusion matrix\n",
    "\n",
    "plot_confusion_matrix(knn_pipe, X_test, y_test, cmap=\"Blues\", values_format=\"d\");"
   ]
  },
  {
   "cell_type": "code",
   "execution_count": null,
   "id": "ee72aadd",
   "metadata": {},
   "outputs": [],
   "source": []
  },
  {
   "cell_type": "markdown",
   "id": "9e33c286",
   "metadata": {},
   "source": [
    "### Conclusion\n",
    "\n",
    "My recommendation for the urban planners are to incorporate more elements regarding climate change , waste management and energy  and  and also non-motorized mode of transportation such as bike lanes.\n",
    "The best model to use also in this case will be Multinomial Naives Bayes model because even though it doesn’t have a highest accuracy score the f-1 score is high which is the mean between precision and recall."
   ]
  },
  {
   "cell_type": "code",
   "execution_count": null,
   "id": "3179de01",
   "metadata": {},
   "outputs": [],
   "source": [
    "\n"
   ]
  }
 ],
 "metadata": {
  "kernelspec": {
   "display_name": "Python [conda env:dsirfx_py38] *",
   "language": "python",
   "name": "conda-env-dsirfx_py38-py"
  },
  "language_info": {
   "codemirror_mode": {
    "name": "ipython",
    "version": 3
   },
   "file_extension": ".py",
   "mimetype": "text/x-python",
   "name": "python",
   "nbconvert_exporter": "python",
   "pygments_lexer": "ipython3",
   "version": "3.8.8"
  }
 },
 "nbformat": 4,
 "nbformat_minor": 5
}
